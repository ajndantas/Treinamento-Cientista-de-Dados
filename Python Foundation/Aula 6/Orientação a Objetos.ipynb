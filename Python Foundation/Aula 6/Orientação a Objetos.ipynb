{
 "metadata": {
  "language_info": {
   "codemirror_mode": {
    "name": "ipython",
    "version": 3
   },
   "file_extension": ".py",
   "mimetype": "text/x-python",
   "name": "python",
   "nbconvert_exporter": "python",
   "pygments_lexer": "ipython3",
   "version": "3.7.4-final"
  },
  "orig_nbformat": 2,
  "kernelspec": {
   "name": "python3",
   "display_name": "Python 3"
  }
 },
 "nbformat": 4,
 "nbformat_minor": 2,
 "cells": [
  {
   "cell_type": "code",
   "execution_count": 2,
   "metadata": {},
   "outputs": [
    {
     "output_type": "stream",
     "name": "stdout",
     "text": [
      "Total de funcionário 1\nNome: Empregado1 ,Salário: 7000 ,Cargo: Analista , mês de férias: Dezembro\nTotal de funcionário 2\nNome: Empregado2 ,Salário: 8000 ,Cargo: Coordenador , mês de férias: Janeiro\nEmployee.__doc__ None\nEmployee.__name__ Employee\nEmployee.__module__ __main__\nEmployee.__bases__ (<class 'object'>,)\nEmployee.__dict__ {'__module__': '__main__', 'empCount': 2, 'empHollydayMonth': 'Janeiro', '__init__': <function Employee.__init__ at 0x0000015A0466DEE8>, 'displayCount': <function Employee.displayCount at 0x0000015A0466DE58>, 'Charge': <function Employee.Charge at 0x0000015A0466DCA8>, 'HollydayMonth': <function Employee.HollydayMonth at 0x0000015A0466D1F8>, 'displayEmployee': <function Employee.displayEmployee at 0x0000015A0466D318>, '__dict__': <attribute '__dict__' of 'Employee' objects>, '__weakref__': <attribute '__weakref__' of 'Employee' objects>, '__doc__': None}\n"
     ]
    }
   ],
   "source": [
    "class Employee:\n",
    "    empCount = 0 # Variável de classe\n",
    "    empHollydayMonth = ''\n",
    "\n",
    "    '''\n",
    "        Aqui, sou obrigado a declarar o método construtor, pois estou fazendo uso\n",
    "        de variáveis de instância nome e salário.\n",
    "    '''\n",
    "    def __init__(self,nome,salario): # O self informa que o que eu estou fazendo, é \n",
    "                                     # algo que é visto pela minha classe, uma \n",
    "                                     # variável de instância.\n",
    "                                     # O self seria como o this do Java\n",
    "        self.nome = nome\n",
    "        self.salario = salario\n",
    "\n",
    "        Employee.empCount += 1 # Acessando a variável de classe\n",
    "\n",
    "    def displayCount(self):\n",
    "        print(\"Total de funcionário %d\" % Employee.empCount)\n",
    "\n",
    "    def Charge(self,cargo):\n",
    "        self.cargo = cargo        \n",
    "\n",
    "    def HollydayMonth(self,mes):\n",
    "        Employee.empHollydayMonth = mes\n",
    "\n",
    "    def displayEmployee(self):\n",
    "        print(\"Nome:\",self.nome,\",Salário:\",self.salario,\",Cargo:\",self.cargo,\", mês de férias:\",Employee.empHollydayMonth) # O self faz o que eu fiz com \n",
    "                                      # Employee.empHollydayMonth aqui, só que sem a # \n",
    "                                      # necessidade de ter que se declarar a varíavel #\n",
    "                                      # de instância, neste caso, empHollidayMonth\n",
    "\n",
    "empreg1 = Employee('Empregado1',7000)\n",
    "empreg1.displayCount()\n",
    "empreg1.Charge('Analista')\n",
    "empreg1.HollydayMonth('Dezembro')\n",
    "empreg1.displayEmployee()\n",
    "\n",
    "empreg2 = Employee('Empregado2',8000)\n",
    "empreg2.displayCount()\n",
    "empreg2.Charge('Coordenador')\n",
    "empreg1.HollydayMonth('Janeiro')\n",
    "empreg2.displayEmployee()\n",
    "\n",
    "print(\"Employee.__doc__\",Employee.__doc__) # Não há Docstring, por isso,                                                          # será None\n",
    "print(\"Employee.__name__\",Employee.__name__)\n",
    "print(\"Employee.__module__\",Employee.__module__)\n",
    "print(\"Employee.__bases__\",Employee.__bases__)\n",
    "print(\"Employee.__dict__\",Employee.__dict__) # O namespace na forma de dicionário\n"
   ]
  },
  {
   "cell_type": "code",
   "execution_count": 30,
   "metadata": {},
   "outputs": [
    {
     "output_type": "stream",
     "name": "stdout",
     "text": [
      "Novo salário: 8000\n"
     ]
    },
    {
     "output_type": "execute_result",
     "data": {
      "text/plain": [
       "False"
      ]
     },
     "metadata": {},
     "execution_count": 30
    }
   ],
   "source": [
    "hasattr(empreg1,'salario') # Retorna se o objeto possui o atributo\n",
    "\n",
    "'''\n",
    "    Algo como o java bean\n",
    "'''\n",
    "getattr(empreg1,'salario') # Retorna o valor do atributo\n",
    "\n",
    "setattr(empreg1,'salario',8000)\n",
    "print(\"Novo salário:\",getattr(empreg1,'salario'))\n",
    "\n",
    "delattr(empreg1,'salario')\n",
    "hasattr(empreg1,'salario')\n"
   ]
  },
  {
   "cell_type": "code",
   "execution_count": 4,
   "metadata": {},
   "outputs": [
    {
     "output_type": "stream",
     "name": "stdout",
     "text": [
      "1486145876680 1486145876680 1486145876680\n",
      "Exception ignored in: <function Point.__del__ at 0x0000015A051631F8>\n",
      "Traceback (most recent call last):\n",
      "  File \"<ipython-input-4-1bb5edfaa141>\", line 9, in __del__\n",
      "AttributeError: 'Point' object has no attribute '__name__'\n"
     ]
    }
   ],
   "source": [
    "'''\n",
    "    Garbage collector\n",
    "'''\n",
    "class Point:\n",
    "\n",
    "    def __init__(self,x=0,y=0):\n",
    "        self.x = x\n",
    "        self.y = y\n",
    "\n",
    "    def __del__(self):\n",
    "        class_name = self.__class__.__name__ # __class__ -> Tipo da \n",
    "                                             # instância atual\n",
    "        #class_name = self.__name__\n",
    "        print(class_name,\"destruída\")\n",
    "\n",
    "pt1 = Point()\n",
    "pt2 = pt1\n",
    "pt3 = pt1\n",
    "\n",
    "print (id(pt1),id(pt2),id(pt3)) # Estes são os ids dos objetos \n",
    "                                # atribuídos pelo interpretador\n",
    "\n",
    "del pt1\n",
    "del pt2\n",
    "del pt3\n"
   ]
  },
  {
   "cell_type": "code",
   "execution_count": 8,
   "metadata": {},
   "outputs": [
    {
     "output_type": "stream",
     "name": "stdout",
     "text": [
      "Chamando o construtor filho\nChamando o método filho\nChamando método da classe pai\nAtributo pai 200\n"
     ]
    }
   ],
   "source": [
    "'''\n",
    "    Herança\n",
    "'''\n",
    "class Parent: # Classe pai\n",
    "\n",
    "    parentAttr = 100\n",
    "\n",
    "    def __init__(self):\n",
    "        print(\"Chamando construtor pai\")\n",
    "\n",
    "    def parentMethod(self):\n",
    "        print(\"Chamando método da classe pai\")\n",
    "    \n",
    "    def setAttr(self,attr):\n",
    "        Parent.parentAttr = attr\n",
    "    \n",
    "    def getAttr(self):\n",
    "        print(\"Atributo pai\",Parent.parentAttr)\n",
    "\n",
    "class Child(Parent): # Definindo a classe filha. Pode definir mais de \n",
    "                     # um pai separados por \",\"\n",
    "\n",
    "    def __init__(self):\n",
    "        print(\"Chamando o construtor filho\")\n",
    "    \n",
    "    def childMethod(self):\n",
    "        print(\"Chamando o método filho\")\n",
    "\n",
    "\n",
    "c = Child()\n",
    "c.childMethod()\n",
    "c.parentMethod()\n",
    "c.setAttr(200)\n",
    "c.getAttr()\n"
   ]
  },
  {
   "cell_type": "code",
   "execution_count": 9,
   "metadata": {},
   "outputs": [
    {
     "output_type": "stream",
     "name": "stdout",
     "text": [
      "Chamando o método filho\n"
     ]
    }
   ],
   "source": [
    "# Sobrecarga de métodos\n",
    "#\n",
    "# Por que não tem método construtor ?\n",
    "\n",
    "class Parent:\n",
    "\n",
    "    def myMethod(self):\n",
    "        print(\"Chamando o método pai\")\n",
    "    \n",
    "class Child:\n",
    "\n",
    "    def myMethod(self):\n",
    "        print(\"Chamando o método filho\")\n",
    "\n",
    "c = Child()\n",
    "c.myMethod()\n"
   ]
  },
  {
   "cell_type": "code",
   "execution_count": 4,
   "metadata": {},
   "outputs": [
    {
     "output_type": "stream",
     "name": "stdout",
     "text": [
      "Vector (7, 8)\n"
     ]
    }
   ],
   "source": [
    "class Vector:\n",
    "\n",
    "    def __init__(self,a,b): # Recebe os valores de v1\n",
    "        self.a = a\n",
    "        self.b = b\n",
    "\n",
    "    def __str__(self): # Sobrescrevendo o método str()\n",
    "        return \"Vector (%d, %d)\" % (self.a,self.b)\n",
    "    \n",
    "    def __add__(self,other):  # Sobrescrevendo o método add()\n",
    "        return Vector(self.a + other.a, self.b + other.b) # obtendo os                                                            # valores \n",
    "                                                          # para v2 \n",
    "                                                          # para somar                                                            # com os \n",
    "                                                          # valores de                                                            # v1\n",
    "    \n",
    "v1 = Vector(2,10)\n",
    "v2 = Vector(5,-2)\n",
    "\n",
    "print(v1 + v2)\n",
    "\n"
   ]
  },
  {
   "cell_type": "code",
   "execution_count": null,
   "metadata": {},
   "outputs": [],
   "source": []
  }
 ]
}