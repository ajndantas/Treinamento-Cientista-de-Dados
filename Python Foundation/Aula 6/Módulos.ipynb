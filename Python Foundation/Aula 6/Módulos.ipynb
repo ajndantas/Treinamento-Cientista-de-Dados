{
 "metadata": {
  "language_info": {
   "codemirror_mode": {
    "name": "ipython",
    "version": 3
   },
   "file_extension": ".py",
   "mimetype": "text/x-python",
   "name": "python",
   "nbconvert_exporter": "python",
   "pygments_lexer": "ipython3",
   "version": "3.7.4-final"
  },
  "orig_nbformat": 2,
  "kernelspec": {
   "name": "python3",
   "display_name": "Python 3",
   "language": "python"
  }
 },
 "nbformat": 4,
 "nbformat_minor": 2,
 "cells": [
  {
   "cell_type": "code",
   "execution_count": 11,
   "metadata": {},
   "outputs": [
    {
     "output_type": "stream",
     "name": "stdout",
     "text": [
      "Olá: Robocop\n"
     ]
    }
   ],
   "source": [
    "import modulos # Importando o módulo modulos.py\n",
    "\n",
    "modulos.print_func(\"Robocop\")\n"
   ]
  },
  {
   "cell_type": "code",
   "execution_count": 29,
   "metadata": {},
   "outputs": [
    {
     "output_type": "stream",
     "name": "stdout",
     "text": [
      "2000\n"
     ]
    },
    {
     "output_type": "error",
     "ename": "UnboundLocalError",
     "evalue": "local variable 'Money' referenced before assignment",
     "traceback": [
      "\u001b[1;31m---------------------------------------------------------------------------\u001b[0m",
      "\u001b[1;31mUnboundLocalError\u001b[0m                         Traceback (most recent call last)",
      "\u001b[1;32m<ipython-input-29-b84161ecbbd6>\u001b[0m in \u001b[0;36m<module>\u001b[1;34m\u001b[0m\n\u001b[0;32m      7\u001b[0m \u001b[1;33m\u001b[0m\u001b[0m\n\u001b[0;32m      8\u001b[0m \u001b[0mprint\u001b[0m\u001b[1;33m(\u001b[0m\u001b[0mMoney\u001b[0m\u001b[1;33m)\u001b[0m\u001b[1;33m\u001b[0m\u001b[1;33m\u001b[0m\u001b[0m\n\u001b[1;32m----> 9\u001b[1;33m \u001b[0mAddMoney\u001b[0m\u001b[1;33m(\u001b[0m\u001b[1;33m)\u001b[0m \u001b[1;31m# Dá erro a partir daqui, pois a variável Money não foi definida ainda na função\u001b[0m\u001b[1;33m\u001b[0m\u001b[1;33m\u001b[0m\u001b[0m\n\u001b[0m\u001b[0;32m     10\u001b[0m \u001b[0mprint\u001b[0m\u001b[1;33m(\u001b[0m\u001b[0mMoney\u001b[0m\u001b[1;33m)\u001b[0m\u001b[1;33m\u001b[0m\u001b[1;33m\u001b[0m\u001b[0m\n\u001b[0;32m     11\u001b[0m \u001b[1;33m\u001b[0m\u001b[0m\n",
      "\u001b[1;32m<ipython-input-29-b84161ecbbd6>\u001b[0m in \u001b[0;36mAddMoney\u001b[1;34m()\u001b[0m\n\u001b[0;32m      3\u001b[0m \u001b[1;32mdef\u001b[0m \u001b[0mAddMoney\u001b[0m\u001b[1;33m(\u001b[0m\u001b[1;33m)\u001b[0m\u001b[1;33m:\u001b[0m\u001b[1;33m\u001b[0m\u001b[1;33m\u001b[0m\u001b[0m\n\u001b[0;32m      4\u001b[0m     \u001b[1;31m#global Money\u001b[0m\u001b[1;33m\u001b[0m\u001b[1;33m\u001b[0m\u001b[1;33m\u001b[0m\u001b[0m\n\u001b[1;32m----> 5\u001b[1;33m     \u001b[0mMoney\u001b[0m \u001b[1;33m=\u001b[0m \u001b[0mMoney\u001b[0m \u001b[1;33m+\u001b[0m \u001b[1;36m1\u001b[0m\u001b[1;33m\u001b[0m\u001b[1;33m\u001b[0m\u001b[0m\n\u001b[0m\u001b[0;32m      6\u001b[0m     \u001b[1;32mreturn\u001b[0m \u001b[0mMoney\u001b[0m\u001b[1;33m\u001b[0m\u001b[1;33m\u001b[0m\u001b[0m\n\u001b[0;32m      7\u001b[0m \u001b[1;33m\u001b[0m\u001b[0m\n",
      "\u001b[1;31mUnboundLocalError\u001b[0m: local variable 'Money' referenced before assignment"
     ]
    }
   ],
   "source": [
    "Money = 2000\n",
    "\n",
    "def AddMoney():\n",
    "    #global Money \n",
    "    Money = Money + 1\n",
    "    return Money\n",
    "    \n",
    "print(Money)\n",
    "AddMoney()\n",
    "\n",
    "'''\n",
    "     Dá erro a partir daqui, pois a variável Money não foi definida ainda na função,\n",
    "     para corrigir, precisamos descomentar a linha com o global, dessa forma,               estaremos considerando a declaração que foi feita em contexto global\n",
    "'''\n",
    "\n",
    "print(Money)\n"
   ]
  },
  {
   "cell_type": "code",
   "execution_count": 30,
   "metadata": {},
   "outputs": [
    {
     "output_type": "stream",
     "name": "stdout",
     "text": [
      "2000\n2001\n"
     ]
    }
   ],
   "source": [
    "Money = 2000\n",
    "\n",
    "def AddMoney():\n",
    "\n",
    "    global Money\n",
    "    Money = Money + 1\n",
    "\n",
    "print(Money)\n",
    "AddMoney()\n",
    "print(Money) # Uma vez considerada em contexto global, ela ganhou novo valor"
   ]
  },
  {
   "cell_type": "code",
   "execution_count": 12,
   "metadata": {},
   "outputs": [
    {
     "output_type": "stream",
     "name": "stdout",
     "text": [
      "['__doc__', '__loader__', '__name__', '__package__', '__spec__', 'acos', 'acosh', 'asin', 'asinh', 'atan', 'atan2', 'atanh', 'ceil', 'copysign', 'cos', 'cosh', 'degrees', 'e', 'erf', 'erfc', 'exp', 'expm1', 'fabs', 'factorial', 'floor', 'fmod', 'frexp', 'fsum', 'gamma', 'gcd', 'hypot', 'inf', 'isclose', 'isfinite', 'isinf', 'isnan', 'ldexp', 'lgamma', 'log', 'log10', 'log1p', 'log2', 'modf', 'nan', 'pi', 'pow', 'radians', 'remainder', 'sin', 'sinh', 'sqrt', 'tan', 'tanh', 'tau', 'trunc']\n"
     ]
    }
   ],
   "source": [
    "'''\n",
    "    Função dir()\n",
    "    \n",
    "    A  lista  contém  os  nomes  de  todos  os  módulos,  variáveis e  funções\n",
    "'''\n",
    "\n",
    "import math\n",
    "\n",
    "contem = dir(math)\n",
    "\n",
    "print(contem) # Mostra todo o conteúdo de um módulo"
   ]
  },
  {
   "cell_type": "code",
   "execution_count": 13,
   "metadata": {},
   "outputs": [
    {
     "output_type": "stream",
     "name": "stdout",
     "text": [
      "['__builtins__', '__cached__', '__doc__', '__file__', '__loader__', '__name__', '__package__', '__spec__', 'fib']\n"
     ]
    }
   ],
   "source": [
    "import fibonacci\n",
    "\n",
    "contem = dir(fibonacci)\n",
    "\n",
    "print(contem)"
   ]
  },
  {
   "cell_type": "code",
   "execution_count": 1,
   "metadata": {},
   "outputs": [
    {
     "output_type": "stream",
     "name": "stdout",
     "text": [
      "['c:\\\\Users\\\\anton\\\\OneDrive\\\\Documentos\\\\Treinamento Cientista de Dados Python Trainning\\\\Aula 6', 'c:\\\\Users\\\\anton\\\\.vscode\\\\extensions\\\\ms-toolsai.jupyter-2020.12.411183155\\\\pythonFiles\\\\vscode_datascience_helpers\\\\..\\\\.does-not-exist', 'c:\\\\Users\\\\anton\\\\.vscode\\\\extensions\\\\ms-toolsai.jupyter-2020.12.411183155\\\\pythonFiles', 'c:\\\\Users\\\\anton\\\\.vscode\\\\extensions\\\\ms-toolsai.jupyter-2020.12.411183155\\\\pythonFiles\\\\lib\\\\python', 'C:\\\\ProgramData\\\\Anaconda3\\\\python37.zip', 'C:\\\\ProgramData\\\\Anaconda3\\\\DLLs', 'C:\\\\ProgramData\\\\Anaconda3\\\\lib', 'C:\\\\ProgramData\\\\Anaconda3', '', 'C:\\\\ProgramData\\\\Anaconda3\\\\lib\\\\site-packages', 'C:\\\\ProgramData\\\\Anaconda3\\\\lib\\\\site-packages\\\\win32', 'C:\\\\ProgramData\\\\Anaconda3\\\\lib\\\\site-packages\\\\win32\\\\lib', 'C:\\\\ProgramData\\\\Anaconda3\\\\lib\\\\site-packages\\\\Pythonwin', 'C:\\\\ProgramData\\\\Anaconda3\\\\lib\\\\site-packages\\\\IPython\\\\extensions', 'C:\\\\Users\\\\anton\\\\.ipython']\n"
     ]
    }
   ],
   "source": [
    "'''\n",
    "    A varíável sys.path\n",
    "\n",
    "    O caminho de pesquisa do módulo é armazenado no módulo do sistema sys  como  a variável sys.path . A  variável  sys.path  contém  o  diretório  atual, PYTHONPATH, e o padrão dependente da instalação. \n",
    "'''\n",
    "print(sys.path)"
   ]
  },
  {
   "cell_type": "code",
   "execution_count": 5,
   "metadata": {},
   "outputs": [
    {
     "output_type": "stream",
     "name": "stdout",
     "text": [
      "{'__name__': '__main__', '__doc__': 'Automatically created module for IPython interactive environment', '__package__': None, '__loader__': None, '__spec__': None, '__builtin__': <module 'builtins' (built-in)>, '__builtins__': <module 'builtins' (built-in)>, '_ih': ['', 'print(sys.path)', 'print(locals())', 'print(locals())\\n\\nprint(globals())', 'print(globals())', 'print(locals())'], '_oh': {}, '_dh': ['C:\\\\Users\\\\anton\\\\AppData\\\\Local\\\\Programs\\\\Microsoft VS Code', 'c:\\\\Users\\\\anton\\\\OneDrive\\\\Documentos\\\\Treinamento Cientista de Dados Python Trainning\\\\Aula 6'], 'In': ['', 'print(sys.path)', 'print(locals())', 'print(locals())\\n\\nprint(globals())', 'print(globals())', 'print(locals())'], 'Out': {}, 'get_ipython': <bound method InteractiveShell.get_ipython of <ipykernel.zmqshell.ZMQInteractiveShell object at 0x000001813B5B2EC8>>, 'exit': <IPython.core.autocall.ZMQExitAutocall object at 0x000001813D453808>, 'quit': <IPython.core.autocall.ZMQExitAutocall object at 0x000001813D453808>, '_': '', '__': '', '___': '', 'os': <module 'os' from 'C:\\\\ProgramData\\\\Anaconda3\\\\lib\\\\os.py'>, 'sys': <module 'sys' (built-in)>, '_i': 'print(globals())', '_ii': 'print(locals())\\n\\nprint(globals())', '_iii': 'print(locals())', '_i1': 'print(sys.path)', '_rwho_ls': ['os', 'sys'], '_i2': 'print(locals())', '_i3': 'print(locals())\\n\\nprint(globals())', '_i4': 'print(globals())', '_i5': 'print(locals())'}\n"
     ]
    }
   ],
   "source": [
    "print(locals())\n",
    "\n"
   ]
  },
  {
   "cell_type": "code",
   "execution_count": 4,
   "metadata": {},
   "outputs": [
    {
     "output_type": "stream",
     "name": "stdout",
     "text": [
      "{'__name__': '__main__', '__doc__': 'Automatically created module for IPython interactive environment', '__package__': None, '__loader__': None, '__spec__': None, '__builtin__': <module 'builtins' (built-in)>, '__builtins__': <module 'builtins' (built-in)>, '_ih': ['', 'print(sys.path)', 'print(locals())', 'print(locals())\\n\\nprint(globals())', 'print(globals())'], '_oh': {}, '_dh': ['C:\\\\Users\\\\anton\\\\AppData\\\\Local\\\\Programs\\\\Microsoft VS Code', 'c:\\\\Users\\\\anton\\\\OneDrive\\\\Documentos\\\\Treinamento Cientista de Dados Python Trainning\\\\Aula 6'], 'In': ['', 'print(sys.path)', 'print(locals())', 'print(locals())\\n\\nprint(globals())', 'print(globals())'], 'Out': {}, 'get_ipython': <bound method InteractiveShell.get_ipython of <ipykernel.zmqshell.ZMQInteractiveShell object at 0x000001813B5B2EC8>>, 'exit': <IPython.core.autocall.ZMQExitAutocall object at 0x000001813D453808>, 'quit': <IPython.core.autocall.ZMQExitAutocall object at 0x000001813D453808>, '_': '', '__': '', '___': '', 'os': <module 'os' from 'C:\\\\ProgramData\\\\Anaconda3\\\\lib\\\\os.py'>, 'sys': <module 'sys' (built-in)>, '_i': 'print(locals())\\n\\nprint(globals())', '_ii': 'print(locals())', '_iii': 'print(sys.path)', '_i1': 'print(sys.path)', '_rwho_ls': ['os', 'sys'], '_i2': 'print(locals())', '_i3': 'print(locals())\\n\\nprint(globals())', '_i4': 'print(globals())'}\n"
     ]
    }
   ],
   "source": [
    "print(globals())"
   ]
  },
  {
   "cell_type": "code",
   "execution_count": null,
   "metadata": {},
   "outputs": [],
   "source": []
  }
 ]
}