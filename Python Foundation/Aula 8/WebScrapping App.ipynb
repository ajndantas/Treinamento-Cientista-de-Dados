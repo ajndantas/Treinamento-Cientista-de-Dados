{
 "metadata": {
  "language_info": {
   "codemirror_mode": {
    "name": "ipython",
    "version": 3
   },
   "file_extension": ".py",
   "mimetype": "text/x-python",
   "name": "python",
   "nbconvert_exporter": "python",
   "pygments_lexer": "ipython3",
   "version": 3
  },
  "orig_nbformat": 2
 },
 "nbformat": 4,
 "nbformat_minor": 2,
 "cells": [
  {
   "cell_type": "code",
   "execution_count": null,
   "metadata": {},
   "outputs": [],
   "source": [
    "'''\n",
    "    WebScrapping App\n",
    "\n",
    "    Nosso desafio será composto pelas seguintes etapas: \n",
    "    \n",
    "    • Importar os móodulos de dependencia necessários \n",
    "    • Validar a URL da lista de filmes que nosssa aplicação vai capturar \n",
    "    • Extrair dados de: título, direção e roteirista(s), data de lançamento do filme e sua classifcação (nota) \n",
    "    • Transferir os dados para um dataset dentro do nosso programa \n",
    "    • Salvar os dados em um arquivo com formato csv e Excel\n",
    "'''\n",
    "\n",
    "# módulo para a criação do dataframe\n",
    "import pandas as pd\n",
    "\n",
    "from urllib.request import urlopen\n",
    "from urllib.error import HTTPError, URLError\n",
    "\n",
    "from bs4 import BeautifulSoup\n",
    "\n",
    "url = 'https://www.imdb.com/chart/top/' "
   ]
  },
  {
   "cell_type": "code",
   "execution_count": null,
   "metadata": {},
   "outputs": [],
   "source": [
    "try:\n",
    "    html = urlopen(url)\n",
    "\n",
    "except HTTPError as e:\n",
    "    print(e)\n",
    "\n",
    "except URLError as e:\n",
    "    print(\"O servidor não pode ser encontrado !\")"
   ]
  },
  {
   "cell_type": "code",
   "execution_count": null,
   "metadata": {},
   "outputs": [],
   "source": [
    "\n",
    "bs = BeautifulSoup(html,'lxml')\n",
    "\n",
    "movies = bs.select('.lister-list tr')"
   ]
  },
  {
   "cell_type": "code",
   "execution_count": null,
   "metadata": {},
   "outputs": [],
   "source": [
    "\n",
    "titles = []\n",
    "directors_writers = []\n",
    "years = []\n",
    "ratings = []\n",
    "\n",
    "for movie in movies:\n",
    "    titles.append(movie.find('td',class_='titleColumn').find('a').get_text())\n",
    "    directors_writers.append(movie.find('td',class_='titleColumn').find('a')['title'])\n",
    "    years.append(movie.find('td',class_='titleColumn').find('span').get_text()[1:5])\n",
    "    ratings.append(movie.find('td',class_='imdbRating').find('strong').get_text())"
   ]
  },
  {
   "cell_type": "code",
   "execution_count": null,
   "metadata": {},
   "outputs": [],
   "source": [
    "# O DataFrame é um dicionário\n",
    "\n",
    "df = pd.DataFrame(\n",
    "                    {\n",
    "                        \"titulo\":titles,  \n",
    "                        \"ano de lançamento\":years,\n",
    "                        \"classificação\": ratings,\n",
    "                        \"diretores e roteiristas\":directors_writers\n",
    "                    }\n",
    "                  )"
   ]
  },
  {
   "cell_type": "code",
   "execution_count": null,
   "metadata": {},
   "outputs": [],
   "source": [
    "# Lendo as 10 primeiras linhas\n",
    "\n",
    "df.head(10)"
   ]
  },
  {
   "cell_type": "code",
   "execution_count": null,
   "metadata": {},
   "outputs": [],
   "source": [
    "df.to_csv(\"Filmes Galera Python Trainning\")"
   ]
  },
  {
   "cell_type": "code",
   "execution_count": null,
   "metadata": {},
   "outputs": [],
   "source": [
    "df.to_excel(\"WebScrapping Trainning.xlsx\")"
   ]
  }
 ]
}