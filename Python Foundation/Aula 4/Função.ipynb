{
 "metadata": {
  "language_info": {
   "codemirror_mode": {
    "name": "ipython",
    "version": 3
   },
   "file_extension": ".py",
   "mimetype": "text/x-python",
   "name": "python",
   "nbconvert_exporter": "python",
   "pygments_lexer": "ipython3",
   "version": "3.7.4-final"
  },
  "orig_nbformat": 2,
  "kernelspec": {
   "name": "python3",
   "display_name": "Python 3",
   "language": "python"
  }
 },
 "nbformat": 4,
 "nbformat_minor": 2,
 "cells": [
  {
   "cell_type": "code",
   "execution_count": 1,
   "metadata": {},
   "outputs": [
    {
     "output_type": "stream",
     "name": "stdout",
     "text": [
      "Função sem argumentos\n"
     ]
    }
   ],
   "source": [
    "# Definindo função sem argumentos\n",
    "def testafuncao():\n",
    "    print(\"Função sem argumentos\")\n",
    "\n",
    "testafuncao()\n"
   ]
  },
  {
   "cell_type": "code",
   "execution_count": 5,
   "metadata": {},
   "outputs": [
    {
     "output_type": "stream",
     "name": "stdout",
     "text": [
      "Antonio\n"
     ]
    }
   ],
   "source": [
    "'''\n",
    "    Passagem de parâmetro por valor\n",
    "'''\n",
    "\n",
    "def printme(str):\n",
    "    print(str)\n",
    "    \n",
    "printme('Antonio') # Passagem de parâmetro por valor\n"
   ]
  },
  {
   "cell_type": "code",
   "execution_count": 3,
   "metadata": {},
   "outputs": [
    {
     "output_type": "stream",
     "name": "stdout",
     "text": [
      "Valores antes da alteração: [10, 20, 30]\nValores depois da alteração: [10, 20, 50]\nValores de fora da função: [10, 20, 50]\n"
     ]
    }
   ],
   "source": [
    "'''\n",
    "    Passagem de parâmetro por referência\n",
    "'''\n",
    "\n",
    "def changeme(mylist):\n",
    "    print(\"Valores antes da alteração:\",mylist)\n",
    "    mylist[2] = 50\n",
    "    print(\"Valores depois da alteração:\",mylist)\n",
    "\n",
    "mylist = [10,20,30]\n",
    "changeme(mylist) # Passagem de parâmetro por referência\n",
    "\n",
    "print(\"Valores de fora da função:\",mylist) # A função já foi modificada"
   ]
  },
  {
   "cell_type": "code",
   "execution_count": 2,
   "metadata": {},
   "outputs": [
    {
     "output_type": "stream",
     "name": "stdout",
     "text": [
      "Valores antes da alteração: [1, 2, 3, 4]\nValores depois da alteração: [1, 2, 50, 4]\nValores de fora da função: [10, 20, 30]\n"
     ]
    }
   ],
   "source": [
    "def changeme(mylist):\n",
    "    mylist = [1,2,3,4]\n",
    "    print(\"Valores antes da alteração:\",mylist)\n",
    "    mylist[2] = 50\n",
    "    print(\"Valores depois da alteração:\",mylist)\n",
    "\n",
    "mylist = [10,20,30]\n",
    "changeme(mylist) # Passagem de parâmetro por referência\n",
    "\n",
    "print(\"Valores de fora da função:\",mylist) # A função já foi modificada"
   ]
  },
  {
   "cell_type": "code",
   "execution_count": 2,
   "metadata": {},
   "outputs": [
    {
     "output_type": "stream",
     "name": "stdout",
     "text": [
      "Nome: Saul Goodman\nIdade: 31\n"
     ]
    }
   ],
   "source": [
    "'''\n",
    " Passagem de parâmetro por chave\n",
    "\n",
    "  Quando você usa argumentos de palavra-chave em uma chamada de função, o chamador       identifica os    argumentos pelo nome do parâmetro. Que devem ter os mesmos nomes      dos que foram definidos na função.\n",
    "\n",
    "  Isso permite colocar os arqgumentos fora de ordem, porque o intérprete  Python  pode   usar  as  palavras-chave  fornecidas  para  combinar  os valores com os parâmetros.\n",
    "'''\n",
    "\n",
    "def printinfo(nome, idade):\n",
    "    print(\"Nome:\",nome)\n",
    "    print(\"Idade:\",idade)\n",
    "\n",
    "    return\n",
    "\n",
    "printinfo(idade = 31, nome = \"Saul Goodman\") # A passagem por chave permite trocar a ordem.                                             "
   ]
  },
  {
   "cell_type": "code",
   "execution_count": 3,
   "metadata": {},
   "outputs": [
    {
     "output_type": "stream",
     "name": "stdout",
     "text": [
      "A saída é: \n10\nA saída é: \n70\n60\n50\n"
     ]
    }
   ],
   "source": [
    "'''\n",
    "    Passagem com número variável de parâmetros.\n",
    "\n",
    "    A variável que representará os n parâmetros recebe * antes\n",
    "'''\n",
    "\n",
    "def printinfo(arg1, *vartuple):\n",
    "        print(\"A saída é: \")\n",
    "        print(arg1)\n",
    "\n",
    "        for var in vartuple:\n",
    "            print(var)\n",
    "        \n",
    "        return\n",
    "\n",
    "printinfo(10)\n",
    "printinfo(70,60,50)"
   ]
  },
  {
   "cell_type": "code",
   "execution_count": 1,
   "metadata": {},
   "outputs": [
    {
     "output_type": "stream",
     "name": "stdout",
     "text": [
      "Nome: Saul Goodman Idade 35\nNome: John Watson Idade 40\n"
     ]
    }
   ],
   "source": [
    "'''\n",
    "    Função definida com valor padrão.\n",
    "\n",
    "    Dessa forma, não precisamos, necessariamente, fornecer o valor para o argumento\n",
    "    definido com valor padrão\n",
    "'''\n",
    "\n",
    "def printinfo(nome, idade = 35):\n",
    "    print(\"Nome:\",nome,\"Idade\",idade)\n",
    "\n",
    "printinfo(\"Saul Goodman\")\n",
    "\n",
    "printinfo(\"John Watson\",40)\n"
   ]
  },
  {
   "cell_type": "code",
   "execution_count": 2,
   "metadata": {},
   "outputs": [
    {
     "output_type": "error",
     "ename": "TypeError",
     "evalue": "printinfo() missing 1 required positional argument: 'nome'",
     "traceback": [
      "\u001b[1;31m---------------------------------------------------------------------------\u001b[0m",
      "\u001b[1;31mTypeError\u001b[0m                                 Traceback (most recent call last)",
      "\u001b[1;32m<ipython-input-2-5fabe61491d4>\u001b[0m in \u001b[0;36m<module>\u001b[1;34m\u001b[0m\n\u001b[0;32m      1\u001b[0m \u001b[1;31m# Aqui dá erro, porqur deixamos de fornecer o parâmetro obrigatório\u001b[0m\u001b[1;33m\u001b[0m\u001b[1;33m\u001b[0m\u001b[1;33m\u001b[0m\u001b[0m\n\u001b[0;32m      2\u001b[0m \u001b[1;33m\u001b[0m\u001b[0m\n\u001b[1;32m----> 3\u001b[1;33m \u001b[0mprintinfo\u001b[0m\u001b[1;33m(\u001b[0m\u001b[1;33m)\u001b[0m\u001b[1;33m\u001b[0m\u001b[1;33m\u001b[0m\u001b[0m\n\u001b[0m",
      "\u001b[1;31mTypeError\u001b[0m: printinfo() missing 1 required positional argument: 'nome'"
     ]
    }
   ],
   "source": [
    "# Aqui dá erro, porqur deixamos de fornecer o parâmetro obrigatório\n",
    "\n",
    "printinfo()"
   ]
  },
  {
   "cell_type": "code",
   "execution_count": 25,
   "metadata": {},
   "outputs": [
    {
     "output_type": "stream",
     "name": "stdout",
     "text": [
      "O valor da soma é: 30\n"
     ]
    }
   ],
   "source": [
    "'''\n",
    "    Função anônima ou Lambda\n",
    "'''\n",
    "\n",
    "soma = lambda arg1, arg2 : arg1 + arg2\n",
    "\n",
    "print(\"O valor da soma é:\",soma(10,20)) # Tem que imprimir dessa forma uma função lambda. Usando                                          # a varíável que recebe o seu valor\n"
   ]
  },
  {
   "cell_type": "code",
   "execution_count": 13,
   "metadata": {},
   "outputs": [
    {
     "output_type": "stream",
     "name": "stdout",
     "text": [
      "30\nO valor da operação é: None\n"
     ]
    }
   ],
   "source": [
    "# Loucura\n",
    "\n",
    "def soma(a,b):\n",
    "    print(a + b)\n",
    "\n",
    "operacao = lambda arg1, arg2 : soma(arg1,arg2)\n",
    "\n",
    "print(\"O valor da operação é:\",operacao(10,20))"
   ]
  },
  {
   "cell_type": "code",
   "execution_count": 7,
   "metadata": {},
   "outputs": [
    {
     "output_type": "stream",
     "name": "stdout",
     "text": [
      "Dentro da função 30\nFora da função 30\n"
     ]
    }
   ],
   "source": [
    "'''\n",
    "    Uso do return\n",
    "'''\n",
    "\n",
    "def soma(arg1, arg2):\n",
    "    final = arg1 + arg2\n",
    "    print(\"Dentro da função\",final)\n",
    "    return final\n",
    "\n",
    "total = soma(10,20) # Aqui o print está atuando. O return não tem efeito algum\n",
    "\n",
    "print(\"Fora da função\",total) # Aqui o return está atuando"
   ]
  },
  {
   "cell_type": "code",
   "execution_count": 4,
   "metadata": {},
   "outputs": [
    {
     "output_type": "stream",
     "name": "stdout",
     "text": [
      "Dentro da função 30\nFora da função, global: 0\n"
     ]
    }
   ],
   "source": [
    "'''\n",
    "    Escopo de variáveis\n",
    "'''\n",
    "\n",
    "total = 0 # Escopo global\n",
    "\n",
    "def soma(arg1, arg2):\n",
    "    final = arg1+arg2\n",
    "    print(\"Dentro da função\",final)\n",
    "    \n",
    "soma(10,20) \n",
    "\n",
    "print(\"Fora da função, global:\",total)\n"
   ]
  },
  {
   "cell_type": "code",
   "execution_count": null,
   "metadata": {},
   "outputs": [],
   "source": []
  }
 ]
}