{
 "metadata": {
  "language_info": {
   "codemirror_mode": {
    "name": "ipython",
    "version": 3
   },
   "file_extension": ".py",
   "mimetype": "text/x-python",
   "name": "python",
   "nbconvert_exporter": "python",
   "pygments_lexer": "ipython3",
   "version": "3.7.4-final"
  },
  "orig_nbformat": 2,
  "kernelspec": {
   "name": "python3",
   "display_name": "Python 3"
  }
 },
 "nbformat": 4,
 "nbformat_minor": 2,
 "cells": [
  {
   "cell_type": "code",
   "execution_count": 2,
   "metadata": {},
   "outputs": [
    {
     "output_type": "stream",
     "name": "stdout",
     "text": [
      "<re.Match object; span=(0, 2), match='AV'>\n"
     ]
    }
   ],
   "source": [
    "import re\n",
    "\n",
    "# O 'r' força que leia exatamente do jeito que foi passado\n",
    "result = re.match(r'AV','AV Analytics Vidhya AV') # O match busca na  \n",
    "                                                  # primeira posição, \n",
    "                                                  # não confundir com \n",
    "                                                  # primeira ocorrência\n",
    "\n",
    "print(result)"
   ]
  },
  {
   "cell_type": "code",
   "execution_count": 6,
   "metadata": {},
   "outputs": [
    {
     "output_type": "stream",
     "name": "stdout",
     "text": [
      "AV\n"
     ]
    }
   ],
   "source": [
    "print(result.group(0)) # Buscando o parâmetro da primeira ocorrência\n",
    "                       # se tentar com outro grupo, dará erro, pois o                          # match busca a primeira ocorrência"
   ]
  },
  {
   "cell_type": "code",
   "execution_count": 7,
   "metadata": {},
   "outputs": [
    {
     "output_type": "stream",
     "name": "stdout",
     "text": [
      "None\n"
     ]
    }
   ],
   "source": [
    "import re\n",
    "\n",
    "result = result = re.match(r'Analytics','AV Analytics Vidhya AV')\n",
    "# Analytics não está na primeira posição\n",
    "\n",
    "print(result)"
   ]
  },
  {
   "cell_type": "code",
   "execution_count": 8,
   "metadata": {},
   "outputs": [
    {
     "output_type": "stream",
     "name": "stdout",
     "text": [
      "0\n2\n"
     ]
    }
   ],
   "source": [
    "import re\n",
    "\n",
    "result = re.match(r'AV','AV Analytics Vidhya AV')\n",
    "\n",
    "# Busca a ocorrência no início e no fim do padrão, ao se encontrar\n",
    "# concatena as duas ocorrências e da as posições iniciais das mesmas\n",
    "# AVAV\n",
    "print(result.start())\n",
    "print(result.end())\n",
    "\n"
   ]
  },
  {
   "cell_type": "code",
   "execution_count": 15,
   "metadata": {},
   "outputs": [
    {
     "output_type": "stream",
     "name": "stdout",
     "text": [
      "Analytics\n"
     ]
    }
   ],
   "source": [
    "import re\n",
    "\n",
    "# O search não busca somente na primeira posição, mas é apenas a \n",
    "# primeira ocorrência\n",
    "\n",
    "result = re.search(r'Analytics','AV Analytics Vidhya AV')\n",
    "\n",
    "print(result.group(0))"
   ]
  },
  {
   "cell_type": "code",
   "execution_count": 20,
   "metadata": {},
   "outputs": [
    {
     "output_type": "stream",
     "name": "stdout",
     "text": [
      "['AV', 'AV']\n"
     ]
    }
   ],
   "source": [
    "import re\n",
    "\n",
    "result = re.findall(r'AV','AV Analytics Vidhya AV')\n",
    "\n",
    "print(result)"
   ]
  },
  {
   "cell_type": "code",
   "execution_count": 39,
   "metadata": {},
   "outputs": [
    {
     "output_type": "stream",
     "name": "stdout",
     "text": [
      "['Analyt', 'cs V', 'dhya']\n['Analyt', 'cs V', 'dhya L', 'fe']\n"
     ]
    }
   ],
   "source": [
    "import re\n",
    "\n",
    "result = re.split(r'i','Analytics Vidhya')\n",
    "\n",
    "print(result)\n",
    "\n",
    "resultx = re.split(r'i','Analytics Vidhya Life',maxsplit = 3) # Só faz uma \n",
    "                                                         # divisão, \n",
    "                                                         # o outro $ \n",
    "                                                         # elemento, é #\n",
    "                                                         # o resto da #\n",
    "                                                         # string\n",
    "                                                         \n",
    "\n",
    "print(resultx)"
   ]
  },
  {
   "cell_type": "code",
   "execution_count": 34,
   "metadata": {},
   "outputs": [
    {
     "output_type": "stream",
     "name": "stdout",
     "text": [
      "AV é a maior comunidade de Analytics do Mundo\n"
     ]
    }
   ],
   "source": [
    "# Faz replace na regex\n",
    "\n",
    "import re\n",
    "\n",
    "result = re.sub(r'da Índia','do Mundo','AV é a maior comunidade de Analytics da Índia')\n",
    "\n",
    "print(result)\n",
    "\n"
   ]
  },
  {
   "cell_type": "code",
   "execution_count": 29,
   "metadata": {},
   "outputs": [
    {
     "output_type": "stream",
     "name": "stdout",
     "text": [
      "['AV', 'AV']\n"
     ]
    }
   ],
   "source": [
    "'''\n",
    "    compile\n",
    "\n",
    "    Uma maneira melhor de passar o padrão(regex) para a função\n",
    "''' \n",
    "\n",
    "import re\n",
    "\n",
    "pattern = re.compile('AV')\n",
    "\n",
    "result = pattern.findall('AV Analytics Vidhya AV')\n",
    "print(result)"
   ]
  },
  {
   "cell_type": "code",
   "execution_count": 40,
   "metadata": {},
   "outputs": [
    {
     "output_type": "stream",
     "name": "stdout",
     "text": [
      "['A', 'V', ' ', 'i', 's', ' ', 'l', 'a', 'r', 'g', 'e', 's', 't', ' ', 'A', 'n', 'a', 'l', 'y', 't', 'i', 'c', 's', ' ', 'c', 'o', 'm', 'm', 'u', 'n', 'i', 't', 'y', ' ', 'o', 'f', ' ', 'I', 'n', 'd', 'i', 'a']\n"
     ]
    }
   ],
   "source": [
    "import re  \n",
    "\n",
    "result=re.findall(r'.','AV is largest Analytics community of India') \n",
    "\n",
    "print(result)"
   ]
  },
  {
   "cell_type": "code",
   "execution_count": 41,
   "metadata": {},
   "outputs": [
    {
     "output_type": "stream",
     "name": "stdout",
     "text": [
      "['A', 'V', 'i', 's', 'l', 'a', 'r', 'g', 'e', 's', 't', 'A', 'n', 'a', 'l', 'y', 't', 'i', 'c', 's', 'c', 'o', 'm', 'm', 'u', 'n', 'i', 't', 'y', 'o', 'f', 'I', 'n', 'd', 'i', 'a']\n"
     ]
    }
   ],
   "source": [
    "import re  \n",
    "\n",
    "result=re.findall(r'\\w','AV is largest Analytics community of India') \n",
    "\n",
    "print(result)"
   ]
  },
  {
   "cell_type": "code",
   "execution_count": 42,
   "metadata": {},
   "outputs": [
    {
     "output_type": "stream",
     "name": "stdout",
     "text": [
      "['A', 'V', 'i', 's', 'l', 'a', 'r', 'g', 'e', 's', 't', 'A', 'n', 'a', 'l', 'y', 't', 'i', 'c', 's', 'c', 'o', 'm', 'm', 'u', 'n', 'i', 't', 'y', 'o', 'f', 'I', 'n', 'd', 'i', 'a']\n"
     ]
    }
   ],
   "source": [
    "import re  \n",
    "\n",
    "result=re.findall(r'[a-zA-Z]{1}','AV is largest Analytics community of India') \n",
    "\n",
    "print(result)"
   ]
  },
  {
   "cell_type": "code",
   "execution_count": 43,
   "metadata": {},
   "outputs": [
    {
     "output_type": "stream",
     "name": "stdout",
     "text": [
      "['12-05-2007', '11-11-2011', '12-01-2009']\n"
     ]
    }
   ],
   "source": [
    "import re  \n",
    "\n",
    "result=re.findall(r'[0-9]{2}-[0-9]{2}-[0-9]{4}','Amit  34-3456  12-05-2007, XYZ 56-4532 11-11-2011, ABC 67-8945 12-01-2009') \n",
    "\n",
    "print (result) "
   ]
  },
  {
   "cell_type": "code",
   "execution_count": null,
   "metadata": {},
   "outputs": [],
   "source": []
  }
 ]
}