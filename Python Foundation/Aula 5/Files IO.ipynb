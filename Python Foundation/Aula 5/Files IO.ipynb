{
 "metadata": {
  "language_info": {
   "codemirror_mode": {
    "name": "ipython",
    "version": 3
   },
   "file_extension": ".py",
   "mimetype": "text/x-python",
   "name": "python",
   "nbconvert_exporter": "python",
   "pygments_lexer": "ipython3",
   "version": "3.7.4-final"
  },
  "orig_nbformat": 2,
  "kernelspec": {
   "name": "python3",
   "display_name": "Python 3"
  }
 },
 "nbformat": 4,
 "nbformat_minor": 2,
 "cells": [
  {
   "cell_type": "code",
   "execution_count": 3,
   "metadata": {},
   "outputs": [
    {
     "output_type": "execute_result",
     "data": {
      "text/plain": [
       "'10'"
      ]
     },
     "metadata": {},
     "execution_count": 3
    }
   ],
   "source": [
    "x = input(\"Insira algo:\") # 10\n",
    "x"
   ]
  },
  {
   "cell_type": "code",
   "execution_count": 4,
   "metadata": {},
   "outputs": [
    {
     "output_type": "execute_result",
     "data": {
      "text/plain": [
       "'\"10\"'"
      ]
     },
     "metadata": {},
     "execution_count": 4
    }
   ],
   "source": [
    "x = input(\"Insira algo:\") # \"10\"\n",
    "x"
   ]
  },
  {
   "cell_type": "code",
   "execution_count": 5,
   "metadata": {},
   "outputs": [
    {
     "output_type": "execute_result",
     "data": {
      "text/plain": [
       "\"'10'\""
      ]
     },
     "metadata": {},
     "execution_count": 5
    }
   ],
   "source": [
    "x = input(\"Insira algo:\") # '10'\n",
    "x"
   ]
  },
  {
   "cell_type": "code",
   "execution_count": 7,
   "metadata": {},
   "outputs": [
    {
     "output_type": "stream",
     "name": "stdout",
     "text": [
      "Nome do arquivo: umArq.txt\nFechado: False\nModo de abertura: wb\n"
     ]
    }
   ],
   "source": [
    "umArq = open(\"umArq.txt\",\"wb\")\n",
    "\n",
    "print(\"Nome do arquivo:\",umArq.name)\n",
    "print(\"Fechado:\",umArq.closed)\n",
    "print(\"Modo de abertura:\",umArq.mode)\n",
    "umArq.close()"
   ]
  },
  {
   "cell_type": "code",
   "execution_count": 13,
   "metadata": {},
   "outputs": [],
   "source": [
    "# Escrevendo no arquivo\n",
    "umArq = open(\"umArq.txt\",\"w\")\n",
    "\n",
    "umArq.write(\"A teoria é muito importante para a prática.\")\n",
    "umArq.close()\n"
   ]
  },
  {
   "cell_type": "code",
   "execution_count": 17,
   "metadata": {},
   "outputs": [
    {
     "output_type": "stream",
     "name": "stdout",
     "text": [
      "A leituda da string é: A teoria\n8\n"
     ]
    }
   ],
   "source": [
    "# Lendo o conteúdo do arquivo\n",
    "umArq = open(\"umArq.txt\",\"r+\")\n",
    "\n",
    "str = umArq.read(8)\n",
    "print(\"A leituda da string é:\",str)\n",
    "\n",
    "umArq.close()"
   ]
  },
  {
   "cell_type": "code",
   "execution_count": 24,
   "metadata": {},
   "outputs": [
    {
     "output_type": "stream",
     "name": "stdout",
     "text": [
      "A leituda da string é: A teoria\nA posição atual é: 8\nA nova string, a partir de onde paramos exibe:  é muito\n"
     ]
    }
   ],
   "source": [
    "# Deslocando-se pelo arquivo\n",
    "umArq = open(\"umArq.txt\",\"r+\")\n",
    "\n",
    "str = umArq.read(8)\n",
    "print(\"A leituda da string é:\",str)\n",
    "\n",
    "print(\"A posição atual é:\",umArq.tell())\n",
    "\n",
    "umArq.seek(0,1) # O primeiro argumento informa a posição inicial da string, a partir \n",
    "                # de onde vamos contar, o segundo arqgumento, \"1\", informa que vamos \n",
    "                # começar a contar a partir da posição de onde paramos. Se fosse 0, \n",
    "                # iriámos voltar tudo desde o início.\n",
    "\n",
    "str = umArq.read(8)\n",
    "print(\"A nova string, a partir de onde paramos exibe:\",str)\n",
    "\n",
    "umArq.close()"
   ]
  },
  {
   "cell_type": "code",
   "execution_count": 25,
   "metadata": {},
   "outputs": [],
   "source": [
    "'''\n",
    "    Métodos da classe os\n",
    "'''\n",
    "# Renomeando o arquivo\n",
    "import os\n",
    "\n",
    "os.rename(\"umArq.txt\",\"outroArq.txt\")"
   ]
  },
  {
   "cell_type": "code",
   "execution_count": 26,
   "metadata": {},
   "outputs": [],
   "source": [
    "# Removendo um arquivo\n",
    "import os\n",
    "\n",
    "os.remove(\"outroArq2.txt\")"
   ]
  },
  {
   "cell_type": "code",
   "execution_count": 27,
   "metadata": {},
   "outputs": [],
   "source": [
    "# Criando uma pasta\n",
    "import os\n",
    "\n",
    "os.mkdir(\"Minha Pasta\")"
   ]
  },
  {
   "cell_type": "code",
   "execution_count": 28,
   "metadata": {},
   "outputs": [
    {
     "output_type": "execute_result",
     "data": {
      "text/plain": [
       "'c:\\\\Users\\\\anton\\\\OneDrive\\\\Documentos\\\\Treinamento Cientista de Dados Python Trainning\\\\Aula 5'"
      ]
     },
     "metadata": {},
     "execution_count": 28
    }
   ],
   "source": [
    "# Retornando o diretório atual\n",
    "import os\n",
    "\n",
    "os.getcwd()"
   ]
  },
  {
   "cell_type": "code",
   "execution_count": 29,
   "metadata": {},
   "outputs": [],
   "source": [
    "# Removendo uma pasta\n",
    "import os\n",
    "\n",
    "os.rmdir(\"Minha Pasta2\")"
   ]
  },
  {
   "cell_type": "code",
   "execution_count": null,
   "metadata": {},
   "outputs": [],
   "source": []
  }
 ]
}