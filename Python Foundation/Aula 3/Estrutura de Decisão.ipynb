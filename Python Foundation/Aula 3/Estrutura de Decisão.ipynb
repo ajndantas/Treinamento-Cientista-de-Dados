{
 "metadata": {
  "language_info": {
   "codemirror_mode": {
    "name": "ipython",
    "version": 3
   },
   "file_extension": ".py",
   "mimetype": "text/x-python",
   "name": "python",
   "nbconvert_exporter": "python",
   "pygments_lexer": "ipython3",
   "version": "3.7.4-final"
  },
  "orig_nbformat": 2,
  "kernelspec": {
   "name": "python3",
   "display_name": "Python 3"
  }
 },
 "nbformat": 4,
 "nbformat_minor": 2,
 "cells": [
  {
   "cell_type": "code",
   "execution_count": 1,
   "metadata": {},
   "outputs": [
    {
     "output_type": "stream",
     "name": "stdout",
     "text": [
      "25 é um número positivo\nEsse texto sempre será exibido, não faz parte da estrutura de decisão\nEsse texto sempre será exibido, não faz parte da estrutura de decisão\n"
     ]
    }
   ],
   "source": [
    "num = 25\n",
    "if num > 0:\n",
    "    print(num, 'é um número positivo')\n",
    "print(\"Esse texto sempre será exibido, não faz parte da estrutura de decisão\")\n",
    "\n",
    "num = -31\n",
    "if num > 0:\n",
    "    print(num, 'é um número positivo')\n",
    "print(\"Esse texto sempre será exibido, não faz parte da estrutura de decisão\")\n",
    "\n"
   ]
  },
  {
   "cell_type": "code",
   "execution_count": 3,
   "metadata": {},
   "outputs": [
    {
     "output_type": "stream",
     "name": "stdout",
     "text": [
      "Positivo ou zero\n"
     ]
    }
   ],
   "source": [
    "num = 52\n",
    "if num >= 0:\n",
    "    print(\"Positivo ou zero\")\n",
    "else:    \n",
    "    print(\"Negativo\")"
   ]
  },
  {
   "cell_type": "code",
   "execution_count": 4,
   "metadata": {},
   "outputs": [
    {
     "output_type": "stream",
     "name": "stdout",
     "text": [
      "Número positivo\n"
     ]
    }
   ],
   "source": [
    "num = 78.9\n",
    "if num > 0:\n",
    "    print (\"Número positivo\")\n",
    "elif num == 0:\n",
    "    print (\"Zero\")\n",
    "else:\n",
    "    print(\"Número negativo\")\n"
   ]
  },
  {
   "cell_type": "code",
   "execution_count": 2,
   "metadata": {},
   "outputs": [
    {
     "output_type": "stream",
     "name": "stdout",
     "text": [
      "Número positivo\n"
     ]
    }
   ],
   "source": [
    "# Condicional aninhado\n",
    "num = 1000.0\n",
    "if num >=0:\n",
    "    if num == 0:\n",
    "        print(\"Zero\")\n",
    "    else:\n",
    "        print(\"Número positivo\")\n",
    "else:\n",
    "    print(\"Número negativo\")"
   ]
  },
  {
   "cell_type": "code",
   "execution_count": null,
   "metadata": {},
   "outputs": [],
   "source": []
  }
 ]
}