{
 "metadata": {
  "language_info": {
   "codemirror_mode": {
    "name": "ipython",
    "version": 3
   },
   "file_extension": ".py",
   "mimetype": "text/x-python",
   "name": "python",
   "nbconvert_exporter": "python",
   "pygments_lexer": "ipython3",
   "version": "3.7.4-final"
  },
  "orig_nbformat": 2,
  "kernelspec": {
   "name": "python3",
   "display_name": "Python 3"
  }
 },
 "nbformat": 4,
 "nbformat_minor": 2,
 "cells": [
  {
   "cell_type": "code",
   "execution_count": 9,
   "metadata": {},
   "outputs": [
    {
     "output_type": "stream",
     "name": "stdout",
     "text": [
      "4\n8\n10\n13\n19\n"
     ]
    }
   ],
   "source": [
    "lista1 = [0,1,2,3,4,5,6,7,8,9,10]\n",
    "lista2 = [11,12,13,14,15,16,17,18,19,20]\n",
    "\n",
    "lista = lista1 + lista2\n",
    "for x in [4,8,10,13,19]:\n",
    "    print(lista[x])\n",
    "\n"
   ]
  },
  {
   "cell_type": "code",
   "execution_count": 10,
   "metadata": {},
   "outputs": [
    {
     "output_type": "stream",
     "name": "stdout",
     "text": [
      "[3, 4, 5, 6, 7, 8, 9, 10, 11, 12, 13, 14]\n"
     ]
    }
   ],
   "source": [
    "print(lista[3:15])"
   ]
  },
  {
   "cell_type": "code",
   "execution_count": 11,
   "metadata": {},
   "outputs": [
    {
     "output_type": "stream",
     "name": "stdout",
     "text": [
      "[2, 3, 4, 5, 6, 7, 8, 9, 10, 11, 12, 13, 14, 15, 16, 17, 18, 19, 20]\n"
     ]
    }
   ],
   "source": [
    "print(lista[2:])"
   ]
  },
  {
   "cell_type": "code",
   "execution_count": 13,
   "metadata": {},
   "outputs": [
    {
     "output_type": "stream",
     "name": "stdout",
     "text": [
      "0\n10\n11\n20\n0\n20\n"
     ]
    }
   ],
   "source": [
    "print(min(lista1))\n",
    "print(max(lista1))\n",
    "\n",
    "print(min(lista2))\n",
    "print(max(lista2))\n",
    "\n",
    "print(min(lista))\n",
    "print(max(lista))"
   ]
  },
  {
   "cell_type": "code",
   "execution_count": 15,
   "metadata": {},
   "outputs": [
    {
     "output_type": "stream",
     "name": "stdout",
     "text": [
      "(0, 1, 2, 3, 4, 5, 6, 7, 8, 9, 10)\n(11, 12, 13, 14, 15, 16, 17, 18, 19, 20)\n(0, 1, 2, 3, 4, 5, 6, 7, 8, 9, 10, 11, 12, 13, 14, 15, 16, 17, 18, 19, 20)\n"
     ]
    }
   ],
   "source": [
    "print(tuple(lista1))\n",
    "print(tuple(lista2))\n",
    "print(tuple(lista))"
   ]
  },
  {
   "cell_type": "code",
   "execution_count": 23,
   "metadata": {},
   "outputs": [
    {
     "output_type": "stream",
     "name": "stdout",
     "text": [
      "2\n4\n6\n8\n10\n"
     ]
    }
   ],
   "source": [
    "tupla1 = (0,1,2,3,4,5,6,7,8)\n",
    "tupla2 = (9, 10, 11, 12, 13, 14, 15, 16, 17)\n",
    "tupla3 = (18, 19, 20, 21, 22, 23, 24, 25, 26)\n",
    "\n",
    "tuplamult12 = tupla1 + tupla2\n",
    "\n",
    "for x in [2,4,6,8,10]:\n",
    "    print(tuplamult12[x])\n",
    "\n"
   ]
  },
  {
   "cell_type": "code",
   "execution_count": 24,
   "metadata": {},
   "outputs": [
    {
     "output_type": "stream",
     "name": "stdout",
     "text": [
      "(1, 2, 3, 4, 5, 6, 7, 8, 9, 10, 11)\n"
     ]
    }
   ],
   "source": [
    "print(tuplamult12[1:12])"
   ]
  },
  {
   "cell_type": "code",
   "execution_count": 25,
   "metadata": {},
   "outputs": [
    {
     "output_type": "stream",
     "name": "stdout",
     "text": [
      "0\n8\n9\n17\n"
     ]
    }
   ],
   "source": [
    "print(min(tupla1))\n",
    "print(max(tupla1))\n",
    "print(min(tupla2))\n",
    "print(max(tupla2))"
   ]
  },
  {
   "cell_type": "code",
   "execution_count": 26,
   "metadata": {},
   "outputs": [
    {
     "output_type": "stream",
     "name": "stdout",
     "text": [
      "[0, 1, 2, 3, 4, 5, 6, 7, 8]\n[9, 10, 11, 12, 13, 14, 15, 16, 17]\n[0, 1, 2, 3, 4, 5, 6, 7, 8, 9, 10, 11, 12, 13, 14, 15, 16, 17]\n"
     ]
    }
   ],
   "source": [
    "print(list(tupla1))\n",
    "print(list(tupla2))\n",
    "print(list(tuplamult12))"
   ]
  },
  {
   "cell_type": "code",
   "execution_count": 29,
   "metadata": {},
   "outputs": [
    {
     "output_type": "stream",
     "name": "stdout",
     "text": [
      "{'a': 'X', 'b': 'X', 'c': 'X', 'd': 'X', 'e': 'X', 'f': 'X', 'g': 'X', 'h': 'X'}\n"
     ]
    }
   ],
   "source": [
    "dici1 = {'a':1,'b':2,'c':3,'d':4,'e':5,'f':6,'g':7,'h':8}\n",
    "dici2 = {'i':9,'j':10,'k':11,'l':12,'m':13,'n':14,'o':15,'p':16}\n",
    "\n",
    "dici11 = {}.fromkeys(['a','b','c','d','e','f','g','h'],'X')\n",
    "print(dici11)"
   ]
  },
  {
   "cell_type": "code",
   "execution_count": 32,
   "metadata": {},
   "outputs": [
    {
     "output_type": "stream",
     "name": "stdout",
     "text": [
      "1\n2\n3\n4\n5\n6\n7\n8\n9\n10\n11\n12\n13\n14\n15\n16\n"
     ]
    }
   ],
   "source": [
    "for x in dici1.keys():\n",
    "    print(dici1[x])\n",
    "\n",
    "for y in dici2.keys():\n",
    "    print(dici2[y])\n",
    "\n",
    "\n"
   ]
  },
  {
   "cell_type": "code",
   "execution_count": 33,
   "metadata": {},
   "outputs": [
    {
     "output_type": "stream",
     "name": "stdout",
     "text": [
      "1\n2\n3\n4\n5\n6\n7\n8\n9\n10\n11\n12\n13\n14\n15\n16\n"
     ]
    }
   ],
   "source": [
    "for x in dici1.values():\n",
    "    print(x)\n",
    "\n",
    "for y in dici2.values():\n",
    "    print(y)\n"
   ]
  },
  {
   "cell_type": "code",
   "execution_count": 35,
   "metadata": {},
   "outputs": [
    {
     "output_type": "stream",
     "name": "stdout",
     "text": [
      "('a', 1)\n('b', 2)\n('c', 3)\n('d', 4)\n('e', 5)\n('f', 6)\n('g', 7)\n('h', 8)\n('i', 9)\n('j', 10)\n('k', 11)\n('l', 12)\n('m', 13)\n('n', 14)\n('o', 15)\n('p', 16)\n"
     ]
    }
   ],
   "source": [
    "for i in dici1.items():\n",
    "    print(i)\n",
    "\n",
    "for j in dici2.items():\n",
    "    print(j)"
   ]
  },
  {
   "cell_type": "code",
   "execution_count": 36,
   "metadata": {},
   "outputs": [
    {
     "output_type": "stream",
     "name": "stdout",
     "text": [
      "14\n12\n14\n"
     ]
    }
   ],
   "source": [
    "print(int('14',10))\n",
    "print(int('1100',2))\n",
    "print(int('16',8))"
   ]
  },
  {
   "cell_type": "code",
   "execution_count": 50,
   "metadata": {},
   "outputs": [
    {
     "output_type": "stream",
     "name": "stdout",
     "text": [
      "256\n"
     ]
    }
   ],
   "source": [
    "print(int('100000000',2))"
   ]
  }
 ]
}