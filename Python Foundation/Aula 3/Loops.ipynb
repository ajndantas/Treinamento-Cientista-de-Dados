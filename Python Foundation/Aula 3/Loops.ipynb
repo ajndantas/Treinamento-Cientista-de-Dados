{
 "metadata": {
  "language_info": {
   "codemirror_mode": {
    "name": "ipython",
    "version": 3
   },
   "file_extension": ".py",
   "mimetype": "text/x-python",
   "name": "python",
   "nbconvert_exporter": "python",
   "pygments_lexer": "ipython3",
   "version": "3.7.4-final"
  },
  "orig_nbformat": 2,
  "kernelspec": {
   "name": "python3",
   "display_name": "Python 3"
  }
 },
 "nbformat": 4,
 "nbformat_minor": 2,
 "cells": [
  {
   "cell_type": "code",
   "execution_count": 1,
   "metadata": {},
   "outputs": [
    {
     "output_type": "stream",
     "name": "stdout",
     "text": [
      "O resultado da soma é:  294\n"
     ]
    }
   ],
   "source": [
    "nums = [18,30,21,9,43,29,32,2,110]\n",
    "soma = 0\n",
    "for val in nums:\n",
    "    soma = soma+val\n",
    "\n",
    "print(\"O resultado da soma é: \",soma)"
   ]
  },
  {
   "cell_type": "code",
   "execution_count": 2,
   "metadata": {},
   "outputs": [
    {
     "output_type": "stream",
     "name": "stdout",
     "text": [
      "range(0, 11)\n"
     ]
    }
   ],
   "source": [
    "print(range(11)) # Como é uma função prequiçosa, gera apenas o 1 e o último. Para ter todos os valores, tem que\n",
    "                 # forçar com list"
   ]
  },
  {
   "cell_type": "code",
   "execution_count": 4,
   "metadata": {},
   "outputs": [
    {
     "output_type": "stream",
     "name": "stdout",
     "text": [
      "[0, 1, 2, 3, 4, 5, 6, 7, 8, 9, 10]\n"
     ]
    }
   ],
   "source": [
    "print(list(range(11)))"
   ]
  },
  {
   "cell_type": "code",
   "execution_count": 5,
   "metadata": {},
   "outputs": [
    {
     "output_type": "stream",
     "name": "stdout",
     "text": [
      "[1, 2, 3, 4, 5, 6, 7, 8]\n"
     ]
    }
   ],
   "source": [
    "print(list(range(1,9)))"
   ]
  },
  {
   "cell_type": "code",
   "execution_count": 6,
   "metadata": {},
   "outputs": [
    {
     "output_type": "stream",
     "name": "stdout",
     "text": [
      "[1, 5, 9, 13, 17, 21, 25, 29, 33, 37]\n"
     ]
    }
   ],
   "source": [
    "print(list(range(1,40,4)))"
   ]
  },
  {
   "cell_type": "code",
   "execution_count": 4,
   "metadata": {},
   "outputs": [
    {
     "output_type": "execute_result",
     "data": {
      "text/plain": [
       "[0, 2, 4, 6, 8]"
      ]
     },
     "metadata": {},
     "execution_count": 4
    }
   ],
   "source": [
    "'''\n",
    "    Também  podemos  definir  o  tamanho  de início,  parada  e  passo da seguinte forma: range(start, stop,         step_size). O padrão step_size é 1 se não for fornecido.\n",
    "'''\n",
    "\n",
    "list(range(0,10,2))"
   ]
  },
  {
   "cell_type": "code",
   "execution_count": 4,
   "metadata": {},
   "outputs": [
    {
     "output_type": "stream",
     "name": "stdout",
     "text": [
      "Gosto de ouvir alguns gêneros musicais, tais como: clássica\nGosto de ouvir alguns gêneros musicais, tais como: jazz\nGosto de ouvir alguns gêneros musicais, tais como: blues\n"
     ]
    }
   ],
   "source": [
    "mstyle = ['clássica','jazz','blues']\n",
    "\n",
    "for i in range(len(mstyle)):\n",
    "    print(\"Gosto de ouvir alguns gêneros musicais, tais como:\",mstyle[i])\n"
   ]
  },
  {
   "cell_type": "code",
   "execution_count": 7,
   "metadata": {},
   "outputs": [
    {
     "output_type": "stream",
     "name": "stdout",
     "text": [
      "0\n1\n5\nNão há mais itens\n"
     ]
    }
   ],
   "source": [
    "items = [0,1,5]\n",
    "for i in items:\n",
    "    print(i)\n",
    "else:\n",
    "    print(\"Não há mais itens\")"
   ]
  },
  {
   "cell_type": "code",
   "execution_count": 17,
   "metadata": {},
   "outputs": [
    {
     "output_type": "stream",
     "name": "stdout",
     "text": [
      "Não há mais resultados\n"
     ]
    }
   ],
   "source": [
    "student_name = 'Gohan'\n",
    "\n",
    "registers = {'Goten':8.5,'Trunks':5.0, 'Majin Boo':9.0}\n",
    "\n",
    "for student in registers: # student é preenchido com as chaves\n",
    "    if student == student_name:\n",
    "        print(registers[student])\n",
    "        break\n",
    "else: # Interessante essa posição para o else\n",
    "     print('Não há mais resultados')\n"
   ]
  },
  {
   "cell_type": "code",
   "execution_count": 21,
   "metadata": {},
   "outputs": [
    {
     "output_type": "stream",
     "name": "stdout",
     "text": [
      "120\n"
     ]
    }
   ],
   "source": [
    "n = 15\n",
    "soma = 0\n",
    "x = 1\n",
    "\n",
    "while x<=n:\n",
    "    soma += x\n",
    "    x += 1\n",
    "\n",
    "print(soma)"
   ]
  },
  {
   "cell_type": "code",
   "execution_count": 2,
   "metadata": {},
   "outputs": [
    {
     "output_type": "stream",
     "name": "stdout",
     "text": [
      "Dentro do while\nDentro do while\nDentro do while\nDentro do else\n"
     ]
    }
   ],
   "source": [
    "count = 0\n",
    "\n",
    "while count < 3:\n",
    "    print(\"Dentro do while\")\n",
    "    count = count + 1\n",
    "else:\n",
    "    print(\"Dentro do else\")"
   ]
  },
  {
   "cell_type": "code",
   "execution_count": 2,
   "metadata": {},
   "outputs": [
    {
     "output_type": "stream",
     "name": "stdout",
     "text": [
      "U\nm\na\n \nr\na\ns\ne\nFim\n"
     ]
    }
   ],
   "source": [
    "for i in \"Uma frase\":\n",
    "    if i == 'f':\n",
    "        continue\n",
    "    print(i)\n",
    "print(\"Fim\")\n",
    "\n"
   ]
  },
  {
   "cell_type": "code",
   "execution_count": null,
   "metadata": {},
   "outputs": [],
   "source": []
  }
 ]
}