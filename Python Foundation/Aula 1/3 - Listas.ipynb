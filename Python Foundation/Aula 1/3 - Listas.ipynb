{
 "cells": [
  {
   "source": [
    "'''\n",
    "    Criando e acessando listas\n",
    "'''\n",
    "UmaLista = ['xwyz',123,5.15,'Dexter',92.5]\n",
    "listinha = [456,'Corleone']\n",
    "print(UmaLista)\n",
    "print(UmaLista[0])\n",
    "print(UmaLista[1:3])\n",
    "print(UmaLista[2:])\n",
    "print(listinha*2)\n",
    "print(UmaLista + listinha)"
   ],
   "cell_type": "code",
   "metadata": {},
   "execution_count": 1,
   "outputs": [
    {
     "output_type": "stream",
     "name": "stdout",
     "text": [
      "['xwyz', 123, 5.15, 'Dexter', 92.5]\nxwyz\n[123, 5.15]\n[5.15, 'Dexter', 92.5]\n[456, 'Corleone', 456, 'Corleone']\n['xwyz', 123, 5.15, 'Dexter', 92.5, 456, 'Corleone']\n"
     ]
    }
   ]
  },
  {
   "cell_type": "code",
   "execution_count": 18,
   "metadata": {},
   "outputs": [
    {
     "output_type": "stream",
     "name": "stdout",
     "text": [
      "Valor disponível on índice 2:  1992\nNovo valor disponível no índice 2:  2001\n"
     ]
    }
   ],
   "source": [
    "lista1 = ['matemática','português',1992,2005]\n",
    "print(\"Valor disponível on índice 2: \", lista1[2])\n",
    "lista1[2] = 2001\n",
    "print (\"Novo valor disponível no índice 2: \",lista1[2])"
   ]
  },
  {
   "cell_type": "code",
   "execution_count": 19,
   "metadata": {},
   "outputs": [
    {
     "output_type": "stream",
     "name": "stdout",
     "text": [
      "['matemática', 'português', 2001, 2005]\nApós excluir o valor no índice 2 da lista1:  ['matemática', 'português', 2005]\n"
     ]
    }
   ],
   "source": [
    "'''\n",
    "    Excluindo valores da lista\n",
    "'''\n",
    "print(lista1)\n",
    "del lista1[2]\n",
    "print(\"Após excluir o valor no índice 2 da lista1: \",lista1)"
   ]
  },
  {
   "cell_type": "code",
   "execution_count": 20,
   "metadata": {},
   "outputs": [
    {
     "output_type": "stream",
     "name": "stdout",
     "text": [
      "['matemática', 'português', 2020, 'Enzo']\n"
     ]
    }
   ],
   "source": [
    "'''\n",
    "    Incluindo e sobrescrevendo valores na lista passando a localização\n",
    "'''\n",
    "lista1[2:3] = [2020,'Enzo']\n",
    "print(lista1)"
   ]
  },
  {
   "cell_type": "code",
   "execution_count": 21,
   "metadata": {},
   "outputs": [
    {
     "output_type": "stream",
     "name": "stdout",
     "text": [
      "['matemática', 'português', 2020, 'Enzo', 'Liana']\n"
     ]
    }
   ],
   "source": [
    "'''\n",
    "    Adicionando ao final da lista\n",
    "'''\n",
    "lista1.append('Liana') #Adiciona ao final da lista\n",
    "print(lista1)"
   ]
  },
  {
   "cell_type": "code",
   "execution_count": 22,
   "metadata": {},
   "outputs": [
    {
     "output_type": "execute_result",
     "data": {
      "text/plain": [
       "1"
      ]
     },
     "metadata": {},
     "execution_count": 22
    }
   ],
   "source": [
    "'''\n",
    "    Conta número de ocorrências\n",
    "'''\n",
    "lista1.count('Liana')"
   ]
  },
  {
   "cell_type": "code",
   "execution_count": 25,
   "metadata": {},
   "outputs": [
    {
     "output_type": "stream",
     "name": "stdout",
     "text": [
      "['Liana', 'Enzo', 2020, 'português', 'matemática']\n"
     ]
    }
   ],
   "source": [
    "'''\n",
    "    Inverte a ordem dos elementos na lista\n",
    "'''\n",
    "lista1.reverse()\n",
    "print(lista1)"
   ]
  },
  {
   "cell_type": "code",
   "execution_count": 2,
   "metadata": {},
   "outputs": [
    {
     "output_type": "stream",
     "name": "stdout",
     "text": [
      "Java\n"
     ]
    }
   ],
   "source": [
    "'''\n",
    "    Índice negativo\n",
    "'''\n",
    "lingProg = ['Javascript','Java','Python']\n",
    "\n",
    "print(lingProg[-2]) # Quando negativo, conta-se a partir da direita, e o índice inicial não é zero, é -1"
   ]
  },
  {
   "cell_type": "code",
   "execution_count": 30,
   "metadata": {},
   "outputs": [
    {
     "output_type": "stream",
     "name": "stdout",
     "text": [
      "['Javascript', 'Python', 'Java']\n"
     ]
    }
   ],
   "source": [
    "'''\n",
    "    Ordenação, com ou sem critério\n",
    "'''\n",
    "# Utilizando critério de ordenação, key, a saída de uma função\n",
    "# O critério de ordenação escolhido foi o tamanho da string ao reverso, ou seja, da maior para a menor.\n",
    "\n",
    "def myFunc(e):\n",
    "    return len(e)\n",
    "\n",
    "lingProg.sort(key=myFunc,reverse=True)\n",
    "print(lingProg)"
   ]
  },
  {
   "cell_type": "code",
   "execution_count": 37,
   "metadata": {
    "scrolled": true
   },
   "outputs": [
    {
     "output_type": "execute_result",
     "data": {
      "text/plain": [
       "4"
      ]
     },
     "metadata": {},
     "execution_count": 37
    }
   ],
   "source": [
    "'''\n",
    "    LEN\n",
    "    \n",
    "    Número de elementos da lista\n",
    "'''\n",
    "len(lista1)"
   ]
  },
  {
   "cell_type": "code",
   "execution_count": 4,
   "metadata": {},
   "outputs": [
    {
     "output_type": "stream",
     "name": "stdout",
     "text": [
      "Python\n"
     ]
    },
    {
     "output_type": "error",
     "ename": "NameError",
     "evalue": "name 'lista1' is not defined",
     "traceback": [
      "\u001b[1;31m---------------------------------------------------------------------------\u001b[0m",
      "\u001b[1;31mNameError\u001b[0m                                 Traceback (most recent call last)",
      "\u001b[1;32m<ipython-input-4-adf8e6751244>\u001b[0m in \u001b[0;36m<module>\u001b[1;34m\u001b[0m\n\u001b[0;32m      6\u001b[0m \u001b[0mprint\u001b[0m\u001b[1;33m(\u001b[0m\u001b[0mmax\u001b[0m\u001b[1;33m(\u001b[0m\u001b[0mlingProg\u001b[0m\u001b[1;33m)\u001b[0m\u001b[1;33m)\u001b[0m \u001b[1;31m# Ordem alfabética\u001b[0m\u001b[1;33m\u001b[0m\u001b[1;33m\u001b[0m\u001b[0m\n\u001b[0;32m      7\u001b[0m \u001b[1;33m\u001b[0m\u001b[0m\n\u001b[1;32m----> 8\u001b[1;33m \u001b[0mmax\u001b[0m\u001b[1;33m(\u001b[0m\u001b[0mlista1\u001b[0m\u001b[1;33m)\u001b[0m \u001b[1;31m# Vai dar erro, porque possui elementos de tipos diferentes\u001b[0m\u001b[1;33m\u001b[0m\u001b[1;33m\u001b[0m\u001b[0m\n\u001b[0m",
      "\u001b[1;31mNameError\u001b[0m: name 'lista1' is not defined"
     ]
    }
   ],
   "source": [
    "'''\n",
    "    MAX\n",
    "\n",
    "    Elemento que possui o maior índice\n",
    "'''\n",
    "print(max(lingProg)) # Ordem alfabética\n",
    "\n",
    "'max(lista1) # Vai dar erro, porque possui elementos de tipos diferentes"
   ]
  },
  {
   "cell_type": "code",
   "execution_count": 24,
   "metadata": {},
   "outputs": [
    {
     "data": {
      "text/plain": [
       "'Java'"
      ]
     },
     "execution_count": 24,
     "metadata": {},
     "output_type": "execute_result"
    }
   ],
   "source": [
    "'''\n",
    "    MIN\n",
    "\n",
    "    Elemento que possui o menor índice na lista\n",
    "'''\n",
    "min(lingProg) # Ordem alfabética"
   ]
  },
  {
   "cell_type": "code",
   "execution_count": 25,
   "metadata": {},
   "outputs": [
    {
     "name": "stdout",
     "output_type": "stream",
     "text": [
      "['matemática', 'português', 2020, 'Enzo', 'Liana']\n"
     ]
    }
   ],
   "source": [
    "print(lista1)"
   ]
  },
  {
   "cell_type": "code",
   "execution_count": 46,
   "metadata": {},
   "outputs": [
    {
     "data": {
      "text/plain": [
       "['Camila', 'Luciano']"
      ]
     },
     "execution_count": 46,
     "metadata": {},
     "output_type": "execute_result"
    }
   ],
   "source": [
    "'''\n",
    "    Acessando elementos de Sublista\n",
    "'''\n",
    "# Acesso lista dentro de lista\n",
    "lista1 = ['matemática', 'português', 2020, 'Enzo', 'Liana',['Camila','Luciano']]\n",
    "lista1[5]"
   ]
  },
  {
   "cell_type": "code",
   "execution_count": 48,
   "metadata": {},
   "outputs": [
    {
     "data": {
      "text/plain": [
       "'Camila'"
      ]
     },
     "execution_count": 48,
     "metadata": {},
     "output_type": "execute_result"
    }
   ],
   "source": [
    "lista1[5][0] # Matriz de mais de uma dimensão"
   ]
  },
  {
   "source": [
    "dici = {'Nome': 'Florinda', 'idade': 37, 'Curso':'Pedagogia'}\n",
    "print(\"dici['Nome']: \",dici['Nome'])\n",
    "print(\"dici['idade']: \",dici['idade'])"
   ],
   "cell_type": "code",
   "metadata": {},
   "execution_count": 14,
   "outputs": [
    {
     "output_type": "stream",
     "name": "stdout",
     "text": [
      "dici['Nome']:  Florinda\ndici['idade']:  37\n"
     ]
    }
   ]
  },
  {
   "cell_type": "code",
   "execution_count": 56,
   "metadata": {},
   "outputs": [
    {
     "name": "stdout",
     "output_type": "stream",
     "text": [
      "37\n"
     ]
    }
   ],
   "source": [
    "print(dici.get('idade'))"
   ]
  },
  {
   "cell_type": "code",
   "execution_count": 57,
   "metadata": {},
   "outputs": [
    {
     "name": "stdout",
     "output_type": "stream",
     "text": [
      "None\n"
     ]
    }
   ],
   "source": [
    "print(dici.get('endereco')) # Acessando chave que não existe"
   ]
  },
  {
   "cell_type": "code",
   "execution_count": 15,
   "metadata": {},
   "outputs": [
    {
     "output_type": "stream",
     "name": "stdout",
     "text": [
      "dici['idade']:  18\ndici['Faculdade']:  Colação de Grau\n"
     ]
    }
   ],
   "source": [
    "dici['idade'] = 18\n",
    "\n",
    "# Criando nova chave, com novo valor\n",
    "dici['Faculdade'] = 'Colação de Grau'\n",
    "\n",
    "print(\"dici['idade']: \",dici['idade'])\n",
    "print(\"dici['Faculdade']: \",dici['Faculdade'])"
   ]
  },
  {
   "cell_type": "code",
   "execution_count": 16,
   "metadata": {},
   "outputs": [
    {
     "output_type": "stream",
     "name": "stdout",
     "text": [
      "{'Nome': 'Florinda', 'idade': 18, 'Curso': 'Pedagogia', 'Faculdade': 'Colação de Grau'}\n"
     ]
    }
   ],
   "source": [
    "print(dici)"
   ]
  },
  {
   "cell_type": "code",
   "execution_count": 17,
   "metadata": {},
   "outputs": [],
   "source": [
    "del dici['Nome']"
   ]
  },
  {
   "cell_type": "code",
   "execution_count": 27,
   "metadata": {},
   "outputs": [
    {
     "output_type": "stream",
     "name": "stdout",
     "text": [
      "{'idade': 18, 'Curso': 'Pedagogia', 'Faculdade': 'Colação de Grau'}\n"
     ]
    }
   ],
   "source": [
    "print(dici)"
   ]
  },
  {
   "cell_type": "code",
   "execution_count": 28,
   "metadata": {},
   "outputs": [
    {
     "output_type": "execute_result",
     "data": {
      "text/plain": [
       "dict_items([('idade', 18), ('Curso', 'Pedagogia'), ('Faculdade', 'Colação de Grau')])"
      ]
     },
     "metadata": {},
     "execution_count": 28
    }
   ],
   "source": [
    "dici.items() # Retornando o objeto"
   ]
  },
  {
   "cell_type": "code",
   "execution_count": 33,
   "metadata": {},
   "outputs": [
    {
     "output_type": "execute_result",
     "data": {
      "text/plain": [
       "dict_values([18, 'Pedagogia', 'Colação de Grau'])"
      ]
     },
     "metadata": {},
     "execution_count": 33
    }
   ],
   "source": [
    "dici.values()"
   ]
  },
  {
   "cell_type": "code",
   "execution_count": 32,
   "metadata": {},
   "outputs": [
    {
     "output_type": "error",
     "ename": "TypeError",
     "evalue": "'dict_keys' object is not subscriptable",
     "traceback": [
      "\u001b[1;31m---------------------------------------------------------------------------\u001b[0m",
      "\u001b[1;31mTypeError\u001b[0m                                 Traceback (most recent call last)",
      "\u001b[1;32m<ipython-input-32-0a0cdb7f98f2>\u001b[0m in \u001b[0;36m<module>\u001b[1;34m\u001b[0m\n\u001b[0;32m      1\u001b[0m \u001b[0mobj\u001b[0m \u001b[1;33m=\u001b[0m \u001b[0mdici\u001b[0m\u001b[1;33m.\u001b[0m\u001b[0mkeys\u001b[0m\u001b[1;33m(\u001b[0m\u001b[1;33m)\u001b[0m\u001b[1;33m\u001b[0m\u001b[1;33m\u001b[0m\u001b[0m\n\u001b[1;32m----> 2\u001b[1;33m \u001b[0mprint\u001b[0m\u001b[1;33m(\u001b[0m\u001b[0mobj\u001b[0m\u001b[1;33m[\u001b[0m\u001b[1;36m0\u001b[0m\u001b[1;33m]\u001b[0m\u001b[1;33m)\u001b[0m\u001b[1;33m\u001b[0m\u001b[1;33m\u001b[0m\u001b[0m\n\u001b[0m",
      "\u001b[1;31mTypeError\u001b[0m: 'dict_keys' object is not subscriptable"
     ]
    }
   ],
   "source": [
    "dici.keys() # Só dá certo usando um for\n",
    "print(obj[0])"
   ]
  },
  {
   "cell_type": "code",
   "execution_count": 64,
   "metadata": {},
   "outputs": [],
   "source": [
    "dici.clear() # Limpando o dicionário"
   ]
  },
  {
   "cell_type": "code",
   "execution_count": 65,
   "metadata": {},
   "outputs": [
    {
     "name": "stdout",
     "output_type": "stream",
     "text": [
      "{}\n"
     ]
    }
   ],
   "source": [
    "print(dici)"
   ]
  },
  {
   "cell_type": "code",
   "execution_count": 67,
   "metadata": {},
   "outputs": [
    {
     "ename": "NameError",
     "evalue": "name 'dici' is not defined",
     "output_type": "error",
     "traceback": [
      "\u001b[1;31m---------------------------------------------------------------------------\u001b[0m",
      "\u001b[1;31mNameError\u001b[0m                                 Traceback (most recent call last)",
      "\u001b[1;32m<ipython-input-67-d45cde591868>\u001b[0m in \u001b[0;36m<module>\u001b[1;34m\u001b[0m\n\u001b[1;32m----> 1\u001b[1;33m \u001b[1;32mdel\u001b[0m \u001b[0mdici\u001b[0m \u001b[1;31m# Destruindo o dicionário\u001b[0m\u001b[1;33m\u001b[0m\u001b[1;33m\u001b[0m\u001b[0m\n\u001b[0m",
      "\u001b[1;31mNameError\u001b[0m: name 'dici' is not defined"
     ]
    }
   ],
   "source": [
    "del dici # Destruindo o dicionário"
   ]
  },
  {
   "cell_type": "code",
   "execution_count": 69,
   "metadata": {},
   "outputs": [],
   "source": [
    "dici = {('Nome'): 'Florinda', 'idade': 37, 'Curso':'Pedagogia'}\n",
    "dici['idade'] = 18\n",
    "\n",
    "# Criando nova chave, com novo valor\n",
    "dici['Faculdade'] = 'Colação de Grau'\n"
   ]
  },
  {
   "cell_type": "code",
   "execution_count": 70,
   "metadata": {},
   "outputs": [
    {
     "data": {
      "text/plain": [
       "'Florinda'"
      ]
     },
     "execution_count": 70,
     "metadata": {},
     "output_type": "execute_result"
    }
   ],
   "source": [
    "dici[('Nome')] # Chamando a chave que é uma tupla"
   ]
  },
  {
   "cell_type": "code",
   "execution_count": 71,
   "metadata": {},
   "outputs": [
    {
     "data": {
      "text/plain": [
       "False"
      ]
     },
     "execution_count": 71,
     "metadata": {},
     "output_type": "execute_result"
    }
   ],
   "source": [
    "quadrados = {0:0,1:1,3:9,5:2}\n",
    "all(quadrados) # Não podemos ter chave 0"
   ]
  },
  {
   "cell_type": "code",
   "execution_count": 2,
   "metadata": {},
   "outputs": [
    {
     "output_type": "stream",
     "name": "stdout",
     "text": [
      "{'Sociologia': 0, 'Historia': 0, 'Geografia': 0}\n"
     ]
    }
   ],
   "source": [
    "# Métodos de dicionário\n",
    "disciplinas = {}.fromkeys(['Sociologia','Historia','Geografia'],0)\n",
    "print(disciplinas)"
   ]
  },
  {
   "cell_type": "code",
   "execution_count": 3,
   "metadata": {},
   "outputs": [
    {
     "output_type": "stream",
     "name": "stdout",
     "text": [
      "('Sociologia', 0)\n('Historia', 0)\n('Geografia', 0)\n"
     ]
    }
   ],
   "source": [
    "for i in disciplinas.items(): # Com o método items, pega todo o dicionário, sem o método, apenas as chaves\n",
    "    print(i)"
   ]
  },
  {
   "cell_type": "code",
   "execution_count": 5,
   "metadata": {},
   "outputs": [
    {
     "output_type": "stream",
     "name": "stdout",
     "text": [
      "Sociologia\nHistoria\nGeografia\n"
     ]
    }
   ],
   "source": [
    "for i in disciplinas:\n",
    "    print(i)"
   ]
  },
  {
   "cell_type": "code",
   "execution_count": 82,
   "metadata": {},
   "outputs": [
    {
     "name": "stdout",
     "output_type": "stream",
     "text": [
      "['Geografia', 'Historia', 'Sociologia']\n"
     ]
    }
   ],
   "source": [
    "print(list(sorted(disciplinas.keys()))) # Transforma em lista, e organizada pelas chaves"
   ]
  },
  {
   "cell_type": "code",
   "execution_count": 83,
   "metadata": {},
   "outputs": [
    {
     "name": "stdout",
     "output_type": "stream",
     "text": [
      "['Geografia', 'Historia', 'Sociologia']\n"
     ]
    }
   ],
   "source": [
    "print(sorted(disciplinas.keys())) # Fazendo o sorted direto no dicionário"
   ]
  },
  {
   "cell_type": "code",
   "execution_count": 2,
   "metadata": {},
   "outputs": [
    {
     "output_type": "stream",
     "name": "stdout",
     "text": [
      "{0: 0, 1: 1, 2: 4, 3: 9, 4: 16, 5: 25, 6: 36, 7: 49}\n"
     ]
    }
   ],
   "source": [
    "# Dictionary Comprehension Structure\n",
    "quadrado = {x : x*x for x in range(8)}\n",
    "print(quadrado)"
   ]
  },
  {
   "cell_type": "code",
   "execution_count": 4,
   "metadata": {},
   "outputs": [
    {
     "output_type": "stream",
     "name": "stdout",
     "text": [
      "{1: 1, 3: 9, 5: 25, 7: 49, 9: 81}\n"
     ]
    }
   ],
   "source": [
    "# Dictionary Comprehension Structure com if\n",
    "quadrados_impares = {x : x*x for x in range(11) if x%2 == 1}\n",
    "print(quadrados_impares)"
   ]
  },
  {
   "cell_type": "code",
   "execution_count": 39,
   "metadata": {},
   "outputs": [
    {
     "output_type": "execute_result",
     "data": {
      "text/plain": [
       "256"
      ]
     },
     "metadata": {},
     "execution_count": 39
    }
   ],
   "source": [
    "# Funções de conversão\n",
    "int('100000000',2)"
   ]
  },
  {
   "cell_type": "code",
   "execution_count": 35,
   "metadata": {},
   "outputs": [
    {
     "output_type": "execute_result",
     "data": {
      "text/plain": [
       "'0x10'"
      ]
     },
     "metadata": {},
     "execution_count": 35
    }
   ],
   "source": [
    "hex(16)"
   ]
  },
  {
   "cell_type": "code",
   "execution_count": 36,
   "metadata": {},
   "outputs": [
    {
     "output_type": "execute_result",
     "data": {
      "text/plain": [
       "'1'"
      ]
     },
     "metadata": {},
     "execution_count": 36
    }
   ],
   "source": [
    "str(1)"
   ]
  },
  {
   "cell_type": "code",
   "execution_count": null,
   "metadata": {},
   "outputs": [],
   "source": []
  }
 ],
 "metadata": {
  "kernelspec": {
   "display_name": "Python 3",
   "language": "python",
   "name": "python3"
  },
  "language_info": {
   "codemirror_mode": {
    "name": "ipython",
    "version": 3
   },
   "file_extension": ".py",
   "mimetype": "text/x-python",
   "name": "python",
   "nbconvert_exporter": "python",
   "pygments_lexer": "ipython3",
   "version": "3.7.4-final"
  }
 },
 "nbformat": 4,
 "nbformat_minor": 2
}