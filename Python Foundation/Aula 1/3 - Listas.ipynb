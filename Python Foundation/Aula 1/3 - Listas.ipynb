{
 "cells": [
  {
   "source": [
    "## Criando e acessando listas\n"
   ],
   "cell_type": "markdown",
   "metadata": {}
  },
  {
   "source": [
    "\n",
    "UmaLista = ['xwyz',123,5.15,'Dexter',92.5]\n",
    "listinha = [456,'Corleone']\n",
    "print(UmaLista)\n",
    "print(UmaLista[0])\n",
    "print(UmaLista[1:3])\n",
    "print(UmaLista[2:])\n",
    "print(listinha*2)\n",
    "print(UmaLista + listinha)"
   ],
   "cell_type": "code",
   "metadata": {},
   "execution_count": 1,
   "outputs": [
    {
     "output_type": "stream",
     "name": "stdout",
     "text": [
      "['xwyz', 123, 5.15, 'Dexter', 92.5]\nxwyz\n[123, 5.15]\n[5.15, 'Dexter', 92.5]\n[456, 'Corleone', 456, 'Corleone']\n['xwyz', 123, 5.15, 'Dexter', 92.5, 456, 'Corleone']\n"
     ]
    }
   ]
  },
  {
   "cell_type": "code",
   "execution_count": 18,
   "metadata": {},
   "outputs": [
    {
     "output_type": "stream",
     "name": "stdout",
     "text": [
      "Valor disponível on índice 2:  1992\nNovo valor disponível no índice 2:  2001\n"
     ]
    }
   ],
   "source": [
    "lista1 = ['matemática','português',1992,2005]\n",
    "print(\"Valor disponível on índice 2: \", lista1[2])\n",
    "lista1[2] = 2001\n",
    "print (\"Novo valor disponível no índice 2: \",lista1[2])"
   ]
  },
  {
   "source": [
    "## Excluindo valores da lista"
   ],
   "cell_type": "markdown",
   "metadata": {}
  },
  {
   "cell_type": "code",
   "execution_count": 19,
   "metadata": {},
   "outputs": [
    {
     "output_type": "stream",
     "name": "stdout",
     "text": [
      "['matemática', 'português', 2001, 2005]\nApós excluir o valor no índice 2 da lista1:  ['matemática', 'português', 2005]\n"
     ]
    }
   ],
   "source": [
    "print(lista1)\n",
    "del lista1[2]\n",
    "print(\"Após excluir o valor no índice 2 da lista1: \",lista1)"
   ]
  },
  {
   "source": [
    "## Incluindo e sobrescrevendo valores na lista passando a localização"
   ],
   "cell_type": "markdown",
   "metadata": {}
  },
  {
   "cell_type": "code",
   "execution_count": 20,
   "metadata": {},
   "outputs": [
    {
     "output_type": "stream",
     "name": "stdout",
     "text": [
      "['matemática', 'português', 2020, 'Enzo']\n"
     ]
    }
   ],
   "source": [
    "lista1[2:3] = [2020,'Enzo']\n",
    "print(lista1)"
   ]
  },
  {
   "source": [
    "## APPEND\n",
    "Adicionando ao final da lista\n"
   ],
   "cell_type": "markdown",
   "metadata": {}
  },
  {
   "cell_type": "code",
   "execution_count": 21,
   "metadata": {},
   "outputs": [
    {
     "output_type": "stream",
     "name": "stdout",
     "text": [
      "['matemática', 'português', 2020, 'Enzo', 'Liana']\n"
     ]
    }
   ],
   "source": [
    "lista1.append('Liana') #Adiciona ao final da lista\n",
    "print(lista1)"
   ]
  },
  {
   "source": [
    "## COUNT\n",
    "Conta número de ocorrências\n"
   ],
   "cell_type": "markdown",
   "metadata": {}
  },
  {
   "source": [
    "lista1.count('Liana')"
   ],
   "cell_type": "code",
   "metadata": {},
   "execution_count": null,
   "outputs": []
  },
  {
   "source": [
    "## REVERSE\n",
    "Invertendo a ordem dos elementos na lista"
   ],
   "cell_type": "markdown",
   "metadata": {}
  },
  {
   "cell_type": "code",
   "execution_count": 25,
   "metadata": {},
   "outputs": [
    {
     "output_type": "stream",
     "name": "stdout",
     "text": [
      "['Liana', 'Enzo', 2020, 'português', 'matemática']\n"
     ]
    }
   ],
   "source": [
    "lista1.reverse()\n",
    "print(lista1)"
   ]
  },
  {
   "source": [
    "## Índice negativo\n",
    "Quando negativo, conta-se a partir da direita, e o índice inicial não é zero, é -1"
   ],
   "cell_type": "markdown",
   "metadata": {}
  },
  {
   "cell_type": "code",
   "execution_count": 2,
   "metadata": {},
   "outputs": [
    {
     "output_type": "stream",
     "name": "stdout",
     "text": [
      "Java\n"
     ]
    }
   ],
   "source": [
    "\n",
    "lingProg = ['Javascript','Java','Python']\n",
    "\n",
    "print(lingProg[-2]) # "
   ]
  },
  {
   "source": [
    "## Ordenação, com ou sem critério\n"
   ],
   "cell_type": "markdown",
   "metadata": {}
  },
  {
   "cell_type": "code",
   "execution_count": 30,
   "metadata": {},
   "outputs": [
    {
     "output_type": "stream",
     "name": "stdout",
     "text": [
      "['Javascript', 'Python', 'Java']\n"
     ]
    }
   ],
   "source": [
    "# Utilizando critério de ordenação, key, a saída de uma função\n",
    "# O critério de ordenação escolhido foi o tamanho da string ao reverso, ou seja, da maior para a menor.\n",
    "\n",
    "def myFunc(e):\n",
    "    return len(e)\n",
    "\n",
    "lingProg.sort(key=myFunc,reverse=True)\n",
    "print(lingProg)"
   ]
  },
  {
   "source": [
    "## LEN\n",
    "Número de elementos da lista"
   ],
   "cell_type": "markdown",
   "metadata": {}
  },
  {
   "cell_type": "code",
   "execution_count": 37,
   "metadata": {
    "scrolled": true
   },
   "outputs": [
    {
     "output_type": "execute_result",
     "data": {
      "text/plain": [
       "4"
      ]
     },
     "metadata": {},
     "execution_count": 37
    }
   ],
   "source": [
    "len(lista1)"
   ]
  },
  {
   "source": [
    "## MAX\n",
    "Elemento que possui o maior índice"
   ],
   "cell_type": "markdown",
   "metadata": {}
  },
  {
   "cell_type": "code",
   "execution_count": 4,
   "metadata": {},
   "outputs": [
    {
     "output_type": "stream",
     "name": "stdout",
     "text": [
      "Python\n"
     ]
    },
    {
     "output_type": "error",
     "ename": "NameError",
     "evalue": "name 'lista1' is not defined",
     "traceback": [
      "\u001b[1;31m---------------------------------------------------------------------------\u001b[0m",
      "\u001b[1;31mNameError\u001b[0m                                 Traceback (most recent call last)",
      "\u001b[1;32m<ipython-input-4-adf8e6751244>\u001b[0m in \u001b[0;36m<module>\u001b[1;34m\u001b[0m\n\u001b[0;32m      6\u001b[0m \u001b[0mprint\u001b[0m\u001b[1;33m(\u001b[0m\u001b[0mmax\u001b[0m\u001b[1;33m(\u001b[0m\u001b[0mlingProg\u001b[0m\u001b[1;33m)\u001b[0m\u001b[1;33m)\u001b[0m \u001b[1;31m# Ordem alfabética\u001b[0m\u001b[1;33m\u001b[0m\u001b[1;33m\u001b[0m\u001b[0m\n\u001b[0;32m      7\u001b[0m \u001b[1;33m\u001b[0m\u001b[0m\n\u001b[1;32m----> 8\u001b[1;33m \u001b[0mmax\u001b[0m\u001b[1;33m(\u001b[0m\u001b[0mlista1\u001b[0m\u001b[1;33m)\u001b[0m \u001b[1;31m# Vai dar erro, porque possui elementos de tipos diferentes\u001b[0m\u001b[1;33m\u001b[0m\u001b[1;33m\u001b[0m\u001b[0m\n\u001b[0m",
      "\u001b[1;31mNameError\u001b[0m: name 'lista1' is not defined"
     ]
    }
   ],
   "source": [
    "print(max(lingProg)) # Ordem alfabética\n",
    "\n",
    "max(lista1) # Vai dar erro, porque possui elementos de tipos diferentes"
   ]
  },
  {
   "source": [
    "## MIN\n",
    "Elemento que possui o menor índice na lista\n"
   ],
   "cell_type": "markdown",
   "metadata": {}
  },
  {
   "cell_type": "code",
   "execution_count": 24,
   "metadata": {},
   "outputs": [
    {
     "data": {
      "text/plain": [
       "'Java'"
      ]
     },
     "execution_count": 24,
     "metadata": {},
     "output_type": "execute_result"
    }
   ],
   "source": [
    "min(lingProg) # Ordem alfabética"
   ]
  },
  {
   "source": [
    "## Acessando elementos de Sublista"
   ],
   "cell_type": "markdown",
   "metadata": {}
  },
  {
   "cell_type": "code",
   "execution_count": 2,
   "metadata": {},
   "outputs": [
    {
     "output_type": "execute_result",
     "data": {
      "text/plain": [
       "['Camila', 'Luciano']"
      ]
     },
     "metadata": {},
     "execution_count": 2
    }
   ],
   "source": [
    "# Acesso lista dentro de lista\n",
    "lista1 = ['matemática', 'português', 2020, 'Enzo', 'Liana',['Camila','Luciano']]\n",
    "lista1[5]"
   ]
  },
  {
   "cell_type": "code",
   "execution_count": 48,
   "metadata": {},
   "outputs": [
    {
     "data": {
      "text/plain": [
       "'Camila'"
      ]
     },
     "execution_count": 48,
     "metadata": {},
     "output_type": "execute_result"
    }
   ],
   "source": [
    "lista1[5][0] # Matriz de mais de uma dimensão"
   ]
  },
  {
   "cell_type": "code",
   "execution_count": 39,
   "metadata": {},
   "outputs": [
    {
     "output_type": "execute_result",
     "data": {
      "text/plain": [
       "256"
      ]
     },
     "metadata": {},
     "execution_count": 39
    }
   ],
   "source": [
    "# Funções de conversão\n",
    "int('100000000',2)"
   ]
  },
  {
   "cell_type": "code",
   "execution_count": 35,
   "metadata": {},
   "outputs": [
    {
     "output_type": "execute_result",
     "data": {
      "text/plain": [
       "'0x10'"
      ]
     },
     "metadata": {},
     "execution_count": 35
    }
   ],
   "source": [
    "hex(16)"
   ]
  },
  {
   "cell_type": "code",
   "execution_count": 36,
   "metadata": {},
   "outputs": [
    {
     "output_type": "execute_result",
     "data": {
      "text/plain": [
       "'1'"
      ]
     },
     "metadata": {},
     "execution_count": 36
    }
   ],
   "source": [
    "str(1)"
   ]
  }
 ],
 "metadata": {
  "kernelspec": {
   "display_name": "Python 3",
   "language": "python",
   "name": "python3"
  },
  "language_info": {
   "codemirror_mode": {
    "name": "ipython",
    "version": 3
   },
   "file_extension": ".py",
   "mimetype": "text/x-python",
   "name": "python",
   "nbconvert_exporter": "python",
   "pygments_lexer": "ipython3",
   "version": "3.8.5-final"
  }
 },
 "nbformat": 4,
 "nbformat_minor": 2
}