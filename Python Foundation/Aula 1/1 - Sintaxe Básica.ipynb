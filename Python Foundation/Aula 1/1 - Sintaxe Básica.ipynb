{
 "metadata": {
  "language_info": {
   "codemirror_mode": {
    "name": "ipython",
    "version": 3
   },
   "file_extension": ".py",
   "mimetype": "text/x-python",
   "name": "python",
   "nbconvert_exporter": "python",
   "pygments_lexer": "ipython3",
   "version": "3.7.4-final"
  },
  "orig_nbformat": 2,
  "kernelspec": {
   "name": "python3",
   "display_name": "Python 3"
  }
 },
 "nbformat": 4,
 "nbformat_minor": 2,
 "cells": [
  {
   "cell_type": "code",
   "execution_count": 1,
   "metadata": {},
   "outputs": [
    {
     "output_type": "stream",
     "name": "stdout",
     "text": [
      "Ola Mundo Python!\n"
     ]
    }
   ],
   "source": [
    "print('Olá Mundo Python!')"
   ]
  },
  {
   "cell_type": "code",
   "execution_count": 2,
   "metadata": {},
   "outputs": [
    {
     "output_type": "stream",
     "name": "stdout",
     "text": [
      "300\n3000.0\nAntonio Dantas\n"
     ]
    }
   ],
   "source": [
    "NumInt = 300 #Valor Inteiro\n",
    "NumFloat = 3000.0 # Valor float/double\n",
    "nome = 'Antonio Dantas'\n",
    "\n",
    "print(NumInt) # Os nomes das variáveis são case-sensitive.\n",
    "print(NumFloat)\n",
    "print(nome)"
   ]
  },
  {
   "cell_type": "code",
   "execution_count": 3,
   "metadata": {},
   "outputs": [
    {
     "output_type": "stream",
     "name": "stdout",
     "text": [
      "4\n4.0\n3\n3.0\n-4\n-4.0\n"
     ]
    }
   ],
   "source": [
    "print(9//2) # Divisão  de  piso (Floor  Division) - a  divisão\n",
    "            # dos operandos em que o resultado é o quociente no qual  os  dígitos  após  o  ponto                  # decimal são removidos. Mas se um dos operandos for negativo, o  resultado  será                      # calculado,  ou  seja, arredondado para longe de zero (em direção ao infinito negativo):\n",
    "\n",
    "print(9.0//2.0)\n",
    "print(11//3)\n",
    "print(11.0//3)\n",
    "print(-11//3)\n",
    "print(-11.0//3)"
   ]
  },
  {
   "cell_type": "code",
   "execution_count": 4,
   "metadata": {},
   "outputs": [
    {
     "output_type": "execute_result",
     "data": {
      "text/plain": [
       "4"
      ]
     },
     "metadata": {},
     "execution_count": 4
    }
   ],
   "source": [
    "2**2 # Expoente"
   ]
  },
  {
   "cell_type": "code",
   "execution_count": 4,
   "metadata": {},
   "outputs": [
    {
     "output_type": "stream",
     "name": "stdout",
     "text": [
      "True\nTrue\n"
     ]
    }
   ],
   "source": [
    "'''\n",
    "    OPERADORES IN e NOT IN\n",
    "'''\n",
    "print (2 in [1,2,3,4])\n",
    "print (5 not in [1,2,3,4])"
   ]
  },
  {
   "cell_type": "code",
   "execution_count": 5,
   "metadata": {},
   "outputs": [
    {
     "output_type": "stream",
     "name": "stdout",
     "text": [
      "300 3000.0 Antonio Dantas\n"
     ]
    }
   ],
   "source": [
    "print(NumInt, NumFloat, nome)"
   ]
  },
  {
   "cell_type": "code",
   "execution_count": 1,
   "metadata": {},
   "outputs": [
    {
     "output_type": "stream",
     "name": "stdout",
     "text": [
      "1 1 1\n"
     ]
    }
   ],
   "source": [
    "a=b=g=1\n",
    "print(a,b,g)"
   ]
  },
  {
   "cell_type": "code",
   "execution_count": 2,
   "metadata": {},
   "outputs": [
    {
     "output_type": "stream",
     "name": "stdout",
     "text": [
      "1 2 3\n2\n"
     ]
    }
   ],
   "source": [
    "a,b,g=1,2,3\n",
    "print(a,b,g)\n",
    "print(b)"
   ]
  },
  {
   "cell_type": "code",
   "execution_count": 3,
   "metadata": {},
   "outputs": [
    {
     "output_type": "stream",
     "name": "stdout",
     "text": [
      "1\n2\n3\n"
     ]
    }
   ],
   "source": [
    "a = 1\n",
    "b = 2\n",
    "g = 3\n",
    "print(a)\n",
    "print(b)\n",
    "print(g)"
   ]
  },
  {
   "cell_type": "code",
   "execution_count": 8,
   "metadata": {},
   "outputs": [
    {
     "output_type": "stream",
     "name": "stdout",
     "text": [
      "Meu nome é Antonio e o meu peso é 110Kg\n"
     ]
    }
   ],
   "source": [
    "print('Meu nome é %s e o meu peso é %dKg' % ('Antonio' , 110))"
   ]
  },
  {
   "cell_type": "code",
   "execution_count": 11,
   "metadata": {},
   "outputs": [
    {
     "output_type": "stream",
     "name": "stdout",
     "text": [
      "esta é uma longa sequência composta de\nvárias linhas e caracteres não imprimíveis, como TAB (\t) e eles aparecerão dessa maneira quando exibidos.\nNEWLINE dentro da string, tem de ser explicitamente \ndeclarada com [\n] entre colchetes ou apenas uma NEWLINE com a \natribuição de variável também será exibida\n"
     ]
    }
   ],
   "source": [
    "para_str = \"\"\"esta é uma longa sequência composta de\n",
    "várias linhas e caracteres não imprimíveis, como TAB (\\t) e eles aparecerão dessa maneira quando exibidos.\n",
    "NEWLINE dentro da string, tem de ser explicitamente \n",
    "declarada com [\\n] entre colchetes ou apenas uma NEWLINE com a \n",
    "atribuição de variável também será exibida\"\"\"\n",
    "\n",
    "print(para_str)"
   ]
  },
  {
   "cell_type": "code",
   "execution_count": 12,
   "metadata": {},
   "outputs": [
    {
     "output_type": "stream",
     "name": "stdout",
     "text": [
      "C:\\\nowhere\n"
     ]
    }
   ],
   "source": [
    "print('C:\\\\\\nowhere')"
   ]
  }
 ]
}