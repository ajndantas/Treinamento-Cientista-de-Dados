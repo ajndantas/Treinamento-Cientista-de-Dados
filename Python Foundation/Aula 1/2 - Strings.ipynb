{
 "metadata": {
  "language_info": {
   "codemirror_mode": {
    "name": "ipython",
    "version": 3
   },
   "file_extension": ".py",
   "mimetype": "text/x-python",
   "name": "python",
   "nbconvert_exporter": "python",
   "pygments_lexer": "ipython3",
   "version": "3.8.5"
  },
  "orig_nbformat": 2,
  "kernelspec": {
   "name": "python385jvsc74a57bd0b3ba2566441a7c06988d0923437866b63cedc61552a5af99d1f4fb67d367b25f",
   "display_name": "Python 3.8.5 64-bit (conda)"
  }
 },
 "nbformat": 4,
 "nbformat_minor": 2,
 "cells": [
  {
   "cell_type": "code",
   "execution_count": 1,
   "metadata": {},
   "outputs": [
    {
     "output_type": "execute_result",
     "data": {
      "text/plain": [
       "False"
      ]
     },
     "metadata": {},
     "execution_count": 1
    }
   ],
   "source": [
    "'''\n",
    "    IS DIGIT\n",
    "    Check if all the characters in the text are digits:\n",
    "'''\n",
    "str = 'antonio'\n",
    "str.isdigit()"
   ]
  },
  {
   "cell_type": "code",
   "execution_count": null,
   "metadata": {},
   "outputs": [],
   "source": [
    "'''\n",
    "    CAPITALIZE\n",
    "'''\n",
    "str.capitalize()"
   ]
  },
  {
   "cell_type": "code",
   "execution_count": null,
   "metadata": {},
   "outputs": [],
   "source": [
    "'''\n",
    "    CENTER\n",
    "'''\n",
    "str.center(20,'#')"
   ]
  },
  {
   "cell_type": "code",
   "execution_count": null,
   "metadata": {},
   "outputs": [],
   "source": [
    "'''\n",
    "    COUNT\n",
    "'''\n",
    "# Conta quantas vezes str ocorre em uma string ou em uma subcadeia de strings se o índice inicial e o # final do índice forem fornecidos. \n",
    "str.count('o')"
   ]
  },
  {
   "cell_type": "code",
   "execution_count": null,
   "metadata": {},
   "outputs": [],
   "source": [
    "# Comentário de bloco 3x ' (Aspas simples)\n",
    "\n",
    "'''\n",
    "    ENDSWITH\n",
    "    \n",
    "    endswith (sufixo, beg = 0, end = len (string)) Determina se a string ou uma substring da string        se  índice inicial e final do índice forem fornecidos) termina com o sufixo; retorna true se           sim e false caso contrário\n",
    "'''\n",
    "str.endswith('a')"
   ]
  },
  {
   "cell_type": "code",
   "execution_count": null,
   "metadata": {},
   "outputs": [],
   "source": [
    "'''\n",
    "    FIND\n",
    "\n",
    "    find (str, beg = 0 end = len (string)) Determina se str ocorre na string ou em uma subcadeia de        strings se o índice inicial e final do índice receberem retornos. Caso verdadeiro, retorna o índice referente a string desejada, do contrário, retorna -1 \n",
    "'''\n",
    "\n",
    "print(str.find('t'))\n",
    "str.find('z')"
   ]
  },
  {
   "cell_type": "code",
   "execution_count": null,
   "metadata": {},
   "outputs": [],
   "source": [
    "'''\n",
    "    LEN\n",
    "    \n",
    "    Retorna o tamanho da string - Função\n",
    "'''\n",
    "len(str)"
   ]
  },
  {
   "cell_type": "code",
   "execution_count": null,
   "metadata": {},
   "outputs": [],
   "source": [
    "'''\n",
    "    UPPER\n",
    "    \n",
    "    Converte a string para maiúscula\n",
    "'''\n",
    "str.upper()"
   ]
  },
  {
   "cell_type": "code",
   "execution_count": null,
   "metadata": {},
   "outputs": [],
   "source": [
    "'''\n",
    "    LOWER\n",
    "    \n",
    "    Converte a string para mínuscula\n",
    "'''\n",
    "str.lower()"
   ]
  },
  {
   "cell_type": "code",
   "execution_count": 3,
   "metadata": {},
   "outputs": [
    {
     "output_type": "stream",
     "name": "stdout",
     "text": [
      "antonio\n"
     ]
    },
    {
     "output_type": "execute_result",
     "data": {
      "text/plain": [
       "'Uma duas pizzas de calabresa para três pessoas'"
      ]
     },
     "metadata": {},
     "execution_count": 3
    }
   ],
   "source": [
    "'''\n",
    "    REPLACE\n",
    "\n",
    "    Syntax\n",
    "    string.replace(oldvalue, newvalue, count)\n",
    "\n",
    "    Parameter Values\n",
    "    Parameter\tDescription\n",
    "    oldvalue\tRequired. The string to search for\n",
    "    newvalue\tRequired. The string to replace the old value with\n",
    "    count\tOptional. A number specifying how many occurrences of the old value you                       want to replace. Default is all occurrences\n",
    "'''\n",
    "print(str.replace('z','gel'))\n",
    "\n",
    "txt = 'Uma três pizzas de calabresa para três pessoas'\n",
    "txt.replace('três','duas',1)\n"
   ]
  },
  {
   "cell_type": "code",
   "execution_count": null,
   "metadata": {},
   "outputs": [],
   "source": [
    "'''\n",
    "    SPLIT -> Gera Lista\n",
    "\n",
    "    Syntax\n",
    "    string.split(separator, maxsplit)\n",
    "\n",
    "    Gera uma lista\n",
    "\n",
    "    Parameter Values\n",
    "    Parameter\tDescription\n",
    "    separator\tOptional. Specifies the separator to use when splitting the string. By default any whitespace is a separator\n",
    "    maxsplit\tOptional. Specifies how many splits to do. Default value is -1, which is \"all occurrences\"\n",
    "'''\n",
    "str1 = str + ' vai comprar pizza'\n",
    "str2 = str + ', vai comprar sanduíche'\n",
    "print(str1.split())\n",
    "print(str2.split(','))\n",
    "\n",
    "# Setting maxsplit\n",
    "str3 = \"apple#banana#cherry#orange\"\n",
    "\n",
    "# setting the maxsplit parameter to 1, will return a list with 2 elements!\n",
    "print(str3.split(\"#\",1))"
   ]
  },
  {
   "cell_type": "code",
   "execution_count": null,
   "metadata": {},
   "outputs": [],
   "source": [
    "'''\n",
    "    Fatiando string\n",
    "    \n",
    "    Não confundir posição com índice. Índice começa em 0, \n",
    "    posição, em 1\n",
    "'''\n",
    "\n",
    "str = 'Olá Mundo!'\n",
    "print(str)\n",
    "\n",
    "print(str[2:]) # Imprime a partir da 3 posição\n",
    "print(str[2:5]) # Imprime do índice 2, com posição 5. \n",
    "\n",
    "print(str*2) # Imprime a string 2x\n",
    "print(str + 'TESTANDO') # Concatena"
   ]
  },
  {
   "cell_type": "code",
   "execution_count": null,
   "metadata": {},
   "outputs": [],
   "source": [
    "stringA = 'Hello World!'\n",
    "\n",
    "print('Atualizando a minha string: ',stringA[:6] + 'código python !') # Sobrescreve a string anterior, com a nova, a partir da posição passada\n",
    "    \n",
    "print('Atualizando a minha string: ',stringA[:6],'código python !') # O mesmo que o de cima\n",
    "    \n",
    "print('Atualizando a minha string: ' + stringA[:6] + 'código python !') # O mesmo que o de cima"
   ]
  },
  {
   "cell_type": "code",
   "execution_count": null,
   "metadata": {},
   "outputs": [],
   "source": []
  }
 ]
}