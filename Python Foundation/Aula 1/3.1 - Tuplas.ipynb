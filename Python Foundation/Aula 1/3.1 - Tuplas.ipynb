{
 "metadata": {
  "language_info": {
   "codemirror_mode": {
    "name": "ipython",
    "version": 3
   },
   "file_extension": ".py",
   "mimetype": "text/x-python",
   "name": "python",
   "nbconvert_exporter": "python",
   "pygments_lexer": "ipython3",
   "version": "3.7.4-final"
  },
  "orig_nbformat": 2,
  "kernelspec": {
   "name": "python3",
   "display_name": "Python 3.7.4 64-bit ('ProgramData': virtualenv)",
   "metadata": {
    "interpreter": {
     "hash": "b3ba2566441a7c06988d0923437866b63cedc61552a5af99d1f4fb67d367b25f"
    }
   }
  }
 },
 "nbformat": 4,
 "nbformat_minor": 2,
 "cells": [
  {
   "cell_type": "code",
   "execution_count": 1,
   "metadata": {},
   "outputs": [
    {
     "output_type": "stream",
     "name": "stdout",
     "text": [
      "('xwyz', 123, 5.15, 'Dexter', 92.5)\nxwyz\n(123, 5.15)\n(5.15, 'Dexter', 92.5)\n(456, 'Corleone', 456, 'Corleone')\n('xwyz', 123, 5.15, 'Dexter', 92.5, 456, 'Corleone')\n"
     ]
    }
   ],
   "source": [
    "'''\n",
    "    Criando e acessando tuplas\n",
    "'''\n",
    "UmaTupla = ('xwyz',123,5.15,'Dexter',92.5) # A diferença entre as tuplas e as listas, é que as tuplas\n",
    "                                           # não podem ser editadas.\n",
    "tuplapeq = (456,'Corleone')\n",
    "print(UmaTupla)\n",
    "print(UmaTupla[0])\n",
    "\n",
    "print(UmaTupla[1:3])\n",
    "print(UmaTupla[2:])\n",
    "print(tuplapeq*2)\n",
    "print(UmaTupla + tuplapeq)"
   ]
  },
  {
   "cell_type": "code",
   "execution_count": 3,
   "metadata": {},
   "outputs": [
    {
     "output_type": "stream",
     "name": "stdout",
     "text": [
      "('filosofia', 'sociologia', 1993, 1996)\n"
     ]
    },
    {
     "output_type": "error",
     "ename": "NameError",
     "evalue": "name 'tupla1' is not defined",
     "traceback": [
      "\u001b[1;31m---------------------------------------------------------------------------\u001b[0m",
      "\u001b[1;31mNameError\u001b[0m                                 Traceback (most recent call last)",
      "\u001b[1;32m<ipython-input-3-458cfd726b96>\u001b[0m in \u001b[0;36m<module>\u001b[1;34m\u001b[0m\n\u001b[0;32m      9\u001b[0m \u001b[1;32mdel\u001b[0m \u001b[0mtupla1\u001b[0m\u001b[1;33m\u001b[0m\u001b[1;33m\u001b[0m\u001b[0m\n\u001b[0;32m     10\u001b[0m \u001b[1;33m\u001b[0m\u001b[0m\n\u001b[1;32m---> 11\u001b[1;33m \u001b[0mprint\u001b[0m \u001b[1;33m(\u001b[0m\u001b[0mtupla1\u001b[0m\u001b[1;33m)\u001b[0m\u001b[1;33m\u001b[0m\u001b[1;33m\u001b[0m\u001b[0m\n\u001b[0m",
      "\u001b[1;31mNameError\u001b[0m: name 'tupla1' is not defined"
     ]
    }
   ],
   "source": [
    "'''\n",
    "    DEL\n",
    "\n",
    "    Destrói a tupla\n",
    "'''\n",
    "tupla1 = ('filosofia','sociologia',1993,1996)\n",
    "print (tupla1)\n",
    "\n",
    "del tupla1\n",
    "\n",
    "print (tupla1) # Vai dar erro, já que a tupla não existe mais"
   ]
  },
  {
   "cell_type": "code",
   "execution_count": 4,
   "metadata": {},
   "outputs": [
    {
     "output_type": "stream",
     "name": "stdout",
     "text": [
      "('spam', 'Spamzinho', 'MUITO SPAM!')\n"
     ]
    },
    {
     "output_type": "execute_result",
     "data": {
      "text/plain": [
       "'Spamzinho'"
      ]
     },
     "metadata": {},
     "execution_count": 4
    }
   ],
   "source": [
    "'''\n",
    "    Índice negativo\n",
    "'''\n",
    "elementos = ('spam','Spamzinho','MUITO SPAM!')\n",
    "print(elementos)\n",
    "elementos[-2] # Mesmo conceito de listas"
   ]
  },
  {
   "cell_type": "code",
   "execution_count": 6,
   "metadata": {},
   "outputs": [
    {
     "output_type": "execute_result",
     "data": {
      "text/plain": [
       "('matemática', 'português', 1992, 2005)"
      ]
     },
     "metadata": {},
     "execution_count": 6
    }
   ],
   "source": [
    "'''\n",
    "    TUPLE\n",
    "\n",
    "    Converte listas em tuplas\n",
    "'''\n",
    "lista1 = ['matemática','português',1992,2005]\n",
    "\n",
    "tuple(lista1) # Converte listas em tupla"
   ]
  },
  {
   "cell_type": "code",
   "execution_count": 7,
   "metadata": {},
   "outputs": [
    {
     "output_type": "stream",
     "name": "stdout",
     "text": [
      "['matemática', 'português', 1992, 2005]\n"
     ]
    }
   ],
   "source": [
    "'''\n",
    "    LIST\n",
    "\n",
    "    Converte tupla em lista\n",
    "'''\n",
    "list(lista1) # Converte tuplas em lista\n",
    "\n",
    "print(lista1)"
   ]
  },
  {
   "cell_type": "code",
   "execution_count": null,
   "metadata": {},
   "outputs": [],
   "source": []
  }
 ]
}