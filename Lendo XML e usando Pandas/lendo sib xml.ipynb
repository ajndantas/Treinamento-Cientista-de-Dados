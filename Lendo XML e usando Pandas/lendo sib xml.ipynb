{
 "metadata": {
  "language_info": {
   "codemirror_mode": {
    "name": "ipython",
    "version": 3
   },
   "file_extension": ".py",
   "mimetype": "text/x-python",
   "name": "python",
   "nbconvert_exporter": "python",
   "pygments_lexer": "ipython3",
   "version": "3.8.5"
  },
  "orig_nbformat": 2,
  "kernelspec": {
   "name": "python385jvsc74a57bd0b3ba2566441a7c06988d0923437866b63cedc61552a5af99d1f4fb67d367b25f",
   "display_name": "Python 3.8.5 64-bit (conda)"
  },
  "metadata": {
   "interpreter": {
    "hash": "5bb08c390bd9d1f4f3f9ac8562766906130dc5cfd4be55e18928297823c6cf87"
   }
  }
 },
 "nbformat": 4,
 "nbformat_minor": 2,
 "cells": [
  {
   "cell_type": "code",
   "execution_count": 5,
   "metadata": {},
   "outputs": [
    {
     "output_type": "error",
     "ename": "TypeError",
     "evalue": "insert() missing 1 required positional argument: 'column'",
     "traceback": [
      "\u001b[1;31m---------------------------------------------------------------------------\u001b[0m",
      "\u001b[1;31mTypeError\u001b[0m                                 Traceback (most recent call last)",
      "\u001b[1;32m<ipython-input-5-4dee02f2f7a0>\u001b[0m in \u001b[0;36m<module>\u001b[1;34m\u001b[0m\n\u001b[0;32m     69\u001b[0m \u001b[1;33m\u001b[0m\u001b[0m\n\u001b[0;32m     70\u001b[0m \u001b[1;31m# Adicionando esta coluna ao dataframe\u001b[0m\u001b[1;33m\u001b[0m\u001b[1;33m\u001b[0m\u001b[1;33m\u001b[0m\u001b[0m\n\u001b[1;32m---> 71\u001b[1;33m \u001b[0mdf\u001b[0m\u001b[1;33m.\u001b[0m\u001b[0minsert\u001b[0m\u001b[1;33m(\u001b[0m\u001b[0mloc\u001b[0m\u001b[1;33m=\u001b[0m\u001b[1;36m4\u001b[0m\u001b[1;33m,\u001b[0m\u001b[0mvalue\u001b[0m\u001b[1;33m=\u001b[0m\u001b[0mcreate_cd_plano\u001b[0m\u001b[1;33m(\u001b[0m\u001b[0mlista\u001b[0m\u001b[1;33m[\u001b[0m\u001b[1;34m'numeroplanoans'\u001b[0m\u001b[1;33m]\u001b[0m\u001b[1;33m)\u001b[0m\u001b[1;33m,\u001b[0m\u001b[0mallow_duplicates\u001b[0m\u001b[1;33m=\u001b[0m\u001b[1;32mTrue\u001b[0m\u001b[1;33m)\u001b[0m\u001b[1;33m\u001b[0m\u001b[1;33m\u001b[0m\u001b[0m\n\u001b[0m\u001b[0;32m     72\u001b[0m \u001b[1;33m\u001b[0m\u001b[0m\n\u001b[0;32m     73\u001b[0m \u001b[0mdf_sorted\u001b[0m \u001b[1;33m=\u001b[0m \u001b[0mdf\u001b[0m\u001b[1;33m.\u001b[0m\u001b[0msort_values\u001b[0m\u001b[1;33m(\u001b[0m\u001b[0mby\u001b[0m\u001b[1;33m=\u001b[0m\u001b[1;34m'nome'\u001b[0m\u001b[1;33m)\u001b[0m\u001b[1;33m\u001b[0m\u001b[1;33m\u001b[0m\u001b[0m\n",
      "\u001b[1;31mTypeError\u001b[0m: insert() missing 1 required positional argument: 'column'"
     ]
    }
   ],
   "source": [
    "from bs4 import BeautifulSoup\n",
    "import pandas as pd\n",
    "\n",
    "def create_cd_plano(lista):\n",
    "\n",
    "    cd_plano = []\n",
    "\n",
    "    # UMA MANEIRA DE FAZER SWITCH: https://data-flair.training/blogs/python-switch-case/\n",
    "\n",
    "    plano = {\n",
    "                '467928128':'10',\n",
    "                '467927120':'20',\n",
    "                '467577121':'40',\n",
    "                '474938153':'65',\n",
    "                '477410168':'35',\n",
    "                '467578129':'30 e 70',\n",
    "                '484059193':'61',\n",
    "                '467576122':'60',\n",
    "             }\n",
    "    \n",
    "    for numeroplanoans in lista:\n",
    "        cd_plano.append(plano.get(numeroplanoans,\"\"))\n",
    " \n",
    "    return cd_plano\n",
    "\n",
    "def create_list(beneficiarios):\n",
    "\n",
    "    # Colunas da planilha\n",
    "    cco = []\n",
    "    nome = []\n",
    "    codigobeneficiario = []\n",
    "    situacao = []\n",
    "    data_atualizacao = []\n",
    "    cpf = []\n",
    "    numeroplanoans = []    \n",
    "\n",
    "    for beneficiario in beneficiarios:\n",
    "        \n",
    "        cco.append(beneficiario.attrs['cco'])\n",
    "        nome.append(beneficiario.nome.get_text())\n",
    "        codigobeneficiario.append(beneficiario.codigobeneficiario.get_text())       \n",
    "        situacao.append(beneficiario.attrs['situacao'])\n",
    "        data_atualizacao.append(beneficiario.attrs['dataatualizacao'])        \n",
    "\n",
    "        if beneficiario.cpf is None:\n",
    "            cpf.append(\"\")\n",
    "        else:\n",
    "            cpf.append(beneficiario.cpf.get_text())\n",
    "\n",
    "        if beneficiario.numeroplanoans is None:\n",
    "            numeroplanoans.append(\"\")\n",
    "        else:\n",
    "            numeroplanoans.append(beneficiario.numeroplanoans.get_text())\n",
    "\n",
    "        data = {'cco':cco , 'nome':nome, 'cpf':cpf, 'codigobeneficiario':codigobeneficiario, 'situacao':situacao, 'numeroplanoans':numeroplanoans, 'dataatualizacao':data_atualizacao}\n",
    "\n",
    "    return data    \n",
    "   \n",
    "xml_file = open('ArqConf3139040220210101.CNX.xml')\n",
    "\n",
    "bs = BeautifulSoup(xml_file.read(),'lxml')\n",
    "\n",
    "# Tag que possui as colunas da planilha\n",
    "beneficiarios = bs.find_all('beneficiario')\n",
    "\n",
    "lista = create_list(beneficiarios)\n",
    "\n",
    "df = pd.DataFrame(lista)\n",
    "\n",
    "# Adicionando esta coluna ao dataframe\n",
    "df.insert(loc=4,value=create_cd_plano(lista['numeroplanoans']),allow_duplicates=True)\n",
    "\n",
    "df_sorted = df.sort_values(by='nome')\n",
    "df_sorted.to_excel('Arquivo SIB.xlsx')\n",
    "\n"
   ]
  },
  {
   "cell_type": "code",
   "execution_count": null,
   "metadata": {},
   "outputs": [],
   "source": []
  }
 ]
}