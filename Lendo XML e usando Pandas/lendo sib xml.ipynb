{
 "metadata": {
  "language_info": {
   "codemirror_mode": {
    "name": "ipython",
    "version": 3
   },
   "file_extension": ".py",
   "mimetype": "text/x-python",
   "name": "python",
   "nbconvert_exporter": "python",
   "pygments_lexer": "ipython3",
   "version": "3.8.5-final"
  },
  "orig_nbformat": 2,
  "kernelspec": {
   "name": "python385jvsc74a57bd0b3ba2566441a7c06988d0923437866b63cedc61552a5af99d1f4fb67d367b25f",
   "display_name": "Python 3.8.5 64-bit (conda)"
  },
  "metadata": {
   "interpreter": {
    "hash": "5bb08c390bd9d1f4f3f9ac8562766906130dc5cfd4be55e18928297823c6cf87"
   }
  }
 },
 "nbformat": 4,
 "nbformat_minor": 2,
 "cells": [
  {
   "cell_type": "code",
   "execution_count": 3,
   "metadata": {},
   "outputs": [],
   "source": [
    "from bs4 import BeautifulSoup\n",
    "import pandas as pd\n",
    "\n",
    "def create_list(beneficiarios):\n",
    "    for beneficiario in beneficiarios:\n",
    "        nome.append(beneficiario.nome.get_text())\n",
    "\n",
    "        if beneficiario.cpf is None:\n",
    "            cpf.append(\"\")\n",
    "        else:\n",
    "            cpf.append(beneficiario.cpf.get_text())\n",
    "\n",
    "        codigobeneficiario.append(beneficiario.codigobeneficiario.get_text())\n",
    "\n",
    "        cco.append(beneficiario.attrs['cco'])\n",
    "        situacao.append(beneficiario.attrs['situacao'])\n",
    "        data_atualizacao.append(beneficiario.attrs['dataatualizacao'])\n",
    "        \n",
    "        if beneficiario.numeroplanoans is None:\n",
    "            numeroplanoans.append(\"\")\n",
    "        else:\n",
    "            numeroplanoans.append(beneficiario.numeroplanoans.get_text())\n",
    "\n",
    "        cd_plano = append(replace(numeroplanoans[-1],'',''))\n",
    "\n",
    "        data = {'cco':cco , 'nome':nome, 'cpf':cpf, 'codigobeneficiario':codigobeneficiario, 'situacao':situacao, 'numeroplanoans':numeroplanoans, 'dataatualizacao':data_atualizacao}\n",
    "\n",
    "    return data    \n",
    "\n",
    "def create_excel(data):\n",
    "    df = pd.DataFrame(data)\n",
    "    df_sorted = df.sort_values(by='nome')    \n",
    "\n",
    "    #print(df_sorted)\n",
    "    excel = df_sorted.to_excel('Arquivo SIB.xlsx')    \n",
    "\n",
    "    return excel\n",
    "\n",
    "#xml_path = 'C:\\\\Users\\\\antoniodantas\\\\Treinamento Cientista de Dados\\\\Treinamento-Cientista-de-Dados\\\\Lendo XML e usando Pandas\\\\'\n",
    "\n",
    "# EM CASA\n",
    "xml_path = 'C:\\\\Users\\\\anton\\\\OneDrive\\\\Documentos\\\\Treinamento Cientista de Dados\\\\Lendo XML e usando Pandas\\\\'\n",
    "\n",
    "xml_file = open(xml_path + 'ArqConf3139040220210101.CNX.XML')\n",
    "\n",
    "cco = []\n",
    "nome = []\n",
    "cpf = []\n",
    "codigobeneficiario = []\n",
    "situacao = []\n",
    "data_atualizacao = []\n",
    "numeroplanoans = []\n",
    "cd_plano = []\n",
    "\n",
    "lista = []\n",
    "\n",
    "bs = BeautifulSoup(xml_file.read(),'lxml')\n",
    "#print(bs)\n",
    "\n",
    "beneficiarios = bs.find_all('beneficiario')\n",
    "\n",
    "create_excel(create_list(beneficiarios))\n",
    "'''\n",
    "    467928128 -> cd_plano = 10\n",
    "    467927120 -> cd_plano = 20\n",
    "    467577121 -> cd_plano = 40\n",
    "    474938153 -> cd_plano = 65\n",
    "    477410168 -> cd_plano = 35\n",
    "    467578129 -> cd_plano = 30 e 70\n",
    "    484059193 -> cd_plano = 61\n",
    "    467576122 -> cd_plano = 60\n",
    "\n",
    "    Confrontar ativos com MV\n",
    "'''"
   ]
  },
  {
   "cell_type": "code",
   "execution_count": null,
   "metadata": {},
   "outputs": [],
   "source": []
  }
 ]
}