{
 "metadata": {
  "language_info": {
   "codemirror_mode": {
    "name": "ipython",
    "version": 3
   },
   "file_extension": ".py",
   "mimetype": "text/x-python",
   "name": "python",
   "nbconvert_exporter": "python",
   "pygments_lexer": "ipython3",
   "version": "3.8.5"
  },
  "orig_nbformat": 2,
  "kernelspec": {
   "name": "python385jvsc74a57bd0b3ba2566441a7c06988d0923437866b63cedc61552a5af99d1f4fb67d367b25f",
   "display_name": "Python 3.8.5 64-bit ('base': conda)"
  },
  "metadata": {
   "interpreter": {
    "hash": "5bb08c390bd9d1f4f3f9ac8562766906130dc5cfd4be55e18928297823c6cf87"
   }
  }
 },
 "nbformat": 4,
 "nbformat_minor": 2,
 "cells": [
  {
   "cell_type": "code",
   "execution_count": 3,
   "metadata": {},
   "outputs": [
    {
     "output_type": "stream",
     "name": "stdout",
     "text": [
      "                cco                              nome          cpf  \\\n",
      "517    024723243402                  ABELARDO MOREIRA  01774727749   \n",
      "2213   024723243593           ABELARDO MOREIRA JUNIOR  01488918708   \n",
      "7373   030822135906             ABELENI PEREIRA DUTRA  31887295704   \n",
      "6196   030822081304        ABIGAIL ALCANTARA TEIXEIRA  79571700720   \n",
      "6498   030822109307      ABIGAIL NOEMI ESQUIVEL OJEDA  15061152760   \n",
      "...             ...                               ...          ...   \n",
      "690    024723338977                   ZULEIDE PEREIRA  31492878715   \n",
      "15976  051550962207                   ZULEIDE PEREIRA  31492878715   \n",
      "6128   030822074201  ZULEIDE RAMOS MEIRINO DE FREITAS  57110387704   \n",
      "8366   000322250323      ZULICA SALOMAO NEME DA SILVA                \n",
      "968    024723296603            ZULMIRA ALVES DE JESUS  06414001791   \n",
      "\n",
      "      codigobeneficiario situacao dataatualizacao  \n",
      "517             11879747    ATIVO      2017-08-02  \n",
      "2213            11892537  INATIVO      2018-08-01  \n",
      "7373            11959611    ATIVO      2020-08-06  \n",
      "6196            11953571    ATIVO      2017-01-09  \n",
      "6498            11955136  INATIVO      2020-01-02  \n",
      "...                  ...      ...             ...  \n",
      "690             11880266  INATIVO      2020-12-02  \n",
      "15976           99603986    ATIVO      2021-03-07  \n",
      "6128            11953206    ATIVO      2013-07-09  \n",
      "8366             1832501  INATIVO      2007-09-08  \n",
      "968             11881106  INATIVO      2019-01-02  \n",
      "\n",
      "[16016 rows x 6 columns]\n",
      "None\n"
     ]
    }
   ],
   "source": [
    "from bs4 import BeautifulSoup\n",
    "import pandas as pd\n",
    "\n",
    "def create_list(beneficiarios):\n",
    "    for beneficiario in beneficiarios:\n",
    "        nome.append(beneficiario.nome.get_text())\n",
    "\n",
    "        if beneficiario.cpf is None:\n",
    "            cpf.append(\"\")\n",
    "        else:\n",
    "            cpf.append(beneficiario.cpf.get_text())\n",
    "\n",
    "        codigobeneficiario.append(beneficiario.codigobeneficiario.get_text())\n",
    "\n",
    "        cco.append(beneficiario.attrs['cco'])\n",
    "        situacao.append(beneficiario.attrs['situacao'])\n",
    "        data_atualizacao.append(beneficiario.attrs['dataatualizacao'])\n",
    "\n",
    "        data = {'cco':cco , 'nome':nome, 'cpf':cpf, 'codigobeneficiario':codigobeneficiario, 'situacao':situacao,   'dataatualizacao':data_atualizacao}\n",
    "\n",
    "    return data    \n",
    "\n",
    "def create_excel(data):\n",
    "    df = pd.DataFrame(data)\n",
    "    df_sorted = df.sort_values(by='nome')    \n",
    "\n",
    "    #print(df_sorted)\n",
    "\n",
    "    excel = df_sorted.to_excel('Arquivo SIB.xlsx')    \n",
    "\n",
    "    return excel\n",
    "\n",
    "#xml_path = 'C:\\\\Users\\\\antoniodantas\\\\Treinamento Cientista de Dados\\\\Treinamento-Cientista-de-Dados\\\\Lendo XML e usando Pandas\\\\'\n",
    "\n",
    "# EM CASA\n",
    "xml_path = 'C:\\\\Users\\\\anton\\\\OneDrive\\\\Documentos\\\\Treinamento Cientista de Dados\\\\Lendo XML e usando Pandas\\\\'\n",
    "\n",
    "xml_file = open(xml_path + 'ArqConf3139040220210101.CNX.XML')\n",
    "\n",
    "cco = []\n",
    "nome = []\n",
    "cpf = []\n",
    "codigobeneficiario = []\n",
    "situacao = []\n",
    "data_atualizacao = []\n",
    "\n",
    "lista = []\n",
    "\n",
    "bs = BeautifulSoup(xml_file.read(),'lxml')\n",
    "#print(bs)\n",
    "\n",
    "beneficiarios = bs.find_all('beneficiario')\n",
    "\n",
    "print(create_excel(create_list(beneficiarios)))"
   ]
  },
  {
   "cell_type": "code",
   "execution_count": null,
   "metadata": {},
   "outputs": [],
   "source": []
  }
 ]
}