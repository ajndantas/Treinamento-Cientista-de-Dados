{
 "metadata": {
  "language_info": {
   "codemirror_mode": {
    "name": "ipython",
    "version": 3
   },
   "file_extension": ".py",
   "mimetype": "text/x-python",
   "name": "python",
   "nbconvert_exporter": "python",
   "pygments_lexer": "ipython3",
   "version": "3.8.5"
  },
  "orig_nbformat": 2,
  "kernelspec": {
   "name": "python385jvsc74a57bd0b3ba2566441a7c06988d0923437866b63cedc61552a5af99d1f4fb67d367b25f",
   "display_name": "Python 3.8.5 64-bit ('base': conda)"
  },
  "metadata": {
   "interpreter": {
    "hash": "5bb08c390bd9d1f4f3f9ac8562766906130dc5cfd4be55e18928297823c6cf87"
   }
  }
 },
 "nbformat": 4,
 "nbformat_minor": 2,
 "cells": [
  {
   "cell_type": "code",
   "execution_count": 29,
   "metadata": {},
   "outputs": [],
   "source": [
    "from bs4 import BeautifulSoup\n",
    "\n",
    "#xml_path = 'C:\\\\Users\\\\antoniodantas\\\\Treinamento Cientista de Dados\\\\Treinamento-Cientista-de-Dados\\\\Lendo XML e usando Pandas\\\\'\n",
    "\n",
    "# EM CASA\n",
    "xml_path = 'C:\\\\Users\\\\anton\\\\OneDrive\\\\Documentos\\\\Treinamento Cientista de Dados\\\\Lendo XML e usando Pandas\\\\'\n",
    "\n",
    "xml_file = open(xml_path + 'ArqConf3139040220210101.CNX_teste.XML')\n",
    "\n",
    "lista = []\n",
    "#cco,situacao,nome,cpf,data_atualizacao = \"\",\"\",\"\",\"\",\"\"\n",
    "\n",
    "for line in xml_file.readlines():\n",
    "    bs = BeautifulSoup(line,'lxml')\n",
    "    \n",
    "    tag_beneficiario = bs.beneficiario\n",
    "    tag_nome = bs.nome\n",
    "    tag_cpf = bs.cpf\n",
    "\n",
    "    if tag_beneficiario is not None:\n",
    "        cco = tag_beneficiario.attrs['cco']\n",
    "        situacao = tag_beneficiario.attrs['situacao']\n",
    "        data_atualizacao = tag_beneficiario.attrs['dataatualizacao'] \n",
    "\n",
    "    if tag_cpf is not None:  \n",
    "        cpf = tag_cpf.get_text()\n",
    "           \n",
    "    if tag_nome is not None:\n",
    "        nome = tag_nome.get_text()\n",
    "                    \n",
    "    \n",
    "        dici = {\n",
    "                'cco':cco , 'situacao':situacao, 'dataatualizacao':data_atualizacao, 'nome':nome, 'cpf':cpf\n",
    "               }\n",
    "        print(dici)\n",
    "        lista.append(dici)\n",
    "    \n",
    "\n",
    "#print(lista)\n",
    "\n"
   ]
  },
  {
   "cell_type": "code",
   "execution_count": null,
   "metadata": {},
   "outputs": [],
   "source": []
  }
 ]
}