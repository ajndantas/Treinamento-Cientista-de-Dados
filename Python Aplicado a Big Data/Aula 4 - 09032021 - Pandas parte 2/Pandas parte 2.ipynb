{
 "metadata": {
  "language_info": {
   "codemirror_mode": {
    "name": "ipython",
    "version": 3
   },
   "file_extension": ".py",
   "mimetype": "text/x-python",
   "name": "python",
   "nbconvert_exporter": "python",
   "pygments_lexer": "ipython3",
   "version": "3.7.4-final"
  },
  "orig_nbformat": 2,
  "kernelspec": {
   "name": "python3",
   "display_name": "Python 3.7.4 64-bit (conda)",
   "metadata": {
    "interpreter": {
     "hash": "b3ba2566441a7c06988d0923437866b63cedc61552a5af99d1f4fb67d367b25f"
    }
   }
  }
 },
 "nbformat": 4,
 "nbformat_minor": 2,
 "cells": [
  {
   "cell_type": "code",
   "execution_count": 7,
   "metadata": {},
   "outputs": [
    {
     "output_type": "execute_result",
     "data": {
      "text/plain": [
       "    Account                          Name  ...   Price     Status\n",
       "0    714466               Trantow-Barrows  ...   30000  presented\n",
       "1    714466               Trantow-Barrows  ...   10000  presented\n",
       "2    714466               Trantow-Barrows  ...    5000    pending\n",
       "3    737550  Fritsch, Russel and Anderson  ...   35000   declined\n",
       "4    146832                  Kiehn-Spinka  ...   65000        won\n",
       "5    218895                     Kulas Inc  ...   40000    pending\n",
       "6    218895                     Kulas Inc  ...   10000  presented\n",
       "7    412290                 Jerde-Hilpert  ...    5000    pending\n",
       "8    740150                    Barton LLC  ...   35000   declined\n",
       "9    141962                    Herman LLC  ...   65000        won\n",
       "10   163416                   Purdy-Kunde  ...   30000  presented\n",
       "11   239344                    Stokes LLC  ...    5000    pending\n",
       "12   239344                    Stokes LLC  ...   10000  presented\n",
       "13   307599   Kassulke, Ondricka and Metz  ...    7000        won\n",
       "14   688981                   Keeling LLC  ...  100000        won\n",
       "15   729833                     Koepp Ltd  ...   65000   declined\n",
       "16   729833                     Koepp Ltd  ...    5000  presented\n",
       "\n",
       "[17 rows x 8 columns]"
      ],
      "text/html": "<div>\n<style scoped>\n    .dataframe tbody tr th:only-of-type {\n        vertical-align: middle;\n    }\n\n    .dataframe tbody tr th {\n        vertical-align: top;\n    }\n\n    .dataframe thead th {\n        text-align: right;\n    }\n</style>\n<table border=\"1\" class=\"dataframe\">\n  <thead>\n    <tr style=\"text-align: right;\">\n      <th></th>\n      <th>Account</th>\n      <th>Name</th>\n      <th>Rep</th>\n      <th>Manager</th>\n      <th>Product</th>\n      <th>Quantity</th>\n      <th>Price</th>\n      <th>Status</th>\n    </tr>\n  </thead>\n  <tbody>\n    <tr>\n      <td>0</td>\n      <td>714466</td>\n      <td>Trantow-Barrows</td>\n      <td>Craig Booker</td>\n      <td>Debra Henley</td>\n      <td>CPU</td>\n      <td>1</td>\n      <td>30000</td>\n      <td>presented</td>\n    </tr>\n    <tr>\n      <td>1</td>\n      <td>714466</td>\n      <td>Trantow-Barrows</td>\n      <td>Craig Booker</td>\n      <td>Debra Henley</td>\n      <td>Software</td>\n      <td>1</td>\n      <td>10000</td>\n      <td>presented</td>\n    </tr>\n    <tr>\n      <td>2</td>\n      <td>714466</td>\n      <td>Trantow-Barrows</td>\n      <td>Craig Booker</td>\n      <td>Debra Henley</td>\n      <td>Maintenance</td>\n      <td>2</td>\n      <td>5000</td>\n      <td>pending</td>\n    </tr>\n    <tr>\n      <td>3</td>\n      <td>737550</td>\n      <td>Fritsch, Russel and Anderson</td>\n      <td>Craig Booker</td>\n      <td>Debra Henley</td>\n      <td>CPU</td>\n      <td>1</td>\n      <td>35000</td>\n      <td>declined</td>\n    </tr>\n    <tr>\n      <td>4</td>\n      <td>146832</td>\n      <td>Kiehn-Spinka</td>\n      <td>Daniel Hilton</td>\n      <td>Debra Henley</td>\n      <td>CPU</td>\n      <td>2</td>\n      <td>65000</td>\n      <td>won</td>\n    </tr>\n    <tr>\n      <td>5</td>\n      <td>218895</td>\n      <td>Kulas Inc</td>\n      <td>Daniel Hilton</td>\n      <td>Debra Henley</td>\n      <td>CPU</td>\n      <td>2</td>\n      <td>40000</td>\n      <td>pending</td>\n    </tr>\n    <tr>\n      <td>6</td>\n      <td>218895</td>\n      <td>Kulas Inc</td>\n      <td>Daniel Hilton</td>\n      <td>Debra Henley</td>\n      <td>Software</td>\n      <td>1</td>\n      <td>10000</td>\n      <td>presented</td>\n    </tr>\n    <tr>\n      <td>7</td>\n      <td>412290</td>\n      <td>Jerde-Hilpert</td>\n      <td>John Smith</td>\n      <td>Debra Henley</td>\n      <td>Maintenance</td>\n      <td>2</td>\n      <td>5000</td>\n      <td>pending</td>\n    </tr>\n    <tr>\n      <td>8</td>\n      <td>740150</td>\n      <td>Barton LLC</td>\n      <td>John Smith</td>\n      <td>Debra Henley</td>\n      <td>CPU</td>\n      <td>1</td>\n      <td>35000</td>\n      <td>declined</td>\n    </tr>\n    <tr>\n      <td>9</td>\n      <td>141962</td>\n      <td>Herman LLC</td>\n      <td>Cedric Moss</td>\n      <td>Fred Anderson</td>\n      <td>CPU</td>\n      <td>2</td>\n      <td>65000</td>\n      <td>won</td>\n    </tr>\n    <tr>\n      <td>10</td>\n      <td>163416</td>\n      <td>Purdy-Kunde</td>\n      <td>Cedric Moss</td>\n      <td>Fred Anderson</td>\n      <td>CPU</td>\n      <td>1</td>\n      <td>30000</td>\n      <td>presented</td>\n    </tr>\n    <tr>\n      <td>11</td>\n      <td>239344</td>\n      <td>Stokes LLC</td>\n      <td>Cedric Moss</td>\n      <td>Fred Anderson</td>\n      <td>Maintenance</td>\n      <td>1</td>\n      <td>5000</td>\n      <td>pending</td>\n    </tr>\n    <tr>\n      <td>12</td>\n      <td>239344</td>\n      <td>Stokes LLC</td>\n      <td>Cedric Moss</td>\n      <td>Fred Anderson</td>\n      <td>Software</td>\n      <td>1</td>\n      <td>10000</td>\n      <td>presented</td>\n    </tr>\n    <tr>\n      <td>13</td>\n      <td>307599</td>\n      <td>Kassulke, Ondricka and Metz</td>\n      <td>Wendy Yule</td>\n      <td>Fred Anderson</td>\n      <td>Maintenance</td>\n      <td>3</td>\n      <td>7000</td>\n      <td>won</td>\n    </tr>\n    <tr>\n      <td>14</td>\n      <td>688981</td>\n      <td>Keeling LLC</td>\n      <td>Wendy Yule</td>\n      <td>Fred Anderson</td>\n      <td>CPU</td>\n      <td>5</td>\n      <td>100000</td>\n      <td>won</td>\n    </tr>\n    <tr>\n      <td>15</td>\n      <td>729833</td>\n      <td>Koepp Ltd</td>\n      <td>Wendy Yule</td>\n      <td>Fred Anderson</td>\n      <td>CPU</td>\n      <td>2</td>\n      <td>65000</td>\n      <td>declined</td>\n    </tr>\n    <tr>\n      <td>16</td>\n      <td>729833</td>\n      <td>Koepp Ltd</td>\n      <td>Wendy Yule</td>\n      <td>Fred Anderson</td>\n      <td>Monitor</td>\n      <td>2</td>\n      <td>5000</td>\n      <td>presented</td>\n    </tr>\n  </tbody>\n</table>\n</div>"
     },
     "metadata": {},
     "execution_count": 7
    }
   ],
   "source": [
    "### Acessando os dados\n",
    "import pandas as pd\n",
    "\n",
    "data_path = 'C:\\\\Users\\\\anton\\\\OneDrive\\\\Documentos\\\\Treinamento Cientista de Dados\\\\Python Aplicado a Big Data\\\\Aula 3 - 08032021 - Pandas\\\\sample-data\\\\xlsx\\\\'\n",
    "\n",
    "\n",
    "df_funnel = pd.read_excel(data_path+'sales-funnel.xlsx')\n",
    "\n",
    "df_funnel"
   ]
  },
  {
   "cell_type": "code",
   "execution_count": 8,
   "metadata": {},
   "outputs": [
    {
     "output_type": "execute_result",
     "data": {
      "text/plain": [
       "              Account             Name  ...          Price     Status\n",
       "count       17.000000               17  ...      17.000000         17\n",
       "unique            NaN               12  ...            NaN          4\n",
       "top               NaN  Trantow-Barrows  ...            NaN  presented\n",
       "freq              NaN                3  ...            NaN          6\n",
       "mean    462254.235294              NaN  ...   30705.882353        NaN\n",
       "std     259093.442862              NaN  ...   28444.605609        NaN\n",
       "min     141962.000000              NaN  ...    5000.000000        NaN\n",
       "25%     218895.000000              NaN  ...    7000.000000        NaN\n",
       "50%     412290.000000              NaN  ...   30000.000000        NaN\n",
       "75%     714466.000000              NaN  ...   40000.000000        NaN\n",
       "max     740150.000000              NaN  ...  100000.000000        NaN\n",
       "\n",
       "[11 rows x 8 columns]"
      ],
      "text/html": "<div>\n<style scoped>\n    .dataframe tbody tr th:only-of-type {\n        vertical-align: middle;\n    }\n\n    .dataframe tbody tr th {\n        vertical-align: top;\n    }\n\n    .dataframe thead th {\n        text-align: right;\n    }\n</style>\n<table border=\"1\" class=\"dataframe\">\n  <thead>\n    <tr style=\"text-align: right;\">\n      <th></th>\n      <th>Account</th>\n      <th>Name</th>\n      <th>Rep</th>\n      <th>Manager</th>\n      <th>Product</th>\n      <th>Quantity</th>\n      <th>Price</th>\n      <th>Status</th>\n    </tr>\n  </thead>\n  <tbody>\n    <tr>\n      <td>count</td>\n      <td>17.000000</td>\n      <td>17</td>\n      <td>17</td>\n      <td>17</td>\n      <td>17</td>\n      <td>17.000000</td>\n      <td>17.000000</td>\n      <td>17</td>\n    </tr>\n    <tr>\n      <td>unique</td>\n      <td>NaN</td>\n      <td>12</td>\n      <td>5</td>\n      <td>2</td>\n      <td>4</td>\n      <td>NaN</td>\n      <td>NaN</td>\n      <td>4</td>\n    </tr>\n    <tr>\n      <td>top</td>\n      <td>NaN</td>\n      <td>Trantow-Barrows</td>\n      <td>Craig Booker</td>\n      <td>Debra Henley</td>\n      <td>CPU</td>\n      <td>NaN</td>\n      <td>NaN</td>\n      <td>presented</td>\n    </tr>\n    <tr>\n      <td>freq</td>\n      <td>NaN</td>\n      <td>3</td>\n      <td>4</td>\n      <td>9</td>\n      <td>9</td>\n      <td>NaN</td>\n      <td>NaN</td>\n      <td>6</td>\n    </tr>\n    <tr>\n      <td>mean</td>\n      <td>462254.235294</td>\n      <td>NaN</td>\n      <td>NaN</td>\n      <td>NaN</td>\n      <td>NaN</td>\n      <td>1.764706</td>\n      <td>30705.882353</td>\n      <td>NaN</td>\n    </tr>\n    <tr>\n      <td>std</td>\n      <td>259093.442862</td>\n      <td>NaN</td>\n      <td>NaN</td>\n      <td>NaN</td>\n      <td>NaN</td>\n      <td>1.032558</td>\n      <td>28444.605609</td>\n      <td>NaN</td>\n    </tr>\n    <tr>\n      <td>min</td>\n      <td>141962.000000</td>\n      <td>NaN</td>\n      <td>NaN</td>\n      <td>NaN</td>\n      <td>NaN</td>\n      <td>1.000000</td>\n      <td>5000.000000</td>\n      <td>NaN</td>\n    </tr>\n    <tr>\n      <td>25%</td>\n      <td>218895.000000</td>\n      <td>NaN</td>\n      <td>NaN</td>\n      <td>NaN</td>\n      <td>NaN</td>\n      <td>1.000000</td>\n      <td>7000.000000</td>\n      <td>NaN</td>\n    </tr>\n    <tr>\n      <td>50%</td>\n      <td>412290.000000</td>\n      <td>NaN</td>\n      <td>NaN</td>\n      <td>NaN</td>\n      <td>NaN</td>\n      <td>2.000000</td>\n      <td>30000.000000</td>\n      <td>NaN</td>\n    </tr>\n    <tr>\n      <td>75%</td>\n      <td>714466.000000</td>\n      <td>NaN</td>\n      <td>NaN</td>\n      <td>NaN</td>\n      <td>NaN</td>\n      <td>2.000000</td>\n      <td>40000.000000</td>\n      <td>NaN</td>\n    </tr>\n    <tr>\n      <td>max</td>\n      <td>740150.000000</td>\n      <td>NaN</td>\n      <td>NaN</td>\n      <td>NaN</td>\n      <td>NaN</td>\n      <td>5.000000</td>\n      <td>100000.000000</td>\n      <td>NaN</td>\n    </tr>\n  </tbody>\n</table>\n</div>"
     },
     "metadata": {},
     "execution_count": 8
    }
   ],
   "source": [
    "df_funnel.describe(include='all')"
   ]
  },
  {
   "cell_type": "code",
   "execution_count": 9,
   "metadata": {},
   "outputs": [
    {
     "output_type": "stream",
     "name": "stdout",
     "text": [
      "<class 'pandas.core.frame.DataFrame'>\nRangeIndex: 17 entries, 0 to 16\nData columns (total 8 columns):\nAccount     17 non-null int64\nName        17 non-null object\nRep         17 non-null object\nManager     17 non-null object\nProduct     17 non-null object\nQuantity    17 non-null int64\nPrice       17 non-null int64\nStatus      17 non-null object\ndtypes: int64(3), object(5)\nmemory usage: 1.2+ KB\n"
     ]
    }
   ],
   "source": [
    "df_funnel.info()"
   ]
  },
  {
   "cell_type": "code",
   "execution_count": 10,
   "metadata": {},
   "outputs": [
    {
     "output_type": "stream",
     "name": "stdout",
     "text": [
      "<class 'pandas.core.frame.DataFrame'>\nRangeIndex: 17 entries, 0 to 16\nData columns (total 8 columns):\nAccount     17 non-null int64\nName        17 non-null object\nRep         17 non-null object\nManager     17 non-null object\nProduct     17 non-null object\nQuantity    17 non-null int64\nPrice       17 non-null int64\nStatus      17 non-null category\ndtypes: category(1), int64(3), object(4)\nmemory usage: 1.3+ KB\n"
     ]
    }
   ],
   "source": [
    "\n",
    "df_funnel['Status'] = df_funnel['Status'].astype(\"category\")\n",
    "df_funnel['Status'].cat.set_category([])\n",
    "\n",
    "# Mudou o tipo de Status para category\n",
    "df_funnel.info()\n"
   ]
  },
  {
   "cell_type": "code",
   "execution_count": null,
   "metadata": {},
   "outputs": [],
   "source": []
  }
 ]
}