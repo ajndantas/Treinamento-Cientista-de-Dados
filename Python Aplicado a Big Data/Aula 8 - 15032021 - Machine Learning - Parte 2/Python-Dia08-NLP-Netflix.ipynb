{
 "cells": [
  {
   "cell_type": "markdown",
   "metadata": {},
   "source": [
    "# Python aplicado a Big Data\n",
    "## Dia 8 - 15/03/2021\n",
    "### Instrutor: Leonardo Galler"
   ]
  },
  {
   "cell_type": "markdown",
   "metadata": {},
   "source": [
    "# Introducao a NLP"
   ]
  },
  {
   "cell_type": "markdown",
   "metadata": {},
   "source": [
    "##  Leitura de arquivo"
   ]
  },
  {
   "cell_type": "code",
   "execution_count": 1,
   "metadata": {},
   "outputs": [],
   "source": [
    "# Se não estiver instalado utilize esta célula para instalar\n",
    "## Se estiver utilizando Conda\n",
    "#import sys\n",
    "#!conda install --yes --prefix {sys.prefix} matplotlib"
   ]
  },
  {
   "cell_type": "code",
   "execution_count": 2,
   "metadata": {},
   "outputs": [],
   "source": [
    "import os\n",
    "import nltk"
   ]
  },
  {
   "cell_type": "markdown",
   "metadata": {},
   "source": [
    "#### 2 formas de leitura\n",
    "1. Arquivo no mesmo diretório do notebook\n",
    "2. Arquivo em um diretório diferente"
   ]
  },
  {
   "cell_type": "code",
   "execution_count": 1,
   "metadata": {},
   "outputs": [
    {
     "name": "stderr",
     "output_type": "stream",
     "text": [
      "IOPub data rate exceeded.\n",
      "The notebook server will temporarily stop sending output\n",
      "to the client in order to avoid crashing it.\n",
      "To change this limit, set the config variable\n",
      "`--NotebookApp.iopub_data_rate_limit`.\n",
      "\n",
      "Current values:\n",
      "NotebookApp.iopub_data_rate_limit=1000000.0 (bytes/sec)\n",
      "NotebookApp.rate_limit_window=3.0 (secs)\n",
      "\n"
     ]
    }
   ],
   "source": [
    "# Fazendo a leitura de um arquivo de texto no mesmo diretório\n",
    "with open(\"netflix_titles.csv\", \"r\") as f:\n",
    "    text = f.read()\n",
    "    print(text)"
   ]
  },
  {
   "cell_type": "code",
   "execution_count": null,
   "metadata": {},
   "outputs": [],
   "source": [
    "# Fazendo a leitura de um arquivo de texto em um diretório diferente\n",
    "with open(os.path.join(\"data\",\"frases.txt\"), \"r\") as f:\n",
    "    text = f.read()\n",
    "    print(text)"
   ]
  },
  {
   "cell_type": "markdown",
   "metadata": {},
   "source": [
    "## Tabulando um arquivo"
   ]
  },
  {
   "cell_type": "code",
   "execution_count": 4,
   "metadata": {},
   "outputs": [],
   "source": [
    "# Podemos usar o o pandas para tabular um arquivo\n",
    "import pandas as pd"
   ]
  },
  {
   "cell_type": "code",
   "execution_count": 36,
   "metadata": {},
   "outputs": [
    {
     "name": "stdout",
     "output_type": "stream",
     "text": [
      "Index(['show_id', 'type', 'title', 'director', 'cast', 'country', 'date_added',\n",
      "       'release_year', 'rating', 'duration', 'listed_in', 'description'],\n",
      "      dtype='object')\n",
      "\n",
      "<class 'pandas.core.frame.DataFrame'>\n",
      "RangeIndex: 7787 entries, 0 to 7786\n",
      "Data columns (total 2 columns):\n",
      " #   Column       Non-Null Count  Dtype \n",
      "---  ------       --------------  ----- \n",
      " 0   title        7787 non-null   object\n",
      " 1   description  7787 non-null   object\n",
      "dtypes: object(2)\n",
      "memory usage: 121.8+ KB\n",
      "None\n",
      "\n",
      "<class 'pandas.core.frame.DataFrame'>\n",
      "Int64Index: 7787 entries, 0 to 7786\n",
      "Data columns (total 2 columns):\n",
      " #   Column       Non-Null Count  Dtype \n",
      "---  ------       --------------  ----- \n",
      " 0   title        7787 non-null   object\n",
      " 1   description  7787 non-null   object\n",
      "dtypes: object(2)\n",
      "memory usage: 182.5+ KB\n",
      "None\n"
     ]
    }
   ],
   "source": [
    "# Extrai coluna de texto do dataframe\n",
    "df = pd.read_csv(\"netflix_titles.csv\")\n",
    "print(df.columns)\n",
    "print()\n",
    "# Converte o texto em lowercase\n",
    "df['description'] = df['description'].str.lower()\n",
    "df['description']\n",
    "\n",
    "# Criando um novo dataframe usando o titulo como indice\n",
    "df_desc = df[['title','description']]\n",
    "print(df_desc.info())\n",
    "print()\n",
    "\n",
    "df_desc_treat = df_desc[df_desc['description'].notnull()]\n",
    "print(df_desc_treat.info())\n",
    "\n",
    "# acessando por coluna\n",
    "#resultado = df.head()[['director', 'title']]\n",
    "#print(resultado)"
   ]
  },
  {
   "cell_type": "markdown",
   "metadata": {},
   "source": [
    "# Explorando Distribuição de Frequência em Dados de Chat"
   ]
  },
  {
   "cell_type": "code",
   "execution_count": 37,
   "metadata": {},
   "outputs": [],
   "source": [
    "# Imports\n",
    "import nltk"
   ]
  },
  {
   "cell_type": "code",
   "execution_count": 54,
   "metadata": {},
   "outputs": [
    {
     "name": "stdout",
     "output_type": "stream",
     "text": [
      "[('Movie', 5377), ('TV Show', 2410)]\n"
     ]
    },
    {
     "data": {
      "image/png": "[encoded data removed]",
      "text/plain": [
       "<Figure size 432x288 with 1 Axes>"
      ]
     },
     "metadata": {
      "needs_background": "light"
     },
     "output_type": "display_data"
    },
    {
     "data": {
      "text/plain": [
       "<matplotlib.axes._subplots.AxesSubplot at 0x7fbde74d0850>"
      ]
     },
     "execution_count": 54,
     "metadata": {},
     "output_type": "execute_result"
    }
   ],
   "source": [
    "# Distribuição de frequência de um único arquivo\n",
    "fdist = nltk.FreqDist(df['type'])\n",
    "fdist.keys()\n",
    "fdist.values()\n",
    "print(fdist.most_common(10))\n",
    "fdist.N()\n",
    "fdist.plot()"
   ]
  },
  {
   "cell_type": "code",
   "execution_count": 55,
   "metadata": {
    "scrolled": true
   },
   "outputs": [
    {
     "data": {
      "image/png": "[encoded data removed]",
      "text/plain": [
       "<Figure size 432x288 with 1 Axes>"
      ]
     },
     "metadata": {
      "needs_background": "light"
     },
     "output_type": "display_data"
    },
    {
     "data": {
      "text/plain": [
       "<matplotlib.axes._subplots.AxesSubplot at 0x7fbdde17d950>"
      ]
     },
     "execution_count": 55,
     "metadata": {},
     "output_type": "execute_result"
    }
   ],
   "source": [
    "fdist2 = nltk.FreqDist(df['duration'])\n",
    "fdist2.keys()\n",
    "fdist2.values()\n",
    "fdist2.most_common(10)\n",
    "fdist2.N()\n",
    "fdist2.plot(10)"
   ]
  },
  {
   "cell_type": "code",
   "execution_count": 56,
   "metadata": {
    "scrolled": true
   },
   "outputs": [
    {
     "name": "stdout",
     "output_type": "stream",
     "text": [
      "\n",
      "Contagem do número máximo de ocorrências do token \" 1 Season \" :  0\n",
      "\n",
      "Número total de tokens distintos :  7787\n",
      "\n",
      "A seguir estão os 10 tokens mais comuns\n",
      "[('1 Season', 1608), ('2 Seasons', 382), ('3 Seasons', 184), ('90 min', 136), ('93 min', 131), ('91 min', 125), ('94 min', 125), ('95 min', 119), ('92 min', 118), ('97 min', 117)]\n",
      "\n",
      "\n"
     ]
    }
   ],
   "source": [
    "# Report, vc entendera melhor sobre tokens logo abaixo\n",
    "print('\\nContagem do número máximo de ocorrências do token \"',fdist2.max(),'\" : ', fdist[fdist2.max()])\n",
    "print('\\nNúmero total de tokens distintos : ', fdist2.N())\n",
    "print('\\nA seguir estão os 10 tokens mais comuns')\n",
    "print(fdist2.most_common(10))\n",
    "print(\"\\n\")"
   ]
  },
  {
   "cell_type": "markdown",
   "metadata": {},
   "source": [
    "# Tokenization\n",
    "## Processo de dividir uma string em listas de pedaços ou \"tokens\". \n",
    "## Um token é uma parte inteira. Por exemplo: uma palavra é um token em uma sentença. Uma sentença é um token em um parágrafo.\n",
    "\n"
   ]
  },
  {
   "cell_type": "code",
   "execution_count": 57,
   "metadata": {},
   "outputs": [],
   "source": [
    "# Imports\n",
    "from nltk.tokenize import sent_tokenize, word_tokenize"
   ]
  },
  {
   "cell_type": "code",
   "execution_count": 59,
   "metadata": {},
   "outputs": [
    {
     "name": "stdout",
     "output_type": "stream",
     "text": [
      "['in a future where the elite inhabit an island paradise far from the crowded slums, you get one chance to join the 3% saved from squalor.']\n"
     ]
    }
   ],
   "source": [
    "# Tokenization em sentenças\n",
    "sent_tokens = sent_tokenize(df_desc_treat['description'][0])\n",
    "print(sent_tokens)"
   ]
  },
  {
   "cell_type": "code",
   "execution_count": 60,
   "metadata": {},
   "outputs": [
    {
     "name": "stdout",
     "output_type": "stream",
     "text": [
      "['in', 'a', 'future', 'where', 'the', 'elite', 'inhabit', 'an', 'island', 'paradise', 'far', 'from', 'the', 'crowded', 'slums', ',', 'you', 'get', 'one', 'chance', 'to', 'join', 'the', '3', '%', 'saved', 'from', 'squalor', '.']\n"
     ]
    }
   ],
   "source": [
    "# Tokenization em palavras\n",
    "word_tokens = word_tokenize(df_desc_treat['description'][0])\n",
    "print(word_tokens)"
   ]
  },
  {
   "cell_type": "markdown",
   "metadata": {},
   "source": [
    "# Remoção de Stopwords"
   ]
  },
  {
   "cell_type": "markdown",
   "metadata": {},
   "source": [
    "### Stopwords são palavras comuns que normalmente não contribuem para o significado de uma frase, pelo menos com relação ao propósito da \n",
    "### informação e do processamento da linguagem natural. São palavras como \"The\" e \"a\" ((em inglês) ou \"O/A\" e \"Um/Uma\" ((em português). \n",
    "### Muitos mecanismos de busca filtram estas palavras (stopwords), como forma de economizar espaço em seus índices de pesquisa.\n",
    "\n"
   ]
  },
  {
   "cell_type": "code",
   "execution_count": 63,
   "metadata": {},
   "outputs": [],
   "source": [
    "# Imports\n",
    "from nltk.corpus import stopwords"
   ]
  },
  {
   "cell_type": "code",
   "execution_count": 71,
   "metadata": {},
   "outputs": [
    {
     "data": {
      "text/plain": [
       "set"
      ]
     },
     "execution_count": 71,
     "metadata": {},
     "output_type": "execute_result"
    }
   ],
   "source": [
    "# Stop words em inglês\n",
    "english_stops = set(stopwords.words('english'))"
   ]
  },
  {
   "cell_type": "code",
   "execution_count": 77,
   "metadata": {},
   "outputs": [
    {
     "data": {
      "text/plain": [
       "{'',\n",
       " ',',\n",
       " '.',\n",
       " 'a',\n",
       " 'about',\n",
       " 'above',\n",
       " 'after',\n",
       " 'again',\n",
       " 'against',\n",
       " 'ain',\n",
       " 'all',\n",
       " 'am',\n",
       " 'an',\n",
       " 'and',\n",
       " 'any',\n",
       " 'are',\n",
       " 'aren',\n",
       " \"aren't\",\n",
       " 'as',\n",
       " 'at',\n",
       " 'be',\n",
       " 'because',\n",
       " 'been',\n",
       " 'before',\n",
       " 'being',\n",
       " 'below',\n",
       " 'between',\n",
       " 'both',\n",
       " 'but',\n",
       " 'by',\n",
       " 'can',\n",
       " 'couldn',\n",
       " \"couldn't\",\n",
       " 'd',\n",
       " 'did',\n",
       " 'didn',\n",
       " \"didn't\",\n",
       " 'do',\n",
       " 'does',\n",
       " 'doesn',\n",
       " \"doesn't\",\n",
       " 'doing',\n",
       " 'don',\n",
       " \"don't\",\n",
       " 'down',\n",
       " 'during',\n",
       " 'each',\n",
       " 'few',\n",
       " 'for',\n",
       " 'from',\n",
       " 'further',\n",
       " 'had',\n",
       " 'hadn',\n",
       " \"hadn't\",\n",
       " 'has',\n",
       " 'hasn',\n",
       " \"hasn't\",\n",
       " 'have',\n",
       " 'haven',\n",
       " \"haven't\",\n",
       " 'having',\n",
       " 'he',\n",
       " 'her',\n",
       " 'here',\n",
       " 'hers',\n",
       " 'herself',\n",
       " 'him',\n",
       " 'himself',\n",
       " 'his',\n",
       " 'how',\n",
       " 'i',\n",
       " 'if',\n",
       " 'in',\n",
       " 'into',\n",
       " 'is',\n",
       " 'isn',\n",
       " \"isn't\",\n",
       " 'it',\n",
       " \"it's\",\n",
       " 'its',\n",
       " 'itself',\n",
       " 'just',\n",
       " 'll',\n",
       " 'm',\n",
       " 'ma',\n",
       " 'me',\n",
       " 'mightn',\n",
       " \"mightn't\",\n",
       " 'more',\n",
       " 'most',\n",
       " 'mustn',\n",
       " \"mustn't\",\n",
       " 'my',\n",
       " 'myself',\n",
       " 'needn',\n",
       " \"needn't\",\n",
       " 'no',\n",
       " 'nor',\n",
       " 'not',\n",
       " 'now',\n",
       " 'o',\n",
       " 'of',\n",
       " 'off',\n",
       " 'on',\n",
       " 'once',\n",
       " 'only',\n",
       " 'or',\n",
       " 'other',\n",
       " 'our',\n",
       " 'ours',\n",
       " 'ourselves',\n",
       " 'out',\n",
       " 'over',\n",
       " 'own',\n",
       " 're',\n",
       " 's',\n",
       " 'same',\n",
       " 'shan',\n",
       " \"shan't\",\n",
       " 'she',\n",
       " \"she's\",\n",
       " 'should',\n",
       " \"should've\",\n",
       " 'shouldn',\n",
       " \"shouldn't\",\n",
       " 'so',\n",
       " 'some',\n",
       " 'such',\n",
       " 't',\n",
       " 'than',\n",
       " 'that',\n",
       " \"that'll\",\n",
       " 'the',\n",
       " 'their',\n",
       " 'theirs',\n",
       " 'them',\n",
       " 'themselves',\n",
       " 'then',\n",
       " 'there',\n",
       " 'these',\n",
       " 'they',\n",
       " 'this',\n",
       " 'those',\n",
       " 'through',\n",
       " 'to',\n",
       " 'too',\n",
       " 'under',\n",
       " 'until',\n",
       " 'up',\n",
       " 've',\n",
       " 'very',\n",
       " 'was',\n",
       " 'wasn',\n",
       " \"wasn't\",\n",
       " 'we',\n",
       " 'were',\n",
       " 'weren',\n",
       " \"weren't\",\n",
       " 'what',\n",
       " 'when',\n",
       " 'where',\n",
       " 'which',\n",
       " 'while',\n",
       " 'who',\n",
       " 'whom',\n",
       " 'why',\n",
       " 'will',\n",
       " 'with',\n",
       " 'won',\n",
       " \"won't\",\n",
       " 'wouldn',\n",
       " \"wouldn't\",\n",
       " 'y',\n",
       " 'you',\n",
       " \"you'd\",\n",
       " \"you'll\",\n",
       " \"you're\",\n",
       " \"you've\",\n",
       " 'your',\n",
       " 'yours',\n",
       " 'yourself',\n",
       " 'yourselves'}"
      ]
     },
     "execution_count": 77,
     "metadata": {},
     "output_type": "execute_result"
    }
   ],
   "source": [
    "english_stops.add('.')\n",
    "english_stops"
   ]
  },
  {
   "cell_type": "code",
   "execution_count": 78,
   "metadata": {},
   "outputs": [
    {
     "data": {
      "text/plain": [
       "['in',\n",
       " 'a',\n",
       " 'future',\n",
       " 'where',\n",
       " 'the',\n",
       " 'elite',\n",
       " 'inhabit',\n",
       " 'an',\n",
       " 'island',\n",
       " 'paradise',\n",
       " 'far',\n",
       " 'from',\n",
       " 'the',\n",
       " 'crowded',\n",
       " 'slums',\n",
       " ',',\n",
       " 'you',\n",
       " 'get',\n",
       " 'one',\n",
       " 'chance',\n",
       " 'to',\n",
       " 'join',\n",
       " 'the',\n",
       " '3',\n",
       " '%',\n",
       " 'saved',\n",
       " 'from',\n",
       " 'squalor',\n",
       " '.']"
      ]
     },
     "execution_count": 78,
     "metadata": {},
     "output_type": "execute_result"
    }
   ],
   "source": [
    "# Lista de palavras\n",
    "words = word_tokenize(df_desc_treat['description'][0])\n",
    "words"
   ]
  },
  {
   "cell_type": "code",
   "execution_count": 83,
   "metadata": {},
   "outputs": [],
   "source": [
    "# List comprehension para aplicar as english_stop words a lista de palavras\n",
    "lista_pal_indice_0 = [word for word in words if word not in english_stops]"
   ]
  },
  {
   "cell_type": "markdown",
   "metadata": {},
   "source": [
    "# Lemmatization"
   ]
  },
  {
   "cell_type": "markdown",
   "metadata": {},
   "source": [
    "#### Lemmatização na linguística, é o processo de agrupar as diferentes formas flexionadas de uma palavra para que possam ser analisadas como um único item.\n",
    "#### Na linguística computacional, a Lemmatização é o processo algorítmico de determinação do lema para uma determinada palavra. \n",
    "#### Uma vez que o processo pode envolver tarefas complexas, como entender o contexto e determinar a parte da fala de uma palavra em uma frase \n",
    "#### (requerendo, por exemplo, conhecimento da gramática de uma linguagem), pode ser uma tarefa difícil implementar um lematizador para uma nova língua.\n",
    "\n",
    "#### Em muitas línguas, as palavras aparecem em várias formas inflexíveis. \n",
    "#### Por exemplo, em inglês, o verbo 'to walk' pode aparecer como 'walk', 'walk', 'walkks', 'walking'. \n",
    "#### A forma base, 'walk', que se poderia procurar em um dicionário, é chamado de lema para a palavra. \n",
    "#### A combinação da forma base com a parte da fala geralmente é chamada de lexema da palavra.\n",
    "\n",
    "#### A Lemmatização está intimamente relacionada com o Stemming. \n",
    "#### A diferença é que um stemmer opera em uma única palavra sem conhecimento do contexto e, portanto, não pode discriminar entre palavras \n",
    "#### que têm diferentes significados, dependendo da parte da fala. No entanto, os stemmers são geralmente mais fáceis de implementar e executar mais \n",
    "#### rapidamente, e a precisão reduzida pode não ser importante para algumas aplicações.\n",
    "\n",
    "#### Stemming e Lemmatization são operações parecidas. A principal diferença entre eles é que o Stemmning pode gerar palavras geralmente inexistentes, \n",
    "#### enquanto as lemas são palavras reais.\n",
    "\n",
    "#### Assim, sua root stem pode não ser algo que você pode procurar em um dicionário, mas você pode procurar um lema. \n",
    "#### Algumas vezes você terminará com uma palavra muito semelhante, mas as vezes, você terminará com uma palavra completamente diferente. Vamos ver alguns exemplos."
   ]
  },
  {
   "cell_type": "code",
   "execution_count": 81,
   "metadata": {},
   "outputs": [],
   "source": [
    "# Imports\n",
    "import nltk\n",
    "from nltk.stem import WordNetLemmatizer"
   ]
  },
  {
   "cell_type": "code",
   "execution_count": 82,
   "metadata": {},
   "outputs": [],
   "source": [
    "# Lemmatizer\n",
    "wordnet_lemmatizer = WordNetLemmatizer()"
   ]
  },
  {
   "cell_type": "code",
   "execution_count": 86,
   "metadata": {},
   "outputs": [
    {
     "name": "stdout",
     "output_type": "stream",
     "text": [
      "['future', 'elite', 'inhabit', 'island', 'paradise', 'far', 'crowded', 'slums', 'get', 'one', 'chance', 'join', '3', '%', 'saved', 'squalor']\n",
      "\n",
      "future\n",
      "elite\n",
      "inhabit\n",
      "island\n",
      "paradise\n",
      "far\n",
      "crowd\n",
      "slum\n",
      "get\n",
      "one\n",
      "chance\n",
      "join\n",
      "3\n",
      "%\n",
      "save\n",
      "squalor\n"
     ]
    }
   ],
   "source": [
    "# pos = v\n",
    "print(lista_pal_indice_0)\n",
    "print()\n",
    "for i in lista_pal_indice_0:\n",
    "    print(wordnet_lemmatizer.lemmatize(i, pos='v'))"
   ]
  }
 ],
 "metadata": {
  "kernelspec": {
   "display_name": "Python 3",
   "language": "python",
   "name": "python3"
  },
  "language_info": {
   "codemirror_mode": {
    "name": "ipython",
    "version": 3
   },
   "file_extension": ".py",
   "mimetype": "text/x-python",
   "name": "python",
   "nbconvert_exporter": "python",
   "pygments_lexer": "ipython3",
   "version": "3.7.6"
  }
 },
 "nbformat": 4,
 "nbformat_minor": 2
}
