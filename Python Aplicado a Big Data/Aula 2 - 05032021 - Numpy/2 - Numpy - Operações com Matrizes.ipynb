{
 "metadata": {
  "language_info": {
   "codemirror_mode": {
    "name": "ipython",
    "version": 3
   },
   "file_extension": ".py",
   "mimetype": "text/x-python",
   "name": "python",
   "nbconvert_exporter": "python",
   "pygments_lexer": "ipython3",
   "version": "3.8.5-final"
  },
  "orig_nbformat": 2,
  "kernelspec": {
   "name": "python3",
   "display_name": "Python 3.8.5 64-bit (conda)",
   "metadata": {
    "interpreter": {
     "hash": "b3ba2566441a7c06988d0923437866b63cedc61552a5af99d1f4fb67d367b25f"
    }
   }
  }
 },
 "nbformat": 4,
 "nbformat_minor": 2,
 "cells": [
  {
   "source": [
    "### Operações com matrizes"
   ],
   "cell_type": "markdown",
   "metadata": {}
  },
  {
   "cell_type": "code",
   "execution_count": 1,
   "metadata": {},
   "outputs": [],
   "source": [
    "# imports\n",
    "import numpy as np"
   ]
  },
  {
   "source": [
    "<li>Adição"
   ],
   "cell_type": "markdown",
   "metadata": {}
  },
  {
   "cell_type": "code",
   "execution_count": null,
   "metadata": {},
   "outputs": [],
   "source": [
    "A = np.array([[3,5],[-4,8]])\n",
    "B = np.array([[2,-8],[3,7]])\n",
    "\n",
    "print('A: ',A)\n",
    "print('B: ',B)\n",
    "\n",
    "C = A + B\n",
    "\n",
    "print('Resultado da operação: ', C)"
   ]
  },
  {
   "source": [
    "<li> Multiplicação"
   ],
   "cell_type": "markdown",
   "metadata": {}
  },
  {
   "cell_type": "code",
   "execution_count": 6,
   "metadata": {},
   "outputs": [
    {
     "output_type": "stream",
     "name": "stdout",
     "text": [
      "A:  [[ 3  6  7]\n [-5  3  0]]\n(2, 3)\n\nB:  [[ 7  9  1]\n [ 2 -8  4]]\n(2, 3)\n\nResultado da operação:  [[ 21  54   7]\n [-10 -24   0]]\n(2, 3)\n\nD:  [[1 3]\n [5 6]\n [8 5]]\n(3, 2)\n\nResultado da operação  [[89 80]\n [10  3]]\n(2, 2)\n"
     ]
    }
   ],
   "source": [
    "A = np.array([[3,6,7],[-5,3,0]])\n",
    "B = np.array([[7,9,1],[2,-8,4]])\n",
    "\n",
    "print('A: ',A)\n",
    "print(A.shape)\n",
    "print()\n",
    "\n",
    "print('B: ',B)\n",
    "print(B.shape)\n",
    "print()\n",
    "\n",
    "print('Resultado da operação: ',C)\n",
    "print(C.shape)\n",
    "print()\n",
    "\n",
    "D = np.array([[1,3],[5,6],[8,5]])\n",
    "print('D: ',D)\n",
    "print(D.shape)\n",
    "print()\n",
    "\n",
    "E = A.dot(D) # Usa-se a função dot()\n",
    "print('Resultado da operação ', E)\n",
    "print(E.shape)\n",
    "\n"
   ]
  },
  {
   "source": [
    "<li> Subtração"
   ],
   "cell_type": "markdown",
   "metadata": {}
  },
  {
   "cell_type": "code",
   "execution_count": null,
   "metadata": {},
   "outputs": [],
   "source": [
    "A = np.array([[2,4],[5,-6]])\n",
    "B = np.array([[9,-3],[8,1]])\n",
    "\n",
    "print('A ',A)\n",
    "print('B ',B)\n",
    "C = A - B\n",
    "print('Resultado da operação: ',C)"
   ]
  },
  {
   "source": [
    "<li> Transposição -> Inversão de dimensões"
   ],
   "cell_type": "markdown",
   "metadata": {}
  },
  {
   "cell_type": "code",
   "execution_count": null,
   "metadata": {},
   "outputs": [],
   "source": [
    "A = np.array([[2,7],[5,2],[3,8]])\n",
    "\n",
    "print('Shape de A ',A.shape)\n",
    "\n",
    "B = A.transpose()\n",
    "print('Shape de B ',B.shape)"
   ]
  }
 ]
}