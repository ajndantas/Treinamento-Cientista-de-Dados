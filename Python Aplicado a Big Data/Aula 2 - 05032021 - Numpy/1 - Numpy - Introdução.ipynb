{
 "metadata": {
  "language_info": {
   "codemirror_mode": {
    "name": "ipython",
    "version": 3
   },
   "file_extension": ".py",
   "mimetype": "text/x-python",
   "name": "python",
   "nbconvert_exporter": "python",
   "pygments_lexer": "ipython3",
   "version": "3.7.4-final"
  },
  "orig_nbformat": 2,
  "kernelspec": {
   "name": "python3",
   "display_name": "Python 3.7.4 64-bit (conda)",
   "metadata": {
    "interpreter": {
     "hash": "b3ba2566441a7c06988d0923437866b63cedc61552a5af99d1f4fb67d367b25f"
    }
   }
  }
 },
 "nbformat": 4,
 "nbformat_minor": 2,
 "cells": [
  {
   "source": [
    "## Criando Matrizes\n",
    "### dtype -> tipo da matriz"
   ],
   "cell_type": "markdown",
   "metadata": {}
  },
  {
   "cell_type": "code",
   "execution_count": 12,
   "metadata": {},
   "outputs": [
    {
     "output_type": "stream",
     "name": "stdout",
     "text": [
      "['azul', 'vermelho', 'roxo']\n<class 'list'>\n\n['azul' 'vermelho' 'roxo']\n<class 'numpy.ndarray'>\n<U8\n\n[1 2 3 4]\nint32\n"
     ]
    }
   ],
   "source": [
    "import numpy as np\n",
    "\n",
    "lista1 = ['azul','vermelho','roxo'] # Array python\n",
    "\n",
    "print(lista1)\n",
    "print(type(lista1))\n",
    "print()\n",
    "\n",
    "lista2 = np.array(['azul','vermelho','roxo']) # Em um array numpy, os dados precisam ser do mesmo tipo\n",
    "\n",
    "print(lista2)\n",
    "print(type(lista2))\n",
    "print(lista2.dtype)\n",
    "print()\n",
    "\n",
    "lista3 = np.array([1,2,3,4])\n",
    "print(lista3)\n",
    "print(lista3.dtype)"
   ]
  },
  {
   "source": [
    "## Array de inteiros\n",
    "### shape -> dimensão da matriz (linhas por colunas)"
   ],
   "cell_type": "markdown",
   "metadata": {}
  },
  {
   "cell_type": "code",
   "execution_count": 8,
   "metadata": {},
   "outputs": [
    {
     "output_type": "stream",
     "name": "stdout",
     "text": [
      "[[1 2 3]\n [3 4 5]]\nint32\n(2, 3)\n"
     ]
    }
   ],
   "source": [
    "import numpy as np\n",
    "\n",
    "A = np.array([[1,2,3],[3,4,5]]) # Matriz de matrizes\n",
    "print(A)\n",
    "print(A.dtype)\n",
    "print(A.shape)"
   ]
  },
  {
   "source": [
    "## Array de floats"
   ],
   "cell_type": "markdown",
   "metadata": {}
  },
  {
   "cell_type": "code",
   "execution_count": 9,
   "metadata": {},
   "outputs": [
    {
     "output_type": "stream",
     "name": "stdout",
     "text": [
      "[[1.5 2.  3.7]\n [3.  4.  5. ]]\nfloat64\n(2, 3)\n"
     ]
    }
   ],
   "source": [
    "import numpy as np\n",
    "\n",
    "A = np.array([[1.5,2,3.7],[3,4,5]])\n",
    "print(A)\n",
    "print(A.dtype)\n",
    "print(A.shape)"
   ]
  },
  {
   "source": [
    "## Array de números complexos"
   ],
   "cell_type": "markdown",
   "metadata": {}
  },
  {
   "cell_type": "code",
   "execution_count": 10,
   "metadata": {},
   "outputs": [
    {
     "output_type": "stream",
     "name": "stdout",
     "text": [
      "[[1.5+0.j 2. +0.j 3.7+0.j]\n [3. +0.j 4. +0.j 5. +0.j]]\ncomplex128\n(2, 3)\n"
     ]
    }
   ],
   "source": [
    "import numpy as np\n",
    "\n",
    "A = np.array([[1.5,2,3.7],[3,4,5]],dtype = complex)\n",
    "print(A)\n",
    "print(A.dtype)\n",
    "print(A.shape)"
   ]
  },
  {
   "source": [
    "### Matriz de zeros e Ums"
   ],
   "cell_type": "markdown",
   "metadata": {}
  },
  {
   "cell_type": "code",
   "execution_count": 19,
   "metadata": {},
   "outputs": [
    {
     "output_type": "stream",
     "name": "stdout",
     "text": [
      "[[0. 0. 0.]\n [0. 0. 0.]]\n"
     ]
    }
   ],
   "source": [
    "import numpy as np\n",
    "\n",
    "matriz_zeros = np.zeros((2,3)) # O shape SEMPRE deve ser passado como uma tupla\n",
    "\n",
    "print(matriz_zeros)\n",
    "\n"
   ]
  },
  {
   "cell_type": "code",
   "execution_count": 25,
   "metadata": {},
   "outputs": [
    {
     "output_type": "stream",
     "name": "stdout",
     "text": [
      "[[1 1 1 1 1]]\nint32\n\n[[1 1 1 1 1]]\nint32\n"
     ]
    }
   ],
   "source": [
    "import numpy as np\n",
    "\n",
    "matriz_ones = np.ones((1,5),dtype=np.int32) # O shape SEMPRE deve ser passado como uma tupla. Aqui estamos passando um dtype do numpy, não do python, como foi no exemplo do array de complexos\n",
    "\n",
    "print(matriz_ones)\n",
    "print(matriz_ones.dtype)\n",
    "print()\n",
    "\n",
    "matriz_ones1 = np.ones((1,5),dtype = int)\n",
    "print(matriz_ones1)\n",
    "print(matriz_ones1.dtype)\n"
   ]
  },
  {
   "source": [
    "### Matriz Vazia"
   ],
   "cell_type": "markdown",
   "metadata": {}
  },
  {
   "cell_type": "code",
   "execution_count": 30,
   "metadata": {},
   "outputs": [
    {
     "output_type": "stream",
     "name": "stdout",
     "text": [
      "[[[2.58883487e-312 2.29175545e-312]\n  [0.00000000e+000 0.00000000e+000]\n  [2.14321575e-312 2.31297541e-312]]\n\n [[2.29175545e-312 2.35541533e-312]\n  [2.35541533e-312 2.35541533e-312]\n  [0.00000000e+000 0.00000000e+000]]]\n[[0. 0. 0.]\n [0. 0. 0.]]\n"
     ]
    }
   ],
   "source": [
    "import numpy as np\n",
    "\n",
    "mn = np.empty((2,3,2)) # As vezes vem lixo, por isso é melhor usar np.zeros. \n",
    "                       # Não é um array nulo, e sim, com zeros\n",
    "\n",
    "print(mn)\n",
    "\n",
    "mn1 = np.empty((2,3)) # As vezes vem lixo. \n",
    "print(mn1)"
   ]
  },
  {
   "source": [
    "### arange() e reshape()\n"
   ],
   "cell_type": "markdown",
   "metadata": {}
  },
  {
   "cell_type": "code",
   "execution_count": 65,
   "metadata": {},
   "outputs": [
    {
     "output_type": "stream",
     "name": "stdout",
     "text": [
      "B1  [0 1 2 3 4 5 6 7 8 9]\nA:  [ 1  4  7 10 13 16 19]\n[[0 1 2]\n [3 4 5]]\n[[0 1 2 3 4]\n [5 6 7 8 9]]\n"
     ]
    }
   ],
   "source": [
    "# numpy.arange([start, ]stop, [step, ]dtype=None, *, like=None)\n",
    "# Único obrigatório é o stop\n",
    "\n",
    "B1 = np.arange(10) # Passando o obrigatório \n",
    "print('B1 ',B1)\n",
    "\n",
    "A = np.arange(start=1, stop=20, step=3)\n",
    "print('A: ',A)\n",
    "\n",
    "C = np.arange(6).reshape(2,3) # Em reshape, o produto das dimensões, tem que dar o que foi passado em arange\n",
    "print(C)\n",
    "\n",
    "D = B1.reshape(2,5)\n",
    "print(D)\n",
    "\n",
    "\n"
   ]
  }
 ]
}