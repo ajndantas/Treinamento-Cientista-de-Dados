{
 "metadata": {
  "language_info": {
   "codemirror_mode": {
    "name": "ipython",
    "version": 3
   },
   "file_extension": ".py",
   "mimetype": "text/x-python",
   "name": "python",
   "nbconvert_exporter": "python",
   "pygments_lexer": "ipython3",
   "version": "3.8.8"
  },
  "orig_nbformat": 2,
  "kernelspec": {
   "name": "python3",
   "display_name": "Python 3.8.8 64-bit ('base': conda)"
  },
  "interpreter": {
   "hash": "c64659799d540f3c0cef722e5a9676765767ee7673080d93c86c8bbb95c72b5a"
  }
 },
 "nbformat": 4,
 "nbformat_minor": 2,
 "cells": [
  {
   "cell_type": "markdown",
   "source": [
    "## Criando Matrizes\n",
    "### dtype -> tipo da matriz"
   ],
   "metadata": {}
  },
  {
   "cell_type": "code",
   "execution_count": 12,
   "source": [
    "import numpy as np\r\n",
    "\r\n",
    "lista1 = ['azul','vermelho','roxo'] # Array python\r\n",
    "\r\n",
    "print(lista1)\r\n",
    "print(type(lista1))\r\n",
    "print()\r\n",
    "\r\n",
    "lista2 = np.array(['azul','vermelho','roxo']) # Em um array numpy, os dados precisam ser do mesmo tipo\r\n",
    "\r\n",
    "print(lista2)\r\n",
    "print(type(lista2))\r\n",
    "print(lista2.dtype)\r\n",
    "print()\r\n",
    "\r\n",
    "lista3 = np.array([1,2,3,4])\r\n",
    "print(lista3)\r\n",
    "print(lista3.dtype)"
   ],
   "outputs": [
    {
     "output_type": "stream",
     "name": "stdout",
     "text": [
      "['azul', 'vermelho', 'roxo']\n",
      "<class 'list'>\n",
      "\n",
      "['azul' 'vermelho' 'roxo']\n",
      "<class 'numpy.ndarray'>\n",
      "<U8\n",
      "\n",
      "[1 2 3 4]\n",
      "int32\n"
     ]
    }
   ],
   "metadata": {}
  },
  {
   "cell_type": "markdown",
   "source": [
    "## Array de inteiros\n",
    "### shape -> dimensão da matriz (linhas por colunas)"
   ],
   "metadata": {}
  },
  {
   "cell_type": "code",
   "execution_count": 8,
   "source": [
    "import numpy as np\r\n",
    "\r\n",
    "A = np.array([[1,2,3],[3,4,5]]) # Matriz de matrizes\r\n",
    "print(A)\r\n",
    "print(A.dtype)\r\n",
    "print(A.shape)"
   ],
   "outputs": [
    {
     "output_type": "stream",
     "name": "stdout",
     "text": [
      "[[1 2 3]\n",
      " [3 4 5]]\n",
      "int32\n",
      "(2, 3)\n"
     ]
    }
   ],
   "metadata": {}
  },
  {
   "cell_type": "markdown",
   "source": [
    "## Array de floats"
   ],
   "metadata": {}
  },
  {
   "cell_type": "code",
   "execution_count": 9,
   "source": [
    "import numpy as np\r\n",
    "\r\n",
    "A = np.array([[1.5,2,3.7],[3,4,5]])\r\n",
    "print(A)\r\n",
    "print(A.dtype)\r\n",
    "print(A.shape)"
   ],
   "outputs": [
    {
     "output_type": "stream",
     "name": "stdout",
     "text": [
      "[[1.5 2.  3.7]\n",
      " [3.  4.  5. ]]\n",
      "float64\n",
      "(2, 3)\n"
     ]
    }
   ],
   "metadata": {}
  },
  {
   "cell_type": "markdown",
   "source": [
    "## Array de números complexos"
   ],
   "metadata": {}
  },
  {
   "cell_type": "code",
   "execution_count": 10,
   "source": [
    "import numpy as np\r\n",
    "\r\n",
    "A = np.array([[1.5,2,3.7],[3,4,5]],dtype = complex)\r\n",
    "print(A)\r\n",
    "print(A.dtype)\r\n",
    "print(A.shape)"
   ],
   "outputs": [
    {
     "output_type": "stream",
     "name": "stdout",
     "text": [
      "[[1.5+0.j 2. +0.j 3.7+0.j]\n",
      " [3. +0.j 4. +0.j 5. +0.j]]\n",
      "complex128\n",
      "(2, 3)\n"
     ]
    }
   ],
   "metadata": {}
  },
  {
   "cell_type": "markdown",
   "source": [
    "### Matriz de zeros e Ums"
   ],
   "metadata": {}
  },
  {
   "cell_type": "code",
   "execution_count": 19,
   "source": [
    "import numpy as np\r\n",
    "\r\n",
    "matriz_zeros = np.zeros((2,3)) # O shape SEMPRE deve ser passado como uma tupla\r\n",
    "\r\n",
    "print(matriz_zeros)\r\n",
    "\r\n"
   ],
   "outputs": [
    {
     "output_type": "stream",
     "name": "stdout",
     "text": [
      "[[0. 0. 0.]\n",
      " [0. 0. 0.]]\n"
     ]
    }
   ],
   "metadata": {}
  },
  {
   "cell_type": "code",
   "execution_count": 25,
   "source": [
    "import numpy as np\r\n",
    "\r\n",
    "matriz_ones = np.ones((1,5),dtype=np.int32) # O shape SEMPRE deve ser passado como uma tupla. Aqui estamos passando um dtype do numpy, não do python, como foi no exemplo do array de complexos\r\n",
    "\r\n",
    "print(matriz_ones)\r\n",
    "print(matriz_ones.dtype)\r\n",
    "print()\r\n",
    "\r\n",
    "matriz_ones1 = np.ones((1,5),dtype = int)\r\n",
    "print(matriz_ones1)\r\n",
    "print(matriz_ones1.dtype)\r\n"
   ],
   "outputs": [
    {
     "output_type": "stream",
     "name": "stdout",
     "text": [
      "[[1 1 1 1 1]]\n",
      "int32\n",
      "\n",
      "[[1 1 1 1 1]]\n",
      "int32\n"
     ]
    }
   ],
   "metadata": {}
  },
  {
   "cell_type": "markdown",
   "source": [
    "### Matriz Vazia"
   ],
   "metadata": {}
  },
  {
   "cell_type": "code",
   "execution_count": 2,
   "source": [
    "import numpy as np\r\n",
    "\r\n",
    "mn = np.empty((2,3,2)) # As vezes vem lixo, por isso é melhor usar np.zeros. \r\n",
    "                       # Não é um array nulo, e sim, com zeros\r\n",
    "\r\n",
    "print(mn)\r\n",
    "\r\n",
    "mn1 = np.empty((2,3)) # As vezes vem lixo. \r\n",
    "print(mn1)"
   ],
   "outputs": [
    {
     "output_type": "stream",
     "name": "stdout",
     "text": [
      "[[[6.23042070e-307 4.67296746e-307]\n",
      "  [1.69121096e-306 1.78020848e-306]\n",
      "  [7.56587585e-307 1.37961302e-306]]\n",
      "\n",
      " [[1.05699242e-307 8.01097889e-307]\n",
      "  [1.78020169e-306 7.56601165e-307]\n",
      "  [1.02359984e-306 1.29060531e-306]]]\n",
      "[[0. 0. 0.]\n",
      " [0. 0. 0.]]\n"
     ]
    }
   ],
   "metadata": {}
  },
  {
   "cell_type": "markdown",
   "source": [
    "### arange() e reshape()\r\n",
    "arange() -> Return evenly spaced values within a given interval.\r\n",
    "\r\n",
    "Values are generated within the half-open interval [start, stop) (in other words, the interval including start but excluding stop). For integer arguments the function is equivalent to the Python built-in range function, but returns an ndarray rather than a list.\r\n",
    "\r\n",
    "### Parameters\r\n",
    "### startinteger or real, optional\r\n",
    "Start of interval. The interval includes this value. The default start value is 0.\r\n",
    "\r\n",
    "### stopinteger or real\r\n",
    "End of interval. The interval does not include this value, except in some cases where step is not an integer and floating point round-off affects the length of out.\r\n",
    "\r\n",
    "### stepinteger or real, optional\r\n",
    "Spacing between values. For any output out, this is the distance between two adjacent values, out[i+1] - out[i]. The default step size is 1. If step is specified as a position argument, start must also be given."
   ],
   "metadata": {}
  },
  {
   "cell_type": "code",
   "execution_count": 4,
   "source": [
    "# numpy.arange([start, ]stop, [step, ]dtype=None, *, like=None)\r\n",
    "# Único obrigatório é o stop\r\n",
    "\r\n",
    "B1 = np.arange(10) # Passando o obrigatório \r\n",
    "print('B1 ',B1)\r\n",
    "\r\n",
    "A = np.arange(start=1, stop=20, step=3)\r\n",
    "print('A: ',A)"
   ],
   "outputs": [
    {
     "output_type": "stream",
     "name": "stdout",
     "text": [
      "B1  [0 1 2 3 4 5 6 7 8 9]\n",
      "A:  [ 1  4  7 10 13 16 19]\n"
     ]
    }
   ],
   "metadata": {}
  },
  {
   "cell_type": "markdown",
   "source": [
    "### reshape(linha,coluna)\r\n",
    "Gives a new shape to an array without changing its data."
   ],
   "metadata": {}
  },
  {
   "cell_type": "code",
   "execution_count": 5,
   "source": [
    "C = np.arange(6).reshape(2,3) # Em reshape, o produto das dimensões, tem que dar o que foi passado em arange\r\n",
    "print(C)\r\n",
    "\r\n",
    "D = B1.reshape(2,5)\r\n",
    "print(D)"
   ],
   "outputs": [
    {
     "output_type": "stream",
     "name": "stdout",
     "text": [
      "[[0 1 2]\n",
      " [3 4 5]]\n",
      "[[0 1 2 3 4]\n",
      " [5 6 7 8 9]]\n"
     ]
    }
   ],
   "metadata": {}
  }
 ]
}