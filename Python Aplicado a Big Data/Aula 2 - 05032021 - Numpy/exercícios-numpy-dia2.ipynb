{
 "cells": [
  {
   "cell_type": "code",
   "execution_count": 18,
   "metadata": {},
   "outputs": [],
   "source": [
    "# Importando numpy\n",
    "import numpy as np\n"
   ]
  },
  {
   "cell_type": "markdown",
   "metadata": {},
   "source": [
    "Exercício 2: Crie uma matriz de inteiros 5X2 de uma faixa entre 100 e 200 de forma que a diferença entre cada elemento seja de 10"
   ]
  },
  {
   "cell_type": "code",
   "execution_count": 22,
   "metadata": {},
   "outputs": [
    {
     "output_type": "stream",
     "name": "stdout",
     "text": [
      "A:  [[100 110]\n [120 130]\n [140 150]\n [160 170]\n [180 190]]\n"
     ]
    }
   ],
   "source": [
    "A = np.arange(start=100,stop=200,step=10).reshape(5,2)\n",
    "print('A: ', A)"
   ]
  },
  {
   "cell_type": "markdown",
   "metadata": {},
   "source": [
    "Exercício 4: Divida a matriz em quatro sub arrays de tamanho igual"
   ]
  },
  {
   "cell_type": "code",
   "execution_count": null,
   "metadata": {},
   "outputs": [],
   "source": []
  },
  {
   "cell_type": "markdown",
   "metadata": {},
   "source": [
    "Exercício 5: Crie uma matriz numpy de 3×3 de todos os True's"
   ]
  },
  {
   "cell_type": "code",
   "execution_count": 32,
   "metadata": {},
   "outputs": [
    {
     "output_type": "stream",
     "name": "stdout",
     "text": [
      "[[ True  True  True]\n [ True  True  True]\n [ True  True  True]]\n"
     ]
    }
   ],
   "source": [
    "A = np.ones((3,3),dtype=bool)\n",
    "print(A)"
   ]
  },
  {
   "source": [
    "Exercício 6: Extrair todos os números ímpares de um array chamado arr"
   ],
   "cell_type": "code",
   "metadata": {},
   "execution_count": null,
   "outputs": []
  },
  {
   "cell_type": "code",
   "execution_count": 27,
   "metadata": {},
   "outputs": [
    {
     "output_type": "stream",
     "name": "stdout",
     "text": [
      "[1 3 5]\n\n[[False  True]\n [ True False]\n [False  True]]\n"
     ]
    }
   ],
   "source": [
    "arr = np.array([[2,1],[3,4],[6,5]])\n",
    "\n",
    "print(arr[arr%2 != 0]) # Imprime os elementos cujos os índices atendem ao critério\n",
    "\n",
    "print()\n",
    "\n",
    "# Explicando\n",
    "print(arr%2 != 0)\n",
    "\n",
    "\n",
    "\n"
   ]
  },
  {
   "source": [
    "Exercicio 7: Substitua todos os números ímpares de um array chamado arr por -1\n",
    "\n"
   ],
   "cell_type": "markdown",
   "metadata": {}
  },
  {
   "cell_type": "code",
   "execution_count": 25,
   "metadata": {},
   "outputs": [
    {
     "output_type": "stream",
     "name": "stdout",
     "text": [
      "[[ 2 -1]\n [-1  4]\n [ 6 -1]]\n"
     ]
    }
   ],
   "source": [
    "arr[arr%2 != 0] = -1\n",
    "\n",
    "print(arr)"
   ]
  },
  {
   "cell_type": "markdown",
   "metadata": {},
   "source": [
    "Exercício 8: Converta uma matriz 1D em uma matriz 2D com 2 linhas"
   ]
  },
  {
   "cell_type": "code",
   "execution_count": 39,
   "metadata": {},
   "outputs": [
    {
     "output_type": "stream",
     "name": "stdout",
     "text": [
      "(1, 4)\nB:  [[1 2]\n [3 4]]\n"
     ]
    }
   ],
   "source": [
    "A = np.array([[1,2,3,4]])\n",
    "print(A.shape)\n",
    "\n",
    "B = A.reshape(2,-1) # O -1 detecta o número adequado de colunas\n",
    "\n",
    "print('B: ',B)"
   ]
  },
  {
   "cell_type": "code",
   "execution_count": null,
   "metadata": {},
   "outputs": [],
   "source": []
  }
 ],
 "metadata": {
  "kernelspec": {
   "display_name": "Python 3",
   "language": "python",
   "name": "python3"
  },
  "language_info": {
   "codemirror_mode": {
    "name": "ipython",
    "version": 3
   },
   "file_extension": ".py",
   "mimetype": "text/x-python",
   "name": "python",
   "nbconvert_exporter": "python",
   "pygments_lexer": "ipython3",
   "version": "3.7.4-final"
  }
 },
 "nbformat": 4,
 "nbformat_minor": 4
}