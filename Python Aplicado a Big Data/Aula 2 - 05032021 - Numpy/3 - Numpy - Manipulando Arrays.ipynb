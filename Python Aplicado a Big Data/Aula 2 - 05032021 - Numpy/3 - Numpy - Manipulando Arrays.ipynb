{
 "metadata": {
  "language_info": {
   "codemirror_mode": {
    "name": "ipython",
    "version": 3
   },
   "file_extension": ".py",
   "mimetype": "text/x-python",
   "name": "python",
   "nbconvert_exporter": "python",
   "pygments_lexer": "ipython3",
   "version": "3.8.5-final"
  },
  "orig_nbformat": 2,
  "kernelspec": {
   "name": "python3",
   "display_name": "Python 3.8.5 64-bit (conda)",
   "metadata": {
    "interpreter": {
     "hash": "b3ba2566441a7c06988d0923437866b63cedc61552a5af99d1f4fb67d367b25f"
    }
   }
  }
 },
 "nbformat": 4,
 "nbformat_minor": 2,
 "cells": [
  {
   "source": [
    "### Acessando colunas e linhas de uma matriz"
   ],
   "cell_type": "markdown",
   "metadata": {}
  },
  {
   "cell_type": "code",
   "execution_count": 1,
   "metadata": {},
   "outputs": [],
   "source": [
    "# import\n",
    "import numpy as np"
   ]
  },
  {
   "cell_type": "code",
   "execution_count": null,
   "metadata": {},
   "outputs": [],
   "source": [
    "A = np.array([[1,4,5,12],[8,6,9,7],[45,85,5,3]])\n",
    "print(A)\n",
    "print()\n",
    "\n",
    "print('A[:,0]: ',A[:,0]) # Primeira coluna\n",
    "print('A[:,3]: ',A[:,3]) # Última coluna\n",
    "print('A[:,-1]: ',A[:,-1]) # Última coluna\n",
    "print()\n",
    "\n",
    "# Linhas\n",
    "print('A[2,:]: ',A[2,:]) # Terceira linha\n",
    "print('A[1,:]: ',A[1,:]) # Segunda linha\n",
    "print('A[0,:]: ',A[0,:]) # Primeira linha\n",
    "\n",
    "# Elementos específicos\n",
    "print('A[0,1]: ',A[0,1]) # Primeira linha segunda coluna\n",
    "print('A[2,2]: ',A[2,2]) # Terceira linha terceira coluna\n",
    "print('A[1,0]: ',A[1,0]) # Segunda linha, primeira coluna"
   ]
  },
  {
   "source": [
    "### Fatiamento de array unidimensional"
   ],
   "cell_type": "markdown",
   "metadata": {}
  },
  {
   "cell_type": "code",
   "execution_count": null,
   "metadata": {},
   "outputs": [],
   "source": [
    "letters = np.array([1,2,3,4,5,6,7,8])\n",
    "\n",
    "# Do terceiro ao quinto elemento\n",
    "print(letters[2:5])\n",
    "\n",
    "# Do início a sexta posição\n",
    "print(letters[:6])\n",
    "\n",
    "# Posição inicial aleatória até o final\n",
    "print(letters[2:])\n",
    "\n",
    "# Imprime tudo\n",
    "print('Imprime tudo')\n",
    "print(letters)\n",
    "print(letters[:])\n",
    "\n",
    "# Inverte os elementos\n",
    "print(letters[::-1])\n",
    "print('reversed(letters) ', list(reversed(letters)))\n",
    "print('reversed(letters) ', tuple(reversed(letters)))\n",
    "\n"
   ]
  },
  {
   "source": [
    "### Fatiamento de um array de N dimensões"
   ],
   "cell_type": "markdown",
   "metadata": {}
  },
  {
   "cell_type": "code",
   "execution_count": null,
   "metadata": {},
   "outputs": [],
   "source": [
    "A = np.array([[8,5,3,7],[1,9,7,-3],[2,-8,7,3]])\n",
    "print(A.shape)\n",
    "print(A)\n",
    "\n",
    "print('A[:2,:4] ',A[:2,:4]) # Duas linhas, quatro colunas\n",
    "print('A[:,3]',A[:,3]) # Todas as linhas, terceira coluna\n",
    "print('A[1,:]',A[1,:]) # Primeira linha, todas as colunas\n",
    "print('A[:,2:5]',A[:,2:5]) # Todas as linhas, duas últimas colunas\n",
    "print('A[0:2,1:3]',A[0:2,1:3]) # Linha da posição 0 à 2, colunas da posição 1 à 3"
   ]
  }
 ]
}