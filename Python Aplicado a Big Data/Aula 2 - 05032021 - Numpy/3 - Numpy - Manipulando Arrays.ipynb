{
 "metadata": {
  "language_info": {
   "codemirror_mode": {
    "name": "ipython",
    "version": 3
   },
   "file_extension": ".py",
   "mimetype": "text/x-python",
   "name": "python",
   "nbconvert_exporter": "python",
   "pygments_lexer": "ipython3",
   "version": "3.8.8"
  },
  "orig_nbformat": 2,
  "kernelspec": {
   "name": "python3",
   "display_name": "Python 3.8.8 64-bit ('base': conda)"
  },
  "interpreter": {
   "hash": "c64659799d540f3c0cef722e5a9676765767ee7673080d93c86c8bbb95c72b5a"
  }
 },
 "nbformat": 4,
 "nbformat_minor": 2,
 "cells": [
  {
   "cell_type": "markdown",
   "source": [
    "### Acessando colunas e linhas de uma matriz"
   ],
   "metadata": {}
  },
  {
   "cell_type": "code",
   "execution_count": 2,
   "source": [
    "# import\r\n",
    "import numpy as np"
   ],
   "outputs": [],
   "metadata": {}
  },
  {
   "cell_type": "code",
   "execution_count": 3,
   "source": [
    "A = np.array([[1,4,5,12],[8,6,9,7],[45,85,5,3]])\r\n",
    "print(A)\r\n",
    "print()\r\n",
    "\r\n",
    "print('A[:,0]: ',A[:,0]) # Primeira coluna\r\n",
    "print('A[:,3]: ',A[:,3]) # Última coluna\r\n",
    "print('A[:,-1]: ',A[:,-1]) # Última coluna\r\n",
    "print()\r\n",
    "\r\n",
    "# Linhas\r\n",
    "print('A[2,:]: ',A[2,:]) # Terceira linha\r\n",
    "print('A[1,:]: ',A[1,:]) # Segunda linha\r\n",
    "print('A[0,:]: ',A[0,:]) # Primeira linha\r\n",
    "\r\n",
    "# Elementos específicos\r\n",
    "print('A[0,1]: ',A[0,1]) # Primeira linha segunda coluna\r\n",
    "print('A[2,2]: ',A[2,2]) # Terceira linha terceira coluna\r\n",
    "print('A[1,0]: ',A[1,0]) # Segunda linha, primeira coluna"
   ],
   "outputs": [
    {
     "output_type": "stream",
     "name": "stdout",
     "text": [
      "[[ 1  4  5 12]\n",
      " [ 8  6  9  7]\n",
      " [45 85  5  3]]\n",
      "\n",
      "A[:,0]:  [ 1  8 45]\n",
      "A[:,3]:  [12  7  3]\n",
      "A[:,-1]:  [12  7  3]\n",
      "\n",
      "A[2,:]:  [45 85  5  3]\n",
      "A[1,:]:  [8 6 9 7]\n",
      "A[0,:]:  [ 1  4  5 12]\n",
      "A[0,1]:  4\n",
      "A[2,2]:  5\n",
      "A[1,0]:  8\n"
     ]
    }
   ],
   "metadata": {}
  },
  {
   "cell_type": "markdown",
   "source": [
    "### Fatiamento de array unidimensional"
   ],
   "metadata": {}
  },
  {
   "cell_type": "code",
   "execution_count": 4,
   "source": [
    "letters = np.array([1,2,3,4,5,6,7,8])\r\n",
    "\r\n",
    "# Do terceiro ao quinto elemento\r\n",
    "print(letters[2:5])\r\n",
    "\r\n",
    "# Do início a sexta posição\r\n",
    "print(letters[:6])\r\n",
    "\r\n",
    "# Posição inicial aleatória até o final\r\n",
    "print(letters[2:])\r\n",
    "\r\n",
    "# Imprime tudo\r\n",
    "print('Imprime tudo')\r\n",
    "print(letters)\r\n",
    "print(letters[:])\r\n",
    "\r\n",
    "# Inverte os elementos\r\n",
    "print(letters[::-1])\r\n",
    "print('reversed(letters) ', list(reversed(letters)))\r\n",
    "print('reversed(letters) ', tuple(reversed(letters)))\r\n",
    "\r\n"
   ],
   "outputs": [
    {
     "output_type": "stream",
     "name": "stdout",
     "text": [
      "[3 4 5]\n",
      "[1 2 3 4 5 6]\n",
      "[3 4 5 6 7 8]\n",
      "Imprime tudo\n",
      "[1 2 3 4 5 6 7 8]\n",
      "[1 2 3 4 5 6 7 8]\n",
      "[8 7 6 5 4 3 2 1]\n",
      "reversed(letters)  [8, 7, 6, 5, 4, 3, 2, 1]\n",
      "reversed(letters)  (8, 7, 6, 5, 4, 3, 2, 1)\n"
     ]
    }
   ],
   "metadata": {}
  },
  {
   "cell_type": "markdown",
   "source": [
    "### Fatiamento de um array de N dimensões"
   ],
   "metadata": {}
  },
  {
   "cell_type": "code",
   "execution_count": 4,
   "source": [
    "A = np.array([[8,5,3,7],[1,9,7,-3],[2,-8,7,3]])\r\n",
    "print(A.shape)\r\n",
    "print(A)\r\n",
    "\r\n",
    "print('A[:2,:4] ',A[:2,:4]) # Duas linhas, quatro colunas\r\n",
    "print('A[:,3]',A[:,3]) # Todas as linhas, terceira coluna\r\n",
    "print('A[1,:]',A[1,:]) # Primeira linha, todas as colunas\r\n",
    "print('A[:,2:5]',A[:,2:5]) # Todas as linhas, duas últimas colunas\r\n",
    "print('A[0:2,1:3]',A[0:2,1:3]) # Linha da posição 0 à 2, colunas da posição 1 à 3"
   ],
   "outputs": [
    {
     "output_type": "stream",
     "name": "stdout",
     "text": [
      "(3, 4)\n",
      "[[ 8  5  3  7]\n",
      " [ 1  9  7 -3]\n",
      " [ 2 -8  7  3]]\n",
      "A[:2,:4]  [[ 8  5  3  7]\n",
      " [ 1  9  7 -3]]\n",
      "A[:,3] [ 7 -3  3]\n",
      "A[1,:] [ 1  9  7 -3]\n",
      "A[:,2:5] [[ 3  7]\n",
      " [ 7 -3]\n",
      " [ 7  3]]\n",
      "A[0:2,1:3] [[5 3]\n",
      " [9 7]]\n"
     ]
    }
   ],
   "metadata": {}
  }
 ]
}