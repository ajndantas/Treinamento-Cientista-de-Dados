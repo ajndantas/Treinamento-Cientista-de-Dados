{
 "metadata": {
  "language_info": {
   "codemirror_mode": {
    "name": "ipython",
    "version": 3
   },
   "file_extension": ".py",
   "mimetype": "text/x-python",
   "name": "python",
   "nbconvert_exporter": "python",
   "pygments_lexer": "ipython3",
   "version": "3.7.4-final"
  },
  "orig_nbformat": 2,
  "kernelspec": {
   "name": "python3",
   "display_name": "Python 3.7.4 64-bit (conda)",
   "metadata": {
    "interpreter": {
     "hash": "b3ba2566441a7c06988d0923437866b63cedc61552a5af99d1f4fb67d367b25f"
    }
   }
  }
 },
 "nbformat": 4,
 "nbformat_minor": 2,
 "cells": [
  {
   "source": [
    "## Criando Matrizes\n",
    "### dtype -> tipo da matriz"
   ],
   "cell_type": "markdown",
   "metadata": {}
  },
  {
   "cell_type": "code",
   "execution_count": 12,
   "metadata": {},
   "outputs": [
    {
     "output_type": "stream",
     "name": "stdout",
     "text": [
      "['azul', 'vermelho', 'roxo']\n<class 'list'>\n\n['azul' 'vermelho' 'roxo']\n<class 'numpy.ndarray'>\n<U8\n\n[1 2 3 4]\nint32\n"
     ]
    }
   ],
   "source": [
    "import numpy as np\n",
    "\n",
    "lista1 = ['azul','vermelho','roxo'] # Array python\n",
    "\n",
    "print(lista1)\n",
    "print(type(lista1))\n",
    "print()\n",
    "\n",
    "lista2 = np.array(['azul','vermelho','roxo']) # Em um array numpy, os dados precisam ser do mesmo tipo\n",
    "\n",
    "print(lista2)\n",
    "print(type(lista2))\n",
    "print(lista2.dtype)\n",
    "print()\n",
    "\n",
    "lista3 = np.array([1,2,3,4])\n",
    "print(lista3)\n",
    "print(lista3.dtype)"
   ]
  },
  {
   "source": [
    "## Array de inteiros\n",
    "### shape -> dimensão da matriz (linhas por colunas)"
   ],
   "cell_type": "markdown",
   "metadata": {}
  },
  {
   "cell_type": "code",
   "execution_count": 8,
   "metadata": {},
   "outputs": [
    {
     "output_type": "stream",
     "name": "stdout",
     "text": [
      "[[1 2 3]\n [3 4 5]]\nint32\n(2, 3)\n"
     ]
    }
   ],
   "source": [
    "import numpy as np\n",
    "\n",
    "A = np.array([[1,2,3],[3,4,5]])\n",
    "print(A)\n",
    "print(A.dtype)\n",
    "print(A.shape)"
   ]
  },
  {
   "source": [
    "## Array de floats"
   ],
   "cell_type": "markdown",
   "metadata": {}
  },
  {
   "cell_type": "code",
   "execution_count": 9,
   "metadata": {},
   "outputs": [
    {
     "output_type": "stream",
     "name": "stdout",
     "text": [
      "[[1.5 2.  3.7]\n [3.  4.  5. ]]\nfloat64\n(2, 3)\n"
     ]
    }
   ],
   "source": [
    "import numpy as np\n",
    "\n",
    "A = np.array([[1.5,2,3.7],[3,4,5]])\n",
    "print(A)\n",
    "print(A.dtype)\n",
    "print(A.shape)"
   ]
  },
  {
   "source": [
    "## Array de números complexos"
   ],
   "cell_type": "markdown",
   "metadata": {}
  },
  {
   "cell_type": "code",
   "execution_count": 10,
   "metadata": {},
   "outputs": [
    {
     "output_type": "stream",
     "name": "stdout",
     "text": [
      "[[1.5+0.j 2. +0.j 3.7+0.j]\n [3. +0.j 4. +0.j 5. +0.j]]\ncomplex128\n(2, 3)\n"
     ]
    }
   ],
   "source": [
    "import numpy as np\n",
    "\n",
    "A = np.array([[1.5,2,3.7],[3,4,5]],dtype = complex)\n",
    "print(A)\n",
    "print(A.dtype)\n",
    "print(A.shape)"
   ]
  },
  {
   "source": [
    "### Matriz de zeros e Ums"
   ],
   "cell_type": "markdown",
   "metadata": {}
  },
  {
   "cell_type": "code",
   "execution_count": 19,
   "metadata": {},
   "outputs": [
    {
     "output_type": "stream",
     "name": "stdout",
     "text": [
      "[[0. 0. 0.]\n [0. 0. 0.]]\n"
     ]
    }
   ],
   "source": [
    "import numpy as np\n",
    "\n",
    "matriz_zeros = np.zeros((2,3)) # O shape SEMPRE deve ser passado como uma tupla\n",
    "\n",
    "print(matriz_zeros)\n",
    "\n"
   ]
  },
  {
   "cell_type": "code",
   "execution_count": 25,
   "metadata": {},
   "outputs": [
    {
     "output_type": "stream",
     "name": "stdout",
     "text": [
      "[[1 1 1 1 1]]\nint32\n\n[[1 1 1 1 1]]\nint32\n"
     ]
    }
   ],
   "source": [
    "import numpy as np\n",
    "\n",
    "matriz_ones = np.ones((1,5),dtype=np.int32) # O shape SEMPRE deve ser passado como uma tupla. Aqui estamos passando um dtype do numpy, não do python, como foi no exemplo do array de complexos\n",
    "\n",
    "print(matriz_ones)\n",
    "print(matriz_ones.dtype)\n",
    "print()\n",
    "\n",
    "matriz_ones1 = np.ones((1,5),dtype = int)\n",
    "print(matriz_ones1)\n",
    "print(matriz_ones1.dtype)\n"
   ]
  },
  {
   "source": [
    "### Matriz Vazia"
   ],
   "cell_type": "markdown",
   "metadata": {}
  },
  {
   "cell_type": "code",
   "execution_count": 30,
   "metadata": {},
   "outputs": [
    {
     "output_type": "stream",
     "name": "stdout",
     "text": [
      "[[[2.58883487e-312 2.29175545e-312]\n  [0.00000000e+000 0.00000000e+000]\n  [2.14321575e-312 2.31297541e-312]]\n\n [[2.29175545e-312 2.35541533e-312]\n  [2.35541533e-312 2.35541533e-312]\n  [0.00000000e+000 0.00000000e+000]]]\n[[0. 0. 0.]\n [0. 0. 0.]]\n"
     ]
    }
   ],
   "source": [
    "import numpy as np\n",
    "\n",
    "mn = np.empty((2,3,2)) # As vezes vem lixo, por isso é melhor usar np.zeros. \n",
    "                       # Não é um array nulo, e sim, com zeros\n",
    "\n",
    "print(mn)\n",
    "\n",
    "mn1 = np.empty((2,3)) # As vezes vem lixo. \n",
    "print(mn1)"
   ]
  },
  {
   "source": [
    "### arange() e reshape()\n"
   ],
   "cell_type": "markdown",
   "metadata": {}
  },
  {
   "cell_type": "code",
   "execution_count": 34,
   "metadata": {},
   "outputs": [
    {
     "output_type": "stream",
     "name": "stdout",
     "text": [
      "A:  [ 1  4  7 10 13 16 19]\nB1  [0 1 2 3 4 5 6 7 8 9]\n[[0 1 2]\n [3 4 5]]\n[[0 1 2 3 4]\n [5 6 7 8 9]]\n"
     ]
    }
   ],
   "source": [
    "# numpy.arange([start, ]stop, [step, ]dtype=None, *, like=None)\n",
    "# Único obrigatório é o stop\n",
    "\n",
    "A = np.arange(start=1, stop=20, step=3)\n",
    "print('A: ',A)\n",
    "\n",
    "B1 = np.arange(10)\n",
    "print('B1 ',B1)\n",
    "\n",
    "C = np.arange(6).reshape(2,3) # O produto tem que dar o que foi passado em arange\n",
    "print(C)\n",
    "\n",
    "D = B1.reshape(2,5)\n",
    "print(D)\n",
    "\n",
    "\n"
   ]
  },
  {
   "source": [
    "### Operações com matrizes"
   ],
   "cell_type": "markdown",
   "metadata": {}
  },
  {
   "source": [
    "<li>Adição"
   ],
   "cell_type": "markdown",
   "metadata": {}
  },
  {
   "cell_type": "code",
   "execution_count": 37,
   "metadata": {},
   "outputs": [
    {
     "output_type": "stream",
     "name": "stdout",
     "text": [
      "A:  [[ 3  5]\n [-4  8]]\nB:  [[ 2 -8]\n [ 3  7]]\nResultado:  [[ 5 -3]\n [-1 15]]\n"
     ]
    }
   ],
   "source": [
    "A = np.array([[3,5],[-4,8]])\n",
    "B = np.array([[2,-8],[3,7]])\n",
    "\n",
    "print('A: ',A)\n",
    "print('B: ',B)\n",
    "\n",
    "C = A + B\n",
    "\n",
    "print('Resultado da operação: ', C)\n",
    "\n"
   ]
  },
  {
   "source": [
    "<li> Multiplicação"
   ],
   "cell_type": "markdown",
   "metadata": {}
  },
  {
   "cell_type": "code",
   "execution_count": 44,
   "metadata": {},
   "outputs": [
    {
     "output_type": "stream",
     "name": "stdout",
     "text": [
      "A:  [[ 3  6  7]\n [-5  3  0]]\n(2, 3)\n\nB:  [[ 7  9  1]\n [ 2 -8  4]]\n(2, 3)\n\nResultado:  [[ 21  54   7]\n [-10 -24   0]]\n(2, 3)\n\nD:  [[1 3]\n [5 6]\n [8 5]]\n(3, 2)\n\nResultado E  [[89 80]\n [10  3]]\n(2, 2)\n"
     ]
    }
   ],
   "source": [
    "A = np.array([[3,6,7],[-5,3,0]])\n",
    "B = np.array([[7,9,1],[2,-8,4]])\n",
    "\n",
    "print('A: ',A)\n",
    "print(A.shape)\n",
    "print()\n",
    "\n",
    "print('B: ',B)\n",
    "print(B.shape)\n",
    "print()\n",
    "\n",
    "C = A*B\n",
    "\n",
    "print('Resultado da operação: ',C)\n",
    "print(C.shape)\n",
    "print()\n",
    "\n",
    "D = np.array([[1,3],[5,6],[8,5]])\n",
    "print('D: ',D)\n",
    "print(D.shape)\n",
    "print()\n",
    "E = A.dot(D)\n",
    "print('Resultado da operação ', E)\n",
    "print(E.shape)\n"
   ]
  },
  {
   "source": [
    "<li> Subtração"
   ],
   "cell_type": "markdown",
   "metadata": {}
  },
  {
   "cell_type": "code",
   "execution_count": 45,
   "metadata": {},
   "outputs": [
    {
     "output_type": "stream",
     "name": "stdout",
     "text": [
      "A  [[ 2  4]\n [ 5 -6]]\nB  [[ 9 -3]\n [ 8  1]]\nResultado:  [[-7  7]\n [-3 -7]]\n"
     ]
    }
   ],
   "source": [
    "A = np.array([[2,4],[5,-6]])\n",
    "B = np.array([[9,-3],[8,1]])\n",
    "\n",
    "print('A ',A)\n",
    "print('B ',B)\n",
    "C = A - B\n",
    "print('Resultado da operação: ',C)"
   ]
  },
  {
   "source": [
    "<li> Transposição"
   ],
   "cell_type": "markdown",
   "metadata": {}
  },
  {
   "cell_type": "code",
   "execution_count": 48,
   "metadata": {},
   "outputs": [
    {
     "output_type": "stream",
     "name": "stdout",
     "text": [
      "Shape de A  (3, 2)\nShape de B (2, 3)\n"
     ]
    }
   ],
   "source": [
    "A = np.array([[2,7],[5,2],[3,8]])\n",
    "\n",
    "print('Shape de A ',A.shape)\n",
    "\n",
    "B = A.transpose()\n",
    "print('Shape de B ',B.shape)\n"
   ]
  },
  {
   "cell_type": "code",
   "execution_count": null,
   "metadata": {},
   "outputs": [],
   "source": []
  }
 ]
}