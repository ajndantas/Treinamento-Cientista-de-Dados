{
 "cells": [
  {
   "source": [
    "### Manipulando dataframes\n",
    "#### Selecionar linhas pelo indice\n",
    "[(Utilizando pandas.DataFrame.loc)](https://pandas.pydata.org/pandas-docs/stable/reference/api/pandas.DataFrame.loc.html#pandas-dataframe-loc) Acesse um grupo de linhas e colunas por rótulo(s) ou uma matriz booleana."
   ],
   "cell_type": "markdown",
   "metadata": {}
  },
  {
   "cell_type": "code",
   "execution_count": 5,
   "metadata": {},
   "outputs": [],
   "source": [
    "import pandas as pd"
   ]
  },
  {
   "cell_type": "code",
   "execution_count": 6,
   "metadata": {},
   "outputs": [],
   "source": [
    "# Criando um dataframe\n",
    "frame_data = {'nome'  : ['Berry', 'Kara', 'Clark'], \n",
    "              'idade' : [28, 32, 52], \n",
    "              'função': ['Office Boy', 'Enfermeira', 'Ascensorista']}\n",
    "\n",
    "df = pd.DataFrame(frame_data)"
   ]
  },
  {
   "cell_type": "code",
   "execution_count": 7,
   "metadata": {},
   "outputs": [
    {
     "output_type": "stream",
     "name": "stdout",
     "text": [
      "Dataframe\n    nome  idade        função\n0  Berry     28    Office Boy\n1   Kara     32    Enfermeira\n2  Clark     52  Ascensorista\n\n"
     ]
    }
   ],
   "source": [
    "print(\"Dataframe\")\n",
    "print(df)\n",
    "print()"
   ]
  },
  {
   "source": [
    "#### O uso do loc[] é para índices do dataframe\n",
    "À frente, será visto que também pode-se usar a forma de acesso do numby com \":\""
   ],
   "cell_type": "markdown",
   "metadata": {}
  },
  {
   "cell_type": "code",
   "execution_count": 8,
   "metadata": {},
   "outputs": [
    {
     "output_type": "stream",
     "name": "stdout",
     "text": [
      "Acessando por valor do indice, são retornadas todas as colunas da linha(índice) informado\nnome           Berry\nidade             28\nfunção    Office Boy\nName: 0, dtype: object\n\nResultado exibido como:  <class 'pandas.core.series.Series'>\n\n    nome  idade      função\n0  Berry     28  Office Boy\nResultado exibido como:  <class 'pandas.core.frame.DataFrame'>\n\nRetornando mais de 1 registro baseando-se no indíce\n    nome  idade        função\n1   Kara     32    Enfermeira\n2  Clark     52  Ascensorista\n"
     ]
    }
   ],
   "source": [
    "print(\"Acessando por valor do indice, são retornadas todas as colunas da linha(índice) informado\")\n",
    "print(df.loc[0])\n",
    "print()\n",
    "print(\"Resultado exibido como: \",type(df.loc[0]))\n",
    "print()\n",
    "print(df.loc[[0]])\n",
    "print(\"Resultado exibido como: \",type(df.loc[[0]]))\n",
    "print()\n",
    "\n",
    "print(\"Retornando mais de 1 registro baseando-se no indíce\")\n",
    "print(df.loc[[1,2]])"
   ]
  },
  {
   "cell_type": "markdown",
   "metadata": {},
   "source": [
    "#### Acessando colunas diretamente (o resultado é uma pandas.series)"
   ]
  },
  {
   "cell_type": "code",
   "execution_count": 9,
   "metadata": {},
   "outputs": [
    {
     "output_type": "execute_result",
     "data": {
      "text/plain": [
       "0    Berry\n",
       "1     Kara\n",
       "2    Clark\n",
       "Name: nome, dtype: object"
      ]
     },
     "metadata": {},
     "execution_count": 9
    }
   ],
   "source": [
    "df['nome']"
   ]
  },
  {
   "cell_type": "code",
   "execution_count": 10,
   "metadata": {},
   "outputs": [
    {
     "output_type": "execute_result",
     "data": {
      "text/plain": [
       "0    Berry\n",
       "1     Kara\n",
       "2    Clark\n",
       "Name: nome, dtype: object"
      ]
     },
     "metadata": {},
     "execution_count": 10
    }
   ],
   "source": [
    "# semelhante ao anterior\n",
    "df.nome"
   ]
  },
  {
   "cell_type": "code",
   "execution_count": 11,
   "metadata": {},
   "outputs": [
    {
     "output_type": "execute_result",
     "data": {
      "text/plain": [
       "0    28\n",
       "1    32\n",
       "2    52\n",
       "Name: idade, dtype: int64"
      ]
     },
     "metadata": {},
     "execution_count": 11
    }
   ],
   "source": [
    "df['idade']"
   ]
  },
  {
   "cell_type": "code",
   "execution_count": 12,
   "metadata": {},
   "outputs": [
    {
     "output_type": "execute_result",
     "data": {
      "text/plain": [
       "0    28\n",
       "1    32\n",
       "2    52\n",
       "Name: idade, dtype: int64"
      ]
     },
     "metadata": {},
     "execution_count": 12
    }
   ],
   "source": [
    "# semelhante ao anterior\n",
    "df.idade"
   ]
  },
  {
   "cell_type": "code",
   "execution_count": 13,
   "metadata": {},
   "outputs": [
    {
     "output_type": "execute_result",
     "data": {
      "text/plain": [
       "0      Office Boy\n",
       "1      Enfermeira\n",
       "2    Ascensorista\n",
       "Name: função, dtype: object"
      ]
     },
     "metadata": {},
     "execution_count": 13
    }
   ],
   "source": [
    "df['função']"
   ]
  },
  {
   "cell_type": "code",
   "execution_count": 14,
   "metadata": {},
   "outputs": [
    {
     "output_type": "execute_result",
     "data": {
      "text/plain": [
       "0      Office Boy\n",
       "1      Enfermeira\n",
       "2    Ascensorista\n",
       "Name: função, dtype: object"
      ]
     },
     "metadata": {},
     "execution_count": 14
    }
   ],
   "source": [
    "# semelhante ao anterior\n",
    "df.função"
   ]
  },
  {
   "cell_type": "markdown",
   "metadata": {},
   "source": [
    "#### Acessando uma linha com base no valor"
   ]
  },
  {
   "cell_type": "code",
   "execution_count": 15,
   "metadata": {},
   "outputs": [
    {
     "output_type": "execute_result",
     "data": {
      "text/plain": [
       "   nome  idade      função\n",
       "1  Kara     32  Enfermeira"
      ],
      "text/html": "<div>\n<style scoped>\n    .dataframe tbody tr th:only-of-type {\n        vertical-align: middle;\n    }\n\n    .dataframe tbody tr th {\n        vertical-align: top;\n    }\n\n    .dataframe thead th {\n        text-align: right;\n    }\n</style>\n<table border=\"1\" class=\"dataframe\">\n  <thead>\n    <tr style=\"text-align: right;\">\n      <th></th>\n      <th>nome</th>\n      <th>idade</th>\n      <th>função</th>\n    </tr>\n  </thead>\n  <tbody>\n    <tr>\n      <th>1</th>\n      <td>Kara</td>\n      <td>32</td>\n      <td>Enfermeira</td>\n    </tr>\n  </tbody>\n</table>\n</div>"
     },
     "metadata": {},
     "execution_count": 15
    }
   ],
   "source": [
    "df.loc[df['nome'] == 'Kara']"
   ]
  },
  {
   "cell_type": "code",
   "execution_count": 16,
   "metadata": {},
   "outputs": [
    {
     "output_type": "execute_result",
     "data": {
      "text/plain": [
       "0    False\n",
       "1     True\n",
       "2    False\n",
       "Name: nome, dtype: bool"
      ]
     },
     "metadata": {},
     "execution_count": 16
    }
   ],
   "source": [
    "df['nome'] == 'Kara'"
   ]
  },
  {
   "cell_type": "code",
   "execution_count": 17,
   "metadata": {},
   "outputs": [
    {
     "output_type": "execute_result",
     "data": {
      "text/plain": [
       "   nome  idade      função\n",
       "1  Kara     32  Enfermeira"
      ],
      "text/html": "<div>\n<style scoped>\n    .dataframe tbody tr th:only-of-type {\n        vertical-align: middle;\n    }\n\n    .dataframe tbody tr th {\n        vertical-align: top;\n    }\n\n    .dataframe thead th {\n        text-align: right;\n    }\n</style>\n<table border=\"1\" class=\"dataframe\">\n  <thead>\n    <tr style=\"text-align: right;\">\n      <th></th>\n      <th>nome</th>\n      <th>idade</th>\n      <th>função</th>\n    </tr>\n  </thead>\n  <tbody>\n    <tr>\n      <th>1</th>\n      <td>Kara</td>\n      <td>32</td>\n      <td>Enfermeira</td>\n    </tr>\n  </tbody>\n</table>\n</div>"
     },
     "metadata": {},
     "execution_count": 17
    }
   ],
   "source": [
    "df.loc[df['função'] == 'Enfermeira']"
   ]
  },
  {
   "cell_type": "code",
   "execution_count": 18,
   "metadata": {},
   "outputs": [
    {
     "output_type": "execute_result",
     "data": {
      "text/plain": [
       "    nome  idade      função\n",
       "0  Berry     28  Office Boy"
      ],
      "text/html": "<div>\n<style scoped>\n    .dataframe tbody tr th:only-of-type {\n        vertical-align: middle;\n    }\n\n    .dataframe tbody tr th {\n        vertical-align: top;\n    }\n\n    .dataframe thead th {\n        text-align: right;\n    }\n</style>\n<table border=\"1\" class=\"dataframe\">\n  <thead>\n    <tr style=\"text-align: right;\">\n      <th></th>\n      <th>nome</th>\n      <th>idade</th>\n      <th>função</th>\n    </tr>\n  </thead>\n  <tbody>\n    <tr>\n      <th>0</th>\n      <td>Berry</td>\n      <td>28</td>\n      <td>Office Boy</td>\n    </tr>\n  </tbody>\n</table>\n</div>"
     },
     "metadata": {},
     "execution_count": 18
    }
   ],
   "source": [
    "df.loc[df['idade'] == 28]"
   ]
  },
  {
   "source": [
    "#### Utilizando a sintaxe de fatiamento podemos alcançar os mesmos resultado da utilização do .loc com índice\n",
    "Fatiamento -> semelhante a loc[], **logo se utiliza de índices também**\n",
    "<br>Após o \":\" é o tamanho"
   ],
   "cell_type": "markdown",
   "metadata": {}
  },
  {
   "cell_type": "code",
   "execution_count": 19,
   "metadata": {},
   "outputs": [
    {
     "output_type": "execute_result",
     "data": {
      "text/plain": [
       "    nome  idade        função\n",
       "0  Berry     28    Office Boy\n",
       "1   Kara     32    Enfermeira\n",
       "2  Clark     52  Ascensorista"
      ],
      "text/html": "<div>\n<style scoped>\n    .dataframe tbody tr th:only-of-type {\n        vertical-align: middle;\n    }\n\n    .dataframe tbody tr th {\n        vertical-align: top;\n    }\n\n    .dataframe thead th {\n        text-align: right;\n    }\n</style>\n<table border=\"1\" class=\"dataframe\">\n  <thead>\n    <tr style=\"text-align: right;\">\n      <th></th>\n      <th>nome</th>\n      <th>idade</th>\n      <th>função</th>\n    </tr>\n  </thead>\n  <tbody>\n    <tr>\n      <th>0</th>\n      <td>Berry</td>\n      <td>28</td>\n      <td>Office Boy</td>\n    </tr>\n    <tr>\n      <th>1</th>\n      <td>Kara</td>\n      <td>32</td>\n      <td>Enfermeira</td>\n    </tr>\n    <tr>\n      <th>2</th>\n      <td>Clark</td>\n      <td>52</td>\n      <td>Ascensorista</td>\n    </tr>\n  </tbody>\n</table>\n</div>"
     },
     "metadata": {},
     "execution_count": 19
    }
   ],
   "source": [
    "df[0:3]"
   ]
  },
  {
   "cell_type": "code",
   "execution_count": 20,
   "metadata": {},
   "outputs": [
    {
     "output_type": "execute_result",
     "data": {
      "text/plain": [
       "    nome  idade        função\n",
       "0  Berry     28    Office Boy\n",
       "1   Kara     32    Enfermeira\n",
       "2  Clark     52  Ascensorista"
      ],
      "text/html": "<div>\n<style scoped>\n    .dataframe tbody tr th:only-of-type {\n        vertical-align: middle;\n    }\n\n    .dataframe tbody tr th {\n        vertical-align: top;\n    }\n\n    .dataframe thead th {\n        text-align: right;\n    }\n</style>\n<table border=\"1\" class=\"dataframe\">\n  <thead>\n    <tr style=\"text-align: right;\">\n      <th></th>\n      <th>nome</th>\n      <th>idade</th>\n      <th>função</th>\n    </tr>\n  </thead>\n  <tbody>\n    <tr>\n      <th>0</th>\n      <td>Berry</td>\n      <td>28</td>\n      <td>Office Boy</td>\n    </tr>\n    <tr>\n      <th>1</th>\n      <td>Kara</td>\n      <td>32</td>\n      <td>Enfermeira</td>\n    </tr>\n    <tr>\n      <th>2</th>\n      <td>Clark</td>\n      <td>52</td>\n      <td>Ascensorista</td>\n    </tr>\n  </tbody>\n</table>\n</div>"
     },
     "metadata": {},
     "execution_count": 20
    }
   ],
   "source": [
    "df[0:]"
   ]
  },
  {
   "cell_type": "code",
   "execution_count": 21,
   "metadata": {},
   "outputs": [
    {
     "output_type": "execute_result",
     "data": {
      "text/plain": [
       "0    Berry\n",
       "1     Kara\n",
       "2    Clark\n",
       "Name: nome, dtype: object"
      ]
     },
     "metadata": {},
     "execution_count": 21
    }
   ],
   "source": [
    "df['nome']"
   ]
  },
  {
   "source": [
    "#### Aplicar funções em linhas / colunas\n",
    "[Método Apply](https://pandas.pydata.org/pandas-docs/stable/reference/api/pandas.DataFrame.apply.html#pandas-dataframe-apply) Aplique uma função ao longo de um eixo do DataFrame.<br>\n",
    "Por padrão, a função é aplicada em todas as colunas. Para aplicar em linhas, utilize o parâmetro axis = 1"
   ],
   "cell_type": "markdown",
   "metadata": {}
  },
  {
   "source": [
    "#### Raíz quadrada"
   ],
   "cell_type": "markdown",
   "metadata": {}
  },
  {
   "cell_type": "code",
   "execution_count": 22,
   "metadata": {},
   "outputs": [
    {
     "output_type": "stream",
     "name": "stdout",
     "text": [
      "   A   B   C\n0  1  18  54\n1  2  20  12\n2  3  22  13\n\n"
     ]
    },
    {
     "output_type": "execute_result",
     "data": {
      "text/plain": [
       "          A         B         C\n",
       "0  1.000000  4.242641  7.348469\n",
       "1  1.414214  4.472136  3.464102\n",
       "2  1.732051  4.690416  3.605551"
      ],
      "text/html": "<div>\n<style scoped>\n    .dataframe tbody tr th:only-of-type {\n        vertical-align: middle;\n    }\n\n    .dataframe tbody tr th {\n        vertical-align: top;\n    }\n\n    .dataframe thead th {\n        text-align: right;\n    }\n</style>\n<table border=\"1\" class=\"dataframe\">\n  <thead>\n    <tr style=\"text-align: right;\">\n      <th></th>\n      <th>A</th>\n      <th>B</th>\n      <th>C</th>\n    </tr>\n  </thead>\n  <tbody>\n    <tr>\n      <th>0</th>\n      <td>1.000000</td>\n      <td>4.242641</td>\n      <td>7.348469</td>\n    </tr>\n    <tr>\n      <th>1</th>\n      <td>1.414214</td>\n      <td>4.472136</td>\n      <td>3.464102</td>\n    </tr>\n    <tr>\n      <th>2</th>\n      <td>1.732051</td>\n      <td>4.690416</td>\n      <td>3.605551</td>\n    </tr>\n  </tbody>\n</table>\n</div>"
     },
     "metadata": {},
     "execution_count": 22
    }
   ],
   "source": [
    "# aplicar a raiz quadrada em todas as colunas(que sejam numericas)\n",
    "## Criar dataframes\n",
    "import numpy as np\n",
    "\n",
    "frame_data = {'A': [1, 2, 3], 'B': [18, 20, 22], 'C': [54, 12, 13]}\n",
    "\n",
    "df = pd.DataFrame(frame_data)\n",
    "\n",
    "print(df)\n",
    "print()\n",
    "\n",
    "df.apply(np.sqrt)"
   ]
  },
  {
   "source": [
    "#### Aplicar soma"
   ],
   "cell_type": "markdown",
   "metadata": {}
  },
  {
   "cell_type": "code",
   "execution_count": 23,
   "metadata": {},
   "outputs": [
    {
     "output_type": "execute_result",
     "data": {
      "text/plain": [
       "A     6\n",
       "B    60\n",
       "C    79\n",
       "dtype: int64"
      ]
     },
     "metadata": {},
     "execution_count": 23
    }
   ],
   "source": [
    "\n",
    "df.apply(np.sum)"
   ]
  },
  {
   "cell_type": "markdown",
   "metadata": {},
   "source": [
    "#### Classificar valores por linha/coluna\n",
    "[Método sort_values](https://pandas.pydata.org/pandas-docs/stable/reference/api/pandas.DataFrame.sort_values.html#pandas-dataframe-sort-values) Classifique pelos valores ao longo de cada eixo."
   ]
  },
  {
   "source": [
    "#### Classificando por coluna"
   ],
   "cell_type": "markdown",
   "metadata": {}
  },
  {
   "cell_type": "code",
   "execution_count": 24,
   "metadata": {},
   "outputs": [
    {
     "output_type": "execute_result",
     "data": {
      "text/plain": [
       "    A   B    C\n",
       "1  12  20  112\n",
       "0  23  18   54\n",
       "2  30  22   13"
      ],
      "text/html": "<div>\n<style scoped>\n    .dataframe tbody tr th:only-of-type {\n        vertical-align: middle;\n    }\n\n    .dataframe tbody tr th {\n        vertical-align: top;\n    }\n\n    .dataframe thead th {\n        text-align: right;\n    }\n</style>\n<table border=\"1\" class=\"dataframe\">\n  <thead>\n    <tr style=\"text-align: right;\">\n      <th></th>\n      <th>A</th>\n      <th>B</th>\n      <th>C</th>\n    </tr>\n  </thead>\n  <tbody>\n    <tr>\n      <th>1</th>\n      <td>12</td>\n      <td>20</td>\n      <td>112</td>\n    </tr>\n    <tr>\n      <th>0</th>\n      <td>23</td>\n      <td>18</td>\n      <td>54</td>\n    </tr>\n    <tr>\n      <th>2</th>\n      <td>30</td>\n      <td>22</td>\n      <td>13</td>\n    </tr>\n  </tbody>\n</table>\n</div>"
     },
     "metadata": {},
     "execution_count": 24
    }
   ],
   "source": [
    "frame_data = {'A': [23, 12, 30], 'B': [18, 20, 22], 'C': [54, 112, 13]}\n",
    "\n",
    "df = pd.DataFrame(frame_data)\n",
    "\n",
    "df.sort_values(by='A')"
   ]
  },
  {
   "cell_type": "code",
   "execution_count": 25,
   "metadata": {},
   "outputs": [
    {
     "output_type": "stream",
     "name": "stdout",
     "text": [
      "  col1  col2  col3 col4\n0    A     2     0    a\n1    A     1     1    B\n2    B     9     9    c\n3  NaN     8     4    D\n4    D     7     2    e\n5    C     4     3    F\n\n"
     ]
    },
    {
     "output_type": "execute_result",
     "data": {
      "text/plain": [
       "  col1  col2  col3 col4\n",
       "0    A     2     0    a\n",
       "1    A     1     1    B\n",
       "2    B     9     9    c\n",
       "5    C     4     3    F\n",
       "4    D     7     2    e\n",
       "3  NaN     8     4    D"
      ],
      "text/html": "<div>\n<style scoped>\n    .dataframe tbody tr th:only-of-type {\n        vertical-align: middle;\n    }\n\n    .dataframe tbody tr th {\n        vertical-align: top;\n    }\n\n    .dataframe thead th {\n        text-align: right;\n    }\n</style>\n<table border=\"1\" class=\"dataframe\">\n  <thead>\n    <tr style=\"text-align: right;\">\n      <th></th>\n      <th>col1</th>\n      <th>col2</th>\n      <th>col3</th>\n      <th>col4</th>\n    </tr>\n  </thead>\n  <tbody>\n    <tr>\n      <th>0</th>\n      <td>A</td>\n      <td>2</td>\n      <td>0</td>\n      <td>a</td>\n    </tr>\n    <tr>\n      <th>1</th>\n      <td>A</td>\n      <td>1</td>\n      <td>1</td>\n      <td>B</td>\n    </tr>\n    <tr>\n      <th>2</th>\n      <td>B</td>\n      <td>9</td>\n      <td>9</td>\n      <td>c</td>\n    </tr>\n    <tr>\n      <th>5</th>\n      <td>C</td>\n      <td>4</td>\n      <td>3</td>\n      <td>F</td>\n    </tr>\n    <tr>\n      <th>4</th>\n      <td>D</td>\n      <td>7</td>\n      <td>2</td>\n      <td>e</td>\n    </tr>\n    <tr>\n      <th>3</th>\n      <td>NaN</td>\n      <td>8</td>\n      <td>4</td>\n      <td>D</td>\n    </tr>\n  </tbody>\n</table>\n</div>"
     },
     "metadata": {},
     "execution_count": 25
    }
   ],
   "source": [
    "f = pd.DataFrame({\n",
    "\n",
    "    'col1': ['A', 'A', 'B', np.nan, 'D', 'C'],\n",
    "\n",
    "    'col2': [2, 1, 9, 8, 7, 4],\n",
    "\n",
    "    'col3': [0, 1, 9, 4, 2, 3],\n",
    "\n",
    "    'col4': ['a', 'B', 'c', 'D', 'e', 'F']\n",
    "\n",
    "})\n",
    "\n",
    "print(f)\n",
    "print()\n",
    "\n",
    "f.sort_values(by=['col1'])"
   ]
  },
  {
   "source": [
    "#### Classificando por múltiplas colunas"
   ],
   "cell_type": "markdown",
   "metadata": {}
  },
  {
   "cell_type": "code",
   "execution_count": 26,
   "metadata": {},
   "outputs": [
    {
     "output_type": "execute_result",
     "data": {
      "text/plain": [
       "  col1  col2  col3 col4\n",
       "1    A     1     1    B\n",
       "0    A     2     0    a\n",
       "2    B     9     9    c\n",
       "5    C     4     3    F\n",
       "4    D     7     2    e\n",
       "3  NaN     8     4    D"
      ],
      "text/html": "<div>\n<style scoped>\n    .dataframe tbody tr th:only-of-type {\n        vertical-align: middle;\n    }\n\n    .dataframe tbody tr th {\n        vertical-align: top;\n    }\n\n    .dataframe thead th {\n        text-align: right;\n    }\n</style>\n<table border=\"1\" class=\"dataframe\">\n  <thead>\n    <tr style=\"text-align: right;\">\n      <th></th>\n      <th>col1</th>\n      <th>col2</th>\n      <th>col3</th>\n      <th>col4</th>\n    </tr>\n  </thead>\n  <tbody>\n    <tr>\n      <th>1</th>\n      <td>A</td>\n      <td>1</td>\n      <td>1</td>\n      <td>B</td>\n    </tr>\n    <tr>\n      <th>0</th>\n      <td>A</td>\n      <td>2</td>\n      <td>0</td>\n      <td>a</td>\n    </tr>\n    <tr>\n      <th>2</th>\n      <td>B</td>\n      <td>9</td>\n      <td>9</td>\n      <td>c</td>\n    </tr>\n    <tr>\n      <th>5</th>\n      <td>C</td>\n      <td>4</td>\n      <td>3</td>\n      <td>F</td>\n    </tr>\n    <tr>\n      <th>4</th>\n      <td>D</td>\n      <td>7</td>\n      <td>2</td>\n      <td>e</td>\n    </tr>\n    <tr>\n      <th>3</th>\n      <td>NaN</td>\n      <td>8</td>\n      <td>4</td>\n      <td>D</td>\n    </tr>\n  </tbody>\n</table>\n</div>"
     },
     "metadata": {},
     "execution_count": 26
    }
   ],
   "source": [
    "f.sort_values(by=['col1', 'col2'])"
   ]
  },
  {
   "source": [
    "#### Classificando de formas descendente"
   ],
   "cell_type": "markdown",
   "metadata": {}
  },
  {
   "cell_type": "code",
   "execution_count": 27,
   "metadata": {},
   "outputs": [
    {
     "output_type": "execute_result",
     "data": {
      "text/plain": [
       "  col1  col2  col3 col4\n",
       "4    D     7     2    e\n",
       "5    C     4     3    F\n",
       "2    B     9     9    c\n",
       "0    A     2     0    a\n",
       "1    A     1     1    B\n",
       "3  NaN     8     4    D"
      ],
      "text/html": "<div>\n<style scoped>\n    .dataframe tbody tr th:only-of-type {\n        vertical-align: middle;\n    }\n\n    .dataframe tbody tr th {\n        vertical-align: top;\n    }\n\n    .dataframe thead th {\n        text-align: right;\n    }\n</style>\n<table border=\"1\" class=\"dataframe\">\n  <thead>\n    <tr style=\"text-align: right;\">\n      <th></th>\n      <th>col1</th>\n      <th>col2</th>\n      <th>col3</th>\n      <th>col4</th>\n    </tr>\n  </thead>\n  <tbody>\n    <tr>\n      <th>4</th>\n      <td>D</td>\n      <td>7</td>\n      <td>2</td>\n      <td>e</td>\n    </tr>\n    <tr>\n      <th>5</th>\n      <td>C</td>\n      <td>4</td>\n      <td>3</td>\n      <td>F</td>\n    </tr>\n    <tr>\n      <th>2</th>\n      <td>B</td>\n      <td>9</td>\n      <td>9</td>\n      <td>c</td>\n    </tr>\n    <tr>\n      <th>0</th>\n      <td>A</td>\n      <td>2</td>\n      <td>0</td>\n      <td>a</td>\n    </tr>\n    <tr>\n      <th>1</th>\n      <td>A</td>\n      <td>1</td>\n      <td>1</td>\n      <td>B</td>\n    </tr>\n    <tr>\n      <th>3</th>\n      <td>NaN</td>\n      <td>8</td>\n      <td>4</td>\n      <td>D</td>\n    </tr>\n  </tbody>\n</table>\n</div>"
     },
     "metadata": {},
     "execution_count": 27
    }
   ],
   "source": [
    "f.sort_values(by='col1', ascending=False)"
   ]
  },
  {
   "source": [
    "#### Classificando colocando os NaNs para aparecer primeiro"
   ],
   "cell_type": "markdown",
   "metadata": {}
  },
  {
   "cell_type": "code",
   "execution_count": 28,
   "metadata": {},
   "outputs": [
    {
     "output_type": "execute_result",
     "data": {
      "text/plain": [
       "  col1  col2  col3 col4\n",
       "3  NaN     8     4    D\n",
       "4    D     7     2    e\n",
       "5    C     4     3    F\n",
       "2    B     9     9    c\n",
       "0    A     2     0    a\n",
       "1    A     1     1    B"
      ],
      "text/html": "<div>\n<style scoped>\n    .dataframe tbody tr th:only-of-type {\n        vertical-align: middle;\n    }\n\n    .dataframe tbody tr th {\n        vertical-align: top;\n    }\n\n    .dataframe thead th {\n        text-align: right;\n    }\n</style>\n<table border=\"1\" class=\"dataframe\">\n  <thead>\n    <tr style=\"text-align: right;\">\n      <th></th>\n      <th>col1</th>\n      <th>col2</th>\n      <th>col3</th>\n      <th>col4</th>\n    </tr>\n  </thead>\n  <tbody>\n    <tr>\n      <th>3</th>\n      <td>NaN</td>\n      <td>8</td>\n      <td>4</td>\n      <td>D</td>\n    </tr>\n    <tr>\n      <th>4</th>\n      <td>D</td>\n      <td>7</td>\n      <td>2</td>\n      <td>e</td>\n    </tr>\n    <tr>\n      <th>5</th>\n      <td>C</td>\n      <td>4</td>\n      <td>3</td>\n      <td>F</td>\n    </tr>\n    <tr>\n      <th>2</th>\n      <td>B</td>\n      <td>9</td>\n      <td>9</td>\n      <td>c</td>\n    </tr>\n    <tr>\n      <th>0</th>\n      <td>A</td>\n      <td>2</td>\n      <td>0</td>\n      <td>a</td>\n    </tr>\n    <tr>\n      <th>1</th>\n      <td>A</td>\n      <td>1</td>\n      <td>1</td>\n      <td>B</td>\n    </tr>\n  </tbody>\n</table>\n</div>"
     },
     "metadata": {},
     "execution_count": 28
    }
   ],
   "source": [
    "f.sort_values(by='col1', ascending=False, na_position='first')"
   ]
  },
  {
   "source": [
    "#### Método 1 - Adicionar uma coluna ao Dataframe do Pandas com um valor padrão."
   ],
   "cell_type": "markdown",
   "metadata": {}
  },
  {
   "source": [
    "### 2. Utilizando loc\n",
    "#### Itens permitidos a atribuição\n",
    "<li>Um elemento singles, como um caracter ou um numero\n",
    "<li>Uma lista ou array\n",
    "<li>Um fatiamento de objetos\n",
    "<li> Também se pode utilizar o fatiamento do Numpy\n",
    "\n"
   ],
   "cell_type": "markdown",
   "metadata": {}
  },
  {
   "cell_type": "code",
   "execution_count": 29,
   "metadata": {},
   "outputs": [],
   "source": [
    "# Criando dataframe de teste\n",
    "\n",
    "students = [ ('Jack', 34, 'Sydeny' , 'Australia') ,\n",
    "             ('Joshua', 30, 'Delhi' , 'India' ) ,\n",
    "             ('Tom', 31, 'Mumbai' , 'India' ) ,\n",
    "             ('Alicia', 32, 'Bangalore' , 'India' ) ,\n",
    "             ('John', 16, 'New York' , 'US') ,\n",
    "             ('Osama', 17, 'las vegas' , 'US')  ]\n",
    "\n",
    "df = pd.DataFrame(students, \n",
    "                  columns = ['Name' , 'Age', 'City' , 'Country'], \n",
    "                  index=['a', 'b', 'c' , 'd' , 'e' , 'f'])"
   ]
  },
  {
   "cell_type": "code",
   "execution_count": 30,
   "metadata": {},
   "outputs": [
    {
     "output_type": "execute_result",
     "data": {
      "text/plain": [
       "     Name  Age       City    Country Grade\n",
       "a    Jack   34     Sydeny  Australia     A\n",
       "b  Joshua   30      Delhi      India     A\n",
       "c     Tom   31     Mumbai      India     A\n",
       "d  Alicia   32  Bangalore      India     A\n",
       "e    John   16   New York         US     A\n",
       "f   Osama   17  las vegas         US     A"
      ],
      "text/html": "<div>\n<style scoped>\n    .dataframe tbody tr th:only-of-type {\n        vertical-align: middle;\n    }\n\n    .dataframe tbody tr th {\n        vertical-align: top;\n    }\n\n    .dataframe thead th {\n        text-align: right;\n    }\n</style>\n<table border=\"1\" class=\"dataframe\">\n  <thead>\n    <tr style=\"text-align: right;\">\n      <th></th>\n      <th>Name</th>\n      <th>Age</th>\n      <th>City</th>\n      <th>Country</th>\n      <th>Grade</th>\n    </tr>\n  </thead>\n  <tbody>\n    <tr>\n      <th>a</th>\n      <td>Jack</td>\n      <td>34</td>\n      <td>Sydeny</td>\n      <td>Australia</td>\n      <td>A</td>\n    </tr>\n    <tr>\n      <th>b</th>\n      <td>Joshua</td>\n      <td>30</td>\n      <td>Delhi</td>\n      <td>India</td>\n      <td>A</td>\n    </tr>\n    <tr>\n      <th>c</th>\n      <td>Tom</td>\n      <td>31</td>\n      <td>Mumbai</td>\n      <td>India</td>\n      <td>A</td>\n    </tr>\n    <tr>\n      <th>d</th>\n      <td>Alicia</td>\n      <td>32</td>\n      <td>Bangalore</td>\n      <td>India</td>\n      <td>A</td>\n    </tr>\n    <tr>\n      <th>e</th>\n      <td>John</td>\n      <td>16</td>\n      <td>New York</td>\n      <td>US</td>\n      <td>A</td>\n    </tr>\n    <tr>\n      <th>f</th>\n      <td>Osama</td>\n      <td>17</td>\n      <td>las vegas</td>\n      <td>US</td>\n      <td>A</td>\n    </tr>\n  </tbody>\n</table>\n</div>"
     },
     "metadata": {},
     "execution_count": 30
    }
   ],
   "source": [
    "df.loc[:,'Grade'] = 'A'\n",
    "df"
   ]
  },
  {
   "source": [
    "#### Método 2 - Adicionar uma coluna ao Dataframe do Pandas com valores diferentes\n",
    "##### Formas de fazer\n",
    "1. Declarando uma lista como uma nova coluna\n",
    "2. Utilizando loc (Você pode usar '.loc' com ':' para adicionar um valor especificado para todas as linhas.)\n",
    "3. Utilizando .assign()\n",
    "4. Utilizando .insert()\n",
    "#####  Paramentros para insert\n",
    "-loc: loc é um inteiro que é a localização de uma coluna onde queremos inserir uma nova coluna. Isso mudará a coluna existente naquela posição para a direita.<br>\n",
    "-column: uma string que é o nome de uma coluna a ser inserida.<br>\n",
    "-value: valor é simplesmente o valor a ser inserido. Pode ser um inteiro, uma string, um float ou mesmo uma série/lista de valores. Fornecer apenas um valor definirá o mesmo valor para todas as linhas.<br>\n",
    "-**allow_duplicates**: é um valor booleano que verifica se uma coluna com o mesmo nome já existe ou não.\n"
   ],
   "cell_type": "code",
   "metadata": {},
   "execution_count": 31,
   "outputs": [
    {
     "output_type": "error",
     "ename": "SyntaxError",
     "evalue": "invalid syntax (<ipython-input-31-cb201b0c91f9>, line 3)",
     "traceback": [
      "\u001b[1;36m  File \u001b[1;32m\"<ipython-input-31-cb201b0c91f9>\"\u001b[1;36m, line \u001b[1;32m3\u001b[0m\n\u001b[1;33m    1. Declarando uma lista como uma nova coluna\u001b[0m\n\u001b[1;37m       ^\u001b[0m\n\u001b[1;31mSyntaxError\u001b[0m\u001b[1;31m:\u001b[0m invalid syntax\n"
     ]
    }
   ]
  },
  {
   "cell_type": "code",
   "execution_count": 34,
   "metadata": {},
   "outputs": [
    {
     "output_type": "execute_result",
     "data": {
      "text/plain": [
       "     Name  Age       City    Country Grade  Final_Year\n",
       "a    Jack   34     Sydeny  Australia     A        2020\n",
       "b  Joshua   30      Delhi      India     A        2021\n",
       "c     Tom   31     Mumbai      India     A        2021\n",
       "d  Alicia   32  Bangalore      India     A        2021\n",
       "e    John   16   New York         US     A        2020\n",
       "f   Osama   17  las vegas         US     A        2018"
      ],
      "text/html": "<div>\n<style scoped>\n    .dataframe tbody tr th:only-of-type {\n        vertical-align: middle;\n    }\n\n    .dataframe tbody tr th {\n        vertical-align: top;\n    }\n\n    .dataframe thead th {\n        text-align: right;\n    }\n</style>\n<table border=\"1\" class=\"dataframe\">\n  <thead>\n    <tr style=\"text-align: right;\">\n      <th></th>\n      <th>Name</th>\n      <th>Age</th>\n      <th>City</th>\n      <th>Country</th>\n      <th>Grade</th>\n      <th>Final_Year</th>\n    </tr>\n  </thead>\n  <tbody>\n    <tr>\n      <th>a</th>\n      <td>Jack</td>\n      <td>34</td>\n      <td>Sydeny</td>\n      <td>Australia</td>\n      <td>A</td>\n      <td>2020</td>\n    </tr>\n    <tr>\n      <th>b</th>\n      <td>Joshua</td>\n      <td>30</td>\n      <td>Delhi</td>\n      <td>India</td>\n      <td>A</td>\n      <td>2021</td>\n    </tr>\n    <tr>\n      <th>c</th>\n      <td>Tom</td>\n      <td>31</td>\n      <td>Mumbai</td>\n      <td>India</td>\n      <td>A</td>\n      <td>2021</td>\n    </tr>\n    <tr>\n      <th>d</th>\n      <td>Alicia</td>\n      <td>32</td>\n      <td>Bangalore</td>\n      <td>India</td>\n      <td>A</td>\n      <td>2021</td>\n    </tr>\n    <tr>\n      <th>e</th>\n      <td>John</td>\n      <td>16</td>\n      <td>New York</td>\n      <td>US</td>\n      <td>A</td>\n      <td>2020</td>\n    </tr>\n    <tr>\n      <th>f</th>\n      <td>Osama</td>\n      <td>17</td>\n      <td>las vegas</td>\n      <td>US</td>\n      <td>A</td>\n      <td>2018</td>\n    </tr>\n  </tbody>\n</table>\n</div>"
     },
     "metadata": {},
     "execution_count": 34
    }
   ],
   "source": [
    "# 2. Utilizando loc\n",
    "df.loc[:, 'Final_Year'] = [2020,2021,2021,2021,2020,2018]\n",
    "df"
   ]
  },
  {
   "cell_type": "markdown",
   "metadata": {},
   "source": [
    "#### Removendo registros duplicados\n",
    "[Método drop_duplicates](https://pandas.pydata.org/pandas-docs/stable/reference/api/pandas.DataFrame.drop_duplicates.html#pandas-dataframe-drop-duplicates) Retorne DataFrame com linhas duplicadas removidas."
   ]
  },
  {
   "cell_type": "code",
   "execution_count": 35,
   "metadata": {},
   "outputs": [
    {
     "output_type": "execute_result",
     "data": {
      "text/plain": [
       "    nome  idade        função\n",
       "0  Berry     28    Office Boy\n",
       "1   Kara     32    Enfermeira\n",
       "2  Clark     52  Ascensorista\n",
       "3  Berry     28    Office Boy"
      ],
      "text/html": "<div>\n<style scoped>\n    .dataframe tbody tr th:only-of-type {\n        vertical-align: middle;\n    }\n\n    .dataframe tbody tr th {\n        vertical-align: top;\n    }\n\n    .dataframe thead th {\n        text-align: right;\n    }\n</style>\n<table border=\"1\" class=\"dataframe\">\n  <thead>\n    <tr style=\"text-align: right;\">\n      <th></th>\n      <th>nome</th>\n      <th>idade</th>\n      <th>função</th>\n    </tr>\n  </thead>\n  <tbody>\n    <tr>\n      <th>0</th>\n      <td>Berry</td>\n      <td>28</td>\n      <td>Office Boy</td>\n    </tr>\n    <tr>\n      <th>1</th>\n      <td>Kara</td>\n      <td>32</td>\n      <td>Enfermeira</td>\n    </tr>\n    <tr>\n      <th>2</th>\n      <td>Clark</td>\n      <td>52</td>\n      <td>Ascensorista</td>\n    </tr>\n    <tr>\n      <th>3</th>\n      <td>Berry</td>\n      <td>28</td>\n      <td>Office Boy</td>\n    </tr>\n  </tbody>\n</table>\n</div>"
     },
     "metadata": {},
     "execution_count": 35
    }
   ],
   "source": [
    "# Criando o dataset\n",
    "\n",
    "frame_data = {'nome'  : ['Berry', 'Kara', 'Clark', 'Berry'], \n",
    "              'idade' : [28, 32, 52, 28], \n",
    "              'função': ['Office Boy', 'Enfermeira', 'Ascensorista', 'Office Boy']}\n",
    "\n",
    "df = pd.DataFrame(frame_data)\n",
    "df"
   ]
  },
  {
   "cell_type": "code",
   "execution_count": 36,
   "metadata": {},
   "outputs": [
    {
     "output_type": "execute_result",
     "data": {
      "text/plain": [
       "0    False\n",
       "1    False\n",
       "2    False\n",
       "3     True\n",
       "dtype: bool"
      ]
     },
     "metadata": {},
     "execution_count": 36
    }
   ],
   "source": [
    "# Verificado se existem registros duplicados\n",
    "df.duplicated()"
   ]
  },
  {
   "source": [
    "#### Atenção: por padrão o método drop_duplicates retorna um dataframe temporário em memória, então se quiser gerar um novo dataframe, faça uma atribuição para uma nova variável.\n",
    "#### Caso você queira atualizar o dataframe atual, você deve utilizar o parâmetro inplace. (Como se fosse um commit)"
   ],
   "cell_type": "markdown",
   "metadata": {}
  },
  {
   "cell_type": "code",
   "execution_count": 47,
   "metadata": {},
   "outputs": [
    {
     "data": {
      "text/html": [
       "<div>\n",
       "<style scoped>\n",
       "    .dataframe tbody tr th:only-of-type {\n",
       "        vertical-align: middle;\n",
       "    }\n",
       "\n",
       "    .dataframe tbody tr th {\n",
       "        vertical-align: top;\n",
       "    }\n",
       "\n",
       "    .dataframe thead th {\n",
       "        text-align: right;\n",
       "    }\n",
       "</style>\n",
       "<table border=\"1\" class=\"dataframe\">\n",
       "  <thead>\n",
       "    <tr style=\"text-align: right;\">\n",
       "      <th></th>\n",
       "      <th>nome</th>\n",
       "      <th>idade</th>\n",
       "      <th>função</th>\n",
       "    </tr>\n",
       "  </thead>\n",
       "  <tbody>\n",
       "    <tr>\n",
       "      <th>0</th>\n",
       "      <td>Berry</td>\n",
       "      <td>28</td>\n",
       "      <td>Office Boy</td>\n",
       "    </tr>\n",
       "    <tr>\n",
       "      <th>1</th>\n",
       "      <td>Kara</td>\n",
       "      <td>32</td>\n",
       "      <td>Enfermeira</td>\n",
       "    </tr>\n",
       "    <tr>\n",
       "      <th>2</th>\n",
       "      <td>Clark</td>\n",
       "      <td>52</td>\n",
       "      <td>Ascensorista</td>\n",
       "    </tr>\n",
       "  </tbody>\n",
       "</table>\n",
       "</div>"
      ],
      "text/plain": [
       "    nome  idade        função\n",
       "0  Berry     28    Office Boy\n",
       "1   Kara     32    Enfermeira\n",
       "2  Clark     52  Ascensorista"
      ]
     },
     "execution_count": 47,
     "metadata": {},
     "output_type": "execute_result"
    }
   ],
   "source": [
    "# Se for positivo, podemos remover os duplicados utilizando o metodo\n",
    "df_no_duplicates = df.drop_duplicates()\n",
    "df_no_duplicates"
   ]
  },
  {
   "cell_type": "code",
   "execution_count": 48,
   "metadata": {},
   "outputs": [
    {
     "data": {
      "text/html": [
       "<div>\n",
       "<style scoped>\n",
       "    .dataframe tbody tr th:only-of-type {\n",
       "        vertical-align: middle;\n",
       "    }\n",
       "\n",
       "    .dataframe tbody tr th {\n",
       "        vertical-align: top;\n",
       "    }\n",
       "\n",
       "    .dataframe thead th {\n",
       "        text-align: right;\n",
       "    }\n",
       "</style>\n",
       "<table border=\"1\" class=\"dataframe\">\n",
       "  <thead>\n",
       "    <tr style=\"text-align: right;\">\n",
       "      <th></th>\n",
       "      <th>nome</th>\n",
       "      <th>idade</th>\n",
       "      <th>função</th>\n",
       "    </tr>\n",
       "  </thead>\n",
       "  <tbody>\n",
       "    <tr>\n",
       "      <th>0</th>\n",
       "      <td>Berry</td>\n",
       "      <td>28</td>\n",
       "      <td>Office Boy</td>\n",
       "    </tr>\n",
       "    <tr>\n",
       "      <th>1</th>\n",
       "      <td>Kara</td>\n",
       "      <td>32</td>\n",
       "      <td>Enfermeira</td>\n",
       "    </tr>\n",
       "    <tr>\n",
       "      <th>2</th>\n",
       "      <td>Clark</td>\n",
       "      <td>52</td>\n",
       "      <td>Ascensorista</td>\n",
       "    </tr>\n",
       "    <tr>\n",
       "      <th>3</th>\n",
       "      <td>Berry</td>\n",
       "      <td>28</td>\n",
       "      <td>Office Boy</td>\n",
       "    </tr>\n",
       "  </tbody>\n",
       "</table>\n",
       "</div>"
      ],
      "text/plain": [
       "    nome  idade        função\n",
       "0  Berry     28    Office Boy\n",
       "1   Kara     32    Enfermeira\n",
       "2  Clark     52  Ascensorista\n",
       "3  Berry     28    Office Boy"
      ]
     },
     "execution_count": 48,
     "metadata": {},
     "output_type": "execute_result"
    }
   ],
   "source": [
    "# O dataframe original continua igual\n",
    "df"
   ]
  },
  {
   "cell_type": "code",
   "execution_count": 49,
   "metadata": {},
   "outputs": [],
   "source": [
    "# Para alterar diretamente no dataframe\n",
    "df.drop_duplicates(inplace=True)"
   ]
  },
  {
   "cell_type": "code",
   "execution_count": 50,
   "metadata": {},
   "outputs": [
    {
     "data": {
      "text/html": [
       "<div>\n",
       "<style scoped>\n",
       "    .dataframe tbody tr th:only-of-type {\n",
       "        vertical-align: middle;\n",
       "    }\n",
       "\n",
       "    .dataframe tbody tr th {\n",
       "        vertical-align: top;\n",
       "    }\n",
       "\n",
       "    .dataframe thead th {\n",
       "        text-align: right;\n",
       "    }\n",
       "</style>\n",
       "<table border=\"1\" class=\"dataframe\">\n",
       "  <thead>\n",
       "    <tr style=\"text-align: right;\">\n",
       "      <th></th>\n",
       "      <th>nome</th>\n",
       "      <th>idade</th>\n",
       "      <th>função</th>\n",
       "    </tr>\n",
       "  </thead>\n",
       "  <tbody>\n",
       "    <tr>\n",
       "      <th>0</th>\n",
       "      <td>Berry</td>\n",
       "      <td>28</td>\n",
       "      <td>Office Boy</td>\n",
       "    </tr>\n",
       "    <tr>\n",
       "      <th>1</th>\n",
       "      <td>Kara</td>\n",
       "      <td>32</td>\n",
       "      <td>Enfermeira</td>\n",
       "    </tr>\n",
       "    <tr>\n",
       "      <th>2</th>\n",
       "      <td>Clark</td>\n",
       "      <td>52</td>\n",
       "      <td>Ascensorista</td>\n",
       "    </tr>\n",
       "  </tbody>\n",
       "</table>\n",
       "</div>"
      ],
      "text/plain": [
       "    nome  idade        função\n",
       "0  Berry     28    Office Boy\n",
       "1   Kara     32    Enfermeira\n",
       "2  Clark     52  Ascensorista"
      ]
     },
     "execution_count": 50,
     "metadata": {},
     "output_type": "execute_result"
    }
   ],
   "source": [
    "df"
   ]
  },
  {
   "source": [
    "#### Eliminar duplicidade por coluna\n",
    "##### Não necessariamente é uma duplicata perfeita. (Todos os valores iguais a outro registro)"
   ],
   "cell_type": "markdown",
   "metadata": {}
  },
  {
   "cell_type": "code",
   "execution_count": 12,
   "metadata": {},
   "outputs": [
    {
     "output_type": "execute_result",
     "data": {
      "text/plain": [
       "    nome  idade        função\n",
       "0  Berry     28    Office Boy\n",
       "1   Kara     32    Enfermeira\n",
       "2  Clark     52  Ascensorista\n",
       "3  Berry     27    Office Boy"
      ],
      "text/html": "<div>\n<style scoped>\n    .dataframe tbody tr th:only-of-type {\n        vertical-align: middle;\n    }\n\n    .dataframe tbody tr th {\n        vertical-align: top;\n    }\n\n    .dataframe thead th {\n        text-align: right;\n    }\n</style>\n<table border=\"1\" class=\"dataframe\">\n  <thead>\n    <tr style=\"text-align: right;\">\n      <th></th>\n      <th>nome</th>\n      <th>idade</th>\n      <th>função</th>\n    </tr>\n  </thead>\n  <tbody>\n    <tr>\n      <th>0</th>\n      <td>Berry</td>\n      <td>28</td>\n      <td>Office Boy</td>\n    </tr>\n    <tr>\n      <th>1</th>\n      <td>Kara</td>\n      <td>32</td>\n      <td>Enfermeira</td>\n    </tr>\n    <tr>\n      <th>2</th>\n      <td>Clark</td>\n      <td>52</td>\n      <td>Ascensorista</td>\n    </tr>\n    <tr>\n      <th>3</th>\n      <td>Berry</td>\n      <td>27</td>\n      <td>Office Boy</td>\n    </tr>\n  </tbody>\n</table>\n</div>"
     },
     "metadata": {},
     "execution_count": 12
    }
   ],
   "source": [
    "# Criando o dataframe\n",
    "\n",
    "frame_data = {'nome'  : ['Berry', 'Kara', 'Clark', 'Berry'], \n",
    "              'idade' : [28, 32, 52, 27], \n",
    "              'função': ['Office Boy', 'Enfermeira', 'Ascensorista', 'Office Boy']}\n",
    "df = pd.DataFrame(frame_data)\n",
    "df"
   ]
  },
  {
   "cell_type": "code",
   "execution_count": 52,
   "metadata": {},
   "outputs": [
    {
     "data": {
      "text/html": [
       "<div>\n",
       "<style scoped>\n",
       "    .dataframe tbody tr th:only-of-type {\n",
       "        vertical-align: middle;\n",
       "    }\n",
       "\n",
       "    .dataframe tbody tr th {\n",
       "        vertical-align: top;\n",
       "    }\n",
       "\n",
       "    .dataframe thead th {\n",
       "        text-align: right;\n",
       "    }\n",
       "</style>\n",
       "<table border=\"1\" class=\"dataframe\">\n",
       "  <thead>\n",
       "    <tr style=\"text-align: right;\">\n",
       "      <th></th>\n",
       "      <th>nome</th>\n",
       "      <th>idade</th>\n",
       "      <th>função</th>\n",
       "    </tr>\n",
       "  </thead>\n",
       "  <tbody>\n",
       "    <tr>\n",
       "      <th>0</th>\n",
       "      <td>Berry</td>\n",
       "      <td>28</td>\n",
       "      <td>Office Boy</td>\n",
       "    </tr>\n",
       "    <tr>\n",
       "      <th>1</th>\n",
       "      <td>Kara</td>\n",
       "      <td>32</td>\n",
       "      <td>Enfermeira</td>\n",
       "    </tr>\n",
       "    <tr>\n",
       "      <th>2</th>\n",
       "      <td>Clark</td>\n",
       "      <td>52</td>\n",
       "      <td>Ascensorista</td>\n",
       "    </tr>\n",
       "  </tbody>\n",
       "</table>\n",
       "</div>"
      ],
      "text/plain": [
       "    nome  idade        função\n",
       "0  Berry     28    Office Boy\n",
       "1   Kara     32    Enfermeira\n",
       "2  Clark     52  Ascensorista"
      ]
     },
     "execution_count": 52,
     "metadata": {},
     "output_type": "execute_result"
    }
   ],
   "source": [
    "# Atenção a regra do inplace. \n",
    "# Escolhe remover a última ocorrência.\n",
    "\n",
    "df.drop_duplicates(['nome'])"
   ]
  },
  {
   "source": [
    "#### Excluir uma coluna\n",
    "[Método Drop](https://pandas.pydata.org/pandas-docs/stable/reference/api/pandas.DataFrame.drop.html#pandas-dataframe-drop) Remova os rótulos especificados das linhas ou colunas. Por padrão o drop remove por índice, **para remover por coluna use o parâmetro axis=1.**<br>\n",
    "\n",
    "inplace: bool, Se for False, retorne uma cópia. Caso contrário, execute a operação no local."
   ],
   "cell_type": "markdown",
   "metadata": {}
  },
  {
   "cell_type": "code",
   "execution_count": 6,
   "metadata": {},
   "outputs": [
    {
     "output_type": "execute_result",
     "data": {
      "text/plain": [
       "   A  B   C   D\n",
       "0  0  1   2   3\n",
       "1  4  5   6   7\n",
       "2  8  9  10  11"
      ],
      "text/html": "<div>\n<style scoped>\n    .dataframe tbody tr th:only-of-type {\n        vertical-align: middle;\n    }\n\n    .dataframe tbody tr th {\n        vertical-align: top;\n    }\n\n    .dataframe thead th {\n        text-align: right;\n    }\n</style>\n<table border=\"1\" class=\"dataframe\">\n  <thead>\n    <tr style=\"text-align: right;\">\n      <th></th>\n      <th>A</th>\n      <th>B</th>\n      <th>C</th>\n      <th>D</th>\n    </tr>\n  </thead>\n  <tbody>\n    <tr>\n      <th>0</th>\n      <td>0</td>\n      <td>1</td>\n      <td>2</td>\n      <td>3</td>\n    </tr>\n    <tr>\n      <th>1</th>\n      <td>4</td>\n      <td>5</td>\n      <td>6</td>\n      <td>7</td>\n    </tr>\n    <tr>\n      <th>2</th>\n      <td>8</td>\n      <td>9</td>\n      <td>10</td>\n      <td>11</td>\n    </tr>\n  </tbody>\n</table>\n</div>"
     },
     "metadata": {},
     "execution_count": 6
    }
   ],
   "source": [
    "df = pd.DataFrame(np.arange(12).reshape(3, 4),\n",
    "                  columns=['A', 'B', 'C', 'D'])\n",
    "df"
   ]
  },
  {
   "cell_type": "code",
   "execution_count": 7,
   "metadata": {},
   "outputs": [
    {
     "output_type": "execute_result",
     "data": {
      "text/plain": [
       "   A   D\n",
       "0  0   3\n",
       "1  4   7\n",
       "2  8  11"
      ],
      "text/html": "<div>\n<style scoped>\n    .dataframe tbody tr th:only-of-type {\n        vertical-align: middle;\n    }\n\n    .dataframe tbody tr th {\n        vertical-align: top;\n    }\n\n    .dataframe thead th {\n        text-align: right;\n    }\n</style>\n<table border=\"1\" class=\"dataframe\">\n  <thead>\n    <tr style=\"text-align: right;\">\n      <th></th>\n      <th>A</th>\n      <th>D</th>\n    </tr>\n  </thead>\n  <tbody>\n    <tr>\n      <th>0</th>\n      <td>0</td>\n      <td>3</td>\n    </tr>\n    <tr>\n      <th>1</th>\n      <td>4</td>\n      <td>7</td>\n    </tr>\n    <tr>\n      <th>2</th>\n      <td>8</td>\n      <td>11</td>\n    </tr>\n  </tbody>\n</table>\n</div>"
     },
     "metadata": {},
     "execution_count": 7
    }
   ],
   "source": [
    "# Apagar colunas\n",
    "df.drop(['B', 'C'], axis=1)"
   ]
  },
  {
   "cell_type": "code",
   "execution_count": 8,
   "metadata": {},
   "outputs": [
    {
     "output_type": "execute_result",
     "data": {
      "text/plain": [
       "   A   D\n",
       "0  0   3\n",
       "1  4   7\n",
       "2  8  11"
      ],
      "text/html": "<div>\n<style scoped>\n    .dataframe tbody tr th:only-of-type {\n        vertical-align: middle;\n    }\n\n    .dataframe tbody tr th {\n        vertical-align: top;\n    }\n\n    .dataframe thead th {\n        text-align: right;\n    }\n</style>\n<table border=\"1\" class=\"dataframe\">\n  <thead>\n    <tr style=\"text-align: right;\">\n      <th></th>\n      <th>A</th>\n      <th>D</th>\n    </tr>\n  </thead>\n  <tbody>\n    <tr>\n      <th>0</th>\n      <td>0</td>\n      <td>3</td>\n    </tr>\n    <tr>\n      <th>1</th>\n      <td>4</td>\n      <td>7</td>\n    </tr>\n    <tr>\n      <th>2</th>\n      <td>8</td>\n      <td>11</td>\n    </tr>\n  </tbody>\n</table>\n</div>"
     },
     "metadata": {},
     "execution_count": 8
    }
   ],
   "source": [
    "df.drop(columns=['B', 'C'])"
   ]
  },
  {
   "cell_type": "markdown",
   "metadata": {},
   "source": [
    "#### Excluir linhas"
   ]
  },
  {
   "source": [
    "# Criando o dataframe\n",
    "\n",
    "frame_data = {'nome': ['Berry', 'Kara', 'Clark'], 'idade': [28, 32, 52], 'função': ['Office Boy', 'Enfermeira', 'Ascensorista']}\n",
    "\n",
    "df = pd.DataFrame(frame_data)\n",
    "df"
   ],
   "cell_type": "code",
   "metadata": {},
   "execution_count": 14,
   "outputs": [
    {
     "output_type": "execute_result",
     "data": {
      "text/plain": [
       "    nome  idade        função\n",
       "0  Berry     28    Office Boy\n",
       "1   Kara     32    Enfermeira\n",
       "2  Clark     52  Ascensorista"
      ],
      "text/html": "<div>\n<style scoped>\n    .dataframe tbody tr th:only-of-type {\n        vertical-align: middle;\n    }\n\n    .dataframe tbody tr th {\n        vertical-align: top;\n    }\n\n    .dataframe thead th {\n        text-align: right;\n    }\n</style>\n<table border=\"1\" class=\"dataframe\">\n  <thead>\n    <tr style=\"text-align: right;\">\n      <th></th>\n      <th>nome</th>\n      <th>idade</th>\n      <th>função</th>\n    </tr>\n  </thead>\n  <tbody>\n    <tr>\n      <th>0</th>\n      <td>Berry</td>\n      <td>28</td>\n      <td>Office Boy</td>\n    </tr>\n    <tr>\n      <th>1</th>\n      <td>Kara</td>\n      <td>32</td>\n      <td>Enfermeira</td>\n    </tr>\n    <tr>\n      <th>2</th>\n      <td>Clark</td>\n      <td>52</td>\n      <td>Ascensorista</td>\n    </tr>\n  </tbody>\n</table>\n</div>"
     },
     "metadata": {},
     "execution_count": 14
    }
   ]
  },
  {
   "cell_type": "code",
   "execution_count": 56,
   "metadata": {},
   "outputs": [
    {
     "data": {
      "text/html": [
       "<div>\n",
       "<style scoped>\n",
       "    .dataframe tbody tr th:only-of-type {\n",
       "        vertical-align: middle;\n",
       "    }\n",
       "\n",
       "    .dataframe tbody tr th {\n",
       "        vertical-align: top;\n",
       "    }\n",
       "\n",
       "    .dataframe thead th {\n",
       "        text-align: right;\n",
       "    }\n",
       "</style>\n",
       "<table border=\"1\" class=\"dataframe\">\n",
       "  <thead>\n",
       "    <tr style=\"text-align: right;\">\n",
       "      <th></th>\n",
       "      <th>nome</th>\n",
       "      <th>idade</th>\n",
       "      <th>função</th>\n",
       "    </tr>\n",
       "  </thead>\n",
       "  <tbody>\n",
       "    <tr>\n",
       "      <th>1</th>\n",
       "      <td>Kara</td>\n",
       "      <td>32</td>\n",
       "      <td>Enfermeira</td>\n",
       "    </tr>\n",
       "    <tr>\n",
       "      <th>2</th>\n",
       "      <td>Clark</td>\n",
       "      <td>52</td>\n",
       "      <td>Ascensorista</td>\n",
       "    </tr>\n",
       "  </tbody>\n",
       "</table>\n",
       "</div>"
      ],
      "text/plain": [
       "    nome  idade        função\n",
       "1   Kara     32    Enfermeira\n",
       "2  Clark     52  Ascensorista"
      ]
     },
     "execution_count": 56,
     "metadata": {},
     "output_type": "execute_result"
    }
   ],
   "source": [
    "# Deletando linhas utilizando o indice\n",
    "\n",
    "df.drop([0])"
   ]
  },
  {
   "cell_type": "code",
   "execution_count": 15,
   "metadata": {},
   "outputs": [
    {
     "output_type": "execute_result",
     "data": {
      "text/plain": [
       "        nome  idade        função\n",
       "Berry  Berry     28    Office Boy\n",
       "Kara    Kara     32    Enfermeira\n",
       "Clark  Clark     52  Ascensorista"
      ],
      "text/html": "<div>\n<style scoped>\n    .dataframe tbody tr th:only-of-type {\n        vertical-align: middle;\n    }\n\n    .dataframe tbody tr th {\n        vertical-align: top;\n    }\n\n    .dataframe thead th {\n        text-align: right;\n    }\n</style>\n<table border=\"1\" class=\"dataframe\">\n  <thead>\n    <tr style=\"text-align: right;\">\n      <th></th>\n      <th>nome</th>\n      <th>idade</th>\n      <th>função</th>\n    </tr>\n  </thead>\n  <tbody>\n    <tr>\n      <th>Berry</th>\n      <td>Berry</td>\n      <td>28</td>\n      <td>Office Boy</td>\n    </tr>\n    <tr>\n      <th>Kara</th>\n      <td>Kara</td>\n      <td>32</td>\n      <td>Enfermeira</td>\n    </tr>\n    <tr>\n      <th>Clark</th>\n      <td>Clark</td>\n      <td>52</td>\n      <td>Ascensorista</td>\n    </tr>\n  </tbody>\n</table>\n</div>"
     },
     "metadata": {},
     "execution_count": 15
    }
   ],
   "source": [
    "# Criando o dataframe\n",
    "\n",
    "frame_data = {'nome': ['Berry', 'Kara', 'Clark'], \n",
    "              'idade': [28, 32, 52], \n",
    "              'função': ['Office Boy', 'Enfermeira', 'Ascensorista']}\n",
    "\n",
    "df = pd.DataFrame(frame_data, index = ['Berry', 'Kara', 'Clark'])\n",
    "df"
   ]
  },
  {
   "cell_type": "code",
   "execution_count": 58,
   "metadata": {},
   "outputs": [
    {
     "data": {
      "text/html": [
       "<div>\n",
       "<style scoped>\n",
       "    .dataframe tbody tr th:only-of-type {\n",
       "        vertical-align: middle;\n",
       "    }\n",
       "\n",
       "    .dataframe tbody tr th {\n",
       "        vertical-align: top;\n",
       "    }\n",
       "\n",
       "    .dataframe thead th {\n",
       "        text-align: right;\n",
       "    }\n",
       "</style>\n",
       "<table border=\"1\" class=\"dataframe\">\n",
       "  <thead>\n",
       "    <tr style=\"text-align: right;\">\n",
       "      <th></th>\n",
       "      <th>nome</th>\n",
       "      <th>idade</th>\n",
       "      <th>função</th>\n",
       "    </tr>\n",
       "  </thead>\n",
       "  <tbody>\n",
       "    <tr>\n",
       "      <th>Berry</th>\n",
       "      <td>Berry</td>\n",
       "      <td>28</td>\n",
       "      <td>Office Boy</td>\n",
       "    </tr>\n",
       "    <tr>\n",
       "      <th>Clark</th>\n",
       "      <td>Clark</td>\n",
       "      <td>52</td>\n",
       "      <td>Ascensorista</td>\n",
       "    </tr>\n",
       "  </tbody>\n",
       "</table>\n",
       "</div>"
      ],
      "text/plain": [
       "        nome  idade        função\n",
       "Berry  Berry     28    Office Boy\n",
       "Clark  Clark     52  Ascensorista"
      ]
     },
     "execution_count": 58,
     "metadata": {},
     "output_type": "execute_result"
    }
   ],
   "source": [
    "# Apagando registros utilizando o nome no indice\n",
    "df.drop(['Kara'])"
   ]
  },
  {
   "cell_type": "code",
   "execution_count": 59,
   "metadata": {},
   "outputs": [
    {
     "data": {
      "text/html": [
       "<div>\n",
       "<style scoped>\n",
       "    .dataframe tbody tr th:only-of-type {\n",
       "        vertical-align: middle;\n",
       "    }\n",
       "\n",
       "    .dataframe tbody tr th {\n",
       "        vertical-align: top;\n",
       "    }\n",
       "\n",
       "    .dataframe thead th {\n",
       "        text-align: right;\n",
       "    }\n",
       "</style>\n",
       "<table border=\"1\" class=\"dataframe\">\n",
       "  <thead>\n",
       "    <tr style=\"text-align: right;\">\n",
       "      <th></th>\n",
       "      <th>nome</th>\n",
       "      <th>idade</th>\n",
       "      <th>função</th>\n",
       "    </tr>\n",
       "  </thead>\n",
       "  <tbody>\n",
       "    <tr>\n",
       "      <th>Clark</th>\n",
       "      <td>Clark</td>\n",
       "      <td>52</td>\n",
       "      <td>Ascensorista</td>\n",
       "    </tr>\n",
       "  </tbody>\n",
       "</table>\n",
       "</div>"
      ],
      "text/plain": [
       "        nome  idade        função\n",
       "Clark  Clark     52  Ascensorista"
      ]
     },
     "execution_count": 59,
     "metadata": {},
     "output_type": "execute_result"
    }
   ],
   "source": [
    "# Excluir um intervalo de linha\n",
    "df.drop(df.index[[0,1]])"
   ]
  },
  {
   "cell_type": "code",
   "execution_count": 60,
   "metadata": {},
   "outputs": [
    {
     "data": {
      "text/html": [
       "<div>\n",
       "<style scoped>\n",
       "    .dataframe tbody tr th:only-of-type {\n",
       "        vertical-align: middle;\n",
       "    }\n",
       "\n",
       "    .dataframe tbody tr th {\n",
       "        vertical-align: top;\n",
       "    }\n",
       "\n",
       "    .dataframe thead th {\n",
       "        text-align: right;\n",
       "    }\n",
       "</style>\n",
       "<table border=\"1\" class=\"dataframe\">\n",
       "  <thead>\n",
       "    <tr style=\"text-align: right;\">\n",
       "      <th></th>\n",
       "      <th>nome</th>\n",
       "      <th>idade</th>\n",
       "      <th>função</th>\n",
       "    </tr>\n",
       "  </thead>\n",
       "  <tbody>\n",
       "    <tr>\n",
       "      <th>Berry</th>\n",
       "      <td>Berry</td>\n",
       "      <td>28</td>\n",
       "      <td>Office Boy</td>\n",
       "    </tr>\n",
       "    <tr>\n",
       "      <th>Kara</th>\n",
       "      <td>Kara</td>\n",
       "      <td>32</td>\n",
       "      <td>Enfermeira</td>\n",
       "    </tr>\n",
       "  </tbody>\n",
       "</table>\n",
       "</div>"
      ],
      "text/plain": [
       "        nome  idade      função\n",
       "Berry  Berry     28  Office Boy\n",
       "Kara    Kara     32  Enfermeira"
      ]
     },
     "execution_count": 60,
     "metadata": {},
     "output_type": "execute_result"
    }
   ],
   "source": [
    "# Excluir a última linha do dataframe\n",
    "df.drop(df.index[-1])"
   ]
  },
  {
   "cell_type": "markdown",
   "metadata": {},
   "source": [
    "#### Soma de colunas\n",
    "[Método Sum](https://pandas.pydata.org/pandas-docs/stable/reference/api/pandas.DataFrame.sum.html#pandas-dataframe-sum) Retorna a soma dos valores sobre o eixo solicitado."
   ]
  },
  {
   "cell_type": "code",
   "execution_count": 17,
   "metadata": {},
   "outputs": [
    {
     "output_type": "execute_result",
     "data": {
      "text/plain": [
       "    A   B    C\n",
       "0  23  18   13\n",
       "1  12  18  112\n",
       "2  12  22   13"
      ],
      "text/html": "<div>\n<style scoped>\n    .dataframe tbody tr th:only-of-type {\n        vertical-align: middle;\n    }\n\n    .dataframe tbody tr th {\n        vertical-align: top;\n    }\n\n    .dataframe thead th {\n        text-align: right;\n    }\n</style>\n<table border=\"1\" class=\"dataframe\">\n  <thead>\n    <tr style=\"text-align: right;\">\n      <th></th>\n      <th>A</th>\n      <th>B</th>\n      <th>C</th>\n    </tr>\n  </thead>\n  <tbody>\n    <tr>\n      <th>0</th>\n      <td>23</td>\n      <td>18</td>\n      <td>13</td>\n    </tr>\n    <tr>\n      <th>1</th>\n      <td>12</td>\n      <td>18</td>\n      <td>112</td>\n    </tr>\n    <tr>\n      <th>2</th>\n      <td>12</td>\n      <td>22</td>\n      <td>13</td>\n    </tr>\n  </tbody>\n</table>\n</div>"
     },
     "metadata": {},
     "execution_count": 17
    }
   ],
   "source": [
    "# Criando o dataframe\n",
    "\n",
    "frame_data = {'A': [23, 12, 12], 'B': [18, 18, 22], 'C': [13, 112, 13]}\n",
    "\n",
    "df = pd.DataFrame(frame_data)\n",
    "df"
   ]
  },
  {
   "cell_type": "code",
   "execution_count": 18,
   "metadata": {},
   "outputs": [
    {
     "output_type": "execute_result",
     "data": {
      "text/plain": [
       "47"
      ]
     },
     "metadata": {},
     "execution_count": 18
    }
   ],
   "source": [
    "df['A'].sum()"
   ]
  },
  {
   "source": [
    "#### Contagem de valores únicos\n",
    "[Método nunique](https://pandas.pydata.org/pandas-docs/stable/reference/api/pandas.DataFrame.nunique.html#pandas-dataframe-nunique) Conte observações distintas sobre o **eixo** solicitado. Por padrão, é a coluna. axis = 0, ou vazio"
   ],
   "cell_type": "markdown",
   "metadata": {}
  },
  {
   "cell_type": "code",
   "execution_count": 19,
   "metadata": {},
   "outputs": [
    {
     "output_type": "stream",
     "name": "stdout",
     "text": [
      "   A  B\n0  1  1\n1  2  1\n2  3  1\n"
     ]
    },
    {
     "output_type": "execute_result",
     "data": {
      "text/plain": [
       "A    3\n",
       "B    1\n",
       "dtype: int64"
      ]
     },
     "metadata": {},
     "execution_count": 19
    }
   ],
   "source": [
    "# Exemplo 1\n",
    "df = pd.DataFrame({'A': [1, 2, 3], 'B': [1, 1, 1]})\n",
    "print(df)\n",
    "df.nunique()"
   ]
  },
  {
   "cell_type": "code",
   "execution_count": 21,
   "metadata": {},
   "outputs": [
    {
     "output_type": "execute_result",
     "data": {
      "text/plain": [
       "0    1\n",
       "1    2\n",
       "2    2\n",
       "dtype: int64"
      ]
     },
     "metadata": {},
     "execution_count": 21
    }
   ],
   "source": [
    "df.nunique(axis=1)"
   ]
  },
  {
   "cell_type": "code",
   "execution_count": 5,
   "metadata": {},
   "outputs": [
    {
     "output_type": "stream",
     "name": "stdout",
     "text": [
      "   A  B\n0  1  1\n1  2  1\n2  3  1\n"
     ]
    },
    {
     "output_type": "execute_result",
     "data": {
      "text/plain": [
       "A    3\n",
       "B    1\n",
       "dtype: int64"
      ]
     },
     "metadata": {},
     "execution_count": 5
    }
   ],
   "source": [
    "print(df)\n",
    "\n",
    "df.nunique(0)"
   ]
  },
  {
   "cell_type": "code",
   "execution_count": 3,
   "metadata": {},
   "outputs": [
    {
     "output_type": "execute_result",
     "data": {
      "text/plain": [
       "    A   B    C\n",
       "0  23  18   13\n",
       "1  12  18  112\n",
       "2  12  22   13"
      ],
      "text/html": "<div>\n<style scoped>\n    .dataframe tbody tr th:only-of-type {\n        vertical-align: middle;\n    }\n\n    .dataframe tbody tr th {\n        vertical-align: top;\n    }\n\n    .dataframe thead th {\n        text-align: right;\n    }\n</style>\n<table border=\"1\" class=\"dataframe\">\n  <thead>\n    <tr style=\"text-align: right;\">\n      <th></th>\n      <th>A</th>\n      <th>B</th>\n      <th>C</th>\n    </tr>\n  </thead>\n  <tbody>\n    <tr>\n      <th>0</th>\n      <td>23</td>\n      <td>18</td>\n      <td>13</td>\n    </tr>\n    <tr>\n      <th>1</th>\n      <td>12</td>\n      <td>18</td>\n      <td>112</td>\n    </tr>\n    <tr>\n      <th>2</th>\n      <td>12</td>\n      <td>22</td>\n      <td>13</td>\n    </tr>\n  </tbody>\n</table>\n</div>"
     },
     "metadata": {},
     "execution_count": 3
    }
   ],
   "source": [
    "# Exemplo 2 - Criando o dataframe\n",
    "\n",
    "frame_data = {'A': [23, 12, 12], 'B': [18, 18, 22], 'C': [13, 112, 13]}\n",
    "df = pd.DataFrame(frame_data)\n",
    "df"
   ]
  },
  {
   "cell_type": "code",
   "execution_count": 4,
   "metadata": {},
   "outputs": [
    {
     "output_type": "execute_result",
     "data": {
      "text/plain": [
       "2"
      ]
     },
     "metadata": {},
     "execution_count": 4
    }
   ],
   "source": [
    "df['A'].nunique()\n",
    "\n"
   ]
  },
  {
   "cell_type": "code",
   "execution_count": 66,
   "metadata": {},
   "outputs": [
    {
     "data": {
      "text/plain": [
       "3"
      ]
     },
     "execution_count": 66,
     "metadata": {},
     "output_type": "execute_result"
    }
   ],
   "source": [
    "# Para contar todos os valores em uma coluna, use o método count\n",
    "df['A'].count()"
   ]
  },
  {
   "source": [
    "#### Subconjunto de linhas"
   ],
   "cell_type": "code",
   "metadata": {},
   "execution_count": null,
   "outputs": []
  },
  {
   "cell_type": "code",
   "execution_count": 37,
   "metadata": {},
   "outputs": [],
   "source": [
    "# lendo arquivo csv\n",
    "data_path = 'C:\\\\Users\\\\anton\\\\OneDrive\\\\Documentos\\\\Treinamento Cientista de Dados\\\\Python Aplicado a Big Data\\\\Aula 3 - 08032021 - Pandas\\\\sample-data\\\\csv\\\\'\n",
    "\n",
    "data = pd.read_csv(data_path+'netflix_titles.csv')"
   ]
  },
  {
   "cell_type": "code",
   "execution_count": 38,
   "metadata": {},
   "outputs": [
    {
     "output_type": "execute_result",
     "data": {
      "text/plain": [
       "  show_id     type  title           director  \\\n",
       "0      s1  TV Show     3%                NaN   \n",
       "1      s2    Movie   7:19  Jorge Michel Grau   \n",
       "2      s3    Movie  23:59       Gilbert Chan   \n",
       "3      s4    Movie      9        Shane Acker   \n",
       "4      s5    Movie     21     Robert Luketic   \n",
       "\n",
       "                                                cast        country  \\\n",
       "0  João Miguel, Bianca Comparato, Michel Gomes, R...         Brazil   \n",
       "1  Demián Bichir, Héctor Bonilla, Oscar Serrano, ...         Mexico   \n",
       "2  Tedd Chan, Stella Chung, Henley Hii, Lawrence ...      Singapore   \n",
       "3  Elijah Wood, John C. Reilly, Jennifer Connelly...  United States   \n",
       "4  Jim Sturgess, Kevin Spacey, Kate Bosworth, Aar...  United States   \n",
       "\n",
       "          date_added  release_year rating   duration  \\\n",
       "0    August 14, 2020          2020  TV-MA  4 Seasons   \n",
       "1  December 23, 2016          2016  TV-MA     93 min   \n",
       "2  December 20, 2018          2011      R     78 min   \n",
       "3  November 16, 2017          2009  PG-13     80 min   \n",
       "4    January 1, 2020          2008  PG-13    123 min   \n",
       "\n",
       "                                           listed_in  \\\n",
       "0  International TV Shows, TV Dramas, TV Sci-Fi &...   \n",
       "1                       Dramas, International Movies   \n",
       "2                Horror Movies, International Movies   \n",
       "3  Action & Adventure, Independent Movies, Sci-Fi...   \n",
       "4                                             Dramas   \n",
       "\n",
       "                                         description  \n",
       "0  In a future where the elite inhabit an island ...  \n",
       "1  After a devastating earthquake hits Mexico Cit...  \n",
       "2  When an army recruit is found dead, his fellow...  \n",
       "3  In a postapocalyptic world, rag-doll robots hi...  \n",
       "4  A brilliant group of students become card-coun...  "
      ],
      "text/html": "<div>\n<style scoped>\n    .dataframe tbody tr th:only-of-type {\n        vertical-align: middle;\n    }\n\n    .dataframe tbody tr th {\n        vertical-align: top;\n    }\n\n    .dataframe thead th {\n        text-align: right;\n    }\n</style>\n<table border=\"1\" class=\"dataframe\">\n  <thead>\n    <tr style=\"text-align: right;\">\n      <th></th>\n      <th>show_id</th>\n      <th>type</th>\n      <th>title</th>\n      <th>director</th>\n      <th>cast</th>\n      <th>country</th>\n      <th>date_added</th>\n      <th>release_year</th>\n      <th>rating</th>\n      <th>duration</th>\n      <th>listed_in</th>\n      <th>description</th>\n    </tr>\n  </thead>\n  <tbody>\n    <tr>\n      <th>0</th>\n      <td>s1</td>\n      <td>TV Show</td>\n      <td>3%</td>\n      <td>NaN</td>\n      <td>João Miguel, Bianca Comparato, Michel Gomes, R...</td>\n      <td>Brazil</td>\n      <td>August 14, 2020</td>\n      <td>2020</td>\n      <td>TV-MA</td>\n      <td>4 Seasons</td>\n      <td>International TV Shows, TV Dramas, TV Sci-Fi &amp;...</td>\n      <td>In a future where the elite inhabit an island ...</td>\n    </tr>\n    <tr>\n      <th>1</th>\n      <td>s2</td>\n      <td>Movie</td>\n      <td>7:19</td>\n      <td>Jorge Michel Grau</td>\n      <td>Demián Bichir, Héctor Bonilla, Oscar Serrano, ...</td>\n      <td>Mexico</td>\n      <td>December 23, 2016</td>\n      <td>2016</td>\n      <td>TV-MA</td>\n      <td>93 min</td>\n      <td>Dramas, International Movies</td>\n      <td>After a devastating earthquake hits Mexico Cit...</td>\n    </tr>\n    <tr>\n      <th>2</th>\n      <td>s3</td>\n      <td>Movie</td>\n      <td>23:59</td>\n      <td>Gilbert Chan</td>\n      <td>Tedd Chan, Stella Chung, Henley Hii, Lawrence ...</td>\n      <td>Singapore</td>\n      <td>December 20, 2018</td>\n      <td>2011</td>\n      <td>R</td>\n      <td>78 min</td>\n      <td>Horror Movies, International Movies</td>\n      <td>When an army recruit is found dead, his fellow...</td>\n    </tr>\n    <tr>\n      <th>3</th>\n      <td>s4</td>\n      <td>Movie</td>\n      <td>9</td>\n      <td>Shane Acker</td>\n      <td>Elijah Wood, John C. Reilly, Jennifer Connelly...</td>\n      <td>United States</td>\n      <td>November 16, 2017</td>\n      <td>2009</td>\n      <td>PG-13</td>\n      <td>80 min</td>\n      <td>Action &amp; Adventure, Independent Movies, Sci-Fi...</td>\n      <td>In a postapocalyptic world, rag-doll robots hi...</td>\n    </tr>\n    <tr>\n      <th>4</th>\n      <td>s5</td>\n      <td>Movie</td>\n      <td>21</td>\n      <td>Robert Luketic</td>\n      <td>Jim Sturgess, Kevin Spacey, Kate Bosworth, Aar...</td>\n      <td>United States</td>\n      <td>January 1, 2020</td>\n      <td>2008</td>\n      <td>PG-13</td>\n      <td>123 min</td>\n      <td>Dramas</td>\n      <td>A brilliant group of students become card-coun...</td>\n    </tr>\n  </tbody>\n</table>\n</div>"
     },
     "metadata": {},
     "execution_count": 38
    }
   ],
   "source": [
    "# Visualizando os primeiros registros\n",
    "data.head()"
   ]
  },
  {
   "cell_type": "code",
   "execution_count": 12,
   "metadata": {},
   "outputs": [
    {
     "output_type": "stream",
     "name": "stdout",
     "text": [
      "<class 'pandas.core.frame.DataFrame'>\nRangeIndex: 7787 entries, 0 to 7786\nData columns (total 12 columns):\n #   Column        Non-Null Count  Dtype \n---  ------        --------------  ----- \n 0   show_id       7787 non-null   object\n 1   type          7787 non-null   object\n 2   title         7787 non-null   object\n 3   director      5398 non-null   object\n 4   cast          7069 non-null   object\n 5   country       7280 non-null   object\n 6   date_added    7777 non-null   object\n 7   release_year  7787 non-null   int64 \n 8   rating        7780 non-null   object\n 9   duration      7787 non-null   object\n 10  listed_in     7787 non-null   object\n 11  description   7787 non-null   object\ndtypes: int64(1), object(11)\nmemory usage: 730.2+ KB\n"
     ]
    }
   ],
   "source": [
    "data.info()"
   ]
  },
  {
   "cell_type": "code",
   "execution_count": 39,
   "metadata": {},
   "outputs": [
    {
     "output_type": "execute_result",
     "data": {
      "text/plain": [
       "       show_id   type    title                director                cast  \\\n",
       "count     7787   7787     7787                    5398                7069   \n",
       "unique    7787      2     7787                    4049                6831   \n",
       "top       s264  Movie  Kurbaan  Raúl Campos, Jan Suter  David Attenborough   \n",
       "freq         1   5377        1                      18                  18   \n",
       "mean       NaN    NaN      NaN                     NaN                 NaN   \n",
       "std        NaN    NaN      NaN                     NaN                 NaN   \n",
       "min        NaN    NaN      NaN                     NaN                 NaN   \n",
       "25%        NaN    NaN      NaN                     NaN                 NaN   \n",
       "50%        NaN    NaN      NaN                     NaN                 NaN   \n",
       "75%        NaN    NaN      NaN                     NaN                 NaN   \n",
       "max        NaN    NaN      NaN                     NaN                 NaN   \n",
       "\n",
       "              country       date_added  release_year rating  duration  \\\n",
       "count            7280             7777   7787.000000   7780      7787   \n",
       "unique            681             1565           NaN     14       216   \n",
       "top     United States  January 1, 2020           NaN  TV-MA  1 Season   \n",
       "freq             2555              118           NaN   2863      1608   \n",
       "mean              NaN              NaN   2013.932580    NaN       NaN   \n",
       "std               NaN              NaN      8.757395    NaN       NaN   \n",
       "min               NaN              NaN   1925.000000    NaN       NaN   \n",
       "25%               NaN              NaN   2013.000000    NaN       NaN   \n",
       "50%               NaN              NaN   2017.000000    NaN       NaN   \n",
       "75%               NaN              NaN   2018.000000    NaN       NaN   \n",
       "max               NaN              NaN   2021.000000    NaN       NaN   \n",
       "\n",
       "            listed_in                                        description  \n",
       "count            7787                                               7787  \n",
       "unique            492                                               7769  \n",
       "top     Documentaries  A surly septuagenarian gets another chance at ...  \n",
       "freq              334                                                  3  \n",
       "mean              NaN                                                NaN  \n",
       "std               NaN                                                NaN  \n",
       "min               NaN                                                NaN  \n",
       "25%               NaN                                                NaN  \n",
       "50%               NaN                                                NaN  \n",
       "75%               NaN                                                NaN  \n",
       "max               NaN                                                NaN  "
      ],
      "text/html": "<div>\n<style scoped>\n    .dataframe tbody tr th:only-of-type {\n        vertical-align: middle;\n    }\n\n    .dataframe tbody tr th {\n        vertical-align: top;\n    }\n\n    .dataframe thead th {\n        text-align: right;\n    }\n</style>\n<table border=\"1\" class=\"dataframe\">\n  <thead>\n    <tr style=\"text-align: right;\">\n      <th></th>\n      <th>show_id</th>\n      <th>type</th>\n      <th>title</th>\n      <th>director</th>\n      <th>cast</th>\n      <th>country</th>\n      <th>date_added</th>\n      <th>release_year</th>\n      <th>rating</th>\n      <th>duration</th>\n      <th>listed_in</th>\n      <th>description</th>\n    </tr>\n  </thead>\n  <tbody>\n    <tr>\n      <th>count</th>\n      <td>7787</td>\n      <td>7787</td>\n      <td>7787</td>\n      <td>5398</td>\n      <td>7069</td>\n      <td>7280</td>\n      <td>7777</td>\n      <td>7787.000000</td>\n      <td>7780</td>\n      <td>7787</td>\n      <td>7787</td>\n      <td>7787</td>\n    </tr>\n    <tr>\n      <th>unique</th>\n      <td>7787</td>\n      <td>2</td>\n      <td>7787</td>\n      <td>4049</td>\n      <td>6831</td>\n      <td>681</td>\n      <td>1565</td>\n      <td>NaN</td>\n      <td>14</td>\n      <td>216</td>\n      <td>492</td>\n      <td>7769</td>\n    </tr>\n    <tr>\n      <th>top</th>\n      <td>s264</td>\n      <td>Movie</td>\n      <td>Kurbaan</td>\n      <td>Raúl Campos, Jan Suter</td>\n      <td>David Attenborough</td>\n      <td>United States</td>\n      <td>January 1, 2020</td>\n      <td>NaN</td>\n      <td>TV-MA</td>\n      <td>1 Season</td>\n      <td>Documentaries</td>\n      <td>A surly septuagenarian gets another chance at ...</td>\n    </tr>\n    <tr>\n      <th>freq</th>\n      <td>1</td>\n      <td>5377</td>\n      <td>1</td>\n      <td>18</td>\n      <td>18</td>\n      <td>2555</td>\n      <td>118</td>\n      <td>NaN</td>\n      <td>2863</td>\n      <td>1608</td>\n      <td>334</td>\n      <td>3</td>\n    </tr>\n    <tr>\n      <th>mean</th>\n      <td>NaN</td>\n      <td>NaN</td>\n      <td>NaN</td>\n      <td>NaN</td>\n      <td>NaN</td>\n      <td>NaN</td>\n      <td>NaN</td>\n      <td>2013.932580</td>\n      <td>NaN</td>\n      <td>NaN</td>\n      <td>NaN</td>\n      <td>NaN</td>\n    </tr>\n    <tr>\n      <th>std</th>\n      <td>NaN</td>\n      <td>NaN</td>\n      <td>NaN</td>\n      <td>NaN</td>\n      <td>NaN</td>\n      <td>NaN</td>\n      <td>NaN</td>\n      <td>8.757395</td>\n      <td>NaN</td>\n      <td>NaN</td>\n      <td>NaN</td>\n      <td>NaN</td>\n    </tr>\n    <tr>\n      <th>min</th>\n      <td>NaN</td>\n      <td>NaN</td>\n      <td>NaN</td>\n      <td>NaN</td>\n      <td>NaN</td>\n      <td>NaN</td>\n      <td>NaN</td>\n      <td>1925.000000</td>\n      <td>NaN</td>\n      <td>NaN</td>\n      <td>NaN</td>\n      <td>NaN</td>\n    </tr>\n    <tr>\n      <th>25%</th>\n      <td>NaN</td>\n      <td>NaN</td>\n      <td>NaN</td>\n      <td>NaN</td>\n      <td>NaN</td>\n      <td>NaN</td>\n      <td>NaN</td>\n      <td>2013.000000</td>\n      <td>NaN</td>\n      <td>NaN</td>\n      <td>NaN</td>\n      <td>NaN</td>\n    </tr>\n    <tr>\n      <th>50%</th>\n      <td>NaN</td>\n      <td>NaN</td>\n      <td>NaN</td>\n      <td>NaN</td>\n      <td>NaN</td>\n      <td>NaN</td>\n      <td>NaN</td>\n      <td>2017.000000</td>\n      <td>NaN</td>\n      <td>NaN</td>\n      <td>NaN</td>\n      <td>NaN</td>\n    </tr>\n    <tr>\n      <th>75%</th>\n      <td>NaN</td>\n      <td>NaN</td>\n      <td>NaN</td>\n      <td>NaN</td>\n      <td>NaN</td>\n      <td>NaN</td>\n      <td>NaN</td>\n      <td>2018.000000</td>\n      <td>NaN</td>\n      <td>NaN</td>\n      <td>NaN</td>\n      <td>NaN</td>\n    </tr>\n    <tr>\n      <th>max</th>\n      <td>NaN</td>\n      <td>NaN</td>\n      <td>NaN</td>\n      <td>NaN</td>\n      <td>NaN</td>\n      <td>NaN</td>\n      <td>NaN</td>\n      <td>2021.000000</td>\n      <td>NaN</td>\n      <td>NaN</td>\n      <td>NaN</td>\n      <td>NaN</td>\n    </tr>\n  </tbody>\n</table>\n</div>"
     },
     "metadata": {},
     "execution_count": 39
    }
   ],
   "source": [
    "data.describe(include='all') # Informa as colunas do dataset e dados a respeito delas\n",
    "\n"
   ]
  },
  {
   "cell_type": "code",
   "execution_count": 40,
   "metadata": {},
   "outputs": [
    {
     "output_type": "execute_result",
     "data": {
      "text/plain": [
       "       release_year\n",
       "count   7787.000000\n",
       "mean    2013.932580\n",
       "std        8.757395\n",
       "min     1925.000000\n",
       "25%     2013.000000\n",
       "50%     2017.000000\n",
       "75%     2018.000000\n",
       "max     2021.000000"
      ],
      "text/html": "<div>\n<style scoped>\n    .dataframe tbody tr th:only-of-type {\n        vertical-align: middle;\n    }\n\n    .dataframe tbody tr th {\n        vertical-align: top;\n    }\n\n    .dataframe thead th {\n        text-align: right;\n    }\n</style>\n<table border=\"1\" class=\"dataframe\">\n  <thead>\n    <tr style=\"text-align: right;\">\n      <th></th>\n      <th>release_year</th>\n    </tr>\n  </thead>\n  <tbody>\n    <tr>\n      <th>count</th>\n      <td>7787.000000</td>\n    </tr>\n    <tr>\n      <th>mean</th>\n      <td>2013.932580</td>\n    </tr>\n    <tr>\n      <th>std</th>\n      <td>8.757395</td>\n    </tr>\n    <tr>\n      <th>min</th>\n      <td>1925.000000</td>\n    </tr>\n    <tr>\n      <th>25%</th>\n      <td>2013.000000</td>\n    </tr>\n    <tr>\n      <th>50%</th>\n      <td>2017.000000</td>\n    </tr>\n    <tr>\n      <th>75%</th>\n      <td>2018.000000</td>\n    </tr>\n    <tr>\n      <th>max</th>\n      <td>2021.000000</td>\n    </tr>\n  </tbody>\n</table>\n</div>"
     },
     "metadata": {},
     "execution_count": 40
    }
   ],
   "source": [
    "data.describe()"
   ]
  },
  {
   "cell_type": "code",
   "execution_count": 18,
   "metadata": {},
   "outputs": [
    {
     "output_type": "execute_result",
     "data": {
      "text/plain": [
       "    show_id     type                       title  \\\n",
       "16      s17  TV Show                      Feb-09   \n",
       "17      s18    Movie                      22-Jul   \n",
       "18      s19    Movie                      15-Aug   \n",
       "19      s20    Movie                         '89   \n",
       "20      s21    Movie        ​​Kuch Bheege Alfaaz   \n",
       "..      ...      ...                         ...   \n",
       "695    s696    Movie                   Bad Match   \n",
       "696    s697    Movie                     Bad Rap   \n",
       "697    s698    Movie                   Bad Seeds   \n",
       "698    s699  TV Show  Badalte Rishton Ki Dastaan   \n",
       "699    s700    Movie                       Badha   \n",
       "\n",
       "                            director  \\\n",
       "16                               NaN   \n",
       "17                   Paul Greengrass   \n",
       "18                Swapnaneel Jayakar   \n",
       "19                               NaN   \n",
       "20                              Onir   \n",
       "..                               ...   \n",
       "695               David Chirchirillo   \n",
       "696                    Salima Koroma   \n",
       "697                          Kheiron   \n",
       "698                              NaN   \n",
       "699  Sumitra Bhave, Sunil Sukthankar   \n",
       "\n",
       "                                                  cast  \\\n",
       "16   Shahd El Yaseen, Shaila Sabt, Hala, Hanadi Al-...   \n",
       "17   Anders Danielsen Lie, Jon Øigarden, Jonas Stra...   \n",
       "18   Rahul Pethe, Mrunmayee Deshpande, Adinath Koth...   \n",
       "19                  Lee Dixon, Ian Wright, Paul Merson   \n",
       "20   Geetanjali Thapa, Zain Khan Durrani, Shray Rai...   \n",
       "..                                                 ...   \n",
       "695  Jack Cutmore-Scott, Lili Simmons, Brandon Scot...   \n",
       "696   Jonathan Park, Awkwafina, David Lee, Richard Lee   \n",
       "697  Kheiron, Catherine Deneuve, André Dussollier, ...   \n",
       "698  Additi Gupta, Sanjeeda Sheikh, Kiran Karmarkar...   \n",
       "699  Amruta Subhash, Rajesh More, Devika Daftardar,...   \n",
       "\n",
       "                            country         date_added  release_year rating  \\\n",
       "16                              NaN     March 20, 2019          2018  TV-14   \n",
       "17   Norway, Iceland, United States   October 10, 2018          2018      R   \n",
       "18                            India     March 29, 2019          2019  TV-14   \n",
       "19                   United Kingdom       May 16, 2018          2017  TV-PG   \n",
       "20                            India  September 1, 2018          2018  TV-14   \n",
       "..                              ...                ...           ...    ...   \n",
       "695        Singapore, United States     March 11, 2018          2017  TV-MA   \n",
       "696           United States, Canada    August 21, 2017          2016  TV-MA   \n",
       "697                 France, Belgium  December 21, 2018          2018  TV-MA   \n",
       "698                           India      April 1, 2017          2013  TV-14   \n",
       "699                           India    January 1, 2018          2006  TV-14   \n",
       "\n",
       "     duration                                         listed_in  \\\n",
       "16   1 Season                 International TV Shows, TV Dramas   \n",
       "17    144 min                                 Dramas, Thrillers   \n",
       "18    124 min              Comedies, Dramas, Independent Movies   \n",
       "19     87 min                                     Sports Movies   \n",
       "20    110 min  Dramas, Independent Movies, International Movies   \n",
       "..        ...                                               ...   \n",
       "695    83 min                                         Thrillers   \n",
       "696    83 min                   Documentaries, Music & Musicals   \n",
       "697   105 min            Comedies, Dramas, International Movies   \n",
       "698  1 Season                 International TV Shows, TV Dramas   \n",
       "699    91 min                      Dramas, International Movies   \n",
       "\n",
       "                                           description  \n",
       "16   As a psychology professor faces Alzheimer's, h...  \n",
       "17   After devastating terror attacks in Norway, a ...  \n",
       "18   On India's Independence Day, a zany mishap in ...  \n",
       "19   Mixing old footage with interviews, this is th...  \n",
       "20   After accidentally connecting over the Interne...  \n",
       "..                                                 ...  \n",
       "695  A player who uses the internet to facilitate h...  \n",
       "696  Four young Asian-American rappers strive to ac...  \n",
       "697  Troubled by his past, a scam artist who runs a...  \n",
       "698  When a man is killed, his wife and his lover –...  \n",
       "699  A young woman who is suspected of practicing b...  \n",
       "\n",
       "[684 rows x 12 columns]"
      ],
      "text/html": "<div>\n<style scoped>\n    .dataframe tbody tr th:only-of-type {\n        vertical-align: middle;\n    }\n\n    .dataframe tbody tr th {\n        vertical-align: top;\n    }\n\n    .dataframe thead th {\n        text-align: right;\n    }\n</style>\n<table border=\"1\" class=\"dataframe\">\n  <thead>\n    <tr style=\"text-align: right;\">\n      <th></th>\n      <th>show_id</th>\n      <th>type</th>\n      <th>title</th>\n      <th>director</th>\n      <th>cast</th>\n      <th>country</th>\n      <th>date_added</th>\n      <th>release_year</th>\n      <th>rating</th>\n      <th>duration</th>\n      <th>listed_in</th>\n      <th>description</th>\n    </tr>\n  </thead>\n  <tbody>\n    <tr>\n      <th>16</th>\n      <td>s17</td>\n      <td>TV Show</td>\n      <td>Feb-09</td>\n      <td>NaN</td>\n      <td>Shahd El Yaseen, Shaila Sabt, Hala, Hanadi Al-...</td>\n      <td>NaN</td>\n      <td>March 20, 2019</td>\n      <td>2018</td>\n      <td>TV-14</td>\n      <td>1 Season</td>\n      <td>International TV Shows, TV Dramas</td>\n      <td>As a psychology professor faces Alzheimer's, h...</td>\n    </tr>\n    <tr>\n      <th>17</th>\n      <td>s18</td>\n      <td>Movie</td>\n      <td>22-Jul</td>\n      <td>Paul Greengrass</td>\n      <td>Anders Danielsen Lie, Jon Øigarden, Jonas Stra...</td>\n      <td>Norway, Iceland, United States</td>\n      <td>October 10, 2018</td>\n      <td>2018</td>\n      <td>R</td>\n      <td>144 min</td>\n      <td>Dramas, Thrillers</td>\n      <td>After devastating terror attacks in Norway, a ...</td>\n    </tr>\n    <tr>\n      <th>18</th>\n      <td>s19</td>\n      <td>Movie</td>\n      <td>15-Aug</td>\n      <td>Swapnaneel Jayakar</td>\n      <td>Rahul Pethe, Mrunmayee Deshpande, Adinath Koth...</td>\n      <td>India</td>\n      <td>March 29, 2019</td>\n      <td>2019</td>\n      <td>TV-14</td>\n      <td>124 min</td>\n      <td>Comedies, Dramas, Independent Movies</td>\n      <td>On India's Independence Day, a zany mishap in ...</td>\n    </tr>\n    <tr>\n      <th>19</th>\n      <td>s20</td>\n      <td>Movie</td>\n      <td>'89</td>\n      <td>NaN</td>\n      <td>Lee Dixon, Ian Wright, Paul Merson</td>\n      <td>United Kingdom</td>\n      <td>May 16, 2018</td>\n      <td>2017</td>\n      <td>TV-PG</td>\n      <td>87 min</td>\n      <td>Sports Movies</td>\n      <td>Mixing old footage with interviews, this is th...</td>\n    </tr>\n    <tr>\n      <th>20</th>\n      <td>s21</td>\n      <td>Movie</td>\n      <td>​​Kuch Bheege Alfaaz</td>\n      <td>Onir</td>\n      <td>Geetanjali Thapa, Zain Khan Durrani, Shray Rai...</td>\n      <td>India</td>\n      <td>September 1, 2018</td>\n      <td>2018</td>\n      <td>TV-14</td>\n      <td>110 min</td>\n      <td>Dramas, Independent Movies, International Movies</td>\n      <td>After accidentally connecting over the Interne...</td>\n    </tr>\n    <tr>\n      <th>...</th>\n      <td>...</td>\n      <td>...</td>\n      <td>...</td>\n      <td>...</td>\n      <td>...</td>\n      <td>...</td>\n      <td>...</td>\n      <td>...</td>\n      <td>...</td>\n      <td>...</td>\n      <td>...</td>\n      <td>...</td>\n    </tr>\n    <tr>\n      <th>695</th>\n      <td>s696</td>\n      <td>Movie</td>\n      <td>Bad Match</td>\n      <td>David Chirchirillo</td>\n      <td>Jack Cutmore-Scott, Lili Simmons, Brandon Scot...</td>\n      <td>Singapore, United States</td>\n      <td>March 11, 2018</td>\n      <td>2017</td>\n      <td>TV-MA</td>\n      <td>83 min</td>\n      <td>Thrillers</td>\n      <td>A player who uses the internet to facilitate h...</td>\n    </tr>\n    <tr>\n      <th>696</th>\n      <td>s697</td>\n      <td>Movie</td>\n      <td>Bad Rap</td>\n      <td>Salima Koroma</td>\n      <td>Jonathan Park, Awkwafina, David Lee, Richard Lee</td>\n      <td>United States, Canada</td>\n      <td>August 21, 2017</td>\n      <td>2016</td>\n      <td>TV-MA</td>\n      <td>83 min</td>\n      <td>Documentaries, Music &amp; Musicals</td>\n      <td>Four young Asian-American rappers strive to ac...</td>\n    </tr>\n    <tr>\n      <th>697</th>\n      <td>s698</td>\n      <td>Movie</td>\n      <td>Bad Seeds</td>\n      <td>Kheiron</td>\n      <td>Kheiron, Catherine Deneuve, André Dussollier, ...</td>\n      <td>France, Belgium</td>\n      <td>December 21, 2018</td>\n      <td>2018</td>\n      <td>TV-MA</td>\n      <td>105 min</td>\n      <td>Comedies, Dramas, International Movies</td>\n      <td>Troubled by his past, a scam artist who runs a...</td>\n    </tr>\n    <tr>\n      <th>698</th>\n      <td>s699</td>\n      <td>TV Show</td>\n      <td>Badalte Rishton Ki Dastaan</td>\n      <td>NaN</td>\n      <td>Additi Gupta, Sanjeeda Sheikh, Kiran Karmarkar...</td>\n      <td>India</td>\n      <td>April 1, 2017</td>\n      <td>2013</td>\n      <td>TV-14</td>\n      <td>1 Season</td>\n      <td>International TV Shows, TV Dramas</td>\n      <td>When a man is killed, his wife and his lover –...</td>\n    </tr>\n    <tr>\n      <th>699</th>\n      <td>s700</td>\n      <td>Movie</td>\n      <td>Badha</td>\n      <td>Sumitra Bhave, Sunil Sukthankar</td>\n      <td>Amruta Subhash, Rajesh More, Devika Daftardar,...</td>\n      <td>India</td>\n      <td>January 1, 2018</td>\n      <td>2006</td>\n      <td>TV-14</td>\n      <td>91 min</td>\n      <td>Dramas, International Movies</td>\n      <td>A young woman who is suspected of practicing b...</td>\n    </tr>\n  </tbody>\n</table>\n<p>684 rows × 12 columns</p>\n</div>"
     },
     "metadata": {},
     "execution_count": 18
    }
   ],
   "source": [
    "# Fatiando os registros e retornando todas as colunas\n",
    "data[16:700]"
   ]
  },
  {
   "cell_type": "code",
   "execution_count": 21,
   "metadata": {},
   "outputs": [
    {
     "output_type": "execute_result",
     "data": {
      "text/plain": [
       "16                         Feb-09\n",
       "17                         22-Jul\n",
       "18                         15-Aug\n",
       "19                            '89\n",
       "20           ​​Kuch Bheege Alfaaz\n",
       "                  ...            \n",
       "695                     Bad Match\n",
       "696                       Bad Rap\n",
       "697                     Bad Seeds\n",
       "698    Badalte Rishton Ki Dastaan\n",
       "699                         Badha\n",
       "Name: title, Length: 684, dtype: object"
      ]
     },
     "metadata": {},
     "execution_count": 21
    }
   ],
   "source": [
    "# Retornando 1 coluna e fatiando\n",
    "data['title'][16:700]"
   ]
  },
  {
   "cell_type": "code",
   "execution_count": 10,
   "metadata": {},
   "outputs": [
    {
     "output_type": "stream",
     "name": "stdout",
     "text": [
      "Tipo:  <class 'pandas.core.frame.DataFrame'>\n"
     ]
    },
    {
     "output_type": "execute_result",
     "data": {
      "text/plain": [
       "                              title         director\n",
       "100                        3 Idiots  Rajkumar Hirani\n",
       "101               3 Seconds Divorce     Shazia Javed\n",
       "102             3 Türken & ein Baby      Sinan Akkuş\n",
       "103               30 Days of Luxury       Hani Hamdi\n",
       "104              30 Minutes or Less  Ruben Fleischer\n",
       "..                              ...              ...\n",
       "895                  Bibi & Tina II      Detlev Buck\n",
       "896  Bibi & Tina: Girls Versus Boys      Detlev Buck\n",
       "897   Bibi & Tina: Tohuwabohu Total      Detlev Buck\n",
       "898                   Bibik-Bibikku              NaN\n",
       "899             Big Bad Beetleborgs              NaN\n",
       "\n",
       "[800 rows x 2 columns]"
      ],
      "text/html": "<div>\n<style scoped>\n    .dataframe tbody tr th:only-of-type {\n        vertical-align: middle;\n    }\n\n    .dataframe tbody tr th {\n        vertical-align: top;\n    }\n\n    .dataframe thead th {\n        text-align: right;\n    }\n</style>\n<table border=\"1\" class=\"dataframe\">\n  <thead>\n    <tr style=\"text-align: right;\">\n      <th></th>\n      <th>title</th>\n      <th>director</th>\n    </tr>\n  </thead>\n  <tbody>\n    <tr>\n      <th>100</th>\n      <td>3 Idiots</td>\n      <td>Rajkumar Hirani</td>\n    </tr>\n    <tr>\n      <th>101</th>\n      <td>3 Seconds Divorce</td>\n      <td>Shazia Javed</td>\n    </tr>\n    <tr>\n      <th>102</th>\n      <td>3 Türken &amp; ein Baby</td>\n      <td>Sinan Akkuş</td>\n    </tr>\n    <tr>\n      <th>103</th>\n      <td>30 Days of Luxury</td>\n      <td>Hani Hamdi</td>\n    </tr>\n    <tr>\n      <th>104</th>\n      <td>30 Minutes or Less</td>\n      <td>Ruben Fleischer</td>\n    </tr>\n    <tr>\n      <th>...</th>\n      <td>...</td>\n      <td>...</td>\n    </tr>\n    <tr>\n      <th>895</th>\n      <td>Bibi &amp; Tina II</td>\n      <td>Detlev Buck</td>\n    </tr>\n    <tr>\n      <th>896</th>\n      <td>Bibi &amp; Tina: Girls Versus Boys</td>\n      <td>Detlev Buck</td>\n    </tr>\n    <tr>\n      <th>897</th>\n      <td>Bibi &amp; Tina: Tohuwabohu Total</td>\n      <td>Detlev Buck</td>\n    </tr>\n    <tr>\n      <th>898</th>\n      <td>Bibik-Bibikku</td>\n      <td>NaN</td>\n    </tr>\n    <tr>\n      <th>899</th>\n      <td>Big Bad Beetleborgs</td>\n      <td>NaN</td>\n    </tr>\n  </tbody>\n</table>\n<p>800 rows × 2 columns</p>\n</div>"
     },
     "metadata": {},
     "execution_count": 10
    }
   ],
   "source": [
    "# Retornando 2 colunas e fatiando\n",
    "sliced_df = data[['title','director']][100:900]\n",
    "print(\"Tipo: \", type(sliced_df))\n",
    "sliced_df\n"
   ]
  }
 ],
 "metadata": {
  "kernelspec": {
   "name": "python385jvsc74a57bd0b3ba2566441a7c06988d0923437866b63cedc61552a5af99d1f4fb67d367b25f",
   "display_name": "Python 3.8.5 64-bit ('base': conda)"
  },
  "language_info": {
   "codemirror_mode": {
    "name": "ipython",
    "version": 3
   },
   "file_extension": ".py",
   "mimetype": "text/x-python",
   "name": "python",
   "nbconvert_exporter": "python",
   "pygments_lexer": "ipython3",
   "version": "3.8.5"
  }
 },
 "nbformat": 4,
 "nbformat_minor": 4
}