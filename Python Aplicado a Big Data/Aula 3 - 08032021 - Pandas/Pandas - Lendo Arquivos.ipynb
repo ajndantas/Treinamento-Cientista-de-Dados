{
 "metadata": {
  "language_info": {
   "codemirror_mode": {
    "name": "ipython",
    "version": 3
   },
   "file_extension": ".py",
   "mimetype": "text/x-python",
   "name": "python",
   "nbconvert_exporter": "python",
   "pygments_lexer": "ipython3",
   "version": 3
  },
  "orig_nbformat": 2
 },
 "nbformat": 4,
 "nbformat_minor": 2,
 "cells": [
  {
   "source": [
    "## [Lendo planilhas xlsx](https://pandas.pydata.org/pandas-docs/stable/reference/api/pandas.read_excel.html)"
   ],
   "cell_type": "markdown",
   "metadata": {}
  },
  {
   "cell_type": "code",
   "execution_count": null,
   "metadata": {},
   "outputs": [],
   "source": [
    "# imports\n",
    "import pandas as pd"
   ]
  },
  {
   "cell_type": "code",
   "execution_count": null,
   "metadata": {},
   "outputs": [],
   "source": [
    "# Diretório com as planilhas\n",
    "\n",
    "data_path = 'C:\\\\Users\\\\anton\\\\OneDrive\\\\Documentos\\\\Treinamento Cientista de Dados\\\\Python Aplicado a Big Data\\\\Aula 3 - 08032021 - Pandas\\\\sample-data\\\\xlsx\\\\'"
   ]
  },
  {
   "source": [
    "#### a) Lendo arquivos xlsx passando o nome diretamente"
   ],
   "cell_type": "markdown",
   "metadata": {}
  },
  {
   "cell_type": "code",
   "execution_count": null,
   "metadata": {},
   "outputs": [],
   "source": [
    "dataframe = pd.read_excel(data_path+'Dataset.xlsx')\n",
    "print(type(dataframe))\n",
    "print()\n",
    "print(dataframe)\n",
    "print()\n",
    "dataframe.describe()"
   ]
  },
  {
   "source": [
    "#### b) Lendo arquivos xlsx acessando posição na lista criada anteriormente"
   ],
   "cell_type": "markdown",
   "metadata": {}
  },
  {
   "cell_type": "code",
   "execution_count": null,
   "metadata": {},
   "outputs": [],
   "source": []
  }
 ]
}