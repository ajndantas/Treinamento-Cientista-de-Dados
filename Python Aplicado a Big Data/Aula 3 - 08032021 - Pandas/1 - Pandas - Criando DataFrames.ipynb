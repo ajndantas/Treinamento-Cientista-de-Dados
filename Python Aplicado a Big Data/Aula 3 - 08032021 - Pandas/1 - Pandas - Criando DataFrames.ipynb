{
 "metadata": {
  "language_info": {
   "codemirror_mode": {
    "name": "ipython",
    "version": 3
   },
   "file_extension": ".py",
   "mimetype": "text/x-python",
   "name": "python",
   "nbconvert_exporter": "python",
   "pygments_lexer": "ipython3",
   "version": "3.8.5"
  },
  "orig_nbformat": 2,
  "kernelspec": {
   "name": "python385jvsc74a57bd0b3ba2566441a7c06988d0923437866b63cedc61552a5af99d1f4fb67d367b25f",
   "display_name": "Python 3.8.5 64-bit ('base': conda)"
  }
 },
 "nbformat": 4,
 "nbformat_minor": 2,
 "cells": [
  {
   "source": [
    "# Python aplicado a Big Data\n",
    "## Dia 3 - 08/03/2021\n",
    "### Instrutor: Leonardo Galler"
   ],
   "cell_type": "markdown",
   "metadata": {}
  },
  {
   "source": [
    "### Introdução ao Pandas"
   ],
   "cell_type": "markdown",
   "metadata": {}
  },
  {
   "source": [
    "### Explorando dados com Dataframes"
   ],
   "cell_type": "markdown",
   "metadata": {}
  },
  {
   "cell_type": "code",
   "execution_count": 17,
   "metadata": {},
   "outputs": [],
   "source": [
    "# imports\n",
    "\n",
    "import numpy as np\n",
    "import pandas as pd"
   ]
  },
  {
   "source": [
    "#### Bonus - Criando dataframes a partir de um dicionário de arrays NumPy"
   ],
   "cell_type": "markdown",
   "metadata": {}
  },
  {
   "cell_type": "code",
   "execution_count": 20,
   "metadata": {},
   "outputs": [
    {
     "output_type": "stream",
     "name": "stdout",
     "text": [
      "Descrevendo o dataframe\n            order        temp\ncount  120.000000  120.000000\nmean    59.500000   70.000000\nstd     34.785054   46.769821\nmin      0.000000  -10.000000\n25%     29.750000   30.000000\n50%     59.500000   70.000000\n75%     89.250000  110.000000\nmax    119.000000  150.000000\n\nUtilizando describe(include='all')\n            order        temp\ncount  120.000000  120.000000\nmean    59.500000   70.000000\nstd     34.785054   46.769821\nmin      0.000000  -10.000000\n25%     29.750000   30.000000\n50%     59.500000   70.000000\n75%     89.250000  110.000000\nmax    119.000000  150.000000\n\nApresentando o dataframe\n     order        temp\n0        0  -10.000000\n1        1   -8.655462\n2        2   -7.310924\n3        3   -5.966387\n4        4   -4.621849\n..     ...         ...\n115    115  144.621849\n116    116  145.966387\n117    117  147.310924\n118    118  148.655462\n119    119  150.000000\n\n[120 rows x 2 columns]\n\nInformações Básicas\n<class 'pandas.core.frame.DataFrame'>\nRangeIndex: 120 entries, 0 to 119\nData columns (total 2 columns):\n #   Column  Non-Null Count  Dtype  \n---  ------  --------------  -----  \n 0   order   120 non-null    int32  \n 1   temp    120 non-null    float64\ndtypes: float64(1), int32(1)\nmemory usage: 1.5 KB\n"
     ]
    }
   ],
   "source": [
    "# Utilizando dicionários de arrays numpy\n",
    "\n",
    "data = {'order':np.arange(start=0 , stop = 120 , step = 1),\n",
    "        'temp':np.linspace(start=-10, stop=150, num=120)}\n",
    "\n",
    "# Criando dataframe com Ndarrays\n",
    "df = pd.DataFrame(data)\n",
    "\n",
    "# Descreva o dataframe\n",
    "print(\"Descrevendo o dataframe\")\n",
    "print(df.describe())\n",
    "print()\n",
    "\n",
    "print(\"Utilizando describe(include='all')\")\n",
    "print(df.describe(include='all')) # Informa as colunas do dataset e dados a respeito delas\n",
    "print()\n",
    "\n",
    "# Apresente o dataframe\n",
    "print(\"Apresentando o dataframe\")\n",
    "print(df)\n",
    "print()\n",
    "\n",
    "# Informações básicas sobre o dataframe\n",
    "print(\"Informações Básicas\")\n",
    "df.info()"
   ]
  },
  {
   "source": [
    "### Função shape() -> Informa linhas e colunas de um dataframe\n",
    "\n"
   ],
   "cell_type": "markdown",
   "metadata": {}
  },
  {
   "cell_type": "code",
   "execution_count": 21,
   "metadata": {},
   "outputs": [
    {
     "output_type": "stream",
     "name": "stdout",
     "text": [
      "Quantidade de linhas e colunas = (120, 2)\nQuantidade de linhas = 120\nQuantidade de colunas = 2\n"
     ]
    }
   ],
   "source": [
    "print('Quantidade de linhas e colunas =',df.shape) \n",
    "print('Quantidade de linhas =', df.shape[0]) \n",
    "print('Quantidade de colunas =',df.shape[1])"
   ]
  },
  {
   "source": [
    "#### Bonus 2 - Criando dataframes a partir de uma lista"
   ],
   "cell_type": "markdown",
   "metadata": {}
  },
  {
   "cell_type": "code",
   "execution_count": null,
   "metadata": {},
   "outputs": [],
   "source": [
    "# Criando dataframe utilizando listas\n",
    "df2 = pd.DataFrame(['Elvis','Michael','BB King','Celine','Alicia'], \n",
    "                   columns=['artist'])\n",
    "                   \n",
    "print(df2)"
   ]
  },
  {
   "source": [
    "#### Bonus 3 - Criando dataframes a partir de dicionários de listas"
   ],
   "cell_type": "markdown",
   "metadata": {}
  },
  {
   "cell_type": "code",
   "execution_count": null,
   "metadata": {},
   "outputs": [],
   "source": [
    "data = {'cidade' :['Capao Redondo','Mirandopolis','Paraisopolis','Morumbi'],\n",
    "        'acesso' :['Dificil','Medio','Dificil','Facil'],\n",
    "        'visitas':[120,84,112,87]}\n",
    "\n",
    "df = pd.DataFrame(data)\n",
    "print(df)"
   ]
  },
  {
   "source": [
    "#### Bonus 3.1 - Definindo o índice na inicialização do dataframe"
   ],
   "cell_type": "markdown",
   "metadata": {}
  },
  {
   "cell_type": "code",
   "execution_count": 3,
   "metadata": {},
   "outputs": [
    {
     "output_type": "execute_result",
     "data": {
      "text/plain": [
       "            max_speed  shield\n",
       "cobra               1       2\n",
       "viper               4       5\n",
       "sidewinder          7       8"
      ],
      "text/html": "<div>\n<style scoped>\n    .dataframe tbody tr th:only-of-type {\n        vertical-align: middle;\n    }\n\n    .dataframe tbody tr th {\n        vertical-align: top;\n    }\n\n    .dataframe thead th {\n        text-align: right;\n    }\n</style>\n<table border=\"1\" class=\"dataframe\">\n  <thead>\n    <tr style=\"text-align: right;\">\n      <th></th>\n      <th>max_speed</th>\n      <th>shield</th>\n    </tr>\n  </thead>\n  <tbody>\n    <tr>\n      <th>cobra</th>\n      <td>1</td>\n      <td>2</td>\n    </tr>\n    <tr>\n      <th>viper</th>\n      <td>4</td>\n      <td>5</td>\n    </tr>\n    <tr>\n      <th>sidewinder</th>\n      <td>7</td>\n      <td>8</td>\n    </tr>\n  </tbody>\n</table>\n</div>"
     },
     "metadata": {},
     "execution_count": 3
    }
   ],
   "source": [
    "df = pd.DataFrame([[1, 2], [4, 5], [7, 8]],\n",
    "     index=['cobra', 'viper', 'sidewinder'],\n",
    "     columns=['max_speed', 'shield'])\n",
    "\n",
    "df"
   ]
  },
  {
   "source": [
    "#### Bonus 4 - Verificando os arquivos do diretório"
   ],
   "cell_type": "markdown",
   "metadata": {}
  },
  {
   "cell_type": "code",
   "execution_count": null,
   "metadata": {},
   "outputs": [],
   "source": [
    "import os\n",
    "# Armazene em uma variável o local onde estarão os arquivos que serão utilizados\n",
    "data_path = 'C:\\\\Users\\\\anton\\\\OneDrive\\\\Documentos\\\\Treinamento Cientista de Dados\\\\Python Aplicado a Big Data\\\\Aula 3 - 08032021 - Pandas\\\\sample-data\\\\xlsx\\\\'\n",
    "\n",
    "files = os.listdir( data_path )\n",
    "print(type(files)) # é retornada uma lista, pode ser criado um loop para processamento \n",
    "                  # sequencial de arquivos.\n",
    "# Mostre todos os arquivos no diretório\n",
    "for file in files:\n",
    "   print(file)"
   ]
  },
  {
   "source": [
    "### Criando novas colunas em um dataframe"
   ],
   "cell_type": "markdown",
   "metadata": {}
  },
  {
   "cell_type": "code",
   "execution_count": 4,
   "metadata": {},
   "outputs": [],
   "source": [
    "# Criando dataframe de teste\n",
    "\n",
    "students = [ ('Jack', 34, 'Sydeny' , 'Australia') ,\n",
    "             ('Joshua', 30, 'Delhi' , 'India' ) ,\n",
    "             ('Tom', 31, 'Mumbai' , 'India' ) ,\n",
    "             ('Alicia', 32, 'Bangalore' , 'India' ) ,\n",
    "             ('John', 16, 'New York' , 'US') ,\n",
    "             ('Osama', 17, 'las vegas' , 'US')  ]\n",
    "\n",
    "df = pd.DataFrame(students, \n",
    "                  columns = ['Name' , 'Age', 'City' , 'Country'], \n",
    "                  index=['a', 'b', 'c' , 'd' , 'e' , 'f'])"
   ]
  },
  {
   "source": [
    "#### Método 1 - Adicionar uma coluna ao Dataframe do Pandas com um valor padrão.\n",
    "**Formas de fazer** <br>\n",
    "1. Declarando uma lista como uma nova coluna <br>\n",
    "2. Utilizando loc (Você pode usar '.loc' com ':' para adicionar um valor <br> especificado para todas as linhas.). Será visto em Manipulando Dataframes <br>\n",
    "3. Utilizando .assign() <br>\n",
    "4. Utilizando .insert() <br>\n",
    "#####  Paramentros para insert\n",
    "<li>loc: loc é um inteiro que é a localização de uma coluna onde queremos inserir uma nova coluna. Isso mudará a coluna existente naquela posição para a direita.<br>\n",
    "<li>column: uma string que é o nome de uma coluna a ser inserida.<br>\n",
    "<li>value: valor é simplesmente o valor a ser inserido. Pode ser um inteiro, uma string, um float ou mesmo uma série/lista de valores. Fornecer apenas um valor definirá o mesmo valor para todas as linhas.<br><br>\n",
    "\n",
    "**allow_duplicates**: é um valor booleano que verifica se uma coluna com o mesmo nome já existe ou não."
   ],
   "cell_type": "markdown",
   "metadata": {}
  },
  {
   "source": [
    "#### 1. Declarando uma lista como uma nova coluna"
   ],
   "cell_type": "markdown",
   "metadata": {}
  },
  {
   "cell_type": "code",
   "execution_count": 5,
   "metadata": {},
   "outputs": [
    {
     "output_type": "execute_result",
     "data": {
      "text/plain": [
       "     Name  Age       City    Country    School\n",
       "a    Jack   34     Sydeny  Australia  Training\n",
       "b  Joshua   30      Delhi      India  Training\n",
       "c     Tom   31     Mumbai      India  Training\n",
       "d  Alicia   32  Bangalore      India  Training\n",
       "e    John   16   New York         US  Training\n",
       "f   Osama   17  las vegas         US  Training"
      ],
      "text/html": "<div>\n<style scoped>\n    .dataframe tbody tr th:only-of-type {\n        vertical-align: middle;\n    }\n\n    .dataframe tbody tr th {\n        vertical-align: top;\n    }\n\n    .dataframe thead th {\n        text-align: right;\n    }\n</style>\n<table border=\"1\" class=\"dataframe\">\n  <thead>\n    <tr style=\"text-align: right;\">\n      <th></th>\n      <th>Name</th>\n      <th>Age</th>\n      <th>City</th>\n      <th>Country</th>\n      <th>School</th>\n    </tr>\n  </thead>\n  <tbody>\n    <tr>\n      <th>a</th>\n      <td>Jack</td>\n      <td>34</td>\n      <td>Sydeny</td>\n      <td>Australia</td>\n      <td>Training</td>\n    </tr>\n    <tr>\n      <th>b</th>\n      <td>Joshua</td>\n      <td>30</td>\n      <td>Delhi</td>\n      <td>India</td>\n      <td>Training</td>\n    </tr>\n    <tr>\n      <th>c</th>\n      <td>Tom</td>\n      <td>31</td>\n      <td>Mumbai</td>\n      <td>India</td>\n      <td>Training</td>\n    </tr>\n    <tr>\n      <th>d</th>\n      <td>Alicia</td>\n      <td>32</td>\n      <td>Bangalore</td>\n      <td>India</td>\n      <td>Training</td>\n    </tr>\n    <tr>\n      <th>e</th>\n      <td>John</td>\n      <td>16</td>\n      <td>New York</td>\n      <td>US</td>\n      <td>Training</td>\n    </tr>\n    <tr>\n      <th>f</th>\n      <td>Osama</td>\n      <td>17</td>\n      <td>las vegas</td>\n      <td>US</td>\n      <td>Training</td>\n    </tr>\n  </tbody>\n</table>\n</div>"
     },
     "metadata": {},
     "execution_count": 5
    }
   ],
   "source": [
    "df['School'] = 'Training'\n",
    "df"
   ]
  },
  {
   "source": [
    "#### 3. Utilizando .assign()"
   ],
   "cell_type": "markdown",
   "metadata": {}
  },
  {
   "source": [
    "df = df.assign(Duration_months='24')\n",
    "df"
   ],
   "cell_type": "code",
   "metadata": {},
   "execution_count": 6,
   "outputs": [
    {
     "output_type": "execute_result",
     "data": {
      "text/plain": [
       "     Name  Age       City    Country    School Duration_months\n",
       "a    Jack   34     Sydeny  Australia  Training              24\n",
       "b  Joshua   30      Delhi      India  Training              24\n",
       "c     Tom   31     Mumbai      India  Training              24\n",
       "d  Alicia   32  Bangalore      India  Training              24\n",
       "e    John   16   New York         US  Training              24\n",
       "f   Osama   17  las vegas         US  Training              24"
      ],
      "text/html": "<div>\n<style scoped>\n    .dataframe tbody tr th:only-of-type {\n        vertical-align: middle;\n    }\n\n    .dataframe tbody tr th {\n        vertical-align: top;\n    }\n\n    .dataframe thead th {\n        text-align: right;\n    }\n</style>\n<table border=\"1\" class=\"dataframe\">\n  <thead>\n    <tr style=\"text-align: right;\">\n      <th></th>\n      <th>Name</th>\n      <th>Age</th>\n      <th>City</th>\n      <th>Country</th>\n      <th>School</th>\n      <th>Duration_months</th>\n    </tr>\n  </thead>\n  <tbody>\n    <tr>\n      <th>a</th>\n      <td>Jack</td>\n      <td>34</td>\n      <td>Sydeny</td>\n      <td>Australia</td>\n      <td>Training</td>\n      <td>24</td>\n    </tr>\n    <tr>\n      <th>b</th>\n      <td>Joshua</td>\n      <td>30</td>\n      <td>Delhi</td>\n      <td>India</td>\n      <td>Training</td>\n      <td>24</td>\n    </tr>\n    <tr>\n      <th>c</th>\n      <td>Tom</td>\n      <td>31</td>\n      <td>Mumbai</td>\n      <td>India</td>\n      <td>Training</td>\n      <td>24</td>\n    </tr>\n    <tr>\n      <th>d</th>\n      <td>Alicia</td>\n      <td>32</td>\n      <td>Bangalore</td>\n      <td>India</td>\n      <td>Training</td>\n      <td>24</td>\n    </tr>\n    <tr>\n      <th>e</th>\n      <td>John</td>\n      <td>16</td>\n      <td>New York</td>\n      <td>US</td>\n      <td>Training</td>\n      <td>24</td>\n    </tr>\n    <tr>\n      <th>f</th>\n      <td>Osama</td>\n      <td>17</td>\n      <td>las vegas</td>\n      <td>US</td>\n      <td>Training</td>\n      <td>24</td>\n    </tr>\n  </tbody>\n</table>\n</div>"
     },
     "metadata": {},
     "execution_count": 6
    }
   ]
  },
  {
   "source": [
    "#### 4. Utilizando .insert()\n",
    "**DataFrame.insert(loc, column, value, allow_duplicates=False)**"
   ],
   "cell_type": "markdown",
   "metadata": {}
  },
  {
   "cell_type": "code",
   "execution_count": 7,
   "metadata": {},
   "outputs": [
    {
     "output_type": "execute_result",
     "data": {
      "text/plain": [
       "     Name  Age Age_range       City    Country    School Duration_months\n",
       "a    Jack   34       16+     Sydeny  Australia  Training              24\n",
       "b  Joshua   30       16+      Delhi      India  Training              24\n",
       "c     Tom   31       16+     Mumbai      India  Training              24\n",
       "d  Alicia   32       16+  Bangalore      India  Training              24\n",
       "e    John   16       16+   New York         US  Training              24\n",
       "f   Osama   17       16+  las vegas         US  Training              24"
      ],
      "text/html": "<div>\n<style scoped>\n    .dataframe tbody tr th:only-of-type {\n        vertical-align: middle;\n    }\n\n    .dataframe tbody tr th {\n        vertical-align: top;\n    }\n\n    .dataframe thead th {\n        text-align: right;\n    }\n</style>\n<table border=\"1\" class=\"dataframe\">\n  <thead>\n    <tr style=\"text-align: right;\">\n      <th></th>\n      <th>Name</th>\n      <th>Age</th>\n      <th>Age_range</th>\n      <th>City</th>\n      <th>Country</th>\n      <th>School</th>\n      <th>Duration_months</th>\n    </tr>\n  </thead>\n  <tbody>\n    <tr>\n      <th>a</th>\n      <td>Jack</td>\n      <td>34</td>\n      <td>16+</td>\n      <td>Sydeny</td>\n      <td>Australia</td>\n      <td>Training</td>\n      <td>24</td>\n    </tr>\n    <tr>\n      <th>b</th>\n      <td>Joshua</td>\n      <td>30</td>\n      <td>16+</td>\n      <td>Delhi</td>\n      <td>India</td>\n      <td>Training</td>\n      <td>24</td>\n    </tr>\n    <tr>\n      <th>c</th>\n      <td>Tom</td>\n      <td>31</td>\n      <td>16+</td>\n      <td>Mumbai</td>\n      <td>India</td>\n      <td>Training</td>\n      <td>24</td>\n    </tr>\n    <tr>\n      <th>d</th>\n      <td>Alicia</td>\n      <td>32</td>\n      <td>16+</td>\n      <td>Bangalore</td>\n      <td>India</td>\n      <td>Training</td>\n      <td>24</td>\n    </tr>\n    <tr>\n      <th>e</th>\n      <td>John</td>\n      <td>16</td>\n      <td>16+</td>\n      <td>New York</td>\n      <td>US</td>\n      <td>Training</td>\n      <td>24</td>\n    </tr>\n    <tr>\n      <th>f</th>\n      <td>Osama</td>\n      <td>17</td>\n      <td>16+</td>\n      <td>las vegas</td>\n      <td>US</td>\n      <td>Training</td>\n      <td>24</td>\n    </tr>\n  </tbody>\n</table>\n</div>"
     },
     "metadata": {},
     "execution_count": 7
    }
   ],
   "source": [
    "df.insert(2,'Age_range','16+',allow_duplicates=True)\n",
    "df"
   ]
  },
  {
   "source": [
    "#### Método 2 - Adicionar uma coluna ao Dataframe do Pandas com valores diferentes\n",
    "##### Formas de fazer\n",
    "1. Declarando uma lista como uma nova coluna\n",
    "2. Utilizando loc (Você pode usar '.loc' com ':' para adicionar um valor especificado para todas as linhas.). Será visto em Manipulando Dataframes.\n",
    "3. Utilizando .assign()\n",
    "4. Utilizando .insert()\n",
    "#####  Paramentros para insert\n",
    "-loc: loc é um inteiro que é a localização de uma coluna onde queremos inserir uma nova coluna. Isso mudará a coluna existente naquela posição para a direita.<br>\n",
    "-column: uma string que é o nome de uma coluna a ser inserida.<br>\n",
    "-value: valor é simplesmente o valor a ser inserido. Pode ser um inteiro, uma string, um float ou mesmo uma série/lista de valores. Fornecer apenas um valor definirá o mesmo valor para todas as linhas.<br><br>\n",
    "-**allow_duplicates**: é um valor booleano que verifica se uma coluna com o mesmo nome já existe ou não."
   ],
   "cell_type": "markdown",
   "metadata": {}
  },
  {
   "source": [
    "#### 1. Declarando uma lista como uma nova coluna"
   ],
   "cell_type": "markdown",
   "metadata": {}
  },
  {
   "cell_type": "code",
   "execution_count": 8,
   "metadata": {},
   "outputs": [
    {
     "output_type": "execute_result",
     "data": {
      "text/plain": [
       "     Name  Age Age_range       City    Country    School Duration_months  \\\n",
       "a    Jack   34       16+     Sydeny  Australia  Training              24   \n",
       "b  Joshua   30       16+      Delhi      India  Training              24   \n",
       "c     Tom   31       16+     Mumbai      India  Training              24   \n",
       "d  Alicia   32       16+  Bangalore      India  Training              24   \n",
       "e    John   16       16+   New York         US  Training              24   \n",
       "f   Osama   17       16+  las vegas         US  Training              24   \n",
       "\n",
       "  Final_grade  \n",
       "a           A  \n",
       "b           D  \n",
       "c           B  \n",
       "d           A  \n",
       "e           A  \n",
       "f           C  "
      ],
      "text/html": "<div>\n<style scoped>\n    .dataframe tbody tr th:only-of-type {\n        vertical-align: middle;\n    }\n\n    .dataframe tbody tr th {\n        vertical-align: top;\n    }\n\n    .dataframe thead th {\n        text-align: right;\n    }\n</style>\n<table border=\"1\" class=\"dataframe\">\n  <thead>\n    <tr style=\"text-align: right;\">\n      <th></th>\n      <th>Name</th>\n      <th>Age</th>\n      <th>Age_range</th>\n      <th>City</th>\n      <th>Country</th>\n      <th>School</th>\n      <th>Duration_months</th>\n      <th>Final_grade</th>\n    </tr>\n  </thead>\n  <tbody>\n    <tr>\n      <th>a</th>\n      <td>Jack</td>\n      <td>34</td>\n      <td>16+</td>\n      <td>Sydeny</td>\n      <td>Australia</td>\n      <td>Training</td>\n      <td>24</td>\n      <td>A</td>\n    </tr>\n    <tr>\n      <th>b</th>\n      <td>Joshua</td>\n      <td>30</td>\n      <td>16+</td>\n      <td>Delhi</td>\n      <td>India</td>\n      <td>Training</td>\n      <td>24</td>\n      <td>D</td>\n    </tr>\n    <tr>\n      <th>c</th>\n      <td>Tom</td>\n      <td>31</td>\n      <td>16+</td>\n      <td>Mumbai</td>\n      <td>India</td>\n      <td>Training</td>\n      <td>24</td>\n      <td>B</td>\n    </tr>\n    <tr>\n      <th>d</th>\n      <td>Alicia</td>\n      <td>32</td>\n      <td>16+</td>\n      <td>Bangalore</td>\n      <td>India</td>\n      <td>Training</td>\n      <td>24</td>\n      <td>A</td>\n    </tr>\n    <tr>\n      <th>e</th>\n      <td>John</td>\n      <td>16</td>\n      <td>16+</td>\n      <td>New York</td>\n      <td>US</td>\n      <td>Training</td>\n      <td>24</td>\n      <td>A</td>\n    </tr>\n    <tr>\n      <th>f</th>\n      <td>Osama</td>\n      <td>17</td>\n      <td>16+</td>\n      <td>las vegas</td>\n      <td>US</td>\n      <td>Training</td>\n      <td>24</td>\n      <td>C</td>\n    </tr>\n  </tbody>\n</table>\n</div>"
     },
     "metadata": {},
     "execution_count": 8
    }
   ],
   "source": [
    "# 1. Declarando uma lista como uma nova coluna\n",
    "df['Final_grade'] = ['A','D','B','A','A','C']\n",
    "df"
   ]
  },
  {
   "source": [
    "#### 3. Utilizando .assign()"
   ],
   "cell_type": "markdown",
   "metadata": {}
  },
  {
   "cell_type": "code",
   "execution_count": 9,
   "metadata": {},
   "outputs": [
    {
     "output_type": "execute_result",
     "data": {
      "text/plain": [
       "     Name  Age Age_range       City    Country    School Duration_months  \\\n",
       "a    Jack   34       16+     Sydeny  Australia  Training              24   \n",
       "b  Joshua   30       16+      Delhi      India  Training              24   \n",
       "c     Tom   31       16+     Mumbai      India  Training              24   \n",
       "d  Alicia   32       16+  Bangalore      India  Training              24   \n",
       "e    John   16       16+   New York         US  Training              24   \n",
       "f   Osama   17       16+  las vegas         US  Training              24   \n",
       "\n",
       "  Final_grade  Family_income_per_year  \n",
       "a           A                  100000  \n",
       "b           D                   80000  \n",
       "c           B                  150000  \n",
       "d           A                   60000  \n",
       "e           A                  123000  \n",
       "f           C                   65000  "
      ],
      "text/html": "<div>\n<style scoped>\n    .dataframe tbody tr th:only-of-type {\n        vertical-align: middle;\n    }\n\n    .dataframe tbody tr th {\n        vertical-align: top;\n    }\n\n    .dataframe thead th {\n        text-align: right;\n    }\n</style>\n<table border=\"1\" class=\"dataframe\">\n  <thead>\n    <tr style=\"text-align: right;\">\n      <th></th>\n      <th>Name</th>\n      <th>Age</th>\n      <th>Age_range</th>\n      <th>City</th>\n      <th>Country</th>\n      <th>School</th>\n      <th>Duration_months</th>\n      <th>Final_grade</th>\n      <th>Family_income_per_year</th>\n    </tr>\n  </thead>\n  <tbody>\n    <tr>\n      <th>a</th>\n      <td>Jack</td>\n      <td>34</td>\n      <td>16+</td>\n      <td>Sydeny</td>\n      <td>Australia</td>\n      <td>Training</td>\n      <td>24</td>\n      <td>A</td>\n      <td>100000</td>\n    </tr>\n    <tr>\n      <th>b</th>\n      <td>Joshua</td>\n      <td>30</td>\n      <td>16+</td>\n      <td>Delhi</td>\n      <td>India</td>\n      <td>Training</td>\n      <td>24</td>\n      <td>D</td>\n      <td>80000</td>\n    </tr>\n    <tr>\n      <th>c</th>\n      <td>Tom</td>\n      <td>31</td>\n      <td>16+</td>\n      <td>Mumbai</td>\n      <td>India</td>\n      <td>Training</td>\n      <td>24</td>\n      <td>B</td>\n      <td>150000</td>\n    </tr>\n    <tr>\n      <th>d</th>\n      <td>Alicia</td>\n      <td>32</td>\n      <td>16+</td>\n      <td>Bangalore</td>\n      <td>India</td>\n      <td>Training</td>\n      <td>24</td>\n      <td>A</td>\n      <td>60000</td>\n    </tr>\n    <tr>\n      <th>e</th>\n      <td>John</td>\n      <td>16</td>\n      <td>16+</td>\n      <td>New York</td>\n      <td>US</td>\n      <td>Training</td>\n      <td>24</td>\n      <td>A</td>\n      <td>123000</td>\n    </tr>\n    <tr>\n      <th>f</th>\n      <td>Osama</td>\n      <td>17</td>\n      <td>16+</td>\n      <td>las vegas</td>\n      <td>US</td>\n      <td>Training</td>\n      <td>24</td>\n      <td>C</td>\n      <td>65000</td>\n    </tr>\n  </tbody>\n</table>\n</div>"
     },
     "metadata": {},
     "execution_count": 9
    }
   ],
   "source": [
    "df = df.assign(Family_income_per_year=[100000,80000,150000,60000,123000,65000])\n",
    "df"
   ]
  },
  {
   "source": [
    "#### 4. Utilizando .insert()\n",
    "**DataFrame.insert(loc, column, value, allow_duplicates=False)**"
   ],
   "cell_type": "markdown",
   "metadata": {}
  },
  {
   "source": [
    "# Loc=1 é a posição que a coluna entrará\n",
    "df.insert(loc=1, \n",
    "          column='Start_year', \n",
    "          value=[2017,2018,2018,2018,2017,2015])\n",
    "df"
   ],
   "cell_type": "code",
   "metadata": {},
   "execution_count": 10,
   "outputs": [
    {
     "output_type": "execute_result",
     "data": {
      "text/plain": [
       "     Name  Start_year  Age Age_range       City    Country    School  \\\n",
       "a    Jack        2017   34       16+     Sydeny  Australia  Training   \n",
       "b  Joshua        2018   30       16+      Delhi      India  Training   \n",
       "c     Tom        2018   31       16+     Mumbai      India  Training   \n",
       "d  Alicia        2018   32       16+  Bangalore      India  Training   \n",
       "e    John        2017   16       16+   New York         US  Training   \n",
       "f   Osama        2015   17       16+  las vegas         US  Training   \n",
       "\n",
       "  Duration_months Final_grade  Family_income_per_year  \n",
       "a              24           A                  100000  \n",
       "b              24           D                   80000  \n",
       "c              24           B                  150000  \n",
       "d              24           A                   60000  \n",
       "e              24           A                  123000  \n",
       "f              24           C                   65000  "
      ],
      "text/html": "<div>\n<style scoped>\n    .dataframe tbody tr th:only-of-type {\n        vertical-align: middle;\n    }\n\n    .dataframe tbody tr th {\n        vertical-align: top;\n    }\n\n    .dataframe thead th {\n        text-align: right;\n    }\n</style>\n<table border=\"1\" class=\"dataframe\">\n  <thead>\n    <tr style=\"text-align: right;\">\n      <th></th>\n      <th>Name</th>\n      <th>Start_year</th>\n      <th>Age</th>\n      <th>Age_range</th>\n      <th>City</th>\n      <th>Country</th>\n      <th>School</th>\n      <th>Duration_months</th>\n      <th>Final_grade</th>\n      <th>Family_income_per_year</th>\n    </tr>\n  </thead>\n  <tbody>\n    <tr>\n      <th>a</th>\n      <td>Jack</td>\n      <td>2017</td>\n      <td>34</td>\n      <td>16+</td>\n      <td>Sydeny</td>\n      <td>Australia</td>\n      <td>Training</td>\n      <td>24</td>\n      <td>A</td>\n      <td>100000</td>\n    </tr>\n    <tr>\n      <th>b</th>\n      <td>Joshua</td>\n      <td>2018</td>\n      <td>30</td>\n      <td>16+</td>\n      <td>Delhi</td>\n      <td>India</td>\n      <td>Training</td>\n      <td>24</td>\n      <td>D</td>\n      <td>80000</td>\n    </tr>\n    <tr>\n      <th>c</th>\n      <td>Tom</td>\n      <td>2018</td>\n      <td>31</td>\n      <td>16+</td>\n      <td>Mumbai</td>\n      <td>India</td>\n      <td>Training</td>\n      <td>24</td>\n      <td>B</td>\n      <td>150000</td>\n    </tr>\n    <tr>\n      <th>d</th>\n      <td>Alicia</td>\n      <td>2018</td>\n      <td>32</td>\n      <td>16+</td>\n      <td>Bangalore</td>\n      <td>India</td>\n      <td>Training</td>\n      <td>24</td>\n      <td>A</td>\n      <td>60000</td>\n    </tr>\n    <tr>\n      <th>e</th>\n      <td>John</td>\n      <td>2017</td>\n      <td>16</td>\n      <td>16+</td>\n      <td>New York</td>\n      <td>US</td>\n      <td>Training</td>\n      <td>24</td>\n      <td>A</td>\n      <td>123000</td>\n    </tr>\n    <tr>\n      <th>f</th>\n      <td>Osama</td>\n      <td>2015</td>\n      <td>17</td>\n      <td>16+</td>\n      <td>las vegas</td>\n      <td>US</td>\n      <td>Training</td>\n      <td>24</td>\n      <td>C</td>\n      <td>65000</td>\n    </tr>\n  </tbody>\n</table>\n</div>"
     },
     "metadata": {},
     "execution_count": 10
    }
   ]
  },
  {
   "cell_type": "code",
   "execution_count": null,
   "metadata": {},
   "outputs": [],
   "source": []
  }
 ]
}