{
 "metadata": {
  "language_info": {
   "codemirror_mode": {
    "name": "ipython",
    "version": 3
   },
   "file_extension": ".py",
   "mimetype": "text/x-python",
   "name": "python",
   "nbconvert_exporter": "python",
   "pygments_lexer": "ipython3",
   "version": "3.8.5-final"
  },
  "orig_nbformat": 2,
  "kernelspec": {
   "name": "python3",
   "display_name": "Python 3.8.5 64-bit (conda)",
   "metadata": {
    "interpreter": {
     "hash": "b3ba2566441a7c06988d0923437866b63cedc61552a5af99d1f4fb67d367b25f"
    }
   }
  }
 },
 "nbformat": 4,
 "nbformat_minor": 2,
 "cells": [
  {
   "source": [
    "### Gerando arquivos"
   ],
   "cell_type": "markdown",
   "metadata": {}
  },
  {
   "source": [
    "#### Gerar arquivo Excel\n",
    "[Método to_excel](https://pandas.pydata.org/pandas-docs/stable/reference/api/pandas.DataFrame.to_excel.html#pandas-dataframe-to-excel) Escreva o objeto em uma planilha do Excel.\n",
    "\n",
    "**Para gravar um único objeto em um arquivo Excel .xlsx:** É necessário apenas especificar um nome de arquivo de destino. \n",
    "\n",
    "**Para gravar em várias planilhas**: É necessário criar um objeto ExcelWriter com um nome de arquivo de destino e especificar uma planilha no arquivo para gravar.\n",
    "\n",
    "**Múltiplas planilhas podem ser gravadas especificando-se sheet_name exclusivo**\n",
    "\n",
    "Com todos os dados gravados no arquivo, é necessário salvar as alterações. \n",
    "\n",
    "Observe que a criação de um objeto ExcelWriter com um nome de arquivo já existente fará com que o conteúdo do arquivo existente seja apagado."
   ],
   "cell_type": "markdown",
   "metadata": {}
  },
  {
   "cell_type": "code",
   "execution_count": 2,
   "metadata": {},
   "outputs": [],
   "source": [
    "# imports\n",
    "import pandas as pd\n",
    "\n",
    "# Armazene em uma variável o local onde estarão os arquivos que serão utilizados\n",
    "data_path = 'C:\\\\Users\\\\anton\\\\OneDrive\\\\Documentos\\\\Treinamento Cientista de Dados\\\\Python Aplicado a Big Data\\\\Aula 3 - 08032021 - Pandas\\\\sample-data\\\\csv\\\\'\n",
    "\n",
    "# lendo arquivo csv\n",
    "data = pd.read_csv(data_path+'netflix_titles.csv')"
   ]
  },
  {
   "cell_type": "code",
   "execution_count": 3,
   "metadata": {},
   "outputs": [
    {
     "output_type": "stream",
     "name": "stdout",
     "text": [
      "Tipo:  <class 'pandas.core.frame.DataFrame'>\n"
     ]
    }
   ],
   "source": [
    "# Exportar os dados fatiados para uma arquivo excel\n",
    "\n",
    "# Retornando 2 colunas e fatiando\n",
    "sliced_df = data[['title','director']][100:900]\n",
    "print(\"Tipo: \", type(sliced_df))\n",
    "sliced_df\n",
    "\n",
    "sliced_df.to_excel('sliced_netflix.xlsx')"
   ]
  },
  {
   "source": [
    "#### Gerar arquivo CSV\n",
    "[Método to_csv](https://pandas.pydata.org/pandas-docs/stable/reference/api/pandas.DataFrame.to_csv.html#pandas-dataframe-to-csv) Grave o objeto em um arquivo csv."
   ],
   "cell_type": "markdown",
   "metadata": {}
  },
  {
   "cell_type": "code",
   "execution_count": 4,
   "metadata": {},
   "outputs": [
    {
     "output_type": "execute_result",
     "data": {
      "text/plain": [
       "                              title         director\n",
       "100                        3 Idiots  Rajkumar Hirani\n",
       "101               3 Seconds Divorce     Shazia Javed\n",
       "102             3 Türken & ein Baby      Sinan Akkuş\n",
       "103               30 Days of Luxury       Hani Hamdi\n",
       "104              30 Minutes or Less  Ruben Fleischer\n",
       "..                              ...              ...\n",
       "895                  Bibi & Tina II      Detlev Buck\n",
       "896  Bibi & Tina: Girls Versus Boys      Detlev Buck\n",
       "897   Bibi & Tina: Tohuwabohu Total      Detlev Buck\n",
       "898                   Bibik-Bibikku              NaN\n",
       "899             Big Bad Beetleborgs              NaN\n",
       "\n",
       "[800 rows x 2 columns]"
      ],
      "text/html": "<div>\n<style scoped>\n    .dataframe tbody tr th:only-of-type {\n        vertical-align: middle;\n    }\n\n    .dataframe tbody tr th {\n        vertical-align: top;\n    }\n\n    .dataframe thead th {\n        text-align: right;\n    }\n</style>\n<table border=\"1\" class=\"dataframe\">\n  <thead>\n    <tr style=\"text-align: right;\">\n      <th></th>\n      <th>title</th>\n      <th>director</th>\n    </tr>\n  </thead>\n  <tbody>\n    <tr>\n      <th>100</th>\n      <td>3 Idiots</td>\n      <td>Rajkumar Hirani</td>\n    </tr>\n    <tr>\n      <th>101</th>\n      <td>3 Seconds Divorce</td>\n      <td>Shazia Javed</td>\n    </tr>\n    <tr>\n      <th>102</th>\n      <td>3 Türken &amp; ein Baby</td>\n      <td>Sinan Akkuş</td>\n    </tr>\n    <tr>\n      <th>103</th>\n      <td>30 Days of Luxury</td>\n      <td>Hani Hamdi</td>\n    </tr>\n    <tr>\n      <th>104</th>\n      <td>30 Minutes or Less</td>\n      <td>Ruben Fleischer</td>\n    </tr>\n    <tr>\n      <th>...</th>\n      <td>...</td>\n      <td>...</td>\n    </tr>\n    <tr>\n      <th>895</th>\n      <td>Bibi &amp; Tina II</td>\n      <td>Detlev Buck</td>\n    </tr>\n    <tr>\n      <th>896</th>\n      <td>Bibi &amp; Tina: Girls Versus Boys</td>\n      <td>Detlev Buck</td>\n    </tr>\n    <tr>\n      <th>897</th>\n      <td>Bibi &amp; Tina: Tohuwabohu Total</td>\n      <td>Detlev Buck</td>\n    </tr>\n    <tr>\n      <th>898</th>\n      <td>Bibik-Bibikku</td>\n      <td>NaN</td>\n    </tr>\n    <tr>\n      <th>899</th>\n      <td>Big Bad Beetleborgs</td>\n      <td>NaN</td>\n    </tr>\n  </tbody>\n</table>\n<p>800 rows × 2 columns</p>\n</div>"
     },
     "metadata": {},
     "execution_count": 4
    }
   ],
   "source": [
    "sliced_df.to_csv('sliced_netflix.csv')\n",
    "\n",
    "sliced_df"
   ]
  },
  {
   "source": [
    "#### Gerar arquivo JSON\n",
    "[Método to_json](https://pandas.pydata.org/pandas-docs/stable/reference/api/pandas.DataFrame.to_json.html#pandas-dataframe-to-json) Converta o objeto em uma string JSON."
   ],
   "cell_type": "markdown",
   "metadata": {}
  },
  {
   "cell_type": "code",
   "execution_count": 5,
   "metadata": {},
   "outputs": [],
   "source": [
    "sliced_df.to_json('sliced_netflix.json')"
   ]
  },
  {
   "source": [
    "#### Gerar arquivo HTML"
   ],
   "cell_type": "markdown",
   "metadata": {}
  },
  {
   "cell_type": "code",
   "execution_count": 7,
   "metadata": {},
   "outputs": [],
   "source": [
    "sliced_df.to_html('sliced_netflix.html')"
   ]
  },
  {
   "cell_type": "code",
   "execution_count": null,
   "metadata": {},
   "outputs": [],
   "source": []
  }
 ]
}