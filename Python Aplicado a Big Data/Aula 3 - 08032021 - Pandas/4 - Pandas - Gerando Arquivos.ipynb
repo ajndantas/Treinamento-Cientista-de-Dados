{
 "metadata": {
  "language_info": {
   "codemirror_mode": {
    "name": "ipython",
    "version": 3
   },
   "file_extension": ".py",
   "mimetype": "text/x-python",
   "name": "python",
   "nbconvert_exporter": "python",
   "pygments_lexer": "ipython3",
   "version": "3.8.5-final"
  },
  "orig_nbformat": 2,
  "kernelspec": {
   "name": "python3",
   "display_name": "Python 3.8.5 64-bit (conda)",
   "metadata": {
    "interpreter": {
     "hash": "b3ba2566441a7c06988d0923437866b63cedc61552a5af99d1f4fb67d367b25f"
    }
   }
  }
 },
 "nbformat": 4,
 "nbformat_minor": 2,
 "cells": [
  {
   "source": [
    "#### Gerar arquivo Excel\n",
    "[Método to_excel](https://pandas.pydata.org/pandas-docs/stable/reference/api/pandas.DataFrame.to_excel.html#pandas-dataframe-to-excel) Escreva o objeto em uma planilha do Excel.\n",
    "\n",
    "Para gravar um único objeto em um arquivo Excel .xlsx, é necessário apenas especificar um nome de arquivo de destino. Para gravar em várias planilhas, é necessário criar um objeto ExcelWriter com um nome de arquivo de destino e especificar uma planilha no arquivo para gravar.\n",
    "\n",
    "Múltiplas planilhas podem ser gravadas especificando-se sheet_name exclusivo. Com todos os dados gravados no arquivo, é necessário salvar as alterações. Observe que a criação de um objeto ExcelWriter com um nome de arquivo já existente fará com que o conteúdo do arquivo existente seja apagado."
   ],
   "cell_type": "markdown",
   "metadata": {}
  },
  {
   "cell_type": "code",
   "execution_count": 2,
   "metadata": {},
   "outputs": [],
   "source": [
    "# imports\n",
    "import pandas as pd\n",
    "\n",
    "# Armazene em uma variável o local onde estarão os arquivos que serão utilizados\n",
    "data_path = 'C:\\\\Users\\\\anton\\\\OneDrive\\\\Documentos\\\\Treinamento Cientista de Dados\\\\Python Aplicado a Big Data\\\\Aula 3 - 08032021 - Pandas\\\\sample-data\\\\csv\\\\'\n",
    "\n",
    "# lendo arquivo csv\n",
    "data = pd.read_csv(data_path+'netflix_titles.csv')"
   ]
  },
  {
   "cell_type": "code",
   "execution_count": 4,
   "metadata": {},
   "outputs": [
    {
     "output_type": "stream",
     "name": "stdout",
     "text": [
      "Tipo:  <class 'pandas.core.frame.DataFrame'>\n"
     ]
    }
   ],
   "source": [
    "# Exportar os dados fatiados para uma arquivo excel\n",
    "\n",
    "# Retornando 2 colunas e fatiando\n",
    "sliced_df = data[['title','director']][100:900]\n",
    "print(\"Tipo: \", type(sliced_df))\n",
    "sliced_df\n",
    "\n",
    "sliced_df.to_excel('sliced_netflix.xlsx')"
   ]
  },
  {
   "source": [
    "#### Gerar arquivo CSV\n",
    "[Método CSV](https://pandas.pydata.org/pandas-docs/stable/reference/api/pandas.DataFrame.to_csv.html#pandas-dataframe-to-csv) Grave o objeto em um arquivo csv."
   ],
   "cell_type": "markdown",
   "metadata": {}
  },
  {
   "cell_type": "code",
   "execution_count": null,
   "metadata": {},
   "outputs": [],
   "source": [
    "sliced_df.to_csv('sliced_netflix.csv')\n",
    "\n",
    "sliced_df"
   ]
  },
  {
   "source": [
    "#### Gerar arquivo JSON\n",
    "[Método to_json](https://pandas.pydata.org/pandas-docs/stable/reference/api/pandas.DataFrame.to_json.html#pandas-dataframe-to-json) Converta o objeto em uma string JSON."
   ],
   "cell_type": "markdown",
   "metadata": {}
  },
  {
   "cell_type": "code",
   "execution_count": null,
   "metadata": {},
   "outputs": [],
   "source": [
    "sliced_df.to_json('sliced_netflix.json')"
   ]
  },
  {
   "source": [
    "#### Gerar arquivo HTML"
   ],
   "cell_type": "markdown",
   "metadata": {}
  },
  {
   "cell_type": "code",
   "execution_count": null,
   "metadata": {},
   "outputs": [],
   "source": [
    "sliced_df.to_html('sliced_netflix.html', encoding='utf-8')"
   ]
  },
  {
   "cell_type": "code",
   "execution_count": null,
   "metadata": {},
   "outputs": [],
   "source": []
  }
 ]
}