{
 "metadata": {
  "language_info": {
   "codemirror_mode": {
    "name": "ipython",
    "version": 3
   },
   "file_extension": ".py",
   "mimetype": "text/x-python",
   "name": "python",
   "nbconvert_exporter": "python",
   "pygments_lexer": "ipython3",
   "version": "3.8.5-final"
  },
  "orig_nbformat": 2,
  "kernelspec": {
   "name": "python3",
   "display_name": "Python 3.8.5 64-bit (conda)",
   "metadata": {
    "interpreter": {
     "hash": "b3ba2566441a7c06988d0923437866b63cedc61552a5af99d1f4fb67d367b25f"
    }
   }
  }
 },
 "nbformat": 4,
 "nbformat_minor": 2,
 "cells": [
  {
   "source": [
    "## [Lendo planilhas xlsx](https://pandas.pydata.org/pandas-docs/stable/reference/api/pandas.read_excel.html)"
   ],
   "cell_type": "markdown",
   "metadata": {}
  },
  {
   "cell_type": "code",
   "execution_count": 3,
   "metadata": {},
   "outputs": [],
   "source": [
    "# imports\n",
    "import pandas as pd"
   ]
  },
  {
   "cell_type": "code",
   "execution_count": 2,
   "metadata": {},
   "outputs": [],
   "source": [
    "# Diretório com as planilhas\n",
    "\n",
    "data_path = 'C:\\\\Users\\\\anton\\\\OneDrive\\\\Documentos\\\\Treinamento Cientista de Dados\\\\Python Aplicado a Big Data\\\\Aula 3 - 08032021 - Pandas\\\\sample-data\\\\xlsx\\\\'"
   ]
  },
  {
   "source": [
    "#### a) Lendo arquivos xlsx passando o nome diretamente"
   ],
   "cell_type": "markdown",
   "metadata": {}
  },
  {
   "cell_type": "code",
   "execution_count": null,
   "metadata": {},
   "outputs": [],
   "source": [
    "dataframe = pd.read_excel(data_path+'Dataset.xlsx')\n",
    "print(type(dataframe))\n",
    "print()\n",
    "print(dataframe)\n",
    "print()\n",
    "dataframe.describe()"
   ]
  },
  {
   "source": [
    "#### b) Lendo arquivos xlsx acessando posição na lista criada anteriormente"
   ],
   "cell_type": "markdown",
   "metadata": {}
  },
  {
   "cell_type": "code",
   "execution_count": null,
   "metadata": {},
   "outputs": [],
   "source": [
    "df = pd.read_excel(data_path + files[1])\n",
    "print(type(df))\n",
    "print()\n",
    "print(df)\n",
    "print()\n",
    "df.describe()\n",
    "\n"
   ]
  },
  {
   "source": [
    "#### c) Lendo uma aba da planilha.\n",
    "**Parâmetro sheet_name**"
   ],
   "cell_type": "markdown",
   "metadata": {}
  },
  {
   "cell_type": "code",
   "execution_count": 4,
   "metadata": {},
   "outputs": [
    {
     "output_type": "execute_result",
     "data": {
      "text/plain": [
       "    code                                              label\n",
       "0      0                                         Pedestrian\n",
       "1      1                                            Cyclist\n",
       "2      2       Motorcycle 50cc and under rider or passenger\n",
       "3      3      Motorcycle 125cc and under rider or passenger\n",
       "4      4  Motorcycle over 125cc and up to 500cc rider or...\n",
       "5      5           Motorcycle over 500cc rider or passenger\n",
       "6      8                     Taxi/Private hire car occupant\n",
       "7      9                                       Car occupant\n",
       "8     10          Minibus (8 - 16 passenger seats) occupant\n",
       "9     11      Bus or coach occupant (17 or more pass seats)\n",
       "10    16                                        Horse rider\n",
       "11    17                      Agricultural vehicle occupant\n",
       "12    18                                      Tram occupant\n",
       "13    19  Van / Goods vehicle (3.5 tonnes mgw or under) ...\n",
       "14    20  Goods vehicle (over 3.5t. and under 7.5t.) occ...\n",
       "15    21   Goods vehicle (7.5 tonnes mgw and over) occupant\n",
       "16    22                             Mobility scooter rider\n",
       "17    23             Electric motorcycle rider or passenger\n",
       "18    90                             Other vehicle occupant\n",
       "19    97         Motorcycle - unknown cc rider or passenger\n",
       "20    98            Goods vehicle (unknown weight) occupant\n",
       "21   103            Motorcycle - Scooter rider or passenger\n",
       "22   104                      Motorcycle rider or passenger\n",
       "23   105        Motorcycle - Combination rider or passenger\n",
       "24   106           Motorcycle over 125cc rider or passenger\n",
       "25   108        Taxi (excluding private hire cars) occupant\n",
       "26   109         Car occupant (including private hire cars)\n",
       "27   110                     Minibus/Motor caravan occupant\n",
       "28   113           Goods vehicle (over 3.5 tonnes) occupant"
      ],
      "text/html": "<div>\n<style scoped>\n    .dataframe tbody tr th:only-of-type {\n        vertical-align: middle;\n    }\n\n    .dataframe tbody tr th {\n        vertical-align: top;\n    }\n\n    .dataframe thead th {\n        text-align: right;\n    }\n</style>\n<table border=\"1\" class=\"dataframe\">\n  <thead>\n    <tr style=\"text-align: right;\">\n      <th></th>\n      <th>code</th>\n      <th>label</th>\n    </tr>\n  </thead>\n  <tbody>\n    <tr>\n      <th>0</th>\n      <td>0</td>\n      <td>Pedestrian</td>\n    </tr>\n    <tr>\n      <th>1</th>\n      <td>1</td>\n      <td>Cyclist</td>\n    </tr>\n    <tr>\n      <th>2</th>\n      <td>2</td>\n      <td>Motorcycle 50cc and under rider or passenger</td>\n    </tr>\n    <tr>\n      <th>3</th>\n      <td>3</td>\n      <td>Motorcycle 125cc and under rider or passenger</td>\n    </tr>\n    <tr>\n      <th>4</th>\n      <td>4</td>\n      <td>Motorcycle over 125cc and up to 500cc rider or...</td>\n    </tr>\n    <tr>\n      <th>5</th>\n      <td>5</td>\n      <td>Motorcycle over 500cc rider or passenger</td>\n    </tr>\n    <tr>\n      <th>6</th>\n      <td>8</td>\n      <td>Taxi/Private hire car occupant</td>\n    </tr>\n    <tr>\n      <th>7</th>\n      <td>9</td>\n      <td>Car occupant</td>\n    </tr>\n    <tr>\n      <th>8</th>\n      <td>10</td>\n      <td>Minibus (8 - 16 passenger seats) occupant</td>\n    </tr>\n    <tr>\n      <th>9</th>\n      <td>11</td>\n      <td>Bus or coach occupant (17 or more pass seats)</td>\n    </tr>\n    <tr>\n      <th>10</th>\n      <td>16</td>\n      <td>Horse rider</td>\n    </tr>\n    <tr>\n      <th>11</th>\n      <td>17</td>\n      <td>Agricultural vehicle occupant</td>\n    </tr>\n    <tr>\n      <th>12</th>\n      <td>18</td>\n      <td>Tram occupant</td>\n    </tr>\n    <tr>\n      <th>13</th>\n      <td>19</td>\n      <td>Van / Goods vehicle (3.5 tonnes mgw or under) ...</td>\n    </tr>\n    <tr>\n      <th>14</th>\n      <td>20</td>\n      <td>Goods vehicle (over 3.5t. and under 7.5t.) occ...</td>\n    </tr>\n    <tr>\n      <th>15</th>\n      <td>21</td>\n      <td>Goods vehicle (7.5 tonnes mgw and over) occupant</td>\n    </tr>\n    <tr>\n      <th>16</th>\n      <td>22</td>\n      <td>Mobility scooter rider</td>\n    </tr>\n    <tr>\n      <th>17</th>\n      <td>23</td>\n      <td>Electric motorcycle rider or passenger</td>\n    </tr>\n    <tr>\n      <th>18</th>\n      <td>90</td>\n      <td>Other vehicle occupant</td>\n    </tr>\n    <tr>\n      <th>19</th>\n      <td>97</td>\n      <td>Motorcycle - unknown cc rider or passenger</td>\n    </tr>\n    <tr>\n      <th>20</th>\n      <td>98</td>\n      <td>Goods vehicle (unknown weight) occupant</td>\n    </tr>\n    <tr>\n      <th>21</th>\n      <td>103</td>\n      <td>Motorcycle - Scooter rider or passenger</td>\n    </tr>\n    <tr>\n      <th>22</th>\n      <td>104</td>\n      <td>Motorcycle rider or passenger</td>\n    </tr>\n    <tr>\n      <th>23</th>\n      <td>105</td>\n      <td>Motorcycle - Combination rider or passenger</td>\n    </tr>\n    <tr>\n      <th>24</th>\n      <td>106</td>\n      <td>Motorcycle over 125cc rider or passenger</td>\n    </tr>\n    <tr>\n      <th>25</th>\n      <td>108</td>\n      <td>Taxi (excluding private hire cars) occupant</td>\n    </tr>\n    <tr>\n      <th>26</th>\n      <td>109</td>\n      <td>Car occupant (including private hire cars)</td>\n    </tr>\n    <tr>\n      <th>27</th>\n      <td>110</td>\n      <td>Minibus/Motor caravan occupant</td>\n    </tr>\n    <tr>\n      <th>28</th>\n      <td>113</td>\n      <td>Goods vehicle (over 3.5 tonnes) occupant</td>\n    </tr>\n  </tbody>\n</table>\n</div>"
     },
     "metadata": {},
     "execution_count": 4
    }
   ],
   "source": [
    "df = pd.read_excel(data_path+'Road-Accident-Safety-Data-Guide-1979-2004.xls',sheet_name='Casualty Type')\n",
    "df"
   ]
  },
  {
   "source": [
    "## [Lendo arquivos CSV](https://pandas.pydata.org/pandas-docs/stable/reference/api/pandas.read_csv.html) ou arquivos de texto"
   ],
   "cell_type": "markdown",
   "metadata": {}
  },
  {
   "cell_type": "code",
   "execution_count": 3,
   "metadata": {},
   "outputs": [
    {
     "output_type": "stream",
     "name": "stdout",
     "text": [
      "       ApplicantIncome  CoapplicantIncome  LoanAmount  Loan_Amount_Term  \\\ncount       614.000000         614.000000  592.000000         600.00000   \nmean       5403.459283        1621.245798  146.412162         342.00000   \nstd        6109.041673        2926.248369   85.587325          65.12041   \nmin         150.000000           0.000000    9.000000          12.00000   \n25%        2877.500000           0.000000  100.000000         360.00000   \n50%        3812.500000        1188.500000  128.000000         360.00000   \n75%        5795.000000        2297.250000  168.000000         360.00000   \nmax       81000.000000       41667.000000  700.000000         480.00000   \n\n       Credit_History  \ncount      564.000000  \nmean         0.842199  \nstd          0.364878  \nmin          0.000000  \n25%          1.000000  \n50%          1.000000  \n75%          1.000000  \nmax          1.000000  \n    Loan_ID Gender Married Dependents     Education Self_Employed  \\\n0  LP001002   Male      No          0      Graduate            No   \n1  LP001003   Male     Yes          1      Graduate            No   \n2  LP001005   Male     Yes          0      Graduate           Yes   \n3  LP001006   Male     Yes          0  Not Graduate            No   \n4  LP001008   Male      No          0      Graduate            No   \n\n   ApplicantIncome  CoapplicantIncome  LoanAmount  Loan_Amount_Term  \\\n0             5849                0.0         NaN             360.0   \n1             4583             1508.0       128.0             360.0   \n2             3000                0.0        66.0             360.0   \n3             2583             2358.0       120.0             360.0   \n4             6000                0.0       141.0             360.0   \n\n   Credit_History Property_Area Loan_Status  \n0             1.0         Urban           Y  \n1             1.0         Rural           N  \n2             1.0         Urban           Y  \n3             1.0         Urban           Y  \n4             1.0         Urban           Y  \n"
     ]
    }
   ],
   "source": [
    "# Armazene em uma variável o local onde estarão os arquivos que serão utilizados\n",
    "data_path = 'C:\\\\Users\\\\anton\\\\OneDrive\\\\Documentos\\\\Treinamento Cientista de Dados\\\\Python Aplicado a Big Data\\\\Aula 3 - 08032021 - Pandas\\\\sample-data\\\\csv\\\\'\n",
    "\n",
    "# Criando o dataframe\n",
    "df_csv = pd.read_csv(data_path+'Arquivo-Treino.csv')\n",
    "\n",
    "# Descreva o DF\n",
    "print(df_csv.describe())\n",
    "#print(df_csv)\n",
    "print(df_csv.head())"
   ]
  },
  {
   "cell_type": "code",
   "execution_count": null,
   "metadata": {},
   "outputs": [],
   "source": []
  }
 ]
}