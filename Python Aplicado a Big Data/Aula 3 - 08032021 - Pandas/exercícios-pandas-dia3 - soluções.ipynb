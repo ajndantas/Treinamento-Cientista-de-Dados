{
 "cells": [
  {
   "cell_type": "code",
   "execution_count": 2,
   "metadata": {},
   "outputs": [],
   "source": [
    "import pandas as pd\n",
    "import numpy as np"
   ]
  },
  {
   "cell_type": "markdown",
   "metadata": {},
   "source": [
    "Exercício 1: Crie um dataframe a partir dos dados abaixo.\n",
    "**Importante:** Os dados já estão na ordem correta.<br>"
   ]
  },
  {
   "cell_type": "code",
   "execution_count": 3,
   "metadata": {},
   "outputs": [
    {
     "output_type": "execute_result",
     "data": {
      "text/plain": [
       "  estado   ano       pop    area\n",
       "0     SP  2020  46289333  248219\n",
       "1     DF  2020   3055149    5760\n",
       "2     MT  2020   3526220  903207\n",
       "3     SC  2020   7252502   95730\n",
       "4     RS  2020  11422973  281707\n",
       "5     GO  2020   7113540  340242"
      ],
      "text/html": "<div>\n<style scoped>\n    .dataframe tbody tr th:only-of-type {\n        vertical-align: middle;\n    }\n\n    .dataframe tbody tr th {\n        vertical-align: top;\n    }\n\n    .dataframe thead th {\n        text-align: right;\n    }\n</style>\n<table border=\"1\" class=\"dataframe\">\n  <thead>\n    <tr style=\"text-align: right;\">\n      <th></th>\n      <th>estado</th>\n      <th>ano</th>\n      <th>pop</th>\n      <th>area</th>\n    </tr>\n  </thead>\n  <tbody>\n    <tr>\n      <th>0</th>\n      <td>SP</td>\n      <td>2020</td>\n      <td>46289333</td>\n      <td>248219</td>\n    </tr>\n    <tr>\n      <th>1</th>\n      <td>DF</td>\n      <td>2020</td>\n      <td>3055149</td>\n      <td>5760</td>\n    </tr>\n    <tr>\n      <th>2</th>\n      <td>MT</td>\n      <td>2020</td>\n      <td>3526220</td>\n      <td>903207</td>\n    </tr>\n    <tr>\n      <th>3</th>\n      <td>SC</td>\n      <td>2020</td>\n      <td>7252502</td>\n      <td>95730</td>\n    </tr>\n    <tr>\n      <th>4</th>\n      <td>RS</td>\n      <td>2020</td>\n      <td>11422973</td>\n      <td>281707</td>\n    </tr>\n    <tr>\n      <th>5</th>\n      <td>GO</td>\n      <td>2020</td>\n      <td>7113540</td>\n      <td>340242</td>\n    </tr>\n  </tbody>\n</table>\n</div>"
     },
     "metadata": {},
     "execution_count": 3
    }
   ],
   "source": [
    "data = {'estado':['SP','DF','MT','SC','RS','GO'],\n",
    "        'ano'   :[2020,2020,2020,2020,2020,2020],\n",
    "        'pop'   :[46289333,3055149,3526220,7252502,11422973,7113540],\n",
    "        'area'  :[248219,5760,903207,95730,281707,340242]}\n",
    "\n",
    "df = pd.DataFrame(data)\n",
    "df"
   ]
  },
  {
   "cell_type": "markdown",
   "metadata": {},
   "source": [
    "Exercício 2: Crie um dataframe lendo a planilha reddit_vm.xlsx que foi disponibilizada.\n",
    "Apresente as colunas e descreva o dataframe"
   ]
  },
  {
   "cell_type": "code",
   "execution_count": 4,
   "metadata": {},
   "outputs": [],
   "source": [
    "# Definindo o local dos arquivos excel\n",
    "xlsx_files = 'C:\\\\Users\\\\anton\\\\OneDrive\\\\Documentos\\\\Treinamento Cientista de Dados\\\\Python Aplicado a Big Data\\\\Aula 3 - 08032021 - Pandas\\\\sample-data\\\\xlsx\\\\'"
   ]
  },
  {
   "cell_type": "code",
   "execution_count": 4,
   "metadata": {},
   "outputs": [
    {
     "output_type": "stream",
     "name": "stdout",
     "text": [
      "<class 'pandas.core.frame.DataFrame'>\n\nIndex(['title', 'score', 'id', 'url', 'comms_num', 'created', 'body',\n       'timestamp', 'Unnamed: 8'],\n      dtype='object')\n\n"
     ]
    },
    {
     "output_type": "execute_result",
     "data": {
      "text/plain": [
       "             score    comms_num       created\n",
       "count  1424.000000  1424.000000  1.424000e+03\n",
       "mean      3.887640     1.982444  1.537771e+09\n",
       "std      31.648034    17.083783  6.971861e+07\n",
       "min     -12.000000     0.000000  1.389624e+09\n",
       "25%       1.000000     0.000000  1.553488e+09\n",
       "50%       1.000000     0.000000  1.564984e+09\n",
       "75%       4.000000     1.000000  1.578632e+09\n",
       "max    1185.000000   596.000000  1.614933e+09"
      ],
      "text/html": "<div>\n<style scoped>\n    .dataframe tbody tr th:only-of-type {\n        vertical-align: middle;\n    }\n\n    .dataframe tbody tr th {\n        vertical-align: top;\n    }\n\n    .dataframe thead th {\n        text-align: right;\n    }\n</style>\n<table border=\"1\" class=\"dataframe\">\n  <thead>\n    <tr style=\"text-align: right;\">\n      <th></th>\n      <th>score</th>\n      <th>comms_num</th>\n      <th>created</th>\n    </tr>\n  </thead>\n  <tbody>\n    <tr>\n      <th>count</th>\n      <td>1424.000000</td>\n      <td>1424.000000</td>\n      <td>1.424000e+03</td>\n    </tr>\n    <tr>\n      <th>mean</th>\n      <td>3.887640</td>\n      <td>1.982444</td>\n      <td>1.537771e+09</td>\n    </tr>\n    <tr>\n      <th>std</th>\n      <td>31.648034</td>\n      <td>17.083783</td>\n      <td>6.971861e+07</td>\n    </tr>\n    <tr>\n      <th>min</th>\n      <td>-12.000000</td>\n      <td>0.000000</td>\n      <td>1.389624e+09</td>\n    </tr>\n    <tr>\n      <th>25%</th>\n      <td>1.000000</td>\n      <td>0.000000</td>\n      <td>1.553488e+09</td>\n    </tr>\n    <tr>\n      <th>50%</th>\n      <td>1.000000</td>\n      <td>0.000000</td>\n      <td>1.564984e+09</td>\n    </tr>\n    <tr>\n      <th>75%</th>\n      <td>4.000000</td>\n      <td>1.000000</td>\n      <td>1.578632e+09</td>\n    </tr>\n    <tr>\n      <th>max</th>\n      <td>1185.000000</td>\n      <td>596.000000</td>\n      <td>1.614933e+09</td>\n    </tr>\n  </tbody>\n</table>\n</div>"
     },
     "metadata": {},
     "execution_count": 4
    }
   ],
   "source": [
    "dataframe = pd.read_excel(xlsx_files+'reddit_vm.xlsx')\n",
    "print(type(dataframe))\n",
    "print()\n",
    "print(dataframe.columns)\n",
    "print()\n",
    "dataframe.describe()"
   ]
  },
  {
   "cell_type": "markdown",
   "metadata": {},
   "source": [
    "Exercício 3: Leia os arquivos do diretório e guarde em uma lista, em seguida gere um dataframe utilizando o indice da lista. Use um arquivo a sua escolha. <br>\n",
    "\n",
    "- Apresente os arquivos que estão no diretório\n",
    "- Apresente as primeiras linhas do dataframe \n",
    "- Descreva o dataframe"
   ]
  },
  {
   "cell_type": "code",
   "execution_count": 5,
   "metadata": {},
   "outputs": [
    {
     "output_type": "stream",
     "name": "stdout",
     "text": [
      "<class 'list'>\nAccidents7904.xlsx\nDataset.xlsx\nnetflix_titles.xlsx\nreddit_vm.xlsx\nRoad-Accident-Safety-Data-Guide-1979-2004.xls\nSaleData.xlsx\nsales-funnel.xlsx\nsliced_netflix.xlsx\n"
     ]
    }
   ],
   "source": [
    "# Listando os arquivos\n",
    "import os\n",
    "\n",
    "files = os.listdir( xlsx_files )\n",
    "print(type(files)) # é retornada uma lista, pode ser criado um loop para processamento \n",
    "                   ## sequencial de arquivos.\n",
    "# Mostre todos os arquivos no diretório\n",
    "for file in files:\n",
    "   print(file)"
   ]
  },
  {
   "cell_type": "code",
   "execution_count": 8,
   "metadata": {
    "scrolled": false
   },
   "outputs": [
    {
     "output_type": "stream",
     "name": "stdout",
     "text": [
      "<class 'pandas.core.frame.DataFrame'>\n\n     Unnamed: 0                           title         director\n0           100                        3 Idiots  Rajkumar Hirani\n1           101               3 Seconds Divorce     Shazia Javed\n2           102             3 Türken & ein Baby      Sinan Akkuş\n3           103               30 Days of Luxury       Hani Hamdi\n4           104              30 Minutes or Less  Ruben Fleischer\n..          ...                             ...              ...\n795         895                  Bibi & Tina II      Detlev Buck\n796         896  Bibi & Tina: Girls Versus Boys      Detlev Buck\n797         897   Bibi & Tina: Tohuwabohu Total      Detlev Buck\n798         898                   Bibik-Bibikku              NaN\n799         899             Big Bad Beetleborgs              NaN\n\n[800 rows x 3 columns]\n\nIndex(['Unnamed: 0', 'title', 'director'], dtype='object')\n"
     ]
    }
   ],
   "source": [
    "dataframe = pd.read_excel(xlsx_files+files[-1])\n",
    "print(type(dataframe))\n",
    "print()\n",
    "print(dataframe)\n",
    "print()\n",
    "dataframe.describe()\n",
    "print(dataframe.columns)"
   ]
  },
  {
   "cell_type": "markdown",
   "metadata": {},
   "source": [
    "Exercício 4: Crie um dataframe de uma pandas series. Utilize as listas abaixo."
   ]
  },
  {
   "cell_type": "code",
   "execution_count": null,
   "metadata": {},
   "outputs": [],
   "source": [
    "import pandas as pd \n",
    "  \n",
    "author = ['Sebastião', 'Carla', 'Júlio', 'Juliana', 'Mariana'] \n",
    "article = [856, 1511, 1478, 3500, 8522] \n",
    "  \n",
    "auth_series = pd.Series(author) \n",
    "article_series = pd.Series(article) \n",
    "  \n",
    "frame = { 'Author': auth_series, 'Article': article_series } \n",
    "  \n",
    "result = pd.DataFrame(frame) \n",
    "  \n",
    "print(result) \n"
   ]
  },
  {
   "cell_type": "markdown",
   "metadata": {},
   "source": [
    "Exercício 5 : Crie um dataframe, apresente as colunas e as primeiras linhas seguindo os passos abaixo:\n",
    "* Crie um dataframe com 2 colunas, uma com 100 floats usando [Numpy Random](https://docs.scipy.org/doc/numpy-1.15.0/reference/generated/numpy.random.random.html#numpy-random-random) e outra gerando 100 inteiros utilizando [RandInt](https://docs.scipy.org/doc/numpy-1.15.1/reference/generated/numpy.random.randint.html#numpy-random-randint)\n",
    "* A coluna 1 deve ser nomeada como floats e a 2 deve ser nomeada integers\n",
    "* Apresente o datatype de cada coluna"
   ]
  },
  {
   "cell_type": "code",
   "execution_count": 9,
   "metadata": {},
   "outputs": [
    {
     "output_type": "stream",
     "name": "stdout",
     "text": [
      "data_df.floats.dtype = float64\ndata_df.integers.dtype = int32\n\n<class 'pandas.core.frame.DataFrame'>\nRangeIndex: 100 entries, 0 to 99\nData columns (total 2 columns):\n #   Column    Non-Null Count  Dtype  \n---  ------    --------------  -----  \n 0   floats    100 non-null    float64\n 1   integers  100 non-null    int32  \ndtypes: float64(1), int32(1)\nmemory usage: 1.3 KB\n"
     ]
    }
   ],
   "source": [
    "data = {'floats'  : np.random.random(100),\n",
    "        'integers': np.random.randint(low=0, high=1000, size=100)}\n",
    "\n",
    "data_df = pd.DataFrame(data)\n",
    "print('data_df.floats.dtype ='  ,data_df.floats.dtype)\n",
    "print('data_df.integers.dtype =',data_df.integers.dtype)\n",
    "print()\n",
    "# ou\n",
    "data_df.info()"
   ]
  },
  {
   "cell_type": "markdown",
   "metadata": {},
   "source": [
    "Exercício 6: Escreva um programa Pandas para criar e exibir um DataFrame a partir de dados de um dicionário especificado que possui os rounds como índice.\n",
    "* Apresente o dataframe\n",
    "* Descreva o dataframe"
   ]
  },
  {
   "cell_type": "code",
   "execution_count": 11,
   "metadata": {},
   "outputs": [],
   "source": [
    "data  = {'name': ['Gabriel', 'Michel', 'Antonio', 'Gisele', 'Sônia', 'Emily', 'Sub-Zero', 'Shang-Tsung', 'Scorpion', 'Kitana'],\n",
    "        'pontos': [12.5, 9, 16.5, np.nan, 9, 20, 14.5, np.nan, 8, 19],\n",
    "        'tentativas': [1, 3, 2, 3, 2, 3, 1, 1, 2, 1],\n",
    "        'qualificado': ['yes', 'no', 'yes', 'no', 'no', 'yes', 'yes', 'no', 'no', 'yes']}\n",
    "rounds = ['round1', 'round2', 'round3', 'round4', 'round5', 'round6', 'round7', 'round8', 'round9', 'round10']"
   ]
  },
  {
   "cell_type": "code",
   "execution_count": 12,
   "metadata": {},
   "outputs": [
    {
     "output_type": "execute_result",
     "data": {
      "text/plain": [
       "<bound method NDFrame.head of                 name  pontos  tentativas qualificado\n",
       "round1       Gabriel    12.5           1         yes\n",
       "round2        Michel     9.0           3          no\n",
       "round3       Antonio    16.5           2         yes\n",
       "round4        Gisele     NaN           3          no\n",
       "round5         Sônia     9.0           2          no\n",
       "round6         Emily    20.0           3         yes\n",
       "round7      Sub-Zero    14.5           1         yes\n",
       "round8   Shang-Tsung     NaN           1          no\n",
       "round9      Scorpion     8.0           2          no\n",
       "round10       Kitana    19.0           1         yes>"
      ]
     },
     "metadata": {},
     "execution_count": 12
    }
   ],
   "source": [
    "df = pd.DataFrame(data , index=rounds)\n",
    "df.head"
   ]
  },
  {
   "cell_type": "markdown",
   "metadata": {},
   "source": [
    "Exercício 7: Leia o arquivo xlsx Road-Accident-Safety-Data-Guide-1979-2004 a sheet 'Casualty Type' e mostre sua informações:<br>\n",
    "__*Veja qual o parametro para ler a sheet_name [aqui](https://pandas.pydata.org/pandas-docs/stable/reference/api/pandas.read_excel.html#pandas-read-excel)*.__\n",
    "* Quantos registros o dataframe tem?\n",
    "* Qual o tamanho ocupado em memória?\n",
    "* Quantas colunas ele tem? Apresente as colunas.\n",
    "* Conte a quantidade de registros na primeira coluna\n",
    "* Conte a quantidade de registros únicos na segunda coluna"
   ]
  },
  {
   "cell_type": "code",
   "execution_count": 14,
   "metadata": {},
   "outputs": [],
   "source": [
    "accidents_df = pd.read_excel(xlsx_files+'Road-Accident-Safety-Data-Guide-1979-2004.xls', sheet_name='Casualty Type' )"
   ]
  },
  {
   "cell_type": "code",
   "execution_count": 15,
   "metadata": {},
   "outputs": [
    {
     "output_type": "stream",
     "name": "stdout",
     "text": [
      "Quantidade de registros = 29\n"
     ]
    }
   ],
   "source": [
    "# quantidade de registros\n",
    "print('Quantidade de registros =',accidents_df.shape[0])"
   ]
  },
  {
   "cell_type": "code",
   "execution_count": 73,
   "metadata": {},
   "outputs": [
    {
     "name": "stdout",
     "output_type": "stream",
     "text": [
      "<class 'pandas.core.frame.DataFrame'>\n",
      "RangeIndex: 29 entries, 0 to 28\n",
      "Data columns (total 2 columns):\n",
      " #   Column  Non-Null Count  Dtype \n",
      "---  ------  --------------  ----- \n",
      " 0   code    29 non-null     int64 \n",
      " 1   label   29 non-null     object\n",
      "dtypes: int64(1), object(1)\n",
      "memory usage: 592.0+ bytes\n"
     ]
    }
   ],
   "source": [
    "# Aqui pode ver a quantidade de colunas e o tamanho em memória\n",
    "accidents_df.info()"
   ]
  },
  {
   "cell_type": "code",
   "execution_count": 16,
   "metadata": {},
   "outputs": [
    {
     "output_type": "stream",
     "name": "stdout",
     "text": [
      "Quantidade de colunas = 2\nColunas no dataframe  = Index(['code', 'label'], dtype='object')\n"
     ]
    }
   ],
   "source": [
    "# Para verificar somente a quantidade de colunas\n",
    "print('Quantidade de colunas =',accidents_df.shape[1])\n",
    "print('Colunas no dataframe  =',accidents_df.columns)"
   ]
  },
  {
   "cell_type": "code",
   "execution_count": 17,
   "metadata": {},
   "outputs": [
    {
     "output_type": "execute_result",
     "data": {
      "text/plain": [
       "29"
      ]
     },
     "metadata": {},
     "execution_count": 17
    }
   ],
   "source": [
    "# Registros na coluna 1\n",
    "accidents_df.loc[0:].count()[0]"
   ]
  },
  {
   "cell_type": "code",
   "execution_count": null,
   "metadata": {},
   "outputs": [],
   "source": [
    "# Registros únicos na coluna 2\n",
    "accidents_df.loc[0:].nunique()[0]"
   ]
  },
  {
   "cell_type": "markdown",
   "metadata": {},
   "source": [
    "Exercício 8: Exporte a coluna 2 do dataframe anterior para os seguintes formatos e mostre-os no diretório:<br>\n",
    "*Verifique qual dos arquivos ocupa menos espaço*\n",
    "\n",
    "* csv\n",
    "* json\n",
    "* html\n"
   ]
  },
  {
   "cell_type": "code",
   "execution_count": 75,
   "metadata": {},
   "outputs": [],
   "source": [
    "# Para CSV\n",
    "accidents_df.label.to_csv('accidents_label.csv')"
   ]
  },
  {
   "cell_type": "code",
   "execution_count": 76,
   "metadata": {},
   "outputs": [],
   "source": [
    "# Para JSON\n",
    "accidents_df.label.to_json('accidents_label.json')"
   ]
  },
  {
   "cell_type": "code",
   "execution_count": 83,
   "metadata": {},
   "outputs": [],
   "source": [
    "# Para HTML\n",
    "accidents_to_html_df = accidents_df[['label']]\n",
    "accidents_to_html_df.to_html('accidents_label.html')"
   ]
  }
 ],
 "metadata": {
  "kernelspec": {
   "display_name": "Python 3",
   "language": "python",
   "name": "python3"
  },
  "language_info": {
   "codemirror_mode": {
    "name": "ipython",
    "version": 3
   },
   "file_extension": ".py",
   "mimetype": "text/x-python",
   "name": "python",
   "nbconvert_exporter": "python",
   "pygments_lexer": "ipython3",
   "version": "3.8.5-final"
  }
 },
 "nbformat": 4,
 "nbformat_minor": 4
}