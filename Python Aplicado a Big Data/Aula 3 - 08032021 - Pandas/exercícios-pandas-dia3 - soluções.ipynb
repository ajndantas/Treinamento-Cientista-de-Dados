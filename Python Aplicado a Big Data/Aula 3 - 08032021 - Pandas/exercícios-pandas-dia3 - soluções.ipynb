{
 "cells": [
  {
   "cell_type": "code",
   "execution_count": null,
   "metadata": {},
   "outputs": [],
   "source": [
    "import pandas as pd\n",
    "import numpy as np"
   ]
  },
  {
   "cell_type": "markdown",
   "metadata": {},
   "source": [
    "Exercício 1: Crie um dataframe a partir dos dados abaixo.\n",
    "**Importante:** Mantenha a ordem dos dados! <br>\n",
    "estado = 'SP','DF','MT','SC','RS','GO'<br>\n",
    "ano    = 2020,2020,2020,2020,2020,2020<br>\n",
    "pop    = 46289333,3055149,3526220,7252502,11422973,7113540<br>\n",
    "area   = 248219,5760,903207,95730,281707,340242<br>\n"
   ]
  },
  {
   "cell_type": "code",
   "execution_count": null,
   "metadata": {},
   "outputs": [],
   "source": []
  },
  {
   "cell_type": "markdown",
   "metadata": {},
   "source": [
    "Exercício 2: Crie um dataframe lendo a planilha reddit_vm.xlsx que foi disponibilizada.\n",
    "Apresente as colunas e descreva o dataframe"
   ]
  },
  {
   "cell_type": "code",
   "execution_count": null,
   "metadata": {},
   "outputs": [],
   "source": [
    "# Definindo o local dos arquivos excel\n"
   ]
  },
  {
   "cell_type": "code",
   "execution_count": 1,
   "metadata": {},
   "outputs": [],
   "source": [
    "# Criando o dataframe\n"
   ]
  },
  {
   "cell_type": "markdown",
   "metadata": {},
   "source": [
    "Exercício 3: Leia os arquivos do diretório e guarde em uma lista, em seguida gere um dataframe utilizando o indice da lista. Use um arquivo a sua escolha. <br>\n",
    "\n",
    "- Apresente os arquivos que estão no diretório\n",
    "- Apresente as primeiras linhas do dataframe \n",
    "- Descreva o dataframe"
   ]
  },
  {
   "cell_type": "code",
   "execution_count": null,
   "metadata": {},
   "outputs": [],
   "source": [
    "# Listando os arquivos\n",
    "\n",
    "# Mostre todos os arquivos no diretório\n"
   ]
  },
  {
   "cell_type": "code",
   "execution_count": null,
   "metadata": {
    "scrolled": false
   },
   "outputs": [],
   "source": [
    "# Lendo os dados\n"
   ]
  },
  {
   "cell_type": "markdown",
   "metadata": {},
   "source": [
    "Exercício 4: Crie um dataframe de uma pandas series. Utilize as listas abaixo."
   ]
  },
  {
   "cell_type": "code",
   "execution_count": null,
   "metadata": {},
   "outputs": [],
   "source": [
    "author = ['Sebastião', 'Carla', 'Júlio', 'Juliana', 'Mariana'] \n",
    "article = [856, 1511, 1478, 3500, 8522] \n",
    "\n",
    "# Seu código aqui"
   ]
  },
  {
   "cell_type": "markdown",
   "metadata": {},
   "source": [
    "Exercício 5 : Crie um dataframe, apresente as colunas e as primeiras linhas seguindo os passos abaixo:\n",
    "* Crie um dataframe com 2 colunas, uma com 100 floats usando [Numpy Random](https://docs.scipy.org/doc/numpy-1.15.0/reference/generated/numpy.random.random.html#numpy-random-random) e outra gerando 100 inteiros utilizando [RandInt](https://docs.scipy.org/doc/numpy-1.15.1/reference/generated/numpy.random.randint.html#numpy-random-randint)\n",
    "* A coluna 1 deve ser nomeada como floats e a 2 deve ser nomeada integers\n",
    "* Apresente o datatype de cada coluna"
   ]
  },
  {
   "cell_type": "code",
   "execution_count": null,
   "metadata": {},
   "outputs": [],
   "source": []
  },
  {
   "cell_type": "markdown",
   "metadata": {},
   "source": [
    "Exercício 6: Escreva um programa Pandas para criar e exibir um DataFrame a partir de dados de um dicionário especificado que possui os rounds como índice.<br>\n",
    "\n",
    "nome = \\['Gabriel', 'Michel', 'Antonio', 'Gisele', 'Sônia', 'Emily', 'Sub-Zero', 'Shang-Tsung', 'Scorpion', 'Kitana'] \n",
    "<br>\n",
    "pontos= \\[12.5, 9, 16.5, np.nan, 9, 20, 14.5, np.nan, 8, 19]<br>\n",
    "tentativas = \\[1, 3, 2, 3, 2, 3, 1, 1, 2, 1]<br>\n",
    "qualificado = \\['yes', 'no', 'yes', 'no', 'no', 'yes', 'yes', 'no', 'no', 'yes']\n",
    "rounds = ['round1', 'round2', 'round3', 'round4', 'round5', 'round6', 'round7', 'round8', 'round9', 'round10']\n",
    "\n",
    "* Apresente o dataframe\n",
    "* Descreva o dataframe"
   ]
  },
  {
   "cell_type": "code",
   "execution_count": null,
   "metadata": {},
   "outputs": [],
   "source": []
  },
  {
   "cell_type": "code",
   "execution_count": null,
   "metadata": {},
   "outputs": [],
   "source": []
  },
  {
   "cell_type": "markdown",
   "metadata": {},
   "source": [
    "Exercício 7: Leia o arquivo xlsx Road-Accident-Safety-Data-Guide-1979-2004 a sheet 'Casualty Type' e mostre sua informações:<br>\n",
    "__*Veja qual o parametro para ler a sheet_name [aqui](https://pandas.pydata.org/pandas-docs/stable/reference/api/pandas.read_excel.html#pandas-read-excel)*.__\n",
    "* Quantos registros o dataframe tem?\n",
    "* Qual o tamanho ocupado em memória?\n",
    "* Quantas colunas ele tem? Apresente as colunas.\n",
    "* Conte a quantidade de registros na primeira coluna\n",
    "* Conte a quantidade de registros únicos na segunda coluna"
   ]
  },
  {
   "cell_type": "code",
   "execution_count": null,
   "metadata": {},
   "outputs": [],
   "source": [
    "# Lendo o arquivo xls utilizando a aba correta\n"
   ]
  },
  {
   "cell_type": "code",
   "execution_count": null,
   "metadata": {},
   "outputs": [],
   "source": [
    "# quantidade de registros\n"
   ]
  },
  {
   "cell_type": "code",
   "execution_count": 3,
   "metadata": {},
   "outputs": [],
   "source": [
    "# Aqui pode ver a quantidade de colunas e o tamanho em memória\n"
   ]
  },
  {
   "cell_type": "code",
   "execution_count": null,
   "metadata": {},
   "outputs": [],
   "source": []
  },
  {
   "cell_type": "code",
   "execution_count": null,
   "metadata": {},
   "outputs": [],
   "source": [
    "# Registros na coluna 1\n"
   ]
  },
  {
   "cell_type": "code",
   "execution_count": null,
   "metadata": {},
   "outputs": [],
   "source": [
    "# Registros únicos na coluna 2\n"
   ]
  },
  {
   "cell_type": "markdown",
   "metadata": {},
   "source": [
    "Exercício 8: Exporte a coluna 2 do dataframe anterior para os seguintes formatos e mostre-os no diretório:<br>\n",
    "*Verifique qual dos arquivos ocupa menos espaço*\n",
    "\n",
    "* csv\n",
    "* json\n",
    "* html\n"
   ]
  },
  {
   "cell_type": "code",
   "execution_count": 75,
   "metadata": {},
   "outputs": [],
   "source": [
    "# Para CSV\n"
   ]
  },
  {
   "cell_type": "code",
   "execution_count": 76,
   "metadata": {},
   "outputs": [],
   "source": [
    "# Para JSON\n"
   ]
  },
  {
   "cell_type": "code",
   "execution_count": 83,
   "metadata": {},
   "outputs": [],
   "source": [
    "# Para HTML\n"
   ]
  }
 ],
 "metadata": {
  "kernelspec": {
   "display_name": "Python 3",
   "language": "python",
   "name": "python3"
  },
  "language_info": {
   "codemirror_mode": {
    "name": "ipython",
    "version": 3
   },
   "file_extension": ".py",
   "mimetype": "text/x-python",
   "name": "python",
   "nbconvert_exporter": "python",
   "pygments_lexer": "ipython3",
   "version": "3.7.6"
  }
 },
 "nbformat": 4,
 "nbformat_minor": 4
}
