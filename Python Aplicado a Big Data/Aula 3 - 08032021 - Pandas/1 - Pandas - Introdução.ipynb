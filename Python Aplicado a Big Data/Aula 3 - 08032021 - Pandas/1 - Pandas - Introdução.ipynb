{
 "metadata": {
  "language_info": {
   "codemirror_mode": {
    "name": "ipython",
    "version": 3
   },
   "file_extension": ".py",
   "mimetype": "text/x-python",
   "name": "python",
   "nbconvert_exporter": "python",
   "pygments_lexer": "ipython3",
   "version": 3
  },
  "orig_nbformat": 2
 },
 "nbformat": 4,
 "nbformat_minor": 2,
 "cells": [
  {
   "source": [
    "# Python aplicado a Big Data\n",
    "## Dia 3 - 08/03/2021\n",
    "### Instrutor: Leonardo Galler"
   ],
   "cell_type": "markdown",
   "metadata": {}
  },
  {
   "source": [
    "### Introdução ao Pandas"
   ],
   "cell_type": "markdown",
   "metadata": {}
  },
  {
   "source": [
    "### Explorando dados com Dataframes"
   ],
   "cell_type": "markdown",
   "metadata": {}
  },
  {
   "cell_type": "code",
   "execution_count": null,
   "metadata": {},
   "outputs": [],
   "source": [
    "# imports\n",
    "\n",
    "import numpy as np\n",
    "import pandas as pd"
   ]
  },
  {
   "source": [
    "#### Bonus - Criando dataframes a partir de um dicionário de arrays NumPy"
   ],
   "cell_type": "markdown",
   "metadata": {}
  },
  {
   "cell_type": "code",
   "execution_count": null,
   "metadata": {},
   "outputs": [],
   "source": [
    "# Utilizando dicionários de arrays numpy\n",
    "\n",
    "data = {'order':np.arange(start=0 , stop = 120 , step = 1),\n",
    "        'temp':np.linspace(start=-10, stop=150, num=120)}\n",
    "\n",
    "# Criando dataframe com Ndarrays\n",
    "df = pd.DataFrame(data)\n",
    "\n",
    "# Descreva o dataframe\n",
    "print(df.describe())\n",
    "\n",
    "# Apresente o dataframe\n",
    "print(df)\n",
    "\n",
    "# Informações básicas sobre o dataframe\n",
    "df.info()"
   ]
  },
  {
   "source": [
    "#### Bonus 2 - Criando dataframes a partir de uma lista"
   ],
   "cell_type": "markdown",
   "metadata": {}
  },
  {
   "cell_type": "code",
   "execution_count": null,
   "metadata": {},
   "outputs": [],
   "source": [
    "# Criando dataframe utilizando listas\n",
    "df2 = pd.DataFrame(['Elvis','Michael','BB King','Celine','Alicia'], \n",
    "                   columns=['artist'])\n",
    "                   \n",
    "print(df2.describe())\n",
    "print(df2)"
   ]
  },
  {
   "source": [
    "#### Bonus 3 - Criando dataframes a partir de dicionários de listas"
   ],
   "cell_type": "markdown",
   "metadata": {}
  },
  {
   "cell_type": "code",
   "execution_count": null,
   "metadata": {},
   "outputs": [],
   "source": [
    "data = {'cidade' :['Capao Redondo','Mirandopolis','Paraisopolis','Morumbi'],\n",
    "        'acesso' :['Dificil','Medio','Dificil','Facil'],\n",
    "        'visitas':[120,84,112,87]}\n",
    "\n",
    "df = pd.DataFrame(data)\n",
    "print(df.describe())\n",
    "print(df)"
   ]
  },
  {
   "source": [
    "#### Bonus 4 - Verificando os arquivos do diretório"
   ],
   "cell_type": "markdown",
   "metadata": {}
  },
  {
   "cell_type": "code",
   "execution_count": null,
   "metadata": {},
   "outputs": [],
   "source": [
    "import os\n",
    "# Armazene em uma variável o local onde estarão os arquivos que serão utilizados\n",
    "data_path = 'C:\\\\Users\\\\anton\\\\OneDrive\\\\Documentos\\\\Treinamento Cientista de Dados\\\\Python Aplicado a Big Data\\\\Aula 3 - 08032021 - Pandas\\\\sample-data\\\\xlsx\\\\'\n",
    "\n",
    "files = os.listdir( data_path )\n",
    "print(type(files)) # é retornada uma lista, pode ser criado um loop para processamento \n",
    "                  # sequencial de arquivos.\n",
    "# Mostre todos os arquivos no diretório\n",
    "for file in files:\n",
    "   print(file)"
   ]
  }
 ]
}