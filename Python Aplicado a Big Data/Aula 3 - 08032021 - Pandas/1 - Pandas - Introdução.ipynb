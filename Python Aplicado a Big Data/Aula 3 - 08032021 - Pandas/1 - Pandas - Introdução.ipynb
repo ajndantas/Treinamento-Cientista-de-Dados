{
 "metadata": {
  "language_info": {
   "codemirror_mode": {
    "name": "ipython",
    "version": 3
   },
   "file_extension": ".py",
   "mimetype": "text/x-python",
   "name": "python",
   "nbconvert_exporter": "python",
   "pygments_lexer": "ipython3",
   "version": "3.8.5-final"
  },
  "orig_nbformat": 2,
  "kernelspec": {
   "name": "python3",
   "display_name": "Python 3.8.5 64-bit (conda)",
   "metadata": {
    "interpreter": {
     "hash": "b3ba2566441a7c06988d0923437866b63cedc61552a5af99d1f4fb67d367b25f"
    }
   }
  }
 },
 "nbformat": 4,
 "nbformat_minor": 2,
 "cells": [
  {
   "source": [
    "# Python aplicado a Big Data\n",
    "## Dia 3 - 08/03/2021\n",
    "### Instrutor: Leonardo Galler"
   ],
   "cell_type": "markdown",
   "metadata": {}
  },
  {
   "source": [
    "### Introdução ao Pandas"
   ],
   "cell_type": "markdown",
   "metadata": {}
  },
  {
   "source": [
    "### Explorando dados com Dataframes"
   ],
   "cell_type": "markdown",
   "metadata": {}
  },
  {
   "cell_type": "code",
   "execution_count": 2,
   "metadata": {},
   "outputs": [],
   "source": [
    "# imports\n",
    "\n",
    "import numpy as np\n",
    "import pandas as pd"
   ]
  },
  {
   "source": [
    "#### Bonus - Criando dataframes a partir de um dicionário de arrays NumPy"
   ],
   "cell_type": "markdown",
   "metadata": {}
  },
  {
   "cell_type": "code",
   "execution_count": 5,
   "metadata": {},
   "outputs": [
    {
     "output_type": "stream",
     "name": "stdout",
     "text": [
      "Descrevendo o dataframe\n            order        temp\ncount  120.000000  120.000000\nmean    59.500000   70.000000\nstd     34.785054   46.769821\nmin      0.000000  -10.000000\n25%     29.750000   30.000000\n50%     59.500000   70.000000\n75%     89.250000  110.000000\nmax    119.000000  150.000000\n\nApresentando o dataframe\n     order        temp\n0        0  -10.000000\n1        1   -8.655462\n2        2   -7.310924\n3        3   -5.966387\n4        4   -4.621849\n..     ...         ...\n115    115  144.621849\n116    116  145.966387\n117    117  147.310924\n118    118  148.655462\n119    119  150.000000\n\n[120 rows x 2 columns]\n\nInformações Básicas\n<class 'pandas.core.frame.DataFrame'>\nRangeIndex: 120 entries, 0 to 119\nData columns (total 2 columns):\n #   Column  Non-Null Count  Dtype  \n---  ------  --------------  -----  \n 0   order   120 non-null    int32  \n 1   temp    120 non-null    float64\ndtypes: float64(1), int32(1)\nmemory usage: 1.5 KB\n"
     ]
    }
   ],
   "source": [
    "# Utilizando dicionários de arrays numpy\n",
    "\n",
    "data = {'order':np.arange(start=0 , stop = 120 , step = 1),\n",
    "        'temp':np.linspace(start=-10, stop=150, num=120)}\n",
    "\n",
    "# Criando dataframe com Ndarrays\n",
    "df = pd.DataFrame(data)\n",
    "\n",
    "# Descreva o dataframe\n",
    "print(\"Descrevendo o dataframe\")\n",
    "print(df.describe())\n",
    "print()\n",
    "\n",
    "# Apresente o dataframe\n",
    "print(\"Apresentando o dataframe\")\n",
    "print(df)\n",
    "print()\n",
    "\n",
    "# Informações básicas sobre o dataframe\n",
    "print(\"Informações Básicas\")\n",
    "df.info()"
   ]
  },
  {
   "source": [
    "#### Bonus 2 - Criando dataframes a partir de uma lista"
   ],
   "cell_type": "markdown",
   "metadata": {}
  },
  {
   "cell_type": "code",
   "execution_count": null,
   "metadata": {},
   "outputs": [],
   "source": [
    "# Criando dataframe utilizando listas\n",
    "df2 = pd.DataFrame(['Elvis','Michael','BB King','Celine','Alicia'], \n",
    "                   columns=['artist'])\n",
    "                   \n",
    "print(df2.describe())\n",
    "print(df2)"
   ]
  },
  {
   "source": [
    "#### Bonus 3 - Criando dataframes a partir de dicionários de listas"
   ],
   "cell_type": "markdown",
   "metadata": {}
  },
  {
   "cell_type": "code",
   "execution_count": null,
   "metadata": {},
   "outputs": [],
   "source": [
    "data = {'cidade' :['Capao Redondo','Mirandopolis','Paraisopolis','Morumbi'],\n",
    "        'acesso' :['Dificil','Medio','Dificil','Facil'],\n",
    "        'visitas':[120,84,112,87]}\n",
    "\n",
    "df = pd.DataFrame(data)\n",
    "print(df.describe())\n",
    "print(df)"
   ]
  },
  {
   "source": [
    "#### Bonus 4 - Verificando os arquivos do diretório"
   ],
   "cell_type": "markdown",
   "metadata": {}
  },
  {
   "cell_type": "code",
   "execution_count": null,
   "metadata": {},
   "outputs": [],
   "source": [
    "import os\n",
    "# Armazene em uma variável o local onde estarão os arquivos que serão utilizados\n",
    "data_path = 'C:\\\\Users\\\\anton\\\\OneDrive\\\\Documentos\\\\Treinamento Cientista de Dados\\\\Python Aplicado a Big Data\\\\Aula 3 - 08032021 - Pandas\\\\sample-data\\\\xlsx\\\\'\n",
    "\n",
    "files = os.listdir( data_path )\n",
    "print(type(files)) # é retornada uma lista, pode ser criado um loop para processamento \n",
    "                  # sequencial de arquivos.\n",
    "# Mostre todos os arquivos no diretório\n",
    "for file in files:\n",
    "   print(file)"
   ]
  }
 ]
}