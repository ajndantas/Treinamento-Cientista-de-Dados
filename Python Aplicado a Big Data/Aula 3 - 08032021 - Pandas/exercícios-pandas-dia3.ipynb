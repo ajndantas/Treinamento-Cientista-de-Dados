{
 "cells": [
  {
   "cell_type": "code",
   "execution_count": 27,
   "metadata": {},
   "outputs": [],
   "source": [
    "import pandas as pd\n"
   ]
  },
  {
   "source": [
    "Exercício 1: Crie um dataframe a partir dos dados abaixo.\n",
    "**Importante:** Mantenha a ordem dos dados! <br>\n",
    "estado = 'SP','DF','MT','SC','RS','GO'<br>\n",
    "ano    = 2020,2020,2020,2020,2020,2020<br>\n",
    "pop    = 46289333,3055149,3526220,7252502,11422973,7113540<br>\n",
    "area   = 248219,5760,903207,95730,281707,340242<br>\n"
   ],
   "cell_type": "markdown",
   "metadata": {}
  },
  {
   "cell_type": "code",
   "execution_count": 3,
   "metadata": {},
   "outputs": [
    {
     "output_type": "execute_result",
     "data": {
      "text/plain": [
       "  estado   ano       pop    area\n",
       "0     SP  2020  46289333  248219\n",
       "1     DF  2020   3055149    5760\n",
       "2     MT  2020   3526220  903207\n",
       "3     SC  2020   7252502   95730\n",
       "4     RS  2020  11422973  281707\n",
       "5     GO  2020   7113540  340242"
      ],
      "text/html": "<div>\n<style scoped>\n    .dataframe tbody tr th:only-of-type {\n        vertical-align: middle;\n    }\n\n    .dataframe tbody tr th {\n        vertical-align: top;\n    }\n\n    .dataframe thead th {\n        text-align: right;\n    }\n</style>\n<table border=\"1\" class=\"dataframe\">\n  <thead>\n    <tr style=\"text-align: right;\">\n      <th></th>\n      <th>estado</th>\n      <th>ano</th>\n      <th>pop</th>\n      <th>area</th>\n    </tr>\n  </thead>\n  <tbody>\n    <tr>\n      <th>0</th>\n      <td>SP</td>\n      <td>2020</td>\n      <td>46289333</td>\n      <td>248219</td>\n    </tr>\n    <tr>\n      <th>1</th>\n      <td>DF</td>\n      <td>2020</td>\n      <td>3055149</td>\n      <td>5760</td>\n    </tr>\n    <tr>\n      <th>2</th>\n      <td>MT</td>\n      <td>2020</td>\n      <td>3526220</td>\n      <td>903207</td>\n    </tr>\n    <tr>\n      <th>3</th>\n      <td>SC</td>\n      <td>2020</td>\n      <td>7252502</td>\n      <td>95730</td>\n    </tr>\n    <tr>\n      <th>4</th>\n      <td>RS</td>\n      <td>2020</td>\n      <td>11422973</td>\n      <td>281707</td>\n    </tr>\n    <tr>\n      <th>5</th>\n      <td>GO</td>\n      <td>2020</td>\n      <td>7113540</td>\n      <td>340242</td>\n    </tr>\n  </tbody>\n</table>\n</div>"
     },
     "metadata": {},
     "execution_count": 3
    }
   ],
   "source": [
    "data = {\n",
    "            'estado' : ['SP','DF','MT','SC','RS','GO'],\n",
    "            'ano' : [2020,2020,2020,2020,2020,2020],\n",
    "            'pop' : [46289333,3055149,3526220,7252502,11422973,7113540],\n",
    "            'area' : [248219,5760,903207,95730,281707,340242]\n",
    "        }\n",
    "\n",
    "df = pd.DataFrame(data)\n",
    "df"
   ]
  },
  {
   "cell_type": "markdown",
   "metadata": {},
   "source": [
    "Exercício 2: Crie um dataframe lendo a planilha reddit_vm.xlsx que foi disponibilizada.\n",
    "Apresente as colunas e descreva o dataframe"
   ]
  },
  {
   "cell_type": "code",
   "execution_count": 5,
   "metadata": {},
   "outputs": [],
   "source": [
    "# Definindo o local dos arquivos excel\n",
    "data_path = 'C:\\\\Users\\\\anton\\\\OneDrive\\\\Documentos\\\\Treinamento Cientista de Dados\\\\Python Aplicado a Big Data\\\\Aula 3 - 08032021 - Pandas\\\\sample-data\\\\xlsx\\\\'\n"
   ]
  },
  {
   "cell_type": "code",
   "execution_count": 20,
   "metadata": {},
   "outputs": [
    {
     "output_type": "stream",
     "name": "stdout",
     "text": [
      "Apresentando as colunas\nIndex(['title', 'score', 'id', 'url', 'comms_num', 'created', 'body',\n       'timestamp', 'Unnamed: 8'],\n      dtype='object')\n\nDescrevendo o dataframe\n             score    comms_num       created\ncount  1424.000000  1424.000000  1.424000e+03\nmean      3.887640     1.982444  1.537771e+09\nstd      31.648034    17.083783  6.971861e+07\nmin     -12.000000     0.000000  1.389624e+09\n25%       1.000000     0.000000  1.553488e+09\n50%       1.000000     0.000000  1.564984e+09\n75%       4.000000     1.000000  1.578632e+09\nmax    1185.000000   596.000000  1.614933e+09\n\n"
     ]
    }
   ],
   "source": [
    "# Criando o dataframe\n",
    "df = pd.read_excel(data_path+'reddit_vm.xlsx')\n",
    "\n",
    "print(\"Apresentando as colunas\")\n",
    "print(df.columns)\n",
    "print()\n",
    "\n",
    "print(\"Descrevendo o dataframe\")\n",
    "print(df.describe())\n",
    "print()\n",
    "\n",
    "\n"
   ]
  },
  {
   "cell_type": "markdown",
   "metadata": {},
   "source": [
    "Exercício 3: Leia os arquivos do diretório e guarde em uma lista, em seguida gere um dataframe utilizando o indice da lista. Use um arquivo a sua escolha. <br>\n",
    "\n",
    "- Apresente os arquivos que estão no diretório\n",
    "- Apresente as primeiras linhas do dataframe \n",
    "- Descreva o dataframe"
   ]
  },
  {
   "cell_type": "code",
   "execution_count": 30,
   "metadata": {},
   "outputs": [
    {
     "output_type": "execute_result",
     "data": {
      "text/plain": [
       "['1 - Pandas - Introdução.ipynb',\n",
       " '2 - Pandas - Lendo Arquivos.ipynb',\n",
       " '3 - Pandas - Manipulando Dataframes.ipynb',\n",
       " '4 - Pandas - Gerando Arquivos.ipynb',\n",
       " 'exercícios-pandas-dia3 - soluções.ipynb',\n",
       " 'exercícios-pandas-dia3.ipynb',\n",
       " 'referencias',\n",
       " 'sample-data',\n",
       " 'sliced_netflix.csv',\n",
       " 'sliced_netflix.html',\n",
       " 'sliced_netflix.json',\n",
       " 'sliced_netflix.xlsx']"
      ]
     },
     "metadata": {},
     "execution_count": 30
    }
   ],
   "source": [
    "# Listando os arquivos\n",
    "import os\n",
    "\n",
    "files = os.listdir()\n",
    "files\n",
    "\n",
    "# Mostre todos os arquivos no diretório\n",
    "#df = pd.DataFrame(files[0])\n",
    "#df"
   ]
  },
  {
   "cell_type": "code",
   "execution_count": null,
   "metadata": {
    "scrolled": false
   },
   "outputs": [],
   "source": [
    "# Lendo os dados\n"
   ]
  },
  {
   "cell_type": "markdown",
   "metadata": {},
   "source": [
    "Exercício 4: Crie um dataframe de uma pandas series. Utilize as listas abaixo."
   ]
  },
  {
   "cell_type": "code",
   "execution_count": null,
   "metadata": {},
   "outputs": [],
   "source": [
    "author = ['Sebastião', 'Carla', 'Júlio', 'Juliana', 'Mariana'] \n",
    "article = [856, 1511, 1478, 3500, 8522] \n",
    "\n",
    "# Seu código aqui"
   ]
  },
  {
   "cell_type": "markdown",
   "metadata": {},
   "source": [
    "Exercício 5 : Crie um dataframe, apresente as colunas e as primeiras linhas seguindo os passos abaixo:\n",
    "* Crie um dataframe com 2 colunas, uma com 100 floats usando [Numpy Random](https://docs.scipy.org/doc/numpy-1.15.0/reference/generated/numpy.random.random.html#numpy-random-random) e outra gerando 100 inteiros utilizando [RandInt](https://docs.scipy.org/doc/numpy-1.15.1/reference/generated/numpy.random.randint.html#numpy-random-randint)\n",
    "* A coluna 1 deve ser nomeada como floats e a 2 deve ser nomeada integers\n",
    "* Apresente o datatype de cada coluna"
   ]
  },
  {
   "cell_type": "code",
   "execution_count": null,
   "metadata": {},
   "outputs": [],
   "source": []
  },
  {
   "cell_type": "markdown",
   "metadata": {},
   "source": [
    "Exercício 6: Escreva um programa Pandas para criar e exibir um DataFrame a partir de dados de um dicionário especificado que possui os rounds como índice.<br>\n",
    "\n",
    "nome = \\['Gabriel', 'Michel', 'Antonio', 'Gisele', 'Sônia', 'Emily', 'Sub-Zero', 'Shang-Tsung', 'Scorpion', 'Kitana'] \n",
    "<br>\n",
    "pontos= \\[12.5, 9, 16.5, np.nan, 9, 20, 14.5, np.nan, 8, 19]<br>\n",
    "tentativas = \\[1, 3, 2, 3, 2, 3, 1, 1, 2, 1]<br>\n",
    "qualificado = \\['yes', 'no', 'yes', 'no', 'no', 'yes', 'yes', 'no', 'no', 'yes']\n",
    "rounds = ['round1', 'round2', 'round3', 'round4', 'round5', 'round6', 'round7', 'round8', 'round9', 'round10']\n",
    "\n",
    "* Apresente o dataframe\n",
    "* Descreva o dataframe"
   ]
  },
  {
   "cell_type": "code",
   "execution_count": null,
   "metadata": {},
   "outputs": [],
   "source": []
  },
  {
   "cell_type": "code",
   "execution_count": null,
   "metadata": {},
   "outputs": [],
   "source": []
  },
  {
   "cell_type": "markdown",
   "metadata": {},
   "source": [
    "Exercício 7: Leia o arquivo xlsx Road-Accident-Safety-Data-Guide-1979-2004 a sheet 'Casualty Type' e mostre sua informações:<br>\n",
    "__*Veja qual o parametro para ler a sheet_name [aqui](https://pandas.pydata.org/pandas-docs/stable/reference/api/pandas.read_excel.html#pandas-read-excel)*.__\n",
    "* Quantos registros o dataframe tem?\n",
    "* Qual o tamanho ocupado em memória?\n",
    "* Quantas colunas ele tem? Apresente as colunas.\n",
    "* Conte a quantidade de registros na primeira coluna\n",
    "* Conte a quantidade de registros únicos na segunda coluna"
   ]
  },
  {
   "cell_type": "code",
   "execution_count": null,
   "metadata": {},
   "outputs": [],
   "source": [
    "# Lendo o arquivo xls utilizando a aba correta\n"
   ]
  },
  {
   "cell_type": "code",
   "execution_count": null,
   "metadata": {},
   "outputs": [],
   "source": [
    "# quantidade de registros\n"
   ]
  },
  {
   "cell_type": "code",
   "execution_count": 3,
   "metadata": {},
   "outputs": [],
   "source": [
    "# Aqui pode ver a quantidade de colunas e o tamanho em memória\n"
   ]
  },
  {
   "cell_type": "code",
   "execution_count": null,
   "metadata": {},
   "outputs": [],
   "source": []
  },
  {
   "cell_type": "code",
   "execution_count": null,
   "metadata": {},
   "outputs": [],
   "source": [
    "# Registros na coluna 1\n"
   ]
  },
  {
   "cell_type": "code",
   "execution_count": null,
   "metadata": {},
   "outputs": [],
   "source": [
    "# Registros únicos na coluna 2\n"
   ]
  },
  {
   "cell_type": "markdown",
   "metadata": {},
   "source": [
    "Exercício 8: Exporte a coluna 2 do dataframe anterior para os seguintes formatos e mostre-os no diretório:<br>\n",
    "*Verifique qual dos arquivos ocupa menos espaço*\n",
    "\n",
    "* csv\n",
    "* json\n",
    "* html\n"
   ]
  },
  {
   "cell_type": "code",
   "execution_count": 75,
   "metadata": {},
   "outputs": [],
   "source": [
    "# Para CSV\n"
   ]
  },
  {
   "cell_type": "code",
   "execution_count": 76,
   "metadata": {},
   "outputs": [],
   "source": [
    "# Para JSON\n"
   ]
  },
  {
   "cell_type": "code",
   "execution_count": 83,
   "metadata": {},
   "outputs": [],
   "source": [
    "# Para HTML\n"
   ]
  }
 ],
 "metadata": {
  "kernelspec": {
   "display_name": "Python 3",
   "language": "python",
   "name": "python3"
  },
  "language_info": {
   "codemirror_mode": {
    "name": "ipython",
    "version": 3
   },
   "file_extension": ".py",
   "mimetype": "text/x-python",
   "name": "python",
   "nbconvert_exporter": "python",
   "pygments_lexer": "ipython3",
   "version": "3.8.5-final"
  }
 },
 "nbformat": 4,
 "nbformat_minor": 4
}