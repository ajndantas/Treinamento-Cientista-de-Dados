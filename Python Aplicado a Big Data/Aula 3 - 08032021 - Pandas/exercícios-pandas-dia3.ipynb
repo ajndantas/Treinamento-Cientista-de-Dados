{
 "cells": [
  {
   "cell_type": "code",
   "execution_count": 10,
   "metadata": {},
   "outputs": [],
   "source": [
    "import pandas as pd"
   ]
  },
  {
   "source": [
    "Exercício 1: Crie um dataframe a partir dos dados abaixo.\n",
    "**Importante:** Mantenha a ordem dos dados! <br>\n",
    "estado = 'SP','DF','MT','SC','RS','GO'<br>\n",
    "ano    = 2020,2020,2020,2020,2020,2020<br>\n",
    "pop    = 46289333,3055149,3526220,7252502,11422973,7113540<br>\n",
    "area   = 248219,5760,903207,95730,281707,340242<br>\n"
   ],
   "cell_type": "markdown",
   "metadata": {}
  },
  {
   "cell_type": "code",
   "execution_count": 11,
   "metadata": {},
   "outputs": [
    {
     "output_type": "execute_result",
     "data": {
      "text/plain": [
       "  estado   ano       pop    area\n",
       "0     SP  2020  46289333  248219\n",
       "1     DF  2020   3055149    5760\n",
       "2     MT  2020   3526220  903207\n",
       "3     SC  2020   7252502   95730\n",
       "4     RS  2020  11422973  281707\n",
       "5     GO  2020   7113540  340242"
      ],
      "text/html": "<div>\n<style scoped>\n    .dataframe tbody tr th:only-of-type {\n        vertical-align: middle;\n    }\n\n    .dataframe tbody tr th {\n        vertical-align: top;\n    }\n\n    .dataframe thead th {\n        text-align: right;\n    }\n</style>\n<table border=\"1\" class=\"dataframe\">\n  <thead>\n    <tr style=\"text-align: right;\">\n      <th></th>\n      <th>estado</th>\n      <th>ano</th>\n      <th>pop</th>\n      <th>area</th>\n    </tr>\n  </thead>\n  <tbody>\n    <tr>\n      <th>0</th>\n      <td>SP</td>\n      <td>2020</td>\n      <td>46289333</td>\n      <td>248219</td>\n    </tr>\n    <tr>\n      <th>1</th>\n      <td>DF</td>\n      <td>2020</td>\n      <td>3055149</td>\n      <td>5760</td>\n    </tr>\n    <tr>\n      <th>2</th>\n      <td>MT</td>\n      <td>2020</td>\n      <td>3526220</td>\n      <td>903207</td>\n    </tr>\n    <tr>\n      <th>3</th>\n      <td>SC</td>\n      <td>2020</td>\n      <td>7252502</td>\n      <td>95730</td>\n    </tr>\n    <tr>\n      <th>4</th>\n      <td>RS</td>\n      <td>2020</td>\n      <td>11422973</td>\n      <td>281707</td>\n    </tr>\n    <tr>\n      <th>5</th>\n      <td>GO</td>\n      <td>2020</td>\n      <td>7113540</td>\n      <td>340242</td>\n    </tr>\n  </tbody>\n</table>\n</div>"
     },
     "metadata": {},
     "execution_count": 11
    }
   ],
   "source": [
    "data = {\n",
    "            'estado' : ['SP','DF','MT','SC','RS','GO'],\n",
    "            'ano' : [2020,2020,2020,2020,2020,2020],\n",
    "            'pop' : [46289333,3055149,3526220,7252502,11422973,7113540],\n",
    "            'area' : [248219,5760,903207,95730,281707,340242]\n",
    "        }\n",
    "\n",
    "df = pd.DataFrame(data)\n",
    "df"
   ]
  },
  {
   "cell_type": "markdown",
   "metadata": {},
   "source": [
    "Exercício 2: Crie um dataframe lendo a planilha reddit_vm.xlsx que foi disponibilizada.\n",
    "Apresente as colunas e descreva o dataframe"
   ]
  },
  {
   "cell_type": "code",
   "execution_count": 19,
   "metadata": {},
   "outputs": [],
   "source": [
    "# Definindo o local dos arquivos excel\n",
    "data_path = 'C:\\\\Users\\\\anton\\\\OneDrive\\\\Documentos\\\\Treinamento Cientista de Dados\\\\Python Aplicado a Big Data\\\\Aula 3 - 08032021 - Pandas\\\\sample-data\\\\xlsx\\\\'\n"
   ]
  },
  {
   "cell_type": "code",
   "execution_count": 13,
   "metadata": {},
   "outputs": [
    {
     "output_type": "stream",
     "name": "stdout",
     "text": [
      "Apresentando as colunas\n['title', 'score', 'id', 'url', 'comms_num', 'created', 'body', 'timestamp', 'Unnamed: 8']\n\nDescrevendo o dataframe\n             score    comms_num       created\ncount  1424.000000  1424.000000  1.424000e+03\nmean      3.887640     1.982444  1.537771e+09\nstd      31.648034    17.083783  6.971861e+07\nmin     -12.000000     0.000000  1.389624e+09\n25%       1.000000     0.000000  1.553488e+09\n50%       1.000000     0.000000  1.564984e+09\n75%       4.000000     1.000000  1.578632e+09\nmax    1185.000000   596.000000  1.614933e+09\n\n"
     ]
    }
   ],
   "source": [
    "# Criando o dataframe\n",
    "df = pd.read_excel(data_path+'reddit_vm.xlsx')\n",
    "\n",
    "print(\"Apresentando as colunas\")\n",
    "print(list(df.columns))\n",
    "print()\n",
    "\n",
    "print(\"Descrevendo o dataframe\")\n",
    "print(df.describe())\n",
    "print()\n",
    "\n",
    "\n"
   ]
  },
  {
   "cell_type": "markdown",
   "metadata": {},
   "source": [
    "Exercício 3: Leia os arquivos do diretório e guarde em uma lista, em seguida gere um dataframe utilizando o indice da lista. Use um arquivo a sua escolha. <br>\n",
    "\n",
    "- Apresente os arquivos que estão no diretório\n",
    "- Apresente as primeiras linhas do dataframe \n",
    "- Descreva o dataframe"
   ]
  },
  {
   "cell_type": "code",
   "execution_count": 14,
   "metadata": {},
   "outputs": [
    {
     "output_type": "stream",
     "name": "stdout",
     "text": [
      "<class 'list'>\n"
     ]
    },
    {
     "output_type": "execute_result",
     "data": {
      "text/plain": [
       "['1 - Pandas - Criando DataFrames.ipynb',\n",
       " '2 - Pandas - Manipulando Dataframes.ipynb',\n",
       " '3 - Pandas - Lendo Arquivos.ipynb',\n",
       " '4 - Pandas - Gerando Arquivos.ipynb',\n",
       " 'exercícios-pandas-dia3 - soluções.ipynb',\n",
       " 'exercícios-pandas-dia3.ipynb',\n",
       " 'referencias',\n",
       " 'sample-data',\n",
       " 'sliced_netflix.csv',\n",
       " 'sliced_netflix.html',\n",
       " 'sliced_netflix.json',\n",
       " 'sliced_netflix.xlsx']"
      ]
     },
     "metadata": {},
     "execution_count": 14
    }
   ],
   "source": [
    "# Listando os arquivos\n",
    "import os\n",
    "\n",
    "files = os.listdir()\n",
    "print(type(files))\n",
    "files\n",
    "\n",
    "\n"
   ]
  },
  {
   "cell_type": "code",
   "execution_count": 15,
   "metadata": {
    "scrolled": false
   },
   "outputs": [
    {
     "output_type": "execute_result",
     "data": {
      "text/plain": [
       "     Unnamed: 0                           title         director\n",
       "0           100                        3 Idiots  Rajkumar Hirani\n",
       "1           101               3 Seconds Divorce     Shazia Javed\n",
       "2           102             3 Türken & ein Baby      Sinan Akkuş\n",
       "3           103               30 Days of Luxury       Hani Hamdi\n",
       "4           104              30 Minutes or Less  Ruben Fleischer\n",
       "..          ...                             ...              ...\n",
       "795         895                  Bibi & Tina II      Detlev Buck\n",
       "796         896  Bibi & Tina: Girls Versus Boys      Detlev Buck\n",
       "797         897   Bibi & Tina: Tohuwabohu Total      Detlev Buck\n",
       "798         898                   Bibik-Bibikku              NaN\n",
       "799         899             Big Bad Beetleborgs              NaN\n",
       "\n",
       "[800 rows x 3 columns]"
      ],
      "text/html": "<div>\n<style scoped>\n    .dataframe tbody tr th:only-of-type {\n        vertical-align: middle;\n    }\n\n    .dataframe tbody tr th {\n        vertical-align: top;\n    }\n\n    .dataframe thead th {\n        text-align: right;\n    }\n</style>\n<table border=\"1\" class=\"dataframe\">\n  <thead>\n    <tr style=\"text-align: right;\">\n      <th></th>\n      <th>Unnamed: 0</th>\n      <th>title</th>\n      <th>director</th>\n    </tr>\n  </thead>\n  <tbody>\n    <tr>\n      <th>0</th>\n      <td>100</td>\n      <td>3 Idiots</td>\n      <td>Rajkumar Hirani</td>\n    </tr>\n    <tr>\n      <th>1</th>\n      <td>101</td>\n      <td>3 Seconds Divorce</td>\n      <td>Shazia Javed</td>\n    </tr>\n    <tr>\n      <th>2</th>\n      <td>102</td>\n      <td>3 Türken &amp; ein Baby</td>\n      <td>Sinan Akkuş</td>\n    </tr>\n    <tr>\n      <th>3</th>\n      <td>103</td>\n      <td>30 Days of Luxury</td>\n      <td>Hani Hamdi</td>\n    </tr>\n    <tr>\n      <th>4</th>\n      <td>104</td>\n      <td>30 Minutes or Less</td>\n      <td>Ruben Fleischer</td>\n    </tr>\n    <tr>\n      <th>...</th>\n      <td>...</td>\n      <td>...</td>\n      <td>...</td>\n    </tr>\n    <tr>\n      <th>795</th>\n      <td>895</td>\n      <td>Bibi &amp; Tina II</td>\n      <td>Detlev Buck</td>\n    </tr>\n    <tr>\n      <th>796</th>\n      <td>896</td>\n      <td>Bibi &amp; Tina: Girls Versus Boys</td>\n      <td>Detlev Buck</td>\n    </tr>\n    <tr>\n      <th>797</th>\n      <td>897</td>\n      <td>Bibi &amp; Tina: Tohuwabohu Total</td>\n      <td>Detlev Buck</td>\n    </tr>\n    <tr>\n      <th>798</th>\n      <td>898</td>\n      <td>Bibik-Bibikku</td>\n      <td>NaN</td>\n    </tr>\n    <tr>\n      <th>799</th>\n      <td>899</td>\n      <td>Big Bad Beetleborgs</td>\n      <td>NaN</td>\n    </tr>\n  </tbody>\n</table>\n<p>800 rows × 3 columns</p>\n</div>"
     },
     "metadata": {},
     "execution_count": 15
    }
   ],
   "source": [
    "# Lendo os dados\n",
    "df = pd.read_excel(files[-1]) # Lendo o elemento do último índice\n",
    "df"
   ]
  },
  {
   "cell_type": "markdown",
   "metadata": {},
   "source": [
    "Exercício 4: Crie um dataframe de uma pandas series. Utilize as listas abaixo."
   ]
  },
  {
   "cell_type": "code",
   "execution_count": 16,
   "metadata": {},
   "outputs": [
    {
     "output_type": "execute_result",
     "data": {
      "text/plain": [
       "      Author  Article\n",
       "0  Sebastião      856\n",
       "1      Carla     1511\n",
       "2      Júlio     1478\n",
       "3    Juliana     3500\n",
       "4    Mariana     8522"
      ],
      "text/html": "<div>\n<style scoped>\n    .dataframe tbody tr th:only-of-type {\n        vertical-align: middle;\n    }\n\n    .dataframe tbody tr th {\n        vertical-align: top;\n    }\n\n    .dataframe thead th {\n        text-align: right;\n    }\n</style>\n<table border=\"1\" class=\"dataframe\">\n  <thead>\n    <tr style=\"text-align: right;\">\n      <th></th>\n      <th>Author</th>\n      <th>Article</th>\n    </tr>\n  </thead>\n  <tbody>\n    <tr>\n      <th>0</th>\n      <td>Sebastião</td>\n      <td>856</td>\n    </tr>\n    <tr>\n      <th>1</th>\n      <td>Carla</td>\n      <td>1511</td>\n    </tr>\n    <tr>\n      <th>2</th>\n      <td>Júlio</td>\n      <td>1478</td>\n    </tr>\n    <tr>\n      <th>3</th>\n      <td>Juliana</td>\n      <td>3500</td>\n    </tr>\n    <tr>\n      <th>4</th>\n      <td>Mariana</td>\n      <td>8522</td>\n    </tr>\n  </tbody>\n</table>\n</div>"
     },
     "metadata": {},
     "execution_count": 16
    }
   ],
   "source": [
    "author = ['Sebastião', 'Carla', 'Júlio', 'Juliana', 'Mariana'] \n",
    "article = [856, 1511, 1478, 3500, 8522] \n",
    "\n",
    "# Seu código aqui\n",
    "author_series = pd.Series(author)\n",
    "article_series = pd.Series(article)\n",
    "\n",
    "frame = {'Author':author_series,'Article':article_series}\n",
    "\n",
    "df = pd.DataFrame(frame)\n",
    "df"
   ]
  },
  {
   "cell_type": "markdown",
   "metadata": {},
   "source": [
    "Exercício 5 : Crie um dataframe, apresente as colunas e as primeiras linhas seguindo os passos abaixo:\n",
    "* Crie um dataframe com 2 colunas, uma com 100 floats usando [Numpy Random](https://docs.scipy.org/doc/numpy-1.15.0/reference/generated/numpy.random.random.html#numpy-random-random) e outra gerando 100 inteiros utilizando [RandInt](https://docs.scipy.org/doc/numpy-1.15.1/reference/generated/numpy.random.randint.html#numpy-random-randint)\n",
    "* A coluna 1 deve ser nomeada como floats e a 2 deve ser nomeada integers\n",
    "* Apresente o datatype de cada coluna"
   ]
  },
  {
   "cell_type": "code",
   "execution_count": 17,
   "metadata": {},
   "outputs": [
    {
     "output_type": "stream",
     "name": "stdout",
     "text": [
      "Floats\n[0.75162073 0.16989583 0.37926438 0.08597291 0.46175266 0.14446812\n 0.11653083 0.0055686  0.43585893 0.15933015 0.00555251 0.12105615\n 0.28300412 0.122041   0.85648947 0.10284996 0.18426501 0.15319317\n 0.97476715 0.0139722  0.46170076 0.27327148 0.26968964 0.30616523\n 0.15706325 0.25382067 0.41930745 0.19998648 0.77371306 0.37841454\n 0.67747505 0.29041086 0.43190737 0.03327259 0.34325149 0.36221458\n 0.39559285 0.00122277 0.43418209 0.26221098 0.19084442 0.59253123\n 0.05006957 0.23773163 0.55790354 0.34170225 0.12164361 0.32351053\n 0.05230129 0.01969019 0.77919124 0.57459405 0.74823973 0.28406439\n 0.29758113 0.16724002 0.46102625 0.28428045 0.14222051 0.59202715\n 0.62223608 0.67631753 0.66911458 0.76747949 0.18670292 0.72090655\n 0.4692112  0.67781921 0.5815894  0.77496903 0.13417264 0.21418296\n 0.67489579 0.1907623  0.99152152 0.3507529  0.8397896  0.94055232\n 0.73365172 0.56157481 0.14575628 0.06366995 0.62109051 0.18505344\n 0.33677398 0.24753888 0.20416522 0.39565887 0.79480603 0.03651683\n 0.28932116 0.91331493 0.16172328 0.35310473 0.35605564 0.26396677\n 0.49278254 0.20932233 0.38561931 0.74357419]\n\nInteiros\n[88  0  3 30 45 31 73  9 86 78 62 78 65 78 22 65 93 19 74 56 15 11 10 65\n  1 63 48 81 90 19 65 20 57  9  2 22 26 58 21 39 20 46 19 40 16 95 97  3\n 28 36 63  9 81 65 99 47 31  1 90 90 49 20 45 37 39 67 58 28 94 23 50 86\n 50 69  1 85 83  7 39 24 60 92 28 29 71 49 62 80 25 80  1 69 72 79 92 94\n 35 10  3 49]\n\nDataframe\n      Floats  Integers\n0   0.751621        88\n1   0.169896         0\n2   0.379264         3\n3   0.085973        30\n4   0.461753        45\n..       ...       ...\n95  0.263967        94\n96  0.492783        35\n97  0.209322        10\n98  0.385619         3\n99  0.743574        49\n\n[100 rows x 2 columns]\n\nDatatype coluna flots float64\nDatatype coluna integers int32\n\nUsando info()\n<class 'pandas.core.frame.DataFrame'>\nRangeIndex: 100 entries, 0 to 99\nData columns (total 2 columns):\n #   Column    Non-Null Count  Dtype  \n---  ------    --------------  -----  \n 0   Floats    100 non-null    float64\n 1   Integers  100 non-null    int32  \ndtypes: float64(1), int32(1)\nmemory usage: 1.3 KB\n"
     ]
    }
   ],
   "source": [
    "import numpy as np\n",
    "\n",
    "floats = np.random.rand(100) # Frame de 100 floats\n",
    "print(\"Floats\")\n",
    "print(floats)\n",
    "print()\n",
    "\n",
    "integers = np.random.randint(100,size=100) # Frame de 100 inteiros de 0 à 100\n",
    "print(\"Inteiros\")\n",
    "print(integers)\n",
    "print()\n",
    "\n",
    "print(\"Dataframe\")\n",
    "df = pd.DataFrame({\"Floats\":floats,\"Integers\":integers})\n",
    "print(df)  \n",
    "print()\n",
    "\n",
    "print(\"Datatype coluna flots\",df.Floats.dtype)\n",
    "print(\"Datatype coluna integers\",df.Integers.dtype)\n",
    "print()\n",
    "\n",
    "#ou\n",
    "print(\"Usando info()\")\n",
    "df.info()\n"
   ]
  },
  {
   "cell_type": "markdown",
   "metadata": {},
   "source": [
    "Exercício 6: Escreva um programa Pandas para criar e exibir um DataFrame a partir de dados de um dicionário especificado que possui os rounds como índice.<br>\n",
    "\n",
    "nome = \\['Gabriel', 'Michel', 'Antonio', 'Gisele', 'Sônia', 'Emily', 'Sub-Zero', 'Shang-Tsung', 'Scorpion', 'Kitana'] \n",
    "<br>\n",
    "pontos= \\[12.5, 9, 16.5, np.nan, 9, 20, 14.5, np.nan, 8, 19]<br>\n",
    "tentativas = \\[1, 3, 2, 3, 2, 3, 1, 1, 2, 1]<br>\n",
    "qualificado = \\['yes', 'no', 'yes', 'no', 'no', 'yes', 'yes', 'no', 'no', 'yes']\n",
    "rounds = ['round1', 'round2', 'round3', 'round4', 'round5', 'round6', 'round7', 'round8', 'round9', 'round10']\n",
    "\n",
    "* Apresente o dataframe\n",
    "* Descreva o dataframe"
   ]
  },
  {
   "cell_type": "code",
   "execution_count": 18,
   "metadata": {},
   "outputs": [
    {
     "output_type": "execute_result",
     "data": {
      "text/plain": [
       "                nome  pontos  tentativas qualificado\n",
       "round1       Gabriel    12.5           1         yes\n",
       "round2        Michel     9.0           3          no\n",
       "round3       Antonio    16.5           2         yes\n",
       "round4        Gisele     NaN           3          no\n",
       "round5         Sônia     9.0           2          no\n",
       "round6         Emily    20.0           3         yes\n",
       "round7      Sub-Zero    14.5           1         yes\n",
       "round8   Shang-Tsung     NaN           1          no\n",
       "round9      Scorpion     8.0           2          no\n",
       "round10       Kitana    19.0           1         yes"
      ],
      "text/html": "<div>\n<style scoped>\n    .dataframe tbody tr th:only-of-type {\n        vertical-align: middle;\n    }\n\n    .dataframe tbody tr th {\n        vertical-align: top;\n    }\n\n    .dataframe thead th {\n        text-align: right;\n    }\n</style>\n<table border=\"1\" class=\"dataframe\">\n  <thead>\n    <tr style=\"text-align: right;\">\n      <th></th>\n      <th>nome</th>\n      <th>pontos</th>\n      <th>tentativas</th>\n      <th>qualificado</th>\n    </tr>\n  </thead>\n  <tbody>\n    <tr>\n      <th>round1</th>\n      <td>Gabriel</td>\n      <td>12.5</td>\n      <td>1</td>\n      <td>yes</td>\n    </tr>\n    <tr>\n      <th>round2</th>\n      <td>Michel</td>\n      <td>9.0</td>\n      <td>3</td>\n      <td>no</td>\n    </tr>\n    <tr>\n      <th>round3</th>\n      <td>Antonio</td>\n      <td>16.5</td>\n      <td>2</td>\n      <td>yes</td>\n    </tr>\n    <tr>\n      <th>round4</th>\n      <td>Gisele</td>\n      <td>NaN</td>\n      <td>3</td>\n      <td>no</td>\n    </tr>\n    <tr>\n      <th>round5</th>\n      <td>Sônia</td>\n      <td>9.0</td>\n      <td>2</td>\n      <td>no</td>\n    </tr>\n    <tr>\n      <th>round6</th>\n      <td>Emily</td>\n      <td>20.0</td>\n      <td>3</td>\n      <td>yes</td>\n    </tr>\n    <tr>\n      <th>round7</th>\n      <td>Sub-Zero</td>\n      <td>14.5</td>\n      <td>1</td>\n      <td>yes</td>\n    </tr>\n    <tr>\n      <th>round8</th>\n      <td>Shang-Tsung</td>\n      <td>NaN</td>\n      <td>1</td>\n      <td>no</td>\n    </tr>\n    <tr>\n      <th>round9</th>\n      <td>Scorpion</td>\n      <td>8.0</td>\n      <td>2</td>\n      <td>no</td>\n    </tr>\n    <tr>\n      <th>round10</th>\n      <td>Kitana</td>\n      <td>19.0</td>\n      <td>1</td>\n      <td>yes</td>\n    </tr>\n  </tbody>\n</table>\n</div>"
     },
     "metadata": {},
     "execution_count": 18
    }
   ],
   "source": [
    "nome = ['Gabriel', 'Michel', 'Antonio', 'Gisele', 'Sônia', 'Emily', 'Sub-Zero', 'Shang-Tsung', 'Scorpion', 'Kitana']\n",
    "pontos = [12.5, 9, 16.5, np.nan, 9, 20, 14.5, np.nan, 8, 19]\n",
    "tentativas = [1, 3, 2, 3, 2, 3, 1, 1, 2, 1]\n",
    "qualificado = ['yes', 'no', 'yes', 'no', 'no', 'yes', 'yes', 'no', 'no', 'yes'] \n",
    "rounds = ['round1', 'round2', 'round3', 'round4', 'round5', 'round6', 'round7', 'round8', 'round9', 'round10']\n",
    "\n",
    "df = pd.DataFrame({\n",
    "                    'nome':nome,'pontos':pontos,'tentativas':tentativas,\n",
    "                    'qualificado':qualificado\n",
    "                    },index=rounds)\n",
    "df"
   ]
  },
  {
   "cell_type": "code",
   "execution_count": 51,
   "metadata": {},
   "outputs": [
    {
     "output_type": "execute_result",
     "data": {
      "text/plain": [
       "          pontos  tentativas\n",
       "count   8.000000   10.000000\n",
       "mean   13.562500    1.900000\n",
       "std     4.693746    0.875595\n",
       "min     8.000000    1.000000\n",
       "25%     9.000000    1.000000\n",
       "50%    13.500000    2.000000\n",
       "75%    17.125000    2.750000\n",
       "max    20.000000    3.000000"
      ],
      "text/html": "<div>\n<style scoped>\n    .dataframe tbody tr th:only-of-type {\n        vertical-align: middle;\n    }\n\n    .dataframe tbody tr th {\n        vertical-align: top;\n    }\n\n    .dataframe thead th {\n        text-align: right;\n    }\n</style>\n<table border=\"1\" class=\"dataframe\">\n  <thead>\n    <tr style=\"text-align: right;\">\n      <th></th>\n      <th>pontos</th>\n      <th>tentativas</th>\n    </tr>\n  </thead>\n  <tbody>\n    <tr>\n      <th>count</th>\n      <td>8.000000</td>\n      <td>10.000000</td>\n    </tr>\n    <tr>\n      <th>mean</th>\n      <td>13.562500</td>\n      <td>1.900000</td>\n    </tr>\n    <tr>\n      <th>std</th>\n      <td>4.693746</td>\n      <td>0.875595</td>\n    </tr>\n    <tr>\n      <th>min</th>\n      <td>8.000000</td>\n      <td>1.000000</td>\n    </tr>\n    <tr>\n      <th>25%</th>\n      <td>9.000000</td>\n      <td>1.000000</td>\n    </tr>\n    <tr>\n      <th>50%</th>\n      <td>13.500000</td>\n      <td>2.000000</td>\n    </tr>\n    <tr>\n      <th>75%</th>\n      <td>17.125000</td>\n      <td>2.750000</td>\n    </tr>\n    <tr>\n      <th>max</th>\n      <td>20.000000</td>\n      <td>3.000000</td>\n    </tr>\n  </tbody>\n</table>\n</div>"
     },
     "metadata": {},
     "execution_count": 51
    }
   ],
   "source": [
    "df.describe()"
   ]
  },
  {
   "cell_type": "markdown",
   "metadata": {},
   "source": [
    "Exercício 7: Leia o arquivo xlsx Road-Accident-Safety-Data-Guide-1979-2004 a sheet 'Casualty Type' e mostre sua informações:<br>\n",
    "__*Veja qual o parametro para ler a sheet_name [aqui](https://pandas.pydata.org/pandas-docs/stable/reference/api/pandas.read_excel.html#pandas-read-excel)*.__\n",
    "* Quantos registros o dataframe tem?\n",
    "* Qual o tamanho ocupado em memória?\n",
    "* Quantas colunas ele tem? Apresente as colunas.\n",
    "* Conte a quantidade de registros na primeira coluna\n",
    "* Conte a quantidade de registros únicos na segunda coluna"
   ]
  },
  {
   "cell_type": "code",
   "execution_count": 20,
   "metadata": {},
   "outputs": [
    {
     "output_type": "execute_result",
     "data": {
      "text/plain": [
       "    code                                              label\n",
       "0      0                                         Pedestrian\n",
       "1      1                                            Cyclist\n",
       "2      2       Motorcycle 50cc and under rider or passenger\n",
       "3      3      Motorcycle 125cc and under rider or passenger\n",
       "4      4  Motorcycle over 125cc and up to 500cc rider or...\n",
       "5      5           Motorcycle over 500cc rider or passenger\n",
       "6      8                     Taxi/Private hire car occupant\n",
       "7      9                                       Car occupant\n",
       "8     10          Minibus (8 - 16 passenger seats) occupant\n",
       "9     11      Bus or coach occupant (17 or more pass seats)\n",
       "10    16                                        Horse rider\n",
       "11    17                      Agricultural vehicle occupant\n",
       "12    18                                      Tram occupant\n",
       "13    19  Van / Goods vehicle (3.5 tonnes mgw or under) ...\n",
       "14    20  Goods vehicle (over 3.5t. and under 7.5t.) occ...\n",
       "15    21   Goods vehicle (7.5 tonnes mgw and over) occupant\n",
       "16    22                             Mobility scooter rider\n",
       "17    23             Electric motorcycle rider or passenger\n",
       "18    90                             Other vehicle occupant\n",
       "19    97         Motorcycle - unknown cc rider or passenger\n",
       "20    98            Goods vehicle (unknown weight) occupant\n",
       "21   103            Motorcycle - Scooter rider or passenger\n",
       "22   104                      Motorcycle rider or passenger\n",
       "23   105        Motorcycle - Combination rider or passenger\n",
       "24   106           Motorcycle over 125cc rider or passenger\n",
       "25   108        Taxi (excluding private hire cars) occupant\n",
       "26   109         Car occupant (including private hire cars)\n",
       "27   110                     Minibus/Motor caravan occupant\n",
       "28   113           Goods vehicle (over 3.5 tonnes) occupant"
      ],
      "text/html": "<div>\n<style scoped>\n    .dataframe tbody tr th:only-of-type {\n        vertical-align: middle;\n    }\n\n    .dataframe tbody tr th {\n        vertical-align: top;\n    }\n\n    .dataframe thead th {\n        text-align: right;\n    }\n</style>\n<table border=\"1\" class=\"dataframe\">\n  <thead>\n    <tr style=\"text-align: right;\">\n      <th></th>\n      <th>code</th>\n      <th>label</th>\n    </tr>\n  </thead>\n  <tbody>\n    <tr>\n      <th>0</th>\n      <td>0</td>\n      <td>Pedestrian</td>\n    </tr>\n    <tr>\n      <th>1</th>\n      <td>1</td>\n      <td>Cyclist</td>\n    </tr>\n    <tr>\n      <th>2</th>\n      <td>2</td>\n      <td>Motorcycle 50cc and under rider or passenger</td>\n    </tr>\n    <tr>\n      <th>3</th>\n      <td>3</td>\n      <td>Motorcycle 125cc and under rider or passenger</td>\n    </tr>\n    <tr>\n      <th>4</th>\n      <td>4</td>\n      <td>Motorcycle over 125cc and up to 500cc rider or...</td>\n    </tr>\n    <tr>\n      <th>5</th>\n      <td>5</td>\n      <td>Motorcycle over 500cc rider or passenger</td>\n    </tr>\n    <tr>\n      <th>6</th>\n      <td>8</td>\n      <td>Taxi/Private hire car occupant</td>\n    </tr>\n    <tr>\n      <th>7</th>\n      <td>9</td>\n      <td>Car occupant</td>\n    </tr>\n    <tr>\n      <th>8</th>\n      <td>10</td>\n      <td>Minibus (8 - 16 passenger seats) occupant</td>\n    </tr>\n    <tr>\n      <th>9</th>\n      <td>11</td>\n      <td>Bus or coach occupant (17 or more pass seats)</td>\n    </tr>\n    <tr>\n      <th>10</th>\n      <td>16</td>\n      <td>Horse rider</td>\n    </tr>\n    <tr>\n      <th>11</th>\n      <td>17</td>\n      <td>Agricultural vehicle occupant</td>\n    </tr>\n    <tr>\n      <th>12</th>\n      <td>18</td>\n      <td>Tram occupant</td>\n    </tr>\n    <tr>\n      <th>13</th>\n      <td>19</td>\n      <td>Van / Goods vehicle (3.5 tonnes mgw or under) ...</td>\n    </tr>\n    <tr>\n      <th>14</th>\n      <td>20</td>\n      <td>Goods vehicle (over 3.5t. and under 7.5t.) occ...</td>\n    </tr>\n    <tr>\n      <th>15</th>\n      <td>21</td>\n      <td>Goods vehicle (7.5 tonnes mgw and over) occupant</td>\n    </tr>\n    <tr>\n      <th>16</th>\n      <td>22</td>\n      <td>Mobility scooter rider</td>\n    </tr>\n    <tr>\n      <th>17</th>\n      <td>23</td>\n      <td>Electric motorcycle rider or passenger</td>\n    </tr>\n    <tr>\n      <th>18</th>\n      <td>90</td>\n      <td>Other vehicle occupant</td>\n    </tr>\n    <tr>\n      <th>19</th>\n      <td>97</td>\n      <td>Motorcycle - unknown cc rider or passenger</td>\n    </tr>\n    <tr>\n      <th>20</th>\n      <td>98</td>\n      <td>Goods vehicle (unknown weight) occupant</td>\n    </tr>\n    <tr>\n      <th>21</th>\n      <td>103</td>\n      <td>Motorcycle - Scooter rider or passenger</td>\n    </tr>\n    <tr>\n      <th>22</th>\n      <td>104</td>\n      <td>Motorcycle rider or passenger</td>\n    </tr>\n    <tr>\n      <th>23</th>\n      <td>105</td>\n      <td>Motorcycle - Combination rider or passenger</td>\n    </tr>\n    <tr>\n      <th>24</th>\n      <td>106</td>\n      <td>Motorcycle over 125cc rider or passenger</td>\n    </tr>\n    <tr>\n      <th>25</th>\n      <td>108</td>\n      <td>Taxi (excluding private hire cars) occupant</td>\n    </tr>\n    <tr>\n      <th>26</th>\n      <td>109</td>\n      <td>Car occupant (including private hire cars)</td>\n    </tr>\n    <tr>\n      <th>27</th>\n      <td>110</td>\n      <td>Minibus/Motor caravan occupant</td>\n    </tr>\n    <tr>\n      <th>28</th>\n      <td>113</td>\n      <td>Goods vehicle (over 3.5 tonnes) occupant</td>\n    </tr>\n  </tbody>\n</table>\n</div>"
     },
     "metadata": {},
     "execution_count": 20
    }
   ],
   "source": [
    "# Lendo o arquivo xls utilizando a aba correta\n",
    "df = pd.read_excel(data_path+'Road-Accident-Safety-Data-Guide-1979-2004.xls',sheet_name='Casualty Type')\n",
    "df\n"
   ]
  },
  {
   "cell_type": "code",
   "execution_count": 94,
   "metadata": {},
   "outputs": [
    {
     "output_type": "execute_result",
     "data": {
      "text/plain": [
       "29"
      ]
     },
     "metadata": {},
     "execution_count": 94
    }
   ],
   "source": [
    "# quantidade de registros\n",
    "df.shape[0]"
   ]
  },
  {
   "cell_type": "code",
   "execution_count": 95,
   "metadata": {},
   "outputs": [
    {
     "output_type": "stream",
     "name": "stdout",
     "text": [
      "<class 'pandas.core.frame.DataFrame'>\nRangeIndex: 29 entries, 0 to 28\nData columns (total 2 columns):\n #   Column  Non-Null Count  Dtype \n---  ------  --------------  ----- \n 0   code    29 non-null     int64 \n 1   label   29 non-null     object\ndtypes: int64(1), object(1)\nmemory usage: 592.0+ bytes\n"
     ]
    }
   ],
   "source": [
    "# Aqui pode ver a quantidade de colunas e o tamanho em memória\n",
    "df.info()"
   ]
  },
  {
   "cell_type": "code",
   "execution_count": 96,
   "metadata": {},
   "outputs": [
    {
     "output_type": "stream",
     "name": "stdout",
     "text": [
      "Quantidade de colunas:  2\nColunas ['code', 'label']\n"
     ]
    }
   ],
   "source": [
    "# Quantas colunas ele tem ? Apresente as colunas\n",
    "print(\"Quantidade de colunas: \",df.shape[1])\n",
    "\n",
    "print(\"Colunas\", [x for x in df.columns])\n",
    "\n"
   ]
  },
  {
   "cell_type": "code",
   "execution_count": 27,
   "metadata": {},
   "outputs": [
    {
     "output_type": "execute_result",
     "data": {
      "text/plain": [
       "29"
      ]
     },
     "metadata": {},
     "execution_count": 27
    }
   ],
   "source": [
    "# Conte a quantidade de registros na coluna 1\n",
    "df[df.columns[0]].count()"
   ]
  },
  {
   "cell_type": "code",
   "execution_count": 36,
   "metadata": {},
   "outputs": [
    {
     "output_type": "stream",
     "name": "stdout",
     "text": [
      "Registros duplicados\nEmpty DataFrame\nColumns: [code, label]\nIndex: []\n\n"
     ]
    },
    {
     "output_type": "execute_result",
     "data": {
      "text/plain": [
       "29"
      ]
     },
     "metadata": {},
     "execution_count": 36
    }
   ],
   "source": [
    "# Conte a quantidade de registros únicos na coluna 2\n",
    "print(\"Registros duplicados\")\n",
    "print(df[df[df.columns[1]].duplicated()])\n",
    "print()\n",
    "df[df.columns[1]].nunique()"
   ]
  },
  {
   "cell_type": "markdown",
   "metadata": {},
   "source": [
    "Exercício 8: Exporte a coluna 2 do dataframe anterior para os seguintes formatos e mostre-os no diretório:<br>\n",
    "*Verifique qual dos arquivos ocupa menos espaço*\n",
    "\n",
    "* csv\n",
    "* json\n",
    "* html\n"
   ]
  },
  {
   "cell_type": "code",
   "execution_count": 37,
   "metadata": {},
   "outputs": [
    {
     "output_type": "execute_result",
     "data": {
      "text/plain": [
       "    code                                              label\n",
       "0      0                                         Pedestrian\n",
       "1      1                                            Cyclist\n",
       "2      2       Motorcycle 50cc and under rider or passenger\n",
       "3      3      Motorcycle 125cc and under rider or passenger\n",
       "4      4  Motorcycle over 125cc and up to 500cc rider or...\n",
       "5      5           Motorcycle over 500cc rider or passenger\n",
       "6      8                     Taxi/Private hire car occupant\n",
       "7      9                                       Car occupant\n",
       "8     10          Minibus (8 - 16 passenger seats) occupant\n",
       "9     11      Bus or coach occupant (17 or more pass seats)\n",
       "10    16                                        Horse rider\n",
       "11    17                      Agricultural vehicle occupant\n",
       "12    18                                      Tram occupant\n",
       "13    19  Van / Goods vehicle (3.5 tonnes mgw or under) ...\n",
       "14    20  Goods vehicle (over 3.5t. and under 7.5t.) occ...\n",
       "15    21   Goods vehicle (7.5 tonnes mgw and over) occupant\n",
       "16    22                             Mobility scooter rider\n",
       "17    23             Electric motorcycle rider or passenger\n",
       "18    90                             Other vehicle occupant\n",
       "19    97         Motorcycle - unknown cc rider or passenger\n",
       "20    98            Goods vehicle (unknown weight) occupant\n",
       "21   103            Motorcycle - Scooter rider or passenger\n",
       "22   104                      Motorcycle rider or passenger\n",
       "23   105        Motorcycle - Combination rider or passenger\n",
       "24   106           Motorcycle over 125cc rider or passenger\n",
       "25   108        Taxi (excluding private hire cars) occupant\n",
       "26   109         Car occupant (including private hire cars)\n",
       "27   110                     Minibus/Motor caravan occupant\n",
       "28   113           Goods vehicle (over 3.5 tonnes) occupant"
      ],
      "text/html": "<div>\n<style scoped>\n    .dataframe tbody tr th:only-of-type {\n        vertical-align: middle;\n    }\n\n    .dataframe tbody tr th {\n        vertical-align: top;\n    }\n\n    .dataframe thead th {\n        text-align: right;\n    }\n</style>\n<table border=\"1\" class=\"dataframe\">\n  <thead>\n    <tr style=\"text-align: right;\">\n      <th></th>\n      <th>code</th>\n      <th>label</th>\n    </tr>\n  </thead>\n  <tbody>\n    <tr>\n      <th>0</th>\n      <td>0</td>\n      <td>Pedestrian</td>\n    </tr>\n    <tr>\n      <th>1</th>\n      <td>1</td>\n      <td>Cyclist</td>\n    </tr>\n    <tr>\n      <th>2</th>\n      <td>2</td>\n      <td>Motorcycle 50cc and under rider or passenger</td>\n    </tr>\n    <tr>\n      <th>3</th>\n      <td>3</td>\n      <td>Motorcycle 125cc and under rider or passenger</td>\n    </tr>\n    <tr>\n      <th>4</th>\n      <td>4</td>\n      <td>Motorcycle over 125cc and up to 500cc rider or...</td>\n    </tr>\n    <tr>\n      <th>5</th>\n      <td>5</td>\n      <td>Motorcycle over 500cc rider or passenger</td>\n    </tr>\n    <tr>\n      <th>6</th>\n      <td>8</td>\n      <td>Taxi/Private hire car occupant</td>\n    </tr>\n    <tr>\n      <th>7</th>\n      <td>9</td>\n      <td>Car occupant</td>\n    </tr>\n    <tr>\n      <th>8</th>\n      <td>10</td>\n      <td>Minibus (8 - 16 passenger seats) occupant</td>\n    </tr>\n    <tr>\n      <th>9</th>\n      <td>11</td>\n      <td>Bus or coach occupant (17 or more pass seats)</td>\n    </tr>\n    <tr>\n      <th>10</th>\n      <td>16</td>\n      <td>Horse rider</td>\n    </tr>\n    <tr>\n      <th>11</th>\n      <td>17</td>\n      <td>Agricultural vehicle occupant</td>\n    </tr>\n    <tr>\n      <th>12</th>\n      <td>18</td>\n      <td>Tram occupant</td>\n    </tr>\n    <tr>\n      <th>13</th>\n      <td>19</td>\n      <td>Van / Goods vehicle (3.5 tonnes mgw or under) ...</td>\n    </tr>\n    <tr>\n      <th>14</th>\n      <td>20</td>\n      <td>Goods vehicle (over 3.5t. and under 7.5t.) occ...</td>\n    </tr>\n    <tr>\n      <th>15</th>\n      <td>21</td>\n      <td>Goods vehicle (7.5 tonnes mgw and over) occupant</td>\n    </tr>\n    <tr>\n      <th>16</th>\n      <td>22</td>\n      <td>Mobility scooter rider</td>\n    </tr>\n    <tr>\n      <th>17</th>\n      <td>23</td>\n      <td>Electric motorcycle rider or passenger</td>\n    </tr>\n    <tr>\n      <th>18</th>\n      <td>90</td>\n      <td>Other vehicle occupant</td>\n    </tr>\n    <tr>\n      <th>19</th>\n      <td>97</td>\n      <td>Motorcycle - unknown cc rider or passenger</td>\n    </tr>\n    <tr>\n      <th>20</th>\n      <td>98</td>\n      <td>Goods vehicle (unknown weight) occupant</td>\n    </tr>\n    <tr>\n      <th>21</th>\n      <td>103</td>\n      <td>Motorcycle - Scooter rider or passenger</td>\n    </tr>\n    <tr>\n      <th>22</th>\n      <td>104</td>\n      <td>Motorcycle rider or passenger</td>\n    </tr>\n    <tr>\n      <th>23</th>\n      <td>105</td>\n      <td>Motorcycle - Combination rider or passenger</td>\n    </tr>\n    <tr>\n      <th>24</th>\n      <td>106</td>\n      <td>Motorcycle over 125cc rider or passenger</td>\n    </tr>\n    <tr>\n      <th>25</th>\n      <td>108</td>\n      <td>Taxi (excluding private hire cars) occupant</td>\n    </tr>\n    <tr>\n      <th>26</th>\n      <td>109</td>\n      <td>Car occupant (including private hire cars)</td>\n    </tr>\n    <tr>\n      <th>27</th>\n      <td>110</td>\n      <td>Minibus/Motor caravan occupant</td>\n    </tr>\n    <tr>\n      <th>28</th>\n      <td>113</td>\n      <td>Goods vehicle (over 3.5 tonnes) occupant</td>\n    </tr>\n  </tbody>\n</table>\n</div>"
     },
     "metadata": {},
     "execution_count": 37
    }
   ],
   "source": [
    "# Para CSV\n",
    "df[df.columns[1]].to_csv('coluna 2.csv')\n",
    "df\n"
   ]
  },
  {
   "cell_type": "code",
   "execution_count": 76,
   "metadata": {},
   "outputs": [],
   "source": [
    "# Para JSON\n",
    "df[df.columns[1]].to_json('coluna 2.json')\n",
    "df"
   ]
  },
  {
   "cell_type": "code",
   "execution_count": 62,
   "metadata": {},
   "outputs": [
    {
     "output_type": "stream",
     "name": "stdout",
     "text": [
      "<class 'pandas.core.frame.DataFrame'>\n"
     ]
    },
    {
     "output_type": "execute_result",
     "data": {
      "text/plain": [
       "                                                label\n",
       "0                                          Pedestrian\n",
       "1                                             Cyclist\n",
       "2        Motorcycle 50cc and under rider or passenger\n",
       "3       Motorcycle 125cc and under rider or passenger\n",
       "4   Motorcycle over 125cc and up to 500cc rider or...\n",
       "5            Motorcycle over 500cc rider or passenger\n",
       "6                      Taxi/Private hire car occupant\n",
       "7                                        Car occupant\n",
       "8           Minibus (8 - 16 passenger seats) occupant\n",
       "9       Bus or coach occupant (17 or more pass seats)\n",
       "10                                        Horse rider\n",
       "11                      Agricultural vehicle occupant\n",
       "12                                      Tram occupant\n",
       "13  Van / Goods vehicle (3.5 tonnes mgw or under) ...\n",
       "14  Goods vehicle (over 3.5t. and under 7.5t.) occ...\n",
       "15   Goods vehicle (7.5 tonnes mgw and over) occupant\n",
       "16                             Mobility scooter rider\n",
       "17             Electric motorcycle rider or passenger\n",
       "18                             Other vehicle occupant\n",
       "19         Motorcycle - unknown cc rider or passenger\n",
       "20            Goods vehicle (unknown weight) occupant\n",
       "21            Motorcycle - Scooter rider or passenger\n",
       "22                      Motorcycle rider or passenger\n",
       "23        Motorcycle - Combination rider or passenger\n",
       "24           Motorcycle over 125cc rider or passenger\n",
       "25        Taxi (excluding private hire cars) occupant\n",
       "26         Car occupant (including private hire cars)\n",
       "27                     Minibus/Motor caravan occupant\n",
       "28           Goods vehicle (over 3.5 tonnes) occupant"
      ],
      "text/html": "<div>\n<style scoped>\n    .dataframe tbody tr th:only-of-type {\n        vertical-align: middle;\n    }\n\n    .dataframe tbody tr th {\n        vertical-align: top;\n    }\n\n    .dataframe thead th {\n        text-align: right;\n    }\n</style>\n<table border=\"1\" class=\"dataframe\">\n  <thead>\n    <tr style=\"text-align: right;\">\n      <th></th>\n      <th>label</th>\n    </tr>\n  </thead>\n  <tbody>\n    <tr>\n      <th>0</th>\n      <td>Pedestrian</td>\n    </tr>\n    <tr>\n      <th>1</th>\n      <td>Cyclist</td>\n    </tr>\n    <tr>\n      <th>2</th>\n      <td>Motorcycle 50cc and under rider or passenger</td>\n    </tr>\n    <tr>\n      <th>3</th>\n      <td>Motorcycle 125cc and under rider or passenger</td>\n    </tr>\n    <tr>\n      <th>4</th>\n      <td>Motorcycle over 125cc and up to 500cc rider or...</td>\n    </tr>\n    <tr>\n      <th>5</th>\n      <td>Motorcycle over 500cc rider or passenger</td>\n    </tr>\n    <tr>\n      <th>6</th>\n      <td>Taxi/Private hire car occupant</td>\n    </tr>\n    <tr>\n      <th>7</th>\n      <td>Car occupant</td>\n    </tr>\n    <tr>\n      <th>8</th>\n      <td>Minibus (8 - 16 passenger seats) occupant</td>\n    </tr>\n    <tr>\n      <th>9</th>\n      <td>Bus or coach occupant (17 or more pass seats)</td>\n    </tr>\n    <tr>\n      <th>10</th>\n      <td>Horse rider</td>\n    </tr>\n    <tr>\n      <th>11</th>\n      <td>Agricultural vehicle occupant</td>\n    </tr>\n    <tr>\n      <th>12</th>\n      <td>Tram occupant</td>\n    </tr>\n    <tr>\n      <th>13</th>\n      <td>Van / Goods vehicle (3.5 tonnes mgw or under) ...</td>\n    </tr>\n    <tr>\n      <th>14</th>\n      <td>Goods vehicle (over 3.5t. and under 7.5t.) occ...</td>\n    </tr>\n    <tr>\n      <th>15</th>\n      <td>Goods vehicle (7.5 tonnes mgw and over) occupant</td>\n    </tr>\n    <tr>\n      <th>16</th>\n      <td>Mobility scooter rider</td>\n    </tr>\n    <tr>\n      <th>17</th>\n      <td>Electric motorcycle rider or passenger</td>\n    </tr>\n    <tr>\n      <th>18</th>\n      <td>Other vehicle occupant</td>\n    </tr>\n    <tr>\n      <th>19</th>\n      <td>Motorcycle - unknown cc rider or passenger</td>\n    </tr>\n    <tr>\n      <th>20</th>\n      <td>Goods vehicle (unknown weight) occupant</td>\n    </tr>\n    <tr>\n      <th>21</th>\n      <td>Motorcycle - Scooter rider or passenger</td>\n    </tr>\n    <tr>\n      <th>22</th>\n      <td>Motorcycle rider or passenger</td>\n    </tr>\n    <tr>\n      <th>23</th>\n      <td>Motorcycle - Combination rider or passenger</td>\n    </tr>\n    <tr>\n      <th>24</th>\n      <td>Motorcycle over 125cc rider or passenger</td>\n    </tr>\n    <tr>\n      <th>25</th>\n      <td>Taxi (excluding private hire cars) occupant</td>\n    </tr>\n    <tr>\n      <th>26</th>\n      <td>Car occupant (including private hire cars)</td>\n    </tr>\n    <tr>\n      <th>27</th>\n      <td>Minibus/Motor caravan occupant</td>\n    </tr>\n    <tr>\n      <th>28</th>\n      <td>Goods vehicle (over 3.5 tonnes) occupant</td>\n    </tr>\n  </tbody>\n</table>\n</div>"
     },
     "metadata": {},
     "execution_count": 62
    }
   ],
   "source": [
    "# Para HTML - Só funciona com Dataframe, não Series\n",
    "dfc1 = df[[df.columns[1]]]\n",
    "print(type(dfc1))\n",
    "\n",
    "dfc1.to_html('coluna 2.html')\n",
    "dfc1"
   ]
  },
  {
   "cell_type": "code",
   "execution_count": 61,
   "metadata": {},
   "outputs": [
    {
     "output_type": "stream",
     "name": "stdout",
     "text": [
      "<class 'pandas.core.series.Series'>\n\n"
     ]
    },
    {
     "output_type": "error",
     "ename": "AttributeError",
     "evalue": "'Series' object has no attribute 'to_html'",
     "traceback": [
      "\u001b[1;31m---------------------------------------------------------------------------\u001b[0m",
      "\u001b[1;31mAttributeError\u001b[0m                            Traceback (most recent call last)",
      "\u001b[1;32m<ipython-input-61-ca86c54896a4>\u001b[0m in \u001b[0;36m<module>\u001b[1;34m\u001b[0m\n\u001b[0;32m      3\u001b[0m \u001b[0mprint\u001b[0m\u001b[1;33m(\u001b[0m\u001b[1;33m)\u001b[0m\u001b[1;33m\u001b[0m\u001b[1;33m\u001b[0m\u001b[0m\n\u001b[0;32m      4\u001b[0m \u001b[1;33m\u001b[0m\u001b[0m\n\u001b[1;32m----> 5\u001b[1;33m \u001b[0mpsc1\u001b[0m\u001b[1;33m.\u001b[0m\u001b[0mto_html\u001b[0m\u001b[1;33m(\u001b[0m\u001b[1;34m'coluna 2.html'\u001b[0m\u001b[1;33m)\u001b[0m\u001b[1;33m\u001b[0m\u001b[1;33m\u001b[0m\u001b[0m\n\u001b[0m\u001b[0;32m      6\u001b[0m \u001b[0mpsc1\u001b[0m\u001b[1;33m\u001b[0m\u001b[1;33m\u001b[0m\u001b[0m\n",
      "\u001b[1;32mC:\\ProgramData\\Anaconda3\\lib\\site-packages\\pandas\\core\\generic.py\u001b[0m in \u001b[0;36m__getattr__\u001b[1;34m(self, name)\u001b[0m\n\u001b[0;32m   5137\u001b[0m             \u001b[1;32mif\u001b[0m \u001b[0mself\u001b[0m\u001b[1;33m.\u001b[0m\u001b[0m_info_axis\u001b[0m\u001b[1;33m.\u001b[0m\u001b[0m_can_hold_identifiers_and_holds_name\u001b[0m\u001b[1;33m(\u001b[0m\u001b[0mname\u001b[0m\u001b[1;33m)\u001b[0m\u001b[1;33m:\u001b[0m\u001b[1;33m\u001b[0m\u001b[1;33m\u001b[0m\u001b[0m\n\u001b[0;32m   5138\u001b[0m                 \u001b[1;32mreturn\u001b[0m \u001b[0mself\u001b[0m\u001b[1;33m[\u001b[0m\u001b[0mname\u001b[0m\u001b[1;33m]\u001b[0m\u001b[1;33m\u001b[0m\u001b[1;33m\u001b[0m\u001b[0m\n\u001b[1;32m-> 5139\u001b[1;33m             \u001b[1;32mreturn\u001b[0m \u001b[0mobject\u001b[0m\u001b[1;33m.\u001b[0m\u001b[0m__getattribute__\u001b[0m\u001b[1;33m(\u001b[0m\u001b[0mself\u001b[0m\u001b[1;33m,\u001b[0m \u001b[0mname\u001b[0m\u001b[1;33m)\u001b[0m\u001b[1;33m\u001b[0m\u001b[1;33m\u001b[0m\u001b[0m\n\u001b[0m\u001b[0;32m   5140\u001b[0m \u001b[1;33m\u001b[0m\u001b[0m\n\u001b[0;32m   5141\u001b[0m     \u001b[1;32mdef\u001b[0m \u001b[0m__setattr__\u001b[0m\u001b[1;33m(\u001b[0m\u001b[0mself\u001b[0m\u001b[1;33m,\u001b[0m \u001b[0mname\u001b[0m\u001b[1;33m:\u001b[0m \u001b[0mstr\u001b[0m\u001b[1;33m,\u001b[0m \u001b[0mvalue\u001b[0m\u001b[1;33m)\u001b[0m \u001b[1;33m->\u001b[0m \u001b[1;32mNone\u001b[0m\u001b[1;33m:\u001b[0m\u001b[1;33m\u001b[0m\u001b[1;33m\u001b[0m\u001b[0m\n",
      "\u001b[1;31mAttributeError\u001b[0m: 'Series' object has no attribute 'to_html'"
     ]
    }
   ],
   "source": [
    "psc1 = df[df.columns[1]] # Panda Series\n",
    "print(type(psc1))\n",
    "print()\n",
    "\n",
    "psc1.to_html('coluna 2.html')\n",
    "psc1"
   ]
  },
  {
   "cell_type": "code",
   "execution_count": null,
   "metadata": {},
   "outputs": [],
   "source": []
  }
 ],
 "metadata": {
  "kernelspec": {
   "name": "python385jvsc74a57bd0b3ba2566441a7c06988d0923437866b63cedc61552a5af99d1f4fb67d367b25f",
   "display_name": "Python 3.8.5 64-bit ('base': conda)"
  },
  "language_info": {
   "codemirror_mode": {
    "name": "ipython",
    "version": 3
   },
   "file_extension": ".py",
   "mimetype": "text/x-python",
   "name": "python",
   "nbconvert_exporter": "python",
   "pygments_lexer": "ipython3",
   "version": "3.8.5"
  }
 },
 "nbformat": 4,
 "nbformat_minor": 4
}